{
 "cells": [
  {
   "cell_type": "markdown",
   "metadata": {},
   "source": [
    "# Анализ факторов успешности компьютерных игр"
   ]
  },
  {
   "cell_type": "markdown",
   "metadata": {},
   "source": [
    "Вы работаете в интернет-магазине «Стримчик», который продаёт по всему миру компьютерные игры. Из открытых источников доступны исторические данные о продажах игр, оценки пользователей и экспертов, жанры и платформы (например, Xbox или PlayStation). Вам нужно выявить определяющие успешность игры закономерности. Это позволит сделать ставку на потенциально популярный продукт и спланировать рекламные кампании.\n",
    "\n",
    "Представим, что сейчас декабрь 2016 г., и мы планируем кампанию на 2017-й. Цель: отработать принцип работы с данными. Неважно, прогнозируете ли вы продажи на 2017 год по данным 2016-го или же 2027-й — по данным 2026 года."
   ]
  },
  {
   "cell_type": "markdown",
   "metadata": {},
   "source": [
    "## Изучение данных"
   ]
  },
  {
   "cell_type": "markdown",
   "metadata": {},
   "source": [
    "Для начала импортируем необходимые библиотеки:"
   ]
  },
  {
   "cell_type": "code",
   "execution_count": 1,
   "metadata": {},
   "outputs": [
    {
     "name": "stdout",
     "output_type": "stream",
     "text": [
      "Requirement already satisfied: scipy in /Users/anastasia/anaconda3/lib/python3.9/site-packages (1.7.3)\n",
      "Requirement already satisfied: numpy<1.23.0,>=1.16.5 in /Users/anastasia/anaconda3/lib/python3.9/site-packages (from scipy) (1.20.3)\n",
      "Requirement already satisfied: seaborn in /Users/anastasia/anaconda3/lib/python3.9/site-packages (0.11.2)\n",
      "Requirement already satisfied: matplotlib>=2.2 in /Users/anastasia/anaconda3/lib/python3.9/site-packages (from seaborn) (3.4.3)\n",
      "Requirement already satisfied: scipy>=1.0 in /Users/anastasia/anaconda3/lib/python3.9/site-packages (from seaborn) (1.7.3)\n",
      "Requirement already satisfied: numpy>=1.15 in /Users/anastasia/anaconda3/lib/python3.9/site-packages (from seaborn) (1.20.3)\n",
      "Requirement already satisfied: pandas>=0.23 in /Users/anastasia/anaconda3/lib/python3.9/site-packages (from seaborn) (1.3.4)\n",
      "Requirement already satisfied: pyparsing>=2.2.1 in /Users/anastasia/anaconda3/lib/python3.9/site-packages (from matplotlib>=2.2->seaborn) (3.0.4)\n",
      "Requirement already satisfied: python-dateutil>=2.7 in /Users/anastasia/anaconda3/lib/python3.9/site-packages (from matplotlib>=2.2->seaborn) (2.8.2)\n",
      "Requirement already satisfied: cycler>=0.10 in /Users/anastasia/anaconda3/lib/python3.9/site-packages (from matplotlib>=2.2->seaborn) (0.10.0)\n",
      "Requirement already satisfied: kiwisolver>=1.0.1 in /Users/anastasia/anaconda3/lib/python3.9/site-packages (from matplotlib>=2.2->seaborn) (1.3.1)\n",
      "Requirement already satisfied: pillow>=6.2.0 in /Users/anastasia/anaconda3/lib/python3.9/site-packages (from matplotlib>=2.2->seaborn) (8.4.0)\n",
      "Requirement already satisfied: six in /Users/anastasia/anaconda3/lib/python3.9/site-packages (from cycler>=0.10->matplotlib>=2.2->seaborn) (1.16.0)\n",
      "Requirement already satisfied: pytz>=2017.3 in /Users/anastasia/anaconda3/lib/python3.9/site-packages (from pandas>=0.23->seaborn) (2021.3)\n"
     ]
    }
   ],
   "source": [
    "import pandas as pd \n",
    "import numpy as np \n",
    "\n",
    "import matplotlib.pyplot as plt\n",
    "import matplotlib.dates as mdates\n",
    "\n",
    "import math as mt\n",
    "from math import factorial\n",
    "\n",
    "! pip install scipy  -U\n",
    "from scipy import stats as st\n",
    "\n",
    "! pip install seaborn -U\n",
    "import seaborn as sns\n",
    "\n",
    "import warnings\n",
    "warnings.filterwarnings(action = 'ignore')"
   ]
  },
  {
   "cell_type": "code",
   "execution_count": 2,
   "metadata": {},
   "outputs": [],
   "source": [
    "# отображение формата float\n",
    "pd.set_option('display.float_format', '{:.2f}'.format)\n",
    "# отображение всех столбцов таблиц\n",
    "pd.set_option('display.max_columns', None)"
   ]
  },
  {
   "cell_type": "markdown",
   "metadata": {},
   "source": [
    "Загрузим данные и сохраним их в DataFrame `df`, после чего изучим более детально:"
   ]
  },
  {
   "cell_type": "code",
   "execution_count": 3,
   "metadata": {},
   "outputs": [],
   "source": [
    "df = pd.read_csv('/Users/anastasia/Documents/YandexPractikum/СП-1/games.csv')"
   ]
  },
  {
   "cell_type": "code",
   "execution_count": 4,
   "metadata": {},
   "outputs": [
    {
     "data": {
      "text/html": [
       "<div>\n",
       "<style scoped>\n",
       "    .dataframe tbody tr th:only-of-type {\n",
       "        vertical-align: middle;\n",
       "    }\n",
       "\n",
       "    .dataframe tbody tr th {\n",
       "        vertical-align: top;\n",
       "    }\n",
       "\n",
       "    .dataframe thead th {\n",
       "        text-align: right;\n",
       "    }\n",
       "</style>\n",
       "<table border=\"1\" class=\"dataframe\">\n",
       "  <thead>\n",
       "    <tr style=\"text-align: right;\">\n",
       "      <th></th>\n",
       "      <th>Name</th>\n",
       "      <th>Platform</th>\n",
       "      <th>Year_of_Release</th>\n",
       "      <th>Genre</th>\n",
       "      <th>NA_sales</th>\n",
       "      <th>EU_sales</th>\n",
       "      <th>JP_sales</th>\n",
       "      <th>Other_sales</th>\n",
       "      <th>Critic_Score</th>\n",
       "      <th>User_Score</th>\n",
       "      <th>Rating</th>\n",
       "    </tr>\n",
       "  </thead>\n",
       "  <tbody>\n",
       "    <tr>\n",
       "      <th>0</th>\n",
       "      <td>Wii Sports</td>\n",
       "      <td>Wii</td>\n",
       "      <td>2006.00</td>\n",
       "      <td>Sports</td>\n",
       "      <td>41.36</td>\n",
       "      <td>28.96</td>\n",
       "      <td>3.77</td>\n",
       "      <td>8.45</td>\n",
       "      <td>76.00</td>\n",
       "      <td>8</td>\n",
       "      <td>E</td>\n",
       "    </tr>\n",
       "    <tr>\n",
       "      <th>1</th>\n",
       "      <td>Super Mario Bros.</td>\n",
       "      <td>NES</td>\n",
       "      <td>1985.00</td>\n",
       "      <td>Platform</td>\n",
       "      <td>29.08</td>\n",
       "      <td>3.58</td>\n",
       "      <td>6.81</td>\n",
       "      <td>0.77</td>\n",
       "      <td>NaN</td>\n",
       "      <td>NaN</td>\n",
       "      <td>NaN</td>\n",
       "    </tr>\n",
       "    <tr>\n",
       "      <th>2</th>\n",
       "      <td>Mario Kart Wii</td>\n",
       "      <td>Wii</td>\n",
       "      <td>2008.00</td>\n",
       "      <td>Racing</td>\n",
       "      <td>15.68</td>\n",
       "      <td>12.76</td>\n",
       "      <td>3.79</td>\n",
       "      <td>3.29</td>\n",
       "      <td>82.00</td>\n",
       "      <td>8.3</td>\n",
       "      <td>E</td>\n",
       "    </tr>\n",
       "    <tr>\n",
       "      <th>3</th>\n",
       "      <td>Wii Sports Resort</td>\n",
       "      <td>Wii</td>\n",
       "      <td>2009.00</td>\n",
       "      <td>Sports</td>\n",
       "      <td>15.61</td>\n",
       "      <td>10.93</td>\n",
       "      <td>3.28</td>\n",
       "      <td>2.95</td>\n",
       "      <td>80.00</td>\n",
       "      <td>8</td>\n",
       "      <td>E</td>\n",
       "    </tr>\n",
       "    <tr>\n",
       "      <th>4</th>\n",
       "      <td>Pokemon Red/Pokemon Blue</td>\n",
       "      <td>GB</td>\n",
       "      <td>1996.00</td>\n",
       "      <td>Role-Playing</td>\n",
       "      <td>11.27</td>\n",
       "      <td>8.89</td>\n",
       "      <td>10.22</td>\n",
       "      <td>1.00</td>\n",
       "      <td>NaN</td>\n",
       "      <td>NaN</td>\n",
       "      <td>NaN</td>\n",
       "    </tr>\n",
       "  </tbody>\n",
       "</table>\n",
       "</div>"
      ],
      "text/plain": [
       "                       Name Platform  Year_of_Release         Genre  NA_sales  \\\n",
       "0                Wii Sports      Wii          2006.00        Sports     41.36   \n",
       "1         Super Mario Bros.      NES          1985.00      Platform     29.08   \n",
       "2            Mario Kart Wii      Wii          2008.00        Racing     15.68   \n",
       "3         Wii Sports Resort      Wii          2009.00        Sports     15.61   \n",
       "4  Pokemon Red/Pokemon Blue       GB          1996.00  Role-Playing     11.27   \n",
       "\n",
       "   EU_sales  JP_sales  Other_sales  Critic_Score User_Score Rating  \n",
       "0     28.96      3.77         8.45         76.00          8      E  \n",
       "1      3.58      6.81         0.77           NaN        NaN    NaN  \n",
       "2     12.76      3.79         3.29         82.00        8.3      E  \n",
       "3     10.93      3.28         2.95         80.00          8      E  \n",
       "4      8.89     10.22         1.00           NaN        NaN    NaN  "
      ]
     },
     "metadata": {},
     "output_type": "display_data"
    },
    {
     "data": {
      "text/html": [
       "<div>\n",
       "<style scoped>\n",
       "    .dataframe tbody tr th:only-of-type {\n",
       "        vertical-align: middle;\n",
       "    }\n",
       "\n",
       "    .dataframe tbody tr th {\n",
       "        vertical-align: top;\n",
       "    }\n",
       "\n",
       "    .dataframe thead th {\n",
       "        text-align: right;\n",
       "    }\n",
       "</style>\n",
       "<table border=\"1\" class=\"dataframe\">\n",
       "  <thead>\n",
       "    <tr style=\"text-align: right;\">\n",
       "      <th></th>\n",
       "      <th>Name</th>\n",
       "      <th>Platform</th>\n",
       "      <th>Year_of_Release</th>\n",
       "      <th>Genre</th>\n",
       "      <th>NA_sales</th>\n",
       "      <th>EU_sales</th>\n",
       "      <th>JP_sales</th>\n",
       "      <th>Other_sales</th>\n",
       "      <th>Critic_Score</th>\n",
       "      <th>User_Score</th>\n",
       "      <th>Rating</th>\n",
       "    </tr>\n",
       "  </thead>\n",
       "  <tbody>\n",
       "    <tr>\n",
       "      <th>16710</th>\n",
       "      <td>Samurai Warriors: Sanada Maru</td>\n",
       "      <td>PS3</td>\n",
       "      <td>2016.00</td>\n",
       "      <td>Action</td>\n",
       "      <td>0.00</td>\n",
       "      <td>0.00</td>\n",
       "      <td>0.01</td>\n",
       "      <td>0.00</td>\n",
       "      <td>NaN</td>\n",
       "      <td>NaN</td>\n",
       "      <td>NaN</td>\n",
       "    </tr>\n",
       "    <tr>\n",
       "      <th>16711</th>\n",
       "      <td>LMA Manager 2007</td>\n",
       "      <td>X360</td>\n",
       "      <td>2006.00</td>\n",
       "      <td>Sports</td>\n",
       "      <td>0.00</td>\n",
       "      <td>0.01</td>\n",
       "      <td>0.00</td>\n",
       "      <td>0.00</td>\n",
       "      <td>NaN</td>\n",
       "      <td>NaN</td>\n",
       "      <td>NaN</td>\n",
       "    </tr>\n",
       "    <tr>\n",
       "      <th>16712</th>\n",
       "      <td>Haitaka no Psychedelica</td>\n",
       "      <td>PSV</td>\n",
       "      <td>2016.00</td>\n",
       "      <td>Adventure</td>\n",
       "      <td>0.00</td>\n",
       "      <td>0.00</td>\n",
       "      <td>0.01</td>\n",
       "      <td>0.00</td>\n",
       "      <td>NaN</td>\n",
       "      <td>NaN</td>\n",
       "      <td>NaN</td>\n",
       "    </tr>\n",
       "    <tr>\n",
       "      <th>16713</th>\n",
       "      <td>Spirits &amp; Spells</td>\n",
       "      <td>GBA</td>\n",
       "      <td>2003.00</td>\n",
       "      <td>Platform</td>\n",
       "      <td>0.01</td>\n",
       "      <td>0.00</td>\n",
       "      <td>0.00</td>\n",
       "      <td>0.00</td>\n",
       "      <td>NaN</td>\n",
       "      <td>NaN</td>\n",
       "      <td>NaN</td>\n",
       "    </tr>\n",
       "    <tr>\n",
       "      <th>16714</th>\n",
       "      <td>Winning Post 8 2016</td>\n",
       "      <td>PSV</td>\n",
       "      <td>2016.00</td>\n",
       "      <td>Simulation</td>\n",
       "      <td>0.00</td>\n",
       "      <td>0.00</td>\n",
       "      <td>0.01</td>\n",
       "      <td>0.00</td>\n",
       "      <td>NaN</td>\n",
       "      <td>NaN</td>\n",
       "      <td>NaN</td>\n",
       "    </tr>\n",
       "  </tbody>\n",
       "</table>\n",
       "</div>"
      ],
      "text/plain": [
       "                                Name Platform  Year_of_Release       Genre  \\\n",
       "16710  Samurai Warriors: Sanada Maru      PS3          2016.00      Action   \n",
       "16711               LMA Manager 2007     X360          2006.00      Sports   \n",
       "16712        Haitaka no Psychedelica      PSV          2016.00   Adventure   \n",
       "16713               Spirits & Spells      GBA          2003.00    Platform   \n",
       "16714            Winning Post 8 2016      PSV          2016.00  Simulation   \n",
       "\n",
       "       NA_sales  EU_sales  JP_sales  Other_sales  Critic_Score User_Score  \\\n",
       "16710      0.00      0.00      0.01         0.00           NaN        NaN   \n",
       "16711      0.00      0.01      0.00         0.00           NaN        NaN   \n",
       "16712      0.00      0.00      0.01         0.00           NaN        NaN   \n",
       "16713      0.01      0.00      0.00         0.00           NaN        NaN   \n",
       "16714      0.00      0.00      0.01         0.00           NaN        NaN   \n",
       "\n",
       "      Rating  \n",
       "16710    NaN  \n",
       "16711    NaN  \n",
       "16712    NaN  \n",
       "16713    NaN  \n",
       "16714    NaN  "
      ]
     },
     "metadata": {},
     "output_type": "display_data"
    }
   ],
   "source": [
    "# посмотри первые и последние 5 строк таблицы\n",
    "display(df.head())\n",
    "display(df.tail())"
   ]
  },
  {
   "cell_type": "code",
   "execution_count": 5,
   "metadata": {},
   "outputs": [
    {
     "name": "stdout",
     "output_type": "stream",
     "text": [
      "Таблица включает в себя 16715 строк и 11 столбцов\n"
     ]
    }
   ],
   "source": [
    "print('Таблица включает в себя {} строк и {} столбцов'.format(df.shape[0], df.shape[1]))"
   ]
  },
  {
   "cell_type": "code",
   "execution_count": 6,
   "metadata": {},
   "outputs": [
    {
     "name": "stdout",
     "output_type": "stream",
     "text": [
      "<class 'pandas.core.frame.DataFrame'>\n",
      "RangeIndex: 16715 entries, 0 to 16714\n",
      "Data columns (total 11 columns):\n",
      " #   Column           Non-Null Count  Dtype  \n",
      "---  ------           --------------  -----  \n",
      " 0   Name             16713 non-null  object \n",
      " 1   Platform         16715 non-null  object \n",
      " 2   Year_of_Release  16446 non-null  float64\n",
      " 3   Genre            16713 non-null  object \n",
      " 4   NA_sales         16715 non-null  float64\n",
      " 5   EU_sales         16715 non-null  float64\n",
      " 6   JP_sales         16715 non-null  float64\n",
      " 7   Other_sales      16715 non-null  float64\n",
      " 8   Critic_Score     8137 non-null   float64\n",
      " 9   User_Score       10014 non-null  object \n",
      " 10  Rating           9949 non-null   object \n",
      "dtypes: float64(6), object(5)\n",
      "memory usage: 1.4+ MB\n"
     ]
    }
   ],
   "source": [
    "# посморим общую информацию\n",
    "df.info()"
   ]
  },
  {
   "cell_type": "markdown",
   "metadata": {},
   "source": [
    "Таким образом, видим, что таблицв включает в себя 11 переменных, среди которых следующие: \n",
    "\n",
    "* `Name` — название игры\n",
    "* `Platform` — платформа\n",
    "* `Year_of_Release` — год выпуска\n",
    "* `Genre` — жанр игры\n",
    "* `NA_sales` — продажи в Северной Америке (миллионы проданных копий)\n",
    "* `EU_sales` — продажи в Европе (миллионы проданных копий)\n",
    "* `JP_sales` — продажи в Японии (миллионы проданных копий)\n",
    "* `Other_sales` — продажи в других странах (миллионы проданных копий)\n",
    "* `Critic_Score` — оценка критиков (максимум 100)\n",
    "* `User_Score` — оценка пользователей (максимум 10)\n",
    "* `Rating` — рейтинг от организации ESRB (англ. Entertainment Software Rating Board). Эта ассоциация определяет рейтинг компьютерных игр и присваивает им подходящую возрастную категорию."
   ]
  },
  {
   "cell_type": "markdown",
   "metadata": {},
   "source": [
    "**Вывод**"
   ]
  },
  {
   "cell_type": "markdown",
   "metadata": {},
   "source": [
    "Отметим несколько моментов на основе беглого взгляда на данные: \n",
    "1. Для некоторых переменых присутствует меньше значений, чем в целом по датасету. Это говорит о наличии в них пропущенных значений; \n",
    "2. Нужно проверить на наличие дубликатов;\n",
    "3. Нужно будет скорректировать названия столбцов (привести к нижнему регистру);\n",
    "4. Заменить типы данных для некоторых переменных (`Year_of_Release`, `User_Score`, `Critic_Score`);\n",
    "5. Стоит проверить текстовые значения на уникальность, чтобы исключить использование разных названий для одного предмета;\n"
   ]
  },
  {
   "cell_type": "markdown",
   "metadata": {},
   "source": [
    "## Подготовка данных"
   ]
  },
  {
   "cell_type": "markdown",
   "metadata": {},
   "source": [
    "### Переименование столбцов"
   ]
  },
  {
   "cell_type": "markdown",
   "metadata": {},
   "source": [
    "Для начала переименуем столбцы - для удобства приведем их к нижнему регистру (единому формату):"
   ]
  },
  {
   "cell_type": "code",
   "execution_count": 7,
   "metadata": {},
   "outputs": [
    {
     "data": {
      "text/plain": [
       "Index(['name', 'platform', 'year_of_release', 'genre', 'na_sales', 'eu_sales',\n",
       "       'jp_sales', 'other_sales', 'critic_score', 'user_score', 'rating'],\n",
       "      dtype='object')"
      ]
     },
     "execution_count": 7,
     "metadata": {},
     "output_type": "execute_result"
    }
   ],
   "source": [
    "df.columns = df.columns.str.lower()\n",
    "df.columns"
   ]
  },
  {
   "cell_type": "markdown",
   "metadata": {},
   "source": [
    "### Изменение типа данных"
   ]
  },
  {
   "cell_type": "markdown",
   "metadata": {},
   "source": [
    "1. В данных есть данные года выпуска игры `year_of_release`, которые сейчас имеют тип данных `float`, приведем его к типу даных `datetime`, чтобы была возможность оперировать с этим столбцом как со столбцом дат при необходимости:"
   ]
  },
  {
   "cell_type": "code",
   "execution_count": 8,
   "metadata": {},
   "outputs": [],
   "source": [
    "df['year_of_release'] = df['year_of_release'].astype('Int64')"
   ]
  },
  {
   "cell_type": "markdown",
   "metadata": {},
   "source": [
    "2. Кроме того, столбец `user_score` по логике должен быть типом данных `float`, но из-за наличия в данных текстовых значений \"tbd\" он принимает тип данных `object`. \n",
    "\n",
    "Чтобы понять, что это значит, мы воспользовались поисковиком. Можем судить, что это аббревиатура tbd = to be decided/to be determined. Иными словами, аббревиатура означает, что рейтинг пока еще не определен, то есть у нас нет этих данных. Уместным решением в такой ситуации может быть заменить эти значения на пропуски: NaN."
   ]
  },
  {
   "cell_type": "code",
   "execution_count": 9,
   "metadata": {},
   "outputs": [],
   "source": [
    "df['user_score'] = pd.to_numeric(df['user_score'], errors='coerce')"
   ]
  },
  {
   "cell_type": "markdown",
   "metadata": {},
   "source": [
    "3. Наконец, обратим внимание на переменную `critic_score`, которая принимает только целые значения от 0 до 100. Ее можно привести к типу данных `int`."
   ]
  },
  {
   "cell_type": "code",
   "execution_count": 10,
   "metadata": {},
   "outputs": [],
   "source": [
    "df['critic_score'] = df['critic_score'].astype('Int64')"
   ]
  },
  {
   "cell_type": "markdown",
   "metadata": {},
   "source": [
    "### Заполнение пропусков"
   ]
  },
  {
   "cell_type": "markdown",
   "metadata": {},
   "source": [
    "Для начала посмотрим на пропуски в данной таблице: "
   ]
  },
  {
   "cell_type": "code",
   "execution_count": 11,
   "metadata": {},
   "outputs": [
    {
     "name": "stdout",
     "output_type": "stream",
     "text": [
      "Доля пропусков в user_score равна 54.59%\n",
      "Доля пропусков в critic_score равна 51.32%\n",
      "Доля пропусков в rating равна 40.48%\n",
      "Доля пропусков в year_of_release равна 1.61%\n",
      "Доля пропусков в name равна 0.01%\n",
      "Доля пропусков в genre равна 0.01%\n"
     ]
    }
   ],
   "source": [
    "df_na = df.isna().sum().sort_values(ascending=False)\n",
    "\n",
    "for number in range(len(df_na)):\n",
    "    if df_na[number] != 0:\n",
    "        print('Доля пропусков в {} равна {:.2%}'.format(df_na.index[number], df_na[number]/df.shape[0]))"
   ]
  },
  {
   "cell_type": "markdown",
   "metadata": {},
   "source": [
    "Можно увидеть, что больше всего пропусков у пользовательских оценок `user_score`. Это может быть связано с тем, что пользователи часто не хотят тратить время на выставление рейтинга и пропускают этот шаг/опрос/ и т.д.\n",
    "\n",
    "Для отсутствия оценок критиков `critic_score` и возрастного рейтинга `rating` игр сложно вывести единый фактор. Вероятно, на ресурсах, откуда были полученны эти данные, эти показатели также просто отсутствовали. \n",
    "\n",
    "Точечные пропуски в названиях `name` и жанрах `genre`, вероятно, связаны с технической потерей информации или тем, что она и не была внесена в базу данных. \n"
   ]
  },
  {
   "cell_type": "markdown",
   "metadata": {},
   "source": [
    "1. Посмотри на столбцы с наименьшей долей пропусков:"
   ]
  },
  {
   "cell_type": "code",
   "execution_count": 12,
   "metadata": {},
   "outputs": [
    {
     "data": {
      "text/html": [
       "<div>\n",
       "<style scoped>\n",
       "    .dataframe tbody tr th:only-of-type {\n",
       "        vertical-align: middle;\n",
       "    }\n",
       "\n",
       "    .dataframe tbody tr th {\n",
       "        vertical-align: top;\n",
       "    }\n",
       "\n",
       "    .dataframe thead th {\n",
       "        text-align: right;\n",
       "    }\n",
       "</style>\n",
       "<table border=\"1\" class=\"dataframe\">\n",
       "  <thead>\n",
       "    <tr style=\"text-align: right;\">\n",
       "      <th></th>\n",
       "      <th>name</th>\n",
       "      <th>platform</th>\n",
       "      <th>year_of_release</th>\n",
       "      <th>genre</th>\n",
       "      <th>na_sales</th>\n",
       "      <th>eu_sales</th>\n",
       "      <th>jp_sales</th>\n",
       "      <th>other_sales</th>\n",
       "      <th>critic_score</th>\n",
       "      <th>user_score</th>\n",
       "      <th>rating</th>\n",
       "    </tr>\n",
       "  </thead>\n",
       "  <tbody>\n",
       "    <tr>\n",
       "      <th>659</th>\n",
       "      <td>NaN</td>\n",
       "      <td>GEN</td>\n",
       "      <td>1993</td>\n",
       "      <td>NaN</td>\n",
       "      <td>1.78</td>\n",
       "      <td>0.53</td>\n",
       "      <td>0.00</td>\n",
       "      <td>0.08</td>\n",
       "      <td>&lt;NA&gt;</td>\n",
       "      <td>NaN</td>\n",
       "      <td>NaN</td>\n",
       "    </tr>\n",
       "    <tr>\n",
       "      <th>14244</th>\n",
       "      <td>NaN</td>\n",
       "      <td>GEN</td>\n",
       "      <td>1993</td>\n",
       "      <td>NaN</td>\n",
       "      <td>0.00</td>\n",
       "      <td>0.00</td>\n",
       "      <td>0.03</td>\n",
       "      <td>0.00</td>\n",
       "      <td>&lt;NA&gt;</td>\n",
       "      <td>NaN</td>\n",
       "      <td>NaN</td>\n",
       "    </tr>\n",
       "  </tbody>\n",
       "</table>\n",
       "</div>"
      ],
      "text/plain": [
       "      name platform  year_of_release genre  na_sales  eu_sales  jp_sales  \\\n",
       "659    NaN      GEN             1993   NaN      1.78      0.53      0.00   \n",
       "14244  NaN      GEN             1993   NaN      0.00      0.00      0.03   \n",
       "\n",
       "       other_sales  critic_score  user_score rating  \n",
       "659           0.08          <NA>         NaN    NaN  \n",
       "14244         0.00          <NA>         NaN    NaN  "
      ]
     },
     "metadata": {},
     "output_type": "display_data"
    },
    {
     "data": {
      "text/html": [
       "<div>\n",
       "<style scoped>\n",
       "    .dataframe tbody tr th:only-of-type {\n",
       "        vertical-align: middle;\n",
       "    }\n",
       "\n",
       "    .dataframe tbody tr th {\n",
       "        vertical-align: top;\n",
       "    }\n",
       "\n",
       "    .dataframe thead th {\n",
       "        text-align: right;\n",
       "    }\n",
       "</style>\n",
       "<table border=\"1\" class=\"dataframe\">\n",
       "  <thead>\n",
       "    <tr style=\"text-align: right;\">\n",
       "      <th></th>\n",
       "      <th>name</th>\n",
       "      <th>platform</th>\n",
       "      <th>year_of_release</th>\n",
       "      <th>genre</th>\n",
       "      <th>na_sales</th>\n",
       "      <th>eu_sales</th>\n",
       "      <th>jp_sales</th>\n",
       "      <th>other_sales</th>\n",
       "      <th>critic_score</th>\n",
       "      <th>user_score</th>\n",
       "      <th>rating</th>\n",
       "    </tr>\n",
       "  </thead>\n",
       "  <tbody>\n",
       "    <tr>\n",
       "      <th>659</th>\n",
       "      <td>NaN</td>\n",
       "      <td>GEN</td>\n",
       "      <td>1993</td>\n",
       "      <td>NaN</td>\n",
       "      <td>1.78</td>\n",
       "      <td>0.53</td>\n",
       "      <td>0.00</td>\n",
       "      <td>0.08</td>\n",
       "      <td>&lt;NA&gt;</td>\n",
       "      <td>NaN</td>\n",
       "      <td>NaN</td>\n",
       "    </tr>\n",
       "    <tr>\n",
       "      <th>14244</th>\n",
       "      <td>NaN</td>\n",
       "      <td>GEN</td>\n",
       "      <td>1993</td>\n",
       "      <td>NaN</td>\n",
       "      <td>0.00</td>\n",
       "      <td>0.00</td>\n",
       "      <td>0.03</td>\n",
       "      <td>0.00</td>\n",
       "      <td>&lt;NA&gt;</td>\n",
       "      <td>NaN</td>\n",
       "      <td>NaN</td>\n",
       "    </tr>\n",
       "  </tbody>\n",
       "</table>\n",
       "</div>"
      ],
      "text/plain": [
       "      name platform  year_of_release genre  na_sales  eu_sales  jp_sales  \\\n",
       "659    NaN      GEN             1993   NaN      1.78      0.53      0.00   \n",
       "14244  NaN      GEN             1993   NaN      0.00      0.00      0.03   \n",
       "\n",
       "       other_sales  critic_score  user_score rating  \n",
       "659           0.08          <NA>         NaN    NaN  \n",
       "14244         0.00          <NA>         NaN    NaN  "
      ]
     },
     "metadata": {},
     "output_type": "display_data"
    }
   ],
   "source": [
    "display(df.loc[df['name'].isna()])\n",
    "display(df.loc[df['genre'].isna()])"
   ]
  },
  {
   "cell_type": "markdown",
   "metadata": {},
   "source": [
    "Отметим, что здесь присутствуют лишь 2 строки и они пересекаются. Эти данные заполнить самостоятельно в соответствии с логикой мы не сможем, а без заполнения они малоинформативны. \n",
    "\n",
    "По той же причине удалим строки с пропусками в переменной `year_of_release`, так как их небольшая доля и мы не потеряем значимую информацию:"
   ]
  },
  {
   "cell_type": "code",
   "execution_count": 13,
   "metadata": {},
   "outputs": [],
   "source": [
    "df.dropna(subset=['name', 'genre', 'year_of_release'], axis=0, inplace = True)"
   ]
  },
  {
   "cell_type": "markdown",
   "metadata": {},
   "source": [
    "2. Посмотрим на `critic_score` и `user_score`. Самым очевидным было бы заполнить тот или иной рейтинг медианными значениями в зависимости от других оценок критиков/пользователей/ESRB, соответсвенно, но это не поможет, так как большинство строк среди них пересекаются. Это можно увидеть, если посмотреть на размер отдельных и пересекающиеся массивов:"
   ]
  },
  {
   "cell_type": "code",
   "execution_count": 14,
   "metadata": {},
   "outputs": [
    {
     "data": {
      "text/plain": [
       "(8461, 11)"
      ]
     },
     "metadata": {},
     "output_type": "display_data"
    },
    {
     "data": {
      "text/plain": [
       "(6676, 11)"
      ]
     },
     "metadata": {},
     "output_type": "display_data"
    },
    {
     "data": {
      "text/plain": [
       "(8981, 11)"
      ]
     },
     "metadata": {},
     "output_type": "display_data"
    }
   ],
   "source": [
    "# пропуски по каждому отдельному столбцу\n",
    "display(df.loc[df['critic_score'].isna()].shape)\n",
    "display(df.loc[df['rating'].isna()].shape)\n",
    "display(df.loc[df['user_score'].isna()].shape)"
   ]
  },
  {
   "cell_type": "code",
   "execution_count": 15,
   "metadata": {},
   "outputs": [
    {
     "data": {
      "text/plain": [
       "(9618, 11)"
      ]
     },
     "execution_count": 15,
     "metadata": {},
     "output_type": "execute_result"
    }
   ],
   "source": [
    "# пропуски по всем столбцам\n",
    "df.loc[df['rating'].isna() | df['user_score'].isna() | df['critic_score'].isna()].shape"
   ]
  },
  {
   "cell_type": "markdown",
   "metadata": {},
   "source": [
    "В таком случае, в качестве некоторого индикатора востребованности игры можно использовать данные по продажам."
   ]
  },
  {
   "cell_type": "markdown",
   "metadata": {},
   "source": [
    "Рассчитаем суммарные продажи во всех регионах:"
   ]
  },
  {
   "cell_type": "code",
   "execution_count": 16,
   "metadata": {},
   "outputs": [],
   "source": [
    "df['total_sales'] = df['na_sales'] + df['eu_sales'] + df['jp_sales'] + df['other_sales']"
   ]
  },
  {
   "cell_type": "markdown",
   "metadata": {},
   "source": [
    "Напишем цикл для заполнения пропусков медианными значениями: "
   ]
  },
  {
   "cell_type": "code",
   "execution_count": 17,
   "metadata": {},
   "outputs": [],
   "source": [
    "# Создадим функцию \"median_count\" для подсчета медианы для среза с учетом определенных условий\n",
    "# На вход функция принимает 4 переменных: \"column_for_median\" - столбец по которому будет считаться медиана, \n",
    "# \"column\" - столбец, на который накладывается условие, для \"metric1\" и \"metric2\" задаем в качестве промежутка данных - \n",
    "# квартили, полученные через метод describe(), чтобы получить наиболее равномерную группировку. На вход в этих переменных \n",
    "# вносим числа от 3 (min) до 7 (max). \n",
    "# На выходе функция возвращает переменную \"median\" - посчитанную медиану\n",
    "\n",
    "def median_count(column_for_median, column, metric1, metric2):\n",
    "    median = df.loc[\n",
    "        (~df[column_for_median].isna()) &\n",
    "        (df[column] >= df[column].describe()[metric1]) &\n",
    "        (df[column] <= df[column].describe()[metric2]), column_for_median].median()\n",
    "    return median"
   ]
  },
  {
   "cell_type": "code",
   "execution_count": 18,
   "metadata": {},
   "outputs": [
    {
     "name": "stdout",
     "output_type": "stream",
     "text": [
      "0\n",
      "0\n"
     ]
    }
   ],
   "source": [
    "# разделим данные по общим продажам из предположения, что оценки и продажи будут меняться пропорционально\n",
    "\n",
    "series_list = ['critic_score', 'user_score']\n",
    "\n",
    "for column in series_list: \n",
    "    # min - 25%\n",
    "    median25 = median_count(column, 'total_sales', 3, 4)\n",
    "    df.loc[(df[column].isna()) & (df['total_sales'] >= df['total_sales'].describe()[3]) &\n",
    "           (df['total_sales'] <= df['total_sales'].describe()[4]), column] = median25\n",
    "    # 25% - 50%\n",
    "    median50 = median_count(column, 'total_sales', 4, 5)\n",
    "    df.loc[(df[column].isna()) & (df['total_sales'] >= df['total_sales'].describe()[4]) &\n",
    "           (df['total_sales'] <= df['total_sales'].describe()[5]), column] = median50\n",
    "    # 50% - 75%\n",
    "    median75 = median_count(column, 'total_sales', 5, 6)\n",
    "    df.loc[(df[column].isna()) & (df['total_sales'] >= df['total_sales'].describe()[5]) &\n",
    "           (df['total_sales'] <= df['total_sales'].describe()[6]), column] = median75\n",
    "    # 75% - max\n",
    "    median100 = median_count(column, 'total_sales', 6, 7)\n",
    "    df.loc[(df[column].isna()) & (df['total_sales'] >= df['total_sales'].describe()[6]) &\n",
    "           (df['total_sales'] <= df['total_sales'].describe()[7]), column] = median100\n",
    "    print(df[column].isna().sum())"
   ]
  },
  {
   "cell_type": "markdown",
   "metadata": {},
   "source": [
    "3. Посмотрим на переменную `rating`. Оставим здесь пропуски или заполним на дополнительную категорию \"unknown\", так как переменная принимает текстовые значения о возрастной категории игр, которые нельзя заполнить \"на глаз\", при этом их слишком много, чтобы удалять. Эти данные нужно уточнять у коллег."
   ]
  },
  {
   "cell_type": "code",
   "execution_count": 19,
   "metadata": {},
   "outputs": [],
   "source": [
    "df['rating'] = df['rating'].fillna(value='unknown')"
   ]
  },
  {
   "cell_type": "markdown",
   "metadata": {},
   "source": [
    "При этом проведем некоторую подготовительную работу с переменной. Если посмотреть на уникальные значения, то можно отметить, что там присутствуют как рейтинг `E`, так и `K-A`. Оба сокращения означают, что игра предназначена для всех возрастов, но эти обозначения использовались в разные годы. Заменим `K-A` на актуальное обозначение `E`:"
   ]
  },
  {
   "cell_type": "code",
   "execution_count": 20,
   "metadata": {},
   "outputs": [
    {
     "data": {
      "text/plain": [
       "array(['E', 'unknown', 'M', 'T', 'E10+', 'K-A', 'AO', 'EC', 'RP'],\n",
       "      dtype=object)"
      ]
     },
     "metadata": {},
     "output_type": "display_data"
    }
   ],
   "source": [
    "display(df['rating'].unique())\n",
    "df['rating'].replace('K-A', 'E', inplace=True)"
   ]
  },
  {
   "cell_type": "markdown",
   "metadata": {},
   "source": [
    "Кроме того, для удобства создадим числовой столбец для рейтинга, то есть присвоим каждому текстовому значению числовое. "
   ]
  },
  {
   "cell_type": "code",
   "execution_count": 21,
   "metadata": {},
   "outputs": [
    {
     "name": "stdout",
     "output_type": "stream",
     "text": [
      "   index   rating\n",
      "0      0        E\n",
      "1      1  unknown\n",
      "2      2        M\n",
      "3      3        T\n",
      "4      4     E10+\n",
      "5      5       AO\n",
      "6      6       EC\n",
      "7      7       RP\n"
     ]
    }
   ],
   "source": [
    "# разделим на категории\n",
    "rating_dict = df['rating']\n",
    "\n",
    "rating_dict = rating_dict.drop_duplicates().reset_index(drop=True)\n",
    "rating_dict = rating_dict.reset_index()\n",
    "print(rating_dict)"
   ]
  },
  {
   "cell_type": "code",
   "execution_count": 22,
   "metadata": {},
   "outputs": [
    {
     "data": {
      "text/html": [
       "<div>\n",
       "<style scoped>\n",
       "    .dataframe tbody tr th:only-of-type {\n",
       "        vertical-align: middle;\n",
       "    }\n",
       "\n",
       "    .dataframe tbody tr th {\n",
       "        vertical-align: top;\n",
       "    }\n",
       "\n",
       "    .dataframe thead th {\n",
       "        text-align: right;\n",
       "    }\n",
       "</style>\n",
       "<table border=\"1\" class=\"dataframe\">\n",
       "  <thead>\n",
       "    <tr style=\"text-align: right;\">\n",
       "      <th></th>\n",
       "      <th>name</th>\n",
       "      <th>platform</th>\n",
       "      <th>year_of_release</th>\n",
       "      <th>genre</th>\n",
       "      <th>na_sales</th>\n",
       "      <th>eu_sales</th>\n",
       "      <th>jp_sales</th>\n",
       "      <th>other_sales</th>\n",
       "      <th>critic_score</th>\n",
       "      <th>user_score</th>\n",
       "      <th>rating</th>\n",
       "      <th>total_sales</th>\n",
       "      <th>rating_id</th>\n",
       "    </tr>\n",
       "  </thead>\n",
       "  <tbody>\n",
       "    <tr>\n",
       "      <th>0</th>\n",
       "      <td>Wii Sports</td>\n",
       "      <td>Wii</td>\n",
       "      <td>2006</td>\n",
       "      <td>Sports</td>\n",
       "      <td>41.36</td>\n",
       "      <td>28.96</td>\n",
       "      <td>3.77</td>\n",
       "      <td>8.45</td>\n",
       "      <td>76</td>\n",
       "      <td>8.00</td>\n",
       "      <td>E</td>\n",
       "      <td>82.54</td>\n",
       "      <td>0</td>\n",
       "    </tr>\n",
       "    <tr>\n",
       "      <th>1</th>\n",
       "      <td>Mario Kart Wii</td>\n",
       "      <td>Wii</td>\n",
       "      <td>2008</td>\n",
       "      <td>Racing</td>\n",
       "      <td>15.68</td>\n",
       "      <td>12.76</td>\n",
       "      <td>3.79</td>\n",
       "      <td>3.29</td>\n",
       "      <td>82</td>\n",
       "      <td>8.30</td>\n",
       "      <td>E</td>\n",
       "      <td>35.52</td>\n",
       "      <td>0</td>\n",
       "    </tr>\n",
       "    <tr>\n",
       "      <th>2</th>\n",
       "      <td>Wii Sports Resort</td>\n",
       "      <td>Wii</td>\n",
       "      <td>2009</td>\n",
       "      <td>Sports</td>\n",
       "      <td>15.61</td>\n",
       "      <td>10.93</td>\n",
       "      <td>3.28</td>\n",
       "      <td>2.95</td>\n",
       "      <td>80</td>\n",
       "      <td>8.00</td>\n",
       "      <td>E</td>\n",
       "      <td>32.77</td>\n",
       "      <td>0</td>\n",
       "    </tr>\n",
       "    <tr>\n",
       "      <th>3</th>\n",
       "      <td>New Super Mario Bros.</td>\n",
       "      <td>DS</td>\n",
       "      <td>2006</td>\n",
       "      <td>Platform</td>\n",
       "      <td>11.28</td>\n",
       "      <td>9.14</td>\n",
       "      <td>6.50</td>\n",
       "      <td>2.88</td>\n",
       "      <td>89</td>\n",
       "      <td>8.50</td>\n",
       "      <td>E</td>\n",
       "      <td>29.80</td>\n",
       "      <td>0</td>\n",
       "    </tr>\n",
       "    <tr>\n",
       "      <th>4</th>\n",
       "      <td>Wii Play</td>\n",
       "      <td>Wii</td>\n",
       "      <td>2006</td>\n",
       "      <td>Misc</td>\n",
       "      <td>13.96</td>\n",
       "      <td>9.18</td>\n",
       "      <td>2.93</td>\n",
       "      <td>2.84</td>\n",
       "      <td>58</td>\n",
       "      <td>6.60</td>\n",
       "      <td>E</td>\n",
       "      <td>28.91</td>\n",
       "      <td>0</td>\n",
       "    </tr>\n",
       "  </tbody>\n",
       "</table>\n",
       "</div>"
      ],
      "text/plain": [
       "                    name platform  year_of_release     genre  na_sales  \\\n",
       "0             Wii Sports      Wii             2006    Sports     41.36   \n",
       "1         Mario Kart Wii      Wii             2008    Racing     15.68   \n",
       "2      Wii Sports Resort      Wii             2009    Sports     15.61   \n",
       "3  New Super Mario Bros.       DS             2006  Platform     11.28   \n",
       "4               Wii Play      Wii             2006      Misc     13.96   \n",
       "\n",
       "   eu_sales  jp_sales  other_sales  critic_score  user_score rating  \\\n",
       "0     28.96      3.77         8.45            76        8.00      E   \n",
       "1     12.76      3.79         3.29            82        8.30      E   \n",
       "2     10.93      3.28         2.95            80        8.00      E   \n",
       "3      9.14      6.50         2.88            89        8.50      E   \n",
       "4      9.18      2.93         2.84            58        6.60      E   \n",
       "\n",
       "   total_sales  rating_id  \n",
       "0        82.54          0  \n",
       "1        35.52          0  \n",
       "2        32.77          0  \n",
       "3        29.80          0  \n",
       "4        28.91          0  "
      ]
     },
     "execution_count": 22,
     "metadata": {},
     "output_type": "execute_result"
    }
   ],
   "source": [
    "# объединим таблицы для заполнения числового столбца 'rating_id'\n",
    "df = df.merge(rating_dict, left_on='rating', right_on='rating')\n",
    "df = df.rename(columns = {'index':'rating_id'})\n",
    "df.head()"
   ]
  },
  {
   "cell_type": "code",
   "execution_count": 23,
   "metadata": {},
   "outputs": [
    {
     "name": "stdout",
     "output_type": "stream",
     "text": [
      "name               0\n",
      "platform           0\n",
      "year_of_release    0\n",
      "genre              0\n",
      "na_sales           0\n",
      "eu_sales           0\n",
      "jp_sales           0\n",
      "other_sales        0\n",
      "critic_score       0\n",
      "user_score         0\n",
      "rating             0\n",
      "total_sales        0\n",
      "rating_id          0\n",
      "dtype: int64\n"
     ]
    }
   ],
   "source": [
    "# проверим теперь число пропусков\n",
    "print(df.isna().sum())"
   ]
  },
  {
   "cell_type": "code",
   "execution_count": 24,
   "metadata": {},
   "outputs": [
    {
     "name": "stdout",
     "output_type": "stream",
     "text": [
      "0\n"
     ]
    }
   ],
   "source": [
    "# проверим наличие дубликатов\n",
    "print(df.duplicated().sum())"
   ]
  },
  {
   "cell_type": "markdown",
   "metadata": {},
   "source": [
    "**Вывод**"
   ]
  },
  {
   "cell_type": "markdown",
   "metadata": {},
   "source": [
    "На данном этапе данные были устранены основные проблемы, которые мы увидели при первом взгляде на данные:\n",
    "- Названия столбцов были приведены к унифицированному виду;\n",
    "- Были применены типы данных, соответствующие фактическому формату данных: даты к `datatime`, рейтинг, принимающий дробные значения к формату `float`, рейтинг принимающий только целые значения к формату `int`;\n",
    "- Были устранены пропуски в тех переменных, где это можно было сделать в соответствии с логикой. Там, где восстановить данные не удалось были либо удалены строки, если не терялась значимая информация, либо пока оставлены пропуски;\n",
    "- Возрастные категории были актуализированы к используемым на сегодняхний день обозначениям;\n",
    "- Был рассчитан общий объем продаж в мире, а также введены числовые категории для возрастных рейтингов;\n",
    "- Данные были проверены на наличие дубликатов."
   ]
  },
  {
   "cell_type": "markdown",
   "metadata": {},
   "source": [
    "## Исследовательский анализ данных"
   ]
  },
  {
   "cell_type": "markdown",
   "metadata": {},
   "source": [
    "### Посмотрим, сколько игр выпускалось в разные годы."
   ]
  },
  {
   "cell_type": "code",
   "execution_count": 25,
   "metadata": {},
   "outputs": [
    {
     "data": {
      "text/html": [
       "<div>\n",
       "<style scoped>\n",
       "    .dataframe tbody tr th:only-of-type {\n",
       "        vertical-align: middle;\n",
       "    }\n",
       "\n",
       "    .dataframe tbody tr th {\n",
       "        vertical-align: top;\n",
       "    }\n",
       "\n",
       "    .dataframe thead th {\n",
       "        text-align: right;\n",
       "    }\n",
       "</style>\n",
       "<table border=\"1\" class=\"dataframe\">\n",
       "  <thead>\n",
       "    <tr style=\"text-align: right;\">\n",
       "      <th></th>\n",
       "      <th>index</th>\n",
       "      <th>year</th>\n",
       "      <th>games_count</th>\n",
       "    </tr>\n",
       "  </thead>\n",
       "  <tbody>\n",
       "    <tr>\n",
       "      <th>0</th>\n",
       "      <td>0</td>\n",
       "      <td>1980</td>\n",
       "      <td>9</td>\n",
       "    </tr>\n",
       "    <tr>\n",
       "      <th>1</th>\n",
       "      <td>1</td>\n",
       "      <td>1981</td>\n",
       "      <td>46</td>\n",
       "    </tr>\n",
       "    <tr>\n",
       "      <th>2</th>\n",
       "      <td>2</td>\n",
       "      <td>1982</td>\n",
       "      <td>36</td>\n",
       "    </tr>\n",
       "    <tr>\n",
       "      <th>3</th>\n",
       "      <td>3</td>\n",
       "      <td>1983</td>\n",
       "      <td>17</td>\n",
       "    </tr>\n",
       "    <tr>\n",
       "      <th>4</th>\n",
       "      <td>4</td>\n",
       "      <td>1984</td>\n",
       "      <td>14</td>\n",
       "    </tr>\n",
       "  </tbody>\n",
       "</table>\n",
       "</div>"
      ],
      "text/plain": [
       "   index  year  games_count\n",
       "0      0  1980            9\n",
       "1      1  1981           46\n",
       "2      2  1982           36\n",
       "3      3  1983           17\n",
       "4      4  1984           14"
      ]
     },
     "execution_count": 25,
     "metadata": {},
     "output_type": "execute_result"
    }
   ],
   "source": [
    "# свобдная таблица для количества игр по годам\n",
    "game_year = df.pivot_table(index='year_of_release', values='name', aggfunc=['count']).reset_index()\n",
    "game_year.columns = ['year', 'games_count']\n",
    "game_year.reset_index().head()"
   ]
  },
  {
   "cell_type": "code",
   "execution_count": 26,
   "metadata": {},
   "outputs": [
    {
     "data": {
      "text/plain": [
       "<AxesSubplot:title={'center':'Количество выпущенных игр в зависимости от года'}, xlabel='Год', ylabel='Выпущенные игры'>"
      ]
     },
     "metadata": {},
     "output_type": "display_data"
    },
    {
     "data": {
      "image/png": "[encoded data removed]",
      "text/plain": [
       "<Figure size 1080x432 with 1 Axes>"
      ]
     },
     "metadata": {
      "needs_background": "light"
     },
     "output_type": "display_data"
    }
   ],
   "source": [
    "# линейный график временного ряда\n",
    "plt.figure(figsize = (15,6))\n",
    "sns.set_style('whitegrid')\n",
    "\n",
    "\n",
    "line = sns.lineplot(data=game_year,\n",
    "                    x='year',\n",
    "                    y='games_count',\n",
    "                    marker='o',\n",
    "                    markerfacecolor='crimson',\n",
    "                    dashes=False,\n",
    "                    palette='black',\n",
    "                    )\n",
    "\n",
    "line.set_title('Количество выпущенных игр в зависимости от года')\n",
    "line.set_xlabel('Год')\n",
    "line.set_ylabel('Выпущенные игры')\n",
    "\n",
    "display(line)"
   ]
  },
  {
   "cell_type": "code",
   "execution_count": 27,
   "metadata": {},
   "outputs": [
    {
     "data": {
      "text/plain": [
       "<AxesSubplot:title={'center':'Количество выпущенных игр в зависимости от года'}, xlabel='Год', ylabel='Выпущенные игры'>"
      ]
     },
     "metadata": {},
     "output_type": "display_data"
    },
    {
     "data": {
      "image/png": "[encoded data removed]",
      "text/plain": [
       "<Figure size 1152x432 with 1 Axes>"
      ]
     },
     "metadata": {},
     "output_type": "display_data"
    }
   ],
   "source": [
    "# столбчатая диаграмма по производству за года\n",
    "plt.figure(figsize = (16,6))\n",
    "sns.set_style('whitegrid')\n",
    "\n",
    "bar = sns.barplot(data=game_year,\n",
    "                  x='year',\n",
    "                  y='games_count',)\n",
    "\n",
    "\n",
    "#bar.autofmt_xdate(rotation=90)\n",
    "#bar.autofmt_xdate()\n",
    "#bar.fmt_xdata = mdates.DateFormatter('%Y')\n",
    "\n",
    "\n",
    "plt.xticks(rotation=90)\n",
    "\n",
    "\n",
    "bar.set_title('Количество выпущенных игр в зависимости от года')\n",
    "bar.set_xlabel('Год')\n",
    "bar.set_ylabel('Выпущенные игры')\n",
    "\n",
    "display(bar)"
   ]
  },
  {
   "cell_type": "markdown",
   "metadata": {},
   "source": [
    "Исходя из выше приведенных графиков, можно заметить, что динамика производства игр различается. До 2002 г. производилось сравнительно немного игр, после чего начался рост их производства. Пик приходится на 2008-2009 гг. Начиная же с 2012 г. объем производства установился на примерно постоянном уровне, который сохраняется до 2016 г. \n",
    "\n",
    "Здесь можно отметить, что для прогноза на 2017 г. для нас информативными будут именно последние годы со стабильной динамикой, так как можно предположить, что в структуре спроса на рынке произошли какие-то изменения после чего последовал такой спад в производстве. А значит пиковые значения предыдущих лет уже не будут отражать актуальную ситуацию."
   ]
  },
  {
   "cell_type": "markdown",
   "metadata": {},
   "source": [
    "### Посмотрим, как менялись продажи по платформам. \n",
    "\n",
    "Для начала выберем платформы с наибольшими суммарными продажами:"
   ]
  },
  {
   "cell_type": "code",
   "execution_count": 28,
   "metadata": {},
   "outputs": [
    {
     "data": {
      "text/html": [
       "<div>\n",
       "<style scoped>\n",
       "    .dataframe tbody tr th:only-of-type {\n",
       "        vertical-align: middle;\n",
       "    }\n",
       "\n",
       "    .dataframe tbody tr th {\n",
       "        vertical-align: top;\n",
       "    }\n",
       "\n",
       "    .dataframe thead th {\n",
       "        text-align: right;\n",
       "    }\n",
       "</style>\n",
       "<table border=\"1\" class=\"dataframe\">\n",
       "  <thead>\n",
       "    <tr style=\"text-align: right;\">\n",
       "      <th></th>\n",
       "      <th>platform</th>\n",
       "      <th>total_sales</th>\n",
       "    </tr>\n",
       "  </thead>\n",
       "  <tbody>\n",
       "    <tr>\n",
       "      <th>0</th>\n",
       "      <td>PS2</td>\n",
       "      <td>1233.56</td>\n",
       "    </tr>\n",
       "    <tr>\n",
       "      <th>1</th>\n",
       "      <td>X360</td>\n",
       "      <td>961.24</td>\n",
       "    </tr>\n",
       "    <tr>\n",
       "      <th>2</th>\n",
       "      <td>PS3</td>\n",
       "      <td>931.34</td>\n",
       "    </tr>\n",
       "    <tr>\n",
       "      <th>3</th>\n",
       "      <td>Wii</td>\n",
       "      <td>891.18</td>\n",
       "    </tr>\n",
       "    <tr>\n",
       "      <th>4</th>\n",
       "      <td>DS</td>\n",
       "      <td>802.78</td>\n",
       "    </tr>\n",
       "  </tbody>\n",
       "</table>\n",
       "</div>"
      ],
      "text/plain": [
       "  platform  total_sales\n",
       "0      PS2      1233.56\n",
       "1     X360       961.24\n",
       "2      PS3       931.34\n",
       "3      Wii       891.18\n",
       "4       DS       802.78"
      ]
     },
     "execution_count": 28,
     "metadata": {},
     "output_type": "execute_result"
    }
   ],
   "source": [
    "# свобдная таблица для общих продаж по платформам\n",
    "\n",
    "platform_sales = (df.pivot_table(index='platform', values='total_sales', aggfunc=['sum'])\n",
    "                  .sort_values(by=[('sum', 'total_sales')], ascending=False)\n",
    "                  .reset_index()\n",
    "                 )\n",
    "platform_sales.columns = ['platform', 'total_sales']\n",
    "platform_sales.head()"
   ]
  },
  {
   "cell_type": "code",
   "execution_count": 29,
   "metadata": {},
   "outputs": [
    {
     "data": {
      "text/plain": [
       "<AxesSubplot:title={'center':'Объем продаж в зависимости от типа платформы'}, xlabel='Платформа', ylabel='Объем продаж'>"
      ]
     },
     "metadata": {},
     "output_type": "display_data"
    },
    {
     "data": {
      "image/png": "[encoded data removed]",
      "text/plain": [
       "<Figure size 1152x432 with 1 Axes>"
      ]
     },
     "metadata": {},
     "output_type": "display_data"
    }
   ],
   "source": [
    "# столчатая диаграмма по объемам продаж с каждой платформы\n",
    "plt.figure(figsize = (16,6))\n",
    "sns.set_style('whitegrid')\n",
    "\n",
    "bar = sns.barplot(data=platform_sales,\n",
    "                  x='platform',\n",
    "                  y='total_sales',\n",
    "                  #order=platform_sales.sort_values('total_sales', ascending=False)['platform']\n",
    "                  )\n",
    "\n",
    "bar.set_title('Объем продаж в зависимости от типа платформы')\n",
    "bar.set_xlabel('Платформа')\n",
    "bar.set_ylabel('Объем продаж')\n",
    "\n",
    "display(bar)"
   ]
  },
  {
   "cell_type": "markdown",
   "metadata": {},
   "source": [
    "На основании графика можно увидеть, что наибольший вклад в продажи вносят игры, вышедшие на первых 6 платформах. Рассмотрим, как изменялась динамика их продаж на протяжении существования магазина:"
   ]
  },
  {
   "cell_type": "code",
   "execution_count": 30,
   "metadata": {},
   "outputs": [
    {
     "data": {
      "text/html": [
       "<div>\n",
       "<style scoped>\n",
       "    .dataframe tbody tr th:only-of-type {\n",
       "        vertical-align: middle;\n",
       "    }\n",
       "\n",
       "    .dataframe tbody tr th {\n",
       "        vertical-align: top;\n",
       "    }\n",
       "\n",
       "    .dataframe thead th {\n",
       "        text-align: right;\n",
       "    }\n",
       "</style>\n",
       "<table border=\"1\" class=\"dataframe\">\n",
       "  <thead>\n",
       "    <tr style=\"text-align: right;\">\n",
       "      <th></th>\n",
       "      <th>year_of_release</th>\n",
       "      <th>DS</th>\n",
       "      <th>PS</th>\n",
       "      <th>PS2</th>\n",
       "      <th>PS3</th>\n",
       "      <th>Wii</th>\n",
       "      <th>X360</th>\n",
       "    </tr>\n",
       "  </thead>\n",
       "  <tbody>\n",
       "    <tr>\n",
       "      <th>0</th>\n",
       "      <td>1980</td>\n",
       "      <td>NaN</td>\n",
       "      <td>NaN</td>\n",
       "      <td>NaN</td>\n",
       "      <td>NaN</td>\n",
       "      <td>NaN</td>\n",
       "      <td>NaN</td>\n",
       "    </tr>\n",
       "    <tr>\n",
       "      <th>1</th>\n",
       "      <td>1981</td>\n",
       "      <td>NaN</td>\n",
       "      <td>NaN</td>\n",
       "      <td>NaN</td>\n",
       "      <td>NaN</td>\n",
       "      <td>NaN</td>\n",
       "      <td>NaN</td>\n",
       "    </tr>\n",
       "    <tr>\n",
       "      <th>2</th>\n",
       "      <td>1982</td>\n",
       "      <td>NaN</td>\n",
       "      <td>NaN</td>\n",
       "      <td>NaN</td>\n",
       "      <td>NaN</td>\n",
       "      <td>NaN</td>\n",
       "      <td>NaN</td>\n",
       "    </tr>\n",
       "    <tr>\n",
       "      <th>3</th>\n",
       "      <td>1983</td>\n",
       "      <td>NaN</td>\n",
       "      <td>NaN</td>\n",
       "      <td>NaN</td>\n",
       "      <td>NaN</td>\n",
       "      <td>NaN</td>\n",
       "      <td>NaN</td>\n",
       "    </tr>\n",
       "    <tr>\n",
       "      <th>4</th>\n",
       "      <td>1984</td>\n",
       "      <td>NaN</td>\n",
       "      <td>NaN</td>\n",
       "      <td>NaN</td>\n",
       "      <td>NaN</td>\n",
       "      <td>NaN</td>\n",
       "      <td>NaN</td>\n",
       "    </tr>\n",
       "  </tbody>\n",
       "</table>\n",
       "</div>"
      ],
      "text/plain": [
       "   year_of_release  DS  PS  PS2  PS3  Wii  X360\n",
       "0             1980 NaN NaN  NaN  NaN  NaN   NaN\n",
       "1             1981 NaN NaN  NaN  NaN  NaN   NaN\n",
       "2             1982 NaN NaN  NaN  NaN  NaN   NaN\n",
       "3             1983 NaN NaN  NaN  NaN  NaN   NaN\n",
       "4             1984 NaN NaN  NaN  NaN  NaN   NaN"
      ]
     },
     "execution_count": 30,
     "metadata": {},
     "output_type": "execute_result"
    }
   ],
   "source": [
    "# свобдная таблица для общих продаж по годам по платформам \n",
    "platform_sales_year = df.pivot_table(index='year_of_release', columns='platform', values='total_sales', aggfunc=['sum'])\n",
    "\n",
    "\n",
    "# выделим платформы с наибольшими продажами, которые мы нашли ранее\n",
    "top_platform_sales_by_year = platform_sales_year[[('sum',   'DS'), ('sum',   'PS'), ('sum',  'PS2'),\n",
    "                                     ('sum',  'PS3'), ('sum',  'Wii'), ('sum', 'X360')]]\n",
    "\n",
    "top_platform_sales_by_year.columns = ['DS','PS','PS2','PS3','Wii','X360']\n",
    "\n",
    "top_platform_sales_by_year.reset_index().head()"
   ]
  },
  {
   "cell_type": "code",
   "execution_count": 31,
   "metadata": {},
   "outputs": [
    {
     "data": {
      "text/plain": [
       "<AxesSubplot:title={'center':'Объем продаж в зависимости от типа платформы'}, xlabel='Год', ylabel='Общиее продажи'>"
      ]
     },
     "metadata": {},
     "output_type": "display_data"
    },
    {
     "data": {
      "image/png": "[encoded data removed]",
      "text/plain": [
       "<Figure size 1080x432 with 1 Axes>"
      ]
     },
     "metadata": {},
     "output_type": "display_data"
    }
   ],
   "source": [
    "# линейные графики для топовых платформ (динамика во времени)\n",
    "\n",
    "plt.figure(figsize = (15,6))\n",
    "sns.set_style('whitegrid')\n",
    "\n",
    "\n",
    "line = sns.lineplot(data=top_platform_sales_by_year)\n",
    "\n",
    "line.set_title('Объем продаж в зависимости от типа платформы')\n",
    "line.set_xlabel('Год')\n",
    "line.set_ylabel('Общиее продажи')\n",
    "\n",
    "display(line)"
   ]
  },
  {
   "cell_type": "code",
   "execution_count": 32,
   "metadata": {},
   "outputs": [
    {
     "data": {
      "text/plain": [
       "7.0"
      ]
     },
     "execution_count": 32,
     "metadata": {},
     "output_type": "execute_result"
    }
   ],
   "source": [
    "# посмотри на жизненный цикл в целом всех платформ \n",
    "all_platform_sales = df.pivot_table(index='platform', columns='year_of_release', values='total_sales', aggfunc=['sum']).reset_index()\n",
    "\n",
    "all_platform_sales.groupby(('platform','')).count().sum().median()"
   ]
  },
  {
   "cell_type": "markdown",
   "metadata": {},
   "source": [
    "Как видно из графика и данных, для платформ с наибольшими продажами типичен цикл около 10-12 лет. При этом, если посмотреть на медианный промежуток жизни для всех платформ в целом, то там срок короче - 7 лет."
   ]
  },
  {
   "cell_type": "markdown",
   "metadata": {},
   "source": [
    "На основании проведенного анализа, можем выделить в качестве актуального периода промежутов времени с 2012 г. Как уже упоминалось ранее, начиная с этого года производство вышло на стабильный уровень и значительно не менялось. Следовательно, данные за этот период будут достаточно надежными, чтобы сформировать план на 2017 г., так как отражают общую актуальную ситуацию. \n",
    "\n",
    "Сделаем срез:"
   ]
  },
  {
   "cell_type": "code",
   "execution_count": 33,
   "metadata": {},
   "outputs": [],
   "source": [
    "df_actual = df.loc[df['year_of_release'] >= 2012]"
   ]
  },
  {
   "cell_type": "markdown",
   "metadata": {},
   "source": [
    "### Рассмотрим также на актуальном временном промежутке поведение всех платформ в целом: "
   ]
  },
  {
   "cell_type": "code",
   "execution_count": 34,
   "metadata": {},
   "outputs": [
    {
     "data": {
      "text/html": [
       "<div>\n",
       "<style scoped>\n",
       "    .dataframe tbody tr th:only-of-type {\n",
       "        vertical-align: middle;\n",
       "    }\n",
       "\n",
       "    .dataframe tbody tr th {\n",
       "        vertical-align: top;\n",
       "    }\n",
       "\n",
       "    .dataframe thead th {\n",
       "        text-align: right;\n",
       "    }\n",
       "</style>\n",
       "<table border=\"1\" class=\"dataframe\">\n",
       "  <thead>\n",
       "    <tr style=\"text-align: right;\">\n",
       "      <th></th>\n",
       "      <th>3DS</th>\n",
       "      <th>DS</th>\n",
       "      <th>PC</th>\n",
       "      <th>PS3</th>\n",
       "      <th>PS4</th>\n",
       "      <th>PSP</th>\n",
       "      <th>PSV</th>\n",
       "      <th>Wii</th>\n",
       "      <th>WiiU</th>\n",
       "      <th>X360</th>\n",
       "      <th>XOne</th>\n",
       "    </tr>\n",
       "    <tr>\n",
       "      <th>year_of_release</th>\n",
       "      <th></th>\n",
       "      <th></th>\n",
       "      <th></th>\n",
       "      <th></th>\n",
       "      <th></th>\n",
       "      <th></th>\n",
       "      <th></th>\n",
       "      <th></th>\n",
       "      <th></th>\n",
       "      <th></th>\n",
       "      <th></th>\n",
       "    </tr>\n",
       "  </thead>\n",
       "  <tbody>\n",
       "    <tr>\n",
       "      <th>2012</th>\n",
       "      <td>51.36</td>\n",
       "      <td>11.01</td>\n",
       "      <td>23.22</td>\n",
       "      <td>107.36</td>\n",
       "      <td>NaN</td>\n",
       "      <td>7.69</td>\n",
       "      <td>16.19</td>\n",
       "      <td>21.71</td>\n",
       "      <td>17.56</td>\n",
       "      <td>99.74</td>\n",
       "      <td>NaN</td>\n",
       "    </tr>\n",
       "    <tr>\n",
       "      <th>2013</th>\n",
       "      <td>56.57</td>\n",
       "      <td>1.54</td>\n",
       "      <td>12.38</td>\n",
       "      <td>113.25</td>\n",
       "      <td>25.99</td>\n",
       "      <td>3.14</td>\n",
       "      <td>10.59</td>\n",
       "      <td>8.59</td>\n",
       "      <td>21.65</td>\n",
       "      <td>88.58</td>\n",
       "      <td>18.96</td>\n",
       "    </tr>\n",
       "    <tr>\n",
       "      <th>2014</th>\n",
       "      <td>43.76</td>\n",
       "      <td>NaN</td>\n",
       "      <td>13.28</td>\n",
       "      <td>47.76</td>\n",
       "      <td>100.00</td>\n",
       "      <td>0.24</td>\n",
       "      <td>11.90</td>\n",
       "      <td>3.75</td>\n",
       "      <td>22.03</td>\n",
       "      <td>34.74</td>\n",
       "      <td>54.07</td>\n",
       "    </tr>\n",
       "    <tr>\n",
       "      <th>2015</th>\n",
       "      <td>27.78</td>\n",
       "      <td>NaN</td>\n",
       "      <td>8.52</td>\n",
       "      <td>16.82</td>\n",
       "      <td>118.90</td>\n",
       "      <td>0.12</td>\n",
       "      <td>6.25</td>\n",
       "      <td>1.14</td>\n",
       "      <td>16.35</td>\n",
       "      <td>11.96</td>\n",
       "      <td>60.14</td>\n",
       "    </tr>\n",
       "    <tr>\n",
       "      <th>2016</th>\n",
       "      <td>15.14</td>\n",
       "      <td>NaN</td>\n",
       "      <td>5.25</td>\n",
       "      <td>3.60</td>\n",
       "      <td>69.25</td>\n",
       "      <td>NaN</td>\n",
       "      <td>4.25</td>\n",
       "      <td>0.18</td>\n",
       "      <td>4.60</td>\n",
       "      <td>1.52</td>\n",
       "      <td>26.15</td>\n",
       "    </tr>\n",
       "  </tbody>\n",
       "</table>\n",
       "</div>"
      ],
      "text/plain": [
       "                  3DS    DS    PC    PS3    PS4  PSP   PSV   Wii  WiiU  X360  \\\n",
       "year_of_release                                                                \n",
       "2012            51.36 11.01 23.22 107.36    NaN 7.69 16.19 21.71 17.56 99.74   \n",
       "2013            56.57  1.54 12.38 113.25  25.99 3.14 10.59  8.59 21.65 88.58   \n",
       "2014            43.76   NaN 13.28  47.76 100.00 0.24 11.90  3.75 22.03 34.74   \n",
       "2015            27.78   NaN  8.52  16.82 118.90 0.12  6.25  1.14 16.35 11.96   \n",
       "2016            15.14   NaN  5.25   3.60  69.25  NaN  4.25  0.18  4.60  1.52   \n",
       "\n",
       "                 XOne  \n",
       "year_of_release        \n",
       "2012              NaN  \n",
       "2013            18.96  \n",
       "2014            54.07  \n",
       "2015            60.14  \n",
       "2016            26.15  "
      ]
     },
     "execution_count": 34,
     "metadata": {},
     "output_type": "execute_result"
    }
   ],
   "source": [
    "# свободная таблица для общих продаж по годам по платформам для актуального периода\n",
    "platform_sales_actual = df_actual.pivot_table(index='year_of_release', columns='platform', values='total_sales', aggfunc=['sum'])\n",
    "platform_sales_actual.columns = ['3DS', 'DS', 'PC', 'PS3', 'PS4', 'PSP', 'PSV', 'Wii', 'WiiU', 'X360', 'XOne']\n",
    "platform_sales_actual"
   ]
  },
  {
   "cell_type": "code",
   "execution_count": 35,
   "metadata": {},
   "outputs": [
    {
     "data": {
      "text/plain": [
       "<AxesSubplot:title={'center':'Объем продаж в зависимости от типа платформы'}, xlabel='Год', ylabel='Общиее продажи'>"
      ]
     },
     "metadata": {},
     "output_type": "display_data"
    },
    {
     "data": {
      "image/png": "[encoded data removed]",
      "text/plain": [
       "<Figure size 1080x432 with 1 Axes>"
      ]
     },
     "metadata": {},
     "output_type": "display_data"
    }
   ],
   "source": [
    "# линейные графики для всех платформ (динамика на актуальном периоде)\n",
    "\n",
    "plt.figure(figsize = (15,6))\n",
    "sns.set_style('whitegrid')\n",
    "\n",
    "line = sns.lineplot(data=platform_sales_actual)\n",
    "\n",
    "line.set_title('Объем продаж в зависимости от типа платформы')\n",
    "line.set_xlabel('Год')\n",
    "line.set_ylabel('Общиее продажи')\n",
    "\n",
    "display(line)"
   ]
  },
  {
   "cell_type": "markdown",
   "metadata": {},
   "source": [
    "Исходя из графика можно отметить, что лидируют по продажам платформы `PS4`, `XOne`, `3DS`. При этом для большинства платформ уже пройден пик продажи (отталкиваясь от ранее выделенного нами жизненного цикла) и продажи постепенно снижаются. "
   ]
  },
  {
   "cell_type": "markdown",
   "metadata": {},
   "source": [
    "### Построим график «ящик с усами» по глобальным продажам игр в разбивке по платформам. \n",
    "\n",
    "Еще раз выделим топ-5 платформ, теперь уже на нужном нам периоде: "
   ]
  },
  {
   "cell_type": "code",
   "execution_count": 36,
   "metadata": {},
   "outputs": [
    {
     "data": {
      "text/html": [
       "<div>\n",
       "<style scoped>\n",
       "    .dataframe tbody tr th:only-of-type {\n",
       "        vertical-align: middle;\n",
       "    }\n",
       "\n",
       "    .dataframe tbody tr th {\n",
       "        vertical-align: top;\n",
       "    }\n",
       "\n",
       "    .dataframe thead th {\n",
       "        text-align: right;\n",
       "    }\n",
       "</style>\n",
       "<table border=\"1\" class=\"dataframe\">\n",
       "  <thead>\n",
       "    <tr style=\"text-align: right;\">\n",
       "      <th></th>\n",
       "      <th>platform</th>\n",
       "      <th>total_sales</th>\n",
       "    </tr>\n",
       "  </thead>\n",
       "  <tbody>\n",
       "    <tr>\n",
       "      <th>4</th>\n",
       "      <td>PS4</td>\n",
       "      <td>314.14</td>\n",
       "    </tr>\n",
       "    <tr>\n",
       "      <th>3</th>\n",
       "      <td>PS3</td>\n",
       "      <td>288.79</td>\n",
       "    </tr>\n",
       "    <tr>\n",
       "      <th>9</th>\n",
       "      <td>X360</td>\n",
       "      <td>236.54</td>\n",
       "    </tr>\n",
       "    <tr>\n",
       "      <th>0</th>\n",
       "      <td>3DS</td>\n",
       "      <td>194.61</td>\n",
       "    </tr>\n",
       "    <tr>\n",
       "      <th>10</th>\n",
       "      <td>XOne</td>\n",
       "      <td>159.32</td>\n",
       "    </tr>\n",
       "    <tr>\n",
       "      <th>8</th>\n",
       "      <td>WiiU</td>\n",
       "      <td>82.19</td>\n",
       "    </tr>\n",
       "    <tr>\n",
       "      <th>2</th>\n",
       "      <td>PC</td>\n",
       "      <td>62.65</td>\n",
       "    </tr>\n",
       "    <tr>\n",
       "      <th>6</th>\n",
       "      <td>PSV</td>\n",
       "      <td>49.18</td>\n",
       "    </tr>\n",
       "    <tr>\n",
       "      <th>7</th>\n",
       "      <td>Wii</td>\n",
       "      <td>35.37</td>\n",
       "    </tr>\n",
       "    <tr>\n",
       "      <th>1</th>\n",
       "      <td>DS</td>\n",
       "      <td>12.55</td>\n",
       "    </tr>\n",
       "    <tr>\n",
       "      <th>5</th>\n",
       "      <td>PSP</td>\n",
       "      <td>11.19</td>\n",
       "    </tr>\n",
       "  </tbody>\n",
       "</table>\n",
       "</div>"
      ],
      "text/plain": [
       "   platform  total_sales\n",
       "4       PS4       314.14\n",
       "3       PS3       288.79\n",
       "9      X360       236.54\n",
       "0       3DS       194.61\n",
       "10     XOne       159.32\n",
       "8      WiiU        82.19\n",
       "2        PC        62.65\n",
       "6       PSV        49.18\n",
       "7       Wii        35.37\n",
       "1        DS        12.55\n",
       "5       PSP        11.19"
      ]
     },
     "execution_count": 36,
     "metadata": {},
     "output_type": "execute_result"
    }
   ],
   "source": [
    "# сводная таблица за актуальный период\n",
    "df_platform_sales_actual = (df_actual.pivot_table(index='platform', values='total_sales', aggfunc=['sum'])\n",
    "                  .reset_index())\n",
    "df_platform_sales_actual.columns = ['platform', 'total_sales']\n",
    "\n",
    "# топ-5 платформ\n",
    "df_platform_sales_actual.sort_values(by='total_sales', ascending=False)"
   ]
  },
  {
   "cell_type": "code",
   "execution_count": 37,
   "metadata": {},
   "outputs": [
    {
     "data": {
      "text/plain": [
       "<AxesSubplot:title={'center':'Диаграмма разброса общих продаж в зависимости от платформы'}, xlabel='Платформа', ylabel='Общиее продажи'>"
      ]
     },
     "metadata": {},
     "output_type": "display_data"
    },
    {
     "data": {
      "image/png": "[encoded data removed]",
      "text/plain": [
       "<Figure size 1080x432 with 1 Axes>"
      ]
     },
     "metadata": {},
     "output_type": "display_data"
    }
   ],
   "source": [
    "# выделим интересующие нас платформы\n",
    "top_platform_sales_actual = platform_sales_actual[['PS4', 'PS3', 'X360', '3DS','XOne']]\n",
    "\n",
    "# построим диаграмму размаха\n",
    "sns.set_style('whitegrid')\n",
    "plt.figure(figsize = (15,6))\n",
    "\n",
    "boxplot = sns.boxplot(data=top_platform_sales_actual, meanline=True, showmeans=True,)\n",
    "\n",
    "boxplot.set_title('Диаграмма разброса общих продаж в зависимости от платформы')\n",
    "boxplot.set_xlabel('Платформа')\n",
    "boxplot.set_ylabel('Общиее продажи')\n",
    "\n",
    "display(boxplot)"
   ]
  },
  {
   "cell_type": "markdown",
   "metadata": {},
   "source": [
    "В первую очередь, по данным видно, что в выбранном срезе данных нет выбросов (из-за небольшого числа оставшихся наблюдений). \n",
    "\n",
    "- Можно отметить, что как наибольшие максимальные и минимальные продажи игр осуществляются для платфоры `PS4`, для которой также отмечается наибольший размах. Медиана здесь выше среднего значения, что говорит о присутствии в данных нетипично малых значений продаж, которые тянут среднее вниз. Это же подтверждает значение 1ого квартиля.\n",
    "\n",
    "- Наибольший квартильный же размах отмечается для платформ `PS3` и `X360`. Медиана здесь ниже среднего значения, что говорит о присутствии в данных нетипично больших значений продаж, которые тянут среднее вверх. Об этом же говорит высокий 3ий квартиль.\n",
    "\n",
    "- Для платформы `3DS` наблюдаются наименьшие максимальные и минимальные продажи игр. Медиана здесь выше среднего значения. \n",
    "\n",
    "- Для платформы `XOne` медиана совпадает со средним, значит данные достаточно равномерно распределены.\n",
    "\n",
    "\n"
   ]
  },
  {
   "cell_type": "markdown",
   "metadata": {},
   "source": [
    "### Посмотрим, как влияют на продажи внутри одной популярной платформы отзывы пользователей и критиков. \n",
    "\n",
    "Построим диаграмму рассеяния и посчитаем корреляцию между отзывами и продажами для наиболее популярной платформы `PS4`:"
   ]
  },
  {
   "cell_type": "code",
   "execution_count": 38,
   "metadata": {},
   "outputs": [],
   "source": [
    "# отфильтруем по платформе\n",
    "df_ps4 = df_actual.query('platform == \"PS4\"')"
   ]
  },
  {
   "cell_type": "code",
   "execution_count": 39,
   "metadata": {},
   "outputs": [
    {
     "data": {
      "text/html": [
       "<div>\n",
       "<style scoped>\n",
       "    .dataframe tbody tr th:only-of-type {\n",
       "        vertical-align: middle;\n",
       "    }\n",
       "\n",
       "    .dataframe tbody tr th {\n",
       "        vertical-align: top;\n",
       "    }\n",
       "\n",
       "    .dataframe thead th {\n",
       "        text-align: right;\n",
       "    }\n",
       "</style>\n",
       "<table border=\"1\" class=\"dataframe\">\n",
       "  <thead>\n",
       "    <tr style=\"text-align: right;\">\n",
       "      <th></th>\n",
       "      <th>total_sales</th>\n",
       "      <th>user_score</th>\n",
       "      <th>critic_score</th>\n",
       "    </tr>\n",
       "  </thead>\n",
       "  <tbody>\n",
       "    <tr>\n",
       "      <th>total_sales</th>\n",
       "      <td>1.00</td>\n",
       "      <td>-0.04</td>\n",
       "      <td>0.41</td>\n",
       "    </tr>\n",
       "    <tr>\n",
       "      <th>user_score</th>\n",
       "      <td>-0.04</td>\n",
       "      <td>1.00</td>\n",
       "      <td>0.49</td>\n",
       "    </tr>\n",
       "    <tr>\n",
       "      <th>critic_score</th>\n",
       "      <td>0.41</td>\n",
       "      <td>0.49</td>\n",
       "      <td>1.00</td>\n",
       "    </tr>\n",
       "  </tbody>\n",
       "</table>\n",
       "</div>"
      ],
      "text/plain": [
       "              total_sales  user_score  critic_score\n",
       "total_sales          1.00       -0.04          0.41\n",
       "user_score          -0.04        1.00          0.49\n",
       "critic_score         0.41        0.49          1.00"
      ]
     },
     "execution_count": 39,
     "metadata": {},
     "output_type": "execute_result"
    }
   ],
   "source": [
    "# корреляционная матрица\n",
    "df_ps4[['total_sales', 'user_score', 'critic_score']].corr()"
   ]
  },
  {
   "cell_type": "code",
   "execution_count": 40,
   "metadata": {},
   "outputs": [
    {
     "data": {
      "text/html": [
       "<div>\n",
       "<style scoped>\n",
       "    .dataframe tbody tr th:only-of-type {\n",
       "        vertical-align: middle;\n",
       "    }\n",
       "\n",
       "    .dataframe tbody tr th {\n",
       "        vertical-align: top;\n",
       "    }\n",
       "\n",
       "    .dataframe thead th {\n",
       "        text-align: right;\n",
       "    }\n",
       "</style>\n",
       "<table border=\"1\" class=\"dataframe\">\n",
       "  <thead>\n",
       "    <tr style=\"text-align: right;\">\n",
       "      <th></th>\n",
       "      <th>total_sales</th>\n",
       "      <th>user_score</th>\n",
       "      <th>critic_score</th>\n",
       "    </tr>\n",
       "  </thead>\n",
       "  <tbody>\n",
       "    <tr>\n",
       "      <th>count</th>\n",
       "      <td>392.00</td>\n",
       "      <td>392.00</td>\n",
       "      <td>392.00</td>\n",
       "    </tr>\n",
       "    <tr>\n",
       "      <th>mean</th>\n",
       "      <td>0.80</td>\n",
       "      <td>6.97</td>\n",
       "      <td>71.00</td>\n",
       "    </tr>\n",
       "    <tr>\n",
       "      <th>std</th>\n",
       "      <td>1.61</td>\n",
       "      <td>1.22</td>\n",
       "      <td>10.48</td>\n",
       "    </tr>\n",
       "    <tr>\n",
       "      <th>min</th>\n",
       "      <td>0.01</td>\n",
       "      <td>1.50</td>\n",
       "      <td>19.00</td>\n",
       "    </tr>\n",
       "    <tr>\n",
       "      <th>25%</th>\n",
       "      <td>0.06</td>\n",
       "      <td>6.60</td>\n",
       "      <td>66.00</td>\n",
       "    </tr>\n",
       "    <tr>\n",
       "      <th>50%</th>\n",
       "      <td>0.20</td>\n",
       "      <td>7.30</td>\n",
       "      <td>69.00</td>\n",
       "    </tr>\n",
       "    <tr>\n",
       "      <th>75%</th>\n",
       "      <td>0.73</td>\n",
       "      <td>7.70</td>\n",
       "      <td>78.00</td>\n",
       "    </tr>\n",
       "    <tr>\n",
       "      <th>max</th>\n",
       "      <td>14.63</td>\n",
       "      <td>9.20</td>\n",
       "      <td>97.00</td>\n",
       "    </tr>\n",
       "  </tbody>\n",
       "</table>\n",
       "</div>"
      ],
      "text/plain": [
       "       total_sales  user_score  critic_score\n",
       "count       392.00      392.00        392.00\n",
       "mean          0.80        6.97         71.00\n",
       "std           1.61        1.22         10.48\n",
       "min           0.01        1.50         19.00\n",
       "25%           0.06        6.60         66.00\n",
       "50%           0.20        7.30         69.00\n",
       "75%           0.73        7.70         78.00\n",
       "max          14.63        9.20         97.00"
      ]
     },
     "execution_count": 40,
     "metadata": {},
     "output_type": "execute_result"
    }
   ],
   "source": [
    "df_ps4[['total_sales', 'user_score', 'critic_score']].describe()"
   ]
  },
  {
   "cell_type": "code",
   "execution_count": 41,
   "metadata": {},
   "outputs": [
    {
     "data": {
      "text/plain": [
       "<AxesSubplot:title={'center':'Зависимость продаж от отзывов пользователей'}, xlabel='Пользовательский рейтинг', ylabel='Общиее продажи'>"
      ]
     },
     "metadata": {},
     "output_type": "display_data"
    },
    {
     "data": {
      "text/plain": [
       "<AxesSubplot:title={'center':'Зависимость продаж от отзывов критиков'}, xlabel='Рейтинг критиков', ylabel='Общиее продажи'>"
      ]
     },
     "metadata": {},
     "output_type": "display_data"
    },
    {
     "data": {
      "image/png": "[encoded data removed]",
      "text/plain": [
       "<Figure size 1080x432 with 2 Axes>"
      ]
     },
     "metadata": {},
     "output_type": "display_data"
    }
   ],
   "source": [
    "# диаграмма рассеяния \n",
    "\n",
    "sns.set_style('whitegrid')\n",
    "plt.figure(figsize = (15,6))\n",
    "\n",
    "plt.subplot(2, 1, 1)\n",
    "scatter1 = sns.scatterplot(data=df_ps4, x='user_score', y='total_sales') \n",
    "\n",
    "scatter1.set_title('Зависимость продаж от отзывов пользователей')\n",
    "scatter1.set_xlabel('Пользовательский рейтинг')\n",
    "scatter1.set_ylabel('Общиее продажи')\n",
    "display(scatter1)\n",
    "\n",
    "\n",
    "plt.subplot(2, 1, 2)\n",
    "scatter2 = sns.scatterplot(data=df_ps4, x='critic_score', y='total_sales') \n",
    "scatter2.set_title('Зависимость продаж от отзывов критиков')\n",
    "scatter2.set_xlabel('Рейтинг критиков')\n",
    "scatter2.set_ylabel('Общиее продажи')\n",
    "display(scatter2)"
   ]
  },
  {
   "cell_type": "markdown",
   "metadata": {},
   "source": [
    "Судя по результату, между продажами и рейтингами пользователей/критиков наблюдается слабая корреляция. При этом, можно заметить, что для рейтингов пользователей отмечается отрицательная незначимая зависимость, а для рейтингов критиков - более-менее значимая положительная. То есть, чем больше значения критиков, тем выше продажи. "
   ]
  },
  {
   "cell_type": "markdown",
   "metadata": {},
   "source": [
    "### Посмотрим, отзывы пользователей и критиков влияют на продажи игр на других платформах."
   ]
  },
  {
   "cell_type": "code",
   "execution_count": 42,
   "metadata": {},
   "outputs": [],
   "source": [
    "df_other = df_actual.query('platform != \"PS4\"')"
   ]
  },
  {
   "cell_type": "code",
   "execution_count": 43,
   "metadata": {},
   "outputs": [
    {
     "data": {
      "text/html": [
       "<div>\n",
       "<style scoped>\n",
       "    .dataframe tbody tr th:only-of-type {\n",
       "        vertical-align: middle;\n",
       "    }\n",
       "\n",
       "    .dataframe tbody tr th {\n",
       "        vertical-align: top;\n",
       "    }\n",
       "\n",
       "    .dataframe thead th {\n",
       "        text-align: right;\n",
       "    }\n",
       "</style>\n",
       "<table border=\"1\" class=\"dataframe\">\n",
       "  <thead>\n",
       "    <tr style=\"text-align: right;\">\n",
       "      <th></th>\n",
       "      <th>total_sales</th>\n",
       "      <th>user_score</th>\n",
       "      <th>critic_score</th>\n",
       "    </tr>\n",
       "  </thead>\n",
       "  <tbody>\n",
       "    <tr>\n",
       "      <th>total_sales</th>\n",
       "      <td>1.00</td>\n",
       "      <td>-0.03</td>\n",
       "      <td>0.36</td>\n",
       "    </tr>\n",
       "    <tr>\n",
       "      <th>user_score</th>\n",
       "      <td>-0.03</td>\n",
       "      <td>1.00</td>\n",
       "      <td>0.31</td>\n",
       "    </tr>\n",
       "    <tr>\n",
       "      <th>critic_score</th>\n",
       "      <td>0.36</td>\n",
       "      <td>0.31</td>\n",
       "      <td>1.00</td>\n",
       "    </tr>\n",
       "  </tbody>\n",
       "</table>\n",
       "</div>"
      ],
      "text/plain": [
       "              total_sales  user_score  critic_score\n",
       "total_sales          1.00       -0.03          0.36\n",
       "user_score          -0.03        1.00          0.31\n",
       "critic_score         0.36        0.31          1.00"
      ]
     },
     "execution_count": 43,
     "metadata": {},
     "output_type": "execute_result"
    }
   ],
   "source": [
    "# корреляционная матрица\n",
    "df_other[['total_sales', 'user_score', 'critic_score']].corr()"
   ]
  },
  {
   "cell_type": "code",
   "execution_count": 44,
   "metadata": {},
   "outputs": [
    {
     "data": {
      "text/plain": [
       "<AxesSubplot:title={'center':'Зависимость продаж от отзывов пользователей'}, xlabel='Пользовательский рейтинг', ylabel='Общиее продажи'>"
      ]
     },
     "metadata": {},
     "output_type": "display_data"
    },
    {
     "data": {
      "text/plain": [
       "<AxesSubplot:title={'center':'Зависимость продаж от отзывов критиков'}, xlabel='Рейтинг критиков', ylabel='Общиее продажи'>"
      ]
     },
     "metadata": {},
     "output_type": "display_data"
    },
    {
     "data": {
      "image/png": "[encoded data removed]",
      "text/plain": [
       "<Figure size 1080x432 with 2 Axes>"
      ]
     },
     "metadata": {},
     "output_type": "display_data"
    }
   ],
   "source": [
    "# диаграмма рассеяния \n",
    "\n",
    "sns.set_style('whitegrid')\n",
    "plt.figure(figsize = (15,6))\n",
    "\n",
    "plt.subplot(2, 1, 1)\n",
    "scatter1 = sns.scatterplot(data=df_other, x='user_score', y='total_sales') \n",
    "scatter1.set_title('Зависимость продаж от отзывов пользователей')\n",
    "scatter1.set_xlabel('Пользовательский рейтинг')\n",
    "scatter1.set_ylabel('Общиее продажи')\n",
    "display(scatter1)\n",
    "\n",
    "plt.subplot(2, 1, 2)\n",
    "scatter2 = sns.scatterplot(data=df_other, x='critic_score', y='total_sales') \n",
    "scatter2.set_title('Зависимость продаж от отзывов критиков')\n",
    "scatter2.set_xlabel('Рейтинг критиков')\n",
    "scatter2.set_ylabel('Общиее продажи')\n",
    "display(scatter2)"
   ]
  },
  {
   "cell_type": "markdown",
   "metadata": {},
   "source": [
    "В целом, наблюдаем ту же самую картину, как по популярной платформе."
   ]
  },
  {
   "cell_type": "markdown",
   "metadata": {},
   "source": [
    "### Посмотрим на общее распределение игр по жанрам. "
   ]
  },
  {
   "cell_type": "code",
   "execution_count": 45,
   "metadata": {},
   "outputs": [],
   "source": [
    "# сформируем сводную таблицу по жанрам\n",
    "\n",
    "df_genre = df_actual.pivot_table(index='genre', values='total_sales', aggfunc=['sum']).reset_index()\n",
    "df_genre.columns = ['genre','total_sales']\n",
    "df_genre = df_genre.sort_values(by='total_sales', ascending=False)"
   ]
  },
  {
   "cell_type": "code",
   "execution_count": 46,
   "metadata": {},
   "outputs": [
    {
     "data": {
      "text/plain": [
       "<AxesSubplot:title={'center':'Количество проданных игр в зависимости от жанра'}, xlabel='Жанр', ylabel='Общие продажи'>"
      ]
     },
     "metadata": {},
     "output_type": "display_data"
    },
    {
     "data": {
      "image/png": "[encoded data removed]",
      "text/plain": [
       "<Figure size 1080x432 with 1 Axes>"
      ]
     },
     "metadata": {},
     "output_type": "display_data"
    }
   ],
   "source": [
    "# построим столбчатую диаграмму \n",
    "sns.set_style('whitegrid')\n",
    "plt.figure(figsize = (15,6))\n",
    "\n",
    "bar = sns.barplot(data = df_genre, \n",
    "            x = 'genre',\n",
    "            y = 'total_sales'\n",
    "           )\n",
    "plt.xticks(rotation=90)\n",
    "\n",
    "\n",
    "bar.set_title('Количество проданных игр в зависимости от жанра')\n",
    "bar.set_xlabel('Жанр')\n",
    "bar.set_ylabel('Общие продажи')\n",
    "\n",
    "display(bar)\n"
   ]
  },
  {
   "cell_type": "markdown",
   "metadata": {},
   "source": [
    "Наиболее продаваемые жанры - это Экшен и Стрелялки, на втором месте по популярности идут роллевые компьютерные игры и спортивны. Хуже всего продаются игры-головоломки (возможно, потому что большинство людей играют, чтобы расслабиться и не думать). Все остальные жанры больше на любителя и будут популярны в более \"узких кругах\", а значит, надо делать ставку в первую очередь на первые 4 жанра игр. "
   ]
  },
  {
   "cell_type": "code",
   "execution_count": 47,
   "metadata": {},
   "outputs": [
    {
     "data": {
      "text/plain": [
       "<AxesSubplot:title={'center':'Количество проданных игр в зависимости от жанра'}, xlabel='Жанр', ylabel='Общие продажи'>"
      ]
     },
     "metadata": {},
     "output_type": "display_data"
    },
    {
     "data": {
      "image/png": "[encoded data removed]",
      "text/plain": [
       "<Figure size 1080x432 with 1 Axes>"
      ]
     },
     "metadata": {},
     "output_type": "display_data"
    }
   ],
   "source": [
    "# сформируем сводную таблицу по жанрам\n",
    "\n",
    "df_genre_mean = df_actual.pivot_table(index='genre', values='total_sales', aggfunc=['mean']).reset_index()\n",
    "df_genre_mean.columns = ['genre','total_sales']\n",
    "df_genre_mean = df_genre_mean.sort_values(by='total_sales', ascending=False)\n",
    "\n",
    "# построим столбчатую диаграмму \n",
    "sns.set_style('whitegrid')\n",
    "plt.figure(figsize = (15,6))\n",
    "\n",
    "bar = sns.barplot(data = df_genre_mean, \n",
    "            x = 'genre',\n",
    "            y = 'total_sales'\n",
    "           )\n",
    "plt.xticks(rotation=90)\n",
    "\n",
    "\n",
    "bar.set_title('Количество проданных игр в зависимости от жанра')\n",
    "bar.set_xlabel('Жанр')\n",
    "bar.set_ylabel('Общие продажи')\n",
    "\n",
    "display(bar)\n"
   ]
  },
  {
   "cell_type": "markdown",
   "metadata": {},
   "source": [
    "**Вывод**"
   ]
  },
  {
   "cell_type": "markdown",
   "metadata": {},
   "source": [
    "На основании исследовательского анализа в качестве актуальногопериода был выбран временной промежуток с 2012 г., так как начиная именно с этого момента продажи стабилизировались и стали находиться примерно на том уровне, на котором были в текущем году, а значит для прогноза на 2017 г. наиболее информативными для нас будут именно последние годы со стабильной динамикой. Можно предположить, что в этот период в структуре спроса на рынке произошли какие-то изменения. При этом по продажам в этот период лидируют платформы PS4, XOne, 3DS. Однако, между продажами игр и рейтингами пользователей/критиков наблюдается слабая корреляция. Тем не менее, для рейтингов критиков отмечается положительная корреляция, то есть чем больше значения критиков, тем выше продажи. Наиболее востребованы игры в жанрах экшен и стрельбы, а наименее - жанр головоломки."
   ]
  },
  {
   "cell_type": "markdown",
   "metadata": {},
   "source": [
    "## Портрет пользователя в зависимости от региона"
   ]
  },
  {
   "cell_type": "markdown",
   "metadata": {},
   "source": [
    "### North America. Портрет региона."
   ]
  },
  {
   "cell_type": "markdown",
   "metadata": {},
   "source": [
    "* Топ-5 популярных платформ:"
   ]
  },
  {
   "cell_type": "code",
   "execution_count": 48,
   "metadata": {},
   "outputs": [
    {
     "data": {
      "text/plain": [
       "platform\n",
       "X360   140.05\n",
       "PS4    108.74\n",
       "PS3    103.38\n",
       "XOne    93.12\n",
       "3DS     55.31\n",
       "Name: na_sales, dtype: float64"
      ]
     },
     "execution_count": 48,
     "metadata": {},
     "output_type": "execute_result"
    }
   ],
   "source": [
    "df_actual.groupby('platform')['na_sales'].sum().sort_values(ascending=False).head()"
   ]
  },
  {
   "cell_type": "markdown",
   "metadata": {},
   "source": [
    "Можно увидеть, что в Северной Америке наиболее популярными являются платформы Xbox и PlayStation - американского и японского производства. Пятую строчку занимает платформа от Nintendo."
   ]
  },
  {
   "cell_type": "markdown",
   "metadata": {},
   "source": [
    "* Топ-5 популярных жанров: "
   ]
  },
  {
   "cell_type": "code",
   "execution_count": 49,
   "metadata": {},
   "outputs": [
    {
     "data": {
      "text/plain": [
       "genre\n",
       "Action         177.84\n",
       "Shooter        144.77\n",
       "Sports          81.53\n",
       "Role-Playing    64.00\n",
       "Misc            38.19\n",
       "Name: na_sales, dtype: float64"
      ]
     },
     "execution_count": 49,
     "metadata": {},
     "output_type": "execute_result"
    }
   ],
   "source": [
    "df_actual.groupby('genre')['na_sales'].sum().sort_values(ascending=False).head()"
   ]
  },
  {
   "cell_type": "markdown",
   "metadata": {},
   "source": [
    "Можно увидеть, что в Северной Америке наиболее популярными являются жанры Экшен и Стрелялки."
   ]
  },
  {
   "cell_type": "markdown",
   "metadata": {},
   "source": [
    "* Влияние рейтинга ESRB на продажи:"
   ]
  },
  {
   "cell_type": "code",
   "execution_count": 50,
   "metadata": {},
   "outputs": [
    {
     "data": {
      "text/plain": [
       "rating\n",
       "M         231.57\n",
       "E         114.37\n",
       "unknown   103.31\n",
       "E10+       75.70\n",
       "T          66.02\n",
       "Name: na_sales, dtype: float64"
      ]
     },
     "execution_count": 50,
     "metadata": {},
     "output_type": "execute_result"
    }
   ],
   "source": [
    "df_actual.groupby('rating')['na_sales'].sum().sort_values(ascending=False).head()"
   ]
  },
  {
   "cell_type": "markdown",
   "metadata": {},
   "source": [
    "Можно увидеть, что в Северной Америке наиболее популярными являются игры в категории «M» («Mature») — «Для взрослых», а также «E» («Everyone»)."
   ]
  },
  {
   "cell_type": "markdown",
   "metadata": {},
   "source": [
    "### European Union. Портрет региона."
   ]
  },
  {
   "cell_type": "markdown",
   "metadata": {},
   "source": [
    "* Топ-5 популярных платформ:"
   ]
  },
  {
   "cell_type": "code",
   "execution_count": 51,
   "metadata": {},
   "outputs": [
    {
     "data": {
      "text/plain": [
       "platform\n",
       "PS4    141.09\n",
       "PS3    106.86\n",
       "X360    74.52\n",
       "XOne    51.59\n",
       "3DS     42.64\n",
       "Name: eu_sales, dtype: float64"
      ]
     },
     "execution_count": 51,
     "metadata": {},
     "output_type": "execute_result"
    }
   ],
   "source": [
    "df_actual.groupby('platform')['eu_sales'].sum().sort_values(ascending=False).head()"
   ]
  },
  {
   "cell_type": "markdown",
   "metadata": {},
   "source": [
    "Можно увидеть, что в Европейском союзе наиболее популярными являются платформы PlayStation. Чуть менее популярны платформы Xbox. Пятую строчку занимает платформа от Nintendo."
   ]
  },
  {
   "cell_type": "markdown",
   "metadata": {},
   "source": [
    "* Топ-5 популярных жанров: "
   ]
  },
  {
   "cell_type": "code",
   "execution_count": 52,
   "metadata": {},
   "outputs": [
    {
     "data": {
      "text/plain": [
       "genre\n",
       "Action         159.34\n",
       "Shooter        113.47\n",
       "Sports          69.09\n",
       "Role-Playing    48.53\n",
       "Racing          27.29\n",
       "Name: eu_sales, dtype: float64"
      ]
     },
     "execution_count": 52,
     "metadata": {},
     "output_type": "execute_result"
    }
   ],
   "source": [
    "df_actual.groupby('genre')['eu_sales'].sum().sort_values(ascending=False).head()"
   ]
  },
  {
   "cell_type": "markdown",
   "metadata": {},
   "source": [
    "Можно увидеть, что в Европейском союзе наиболее популярными являются Экшен и Стрелялки."
   ]
  },
  {
   "cell_type": "markdown",
   "metadata": {},
   "source": [
    "* Влияние рейтинга ESRB на продажи:"
   ]
  },
  {
   "cell_type": "code",
   "execution_count": 53,
   "metadata": {},
   "outputs": [
    {
     "data": {
      "text/plain": [
       "rating\n",
       "M         193.96\n",
       "E         113.03\n",
       "unknown    91.50\n",
       "E10+       55.37\n",
       "T          52.96\n",
       "Name: eu_sales, dtype: float64"
      ]
     },
     "execution_count": 53,
     "metadata": {},
     "output_type": "execute_result"
    }
   ],
   "source": [
    "df_actual.groupby('rating')['eu_sales'].sum().sort_values(ascending=False).head()"
   ]
  },
  {
   "cell_type": "markdown",
   "metadata": {},
   "source": [
    "Можно увидеть, что в Европейском союзе наиболее популярными являются игры в категории «M» («Mature») — «Для взрослых», а также «E» («Everyone»)."
   ]
  },
  {
   "cell_type": "markdown",
   "metadata": {},
   "source": [
    "### Japan. Портрет региона."
   ]
  },
  {
   "cell_type": "markdown",
   "metadata": {},
   "source": [
    "* Топ-5 популярных платформ:"
   ]
  },
  {
   "cell_type": "code",
   "execution_count": 54,
   "metadata": {},
   "outputs": [
    {
     "data": {
      "text/plain": [
       "platform\n",
       "3DS    87.79\n",
       "PS3    35.29\n",
       "PSV    21.04\n",
       "PS4    15.96\n",
       "WiiU   13.01\n",
       "Name: jp_sales, dtype: float64"
      ]
     },
     "execution_count": 54,
     "metadata": {},
     "output_type": "execute_result"
    }
   ],
   "source": [
    "df_actual.groupby('platform')['jp_sales'].sum().sort_values(ascending=False).head()"
   ]
  },
  {
   "cell_type": "markdown",
   "metadata": {},
   "source": [
    "Можно увидеть, что в Японии наиболее популярными являются платформы PlayStation и Nintendo, то есть платформы от местного производителя. "
   ]
  },
  {
   "cell_type": "markdown",
   "metadata": {},
   "source": [
    "* Топ-5 популярных жанров: "
   ]
  },
  {
   "cell_type": "code",
   "execution_count": 55,
   "metadata": {},
   "outputs": [
    {
     "data": {
      "text/plain": [
       "genre\n",
       "Role-Playing   65.44\n",
       "Action         52.80\n",
       "Misc           12.86\n",
       "Simulation     10.41\n",
       "Fighting        9.44\n",
       "Name: jp_sales, dtype: float64"
      ]
     },
     "execution_count": 55,
     "metadata": {},
     "output_type": "execute_result"
    }
   ],
   "source": [
    "df_actual.groupby('genre')['jp_sales'].sum().sort_values(ascending=False).head()"
   ]
  },
  {
   "cell_type": "markdown",
   "metadata": {},
   "source": [
    "Можно увидеть, что в Японии наиболее популярными являются Компьютерная ролевая игра и Экшен. "
   ]
  },
  {
   "cell_type": "markdown",
   "metadata": {},
   "source": [
    "* Влияние рейтинга ESRB на продажи:"
   ]
  },
  {
   "cell_type": "code",
   "execution_count": 56,
   "metadata": {},
   "outputs": [
    {
     "data": {
      "text/plain": [
       "rating\n",
       "unknown   108.84\n",
       "E          28.33\n",
       "T          26.02\n",
       "M          21.20\n",
       "E10+        8.19\n",
       "Name: jp_sales, dtype: float64"
      ]
     },
     "execution_count": 56,
     "metadata": {},
     "output_type": "execute_result"
    }
   ],
   "source": [
    "df_actual.groupby('rating')['jp_sales'].sum().sort_values(ascending=False).head()"
   ]
  },
  {
   "cell_type": "markdown",
   "metadata": {},
   "source": [
    "Можно увидеть, что в Японии наиболее популярными являются игры в категории «E» («Everyone») — «Для всех» и «T» («Teen») — «Подросткам».\n",
    "\n",
    "Что касается рейтинга `unknown`, нужно принять во внимание, что в Японии другая рейтинговая система - CERO. Значит показатель ESRB для них нерепрезентативен, так как выставляется организацией другой страны (в разных странах оценка может разниться) и, вероятно, не охватывает все игры, а также их оценки не полностью идентичны между собой. Кроме того, в Японии сильный локальный рынок, т.е. любят играть в местные игры. Как результат могло появиться большое число пропусков по данной рейтинговой системе."
   ]
  },
  {
   "cell_type": "markdown",
   "metadata": {},
   "source": [
    "**Вывод**"
   ]
  },
  {
   "cell_type": "markdown",
   "metadata": {},
   "source": [
    "По итогу анализа для регионов, можно увидеть, что нет значимых различий в результате для региона Северной Америки и Евросоюза: в обоих регионах наиболее популярны являются платформы Xbox и PlayStation, то есть как американского, так и японского производства; в обоих регионах наиболее популярными являются жанры экшен и стрелялки, то есть наиболее динамичные ~и зачастую не самые гуманные~; в обоих регионах наиболее популярными рейтингами ESRB являются игры «Для взрослых», возможно, как результат выбора жанра игр, а также «Для всех», возможно как наиболее массовый рейтинг.\n",
    "\n",
    "В то же время в Японии наиболее популярными являются платформы именно национального производства - PlayStation и Nintendo. Набор популярных в Японии жанров также отличается от предыдущих 2х регионов - здесь наиболее популярны компьютерные ролевые игры и экшен. В целом же список топ-5 жанров сильно отличается, и вместо спорта и гонок можно также увидеть симуляции. Можно предположить, что здесь играет роль разница менталитетов. То есть условно мы говорим о портрете среднего покупателя западного рынка и восточного, которые очень различаются. При этом, можно отметить, что наиболее продаваемые по рейтингу ESRB являются рейтинги с менее жесткими возрастными ограничениями: «Для всех» и «Подросткам»."
   ]
  },
  {
   "cell_type": "markdown",
   "metadata": {},
   "source": [
    "## Проверка гипотез."
   ]
  },
  {
   "cell_type": "markdown",
   "metadata": {},
   "source": [
    "Проверим следующие гипотезы: "
   ]
  },
  {
   "cell_type": "markdown",
   "metadata": {},
   "source": [
    "### Средние пользовательские рейтинги платформ `Xbox One` и `PC` одинаковые"
   ]
  },
  {
   "cell_type": "markdown",
   "metadata": {},
   "source": [
    "$ H_{0}: \\mu_{XOne} = \\mu_{PC} $\n",
    "\n",
    "$ H_{1}: \\mu_{XOne} \\neq \\mu_{PC} $"
   ]
  },
  {
   "cell_type": "markdown",
   "metadata": {},
   "source": [
    "Проверим двустороннюю гипотезу для нескольких традиционно используемых уровнях значимости:"
   ]
  },
  {
   "cell_type": "code",
   "execution_count": 58,
   "metadata": {},
   "outputs": [
    {
     "name": "stdout",
     "output_type": "stream",
     "text": [
      "p-значение: 0.22684132300789353\n",
      "Не получилось отвергнуть нулевую гипотезу на 10% уровне значимости\n",
      "Не получилось отвергнуть нулевую гипотезу на 5% уровне значимости\n",
      "Не получилось отвергнуть нулевую гипотезу на 1% уровне значимости\n"
     ]
    }
   ],
   "source": [
    "# критический уровень статистической значимости\n",
    "alphas = [0.1, 0.05, 0.01]  \n",
    "\n",
    "results = st.ttest_ind(df_xone['user_score'], df_pc['user_score'], equal_var = False)\n",
    "\n",
    "print('p-значение:', results.pvalue)\n",
    "\n",
    "for alpha in alphas:\n",
    "    if results.pvalue < alpha:\n",
    "        print('Отвергаем нулевую гипотезу на {:.0%} уровне значимости'.format(alpha))\n",
    "    else:\n",
    "        print('Не получилось отвергнуть нулевую гипотезу на {:.0%} уровне значимости'.format(alpha)) \n"
   ]
  },
  {
   "cell_type": "markdown",
   "metadata": {},
   "source": [
    "Для выбранных уровней значимости не получается отвергнуть нулевую гипотезу. Выходит, что средний пользовательский рейтинг платформ Xbox One и PC одинаковые.\n"
   ]
  },
  {
   "cell_type": "markdown",
   "metadata": {},
   "source": [
    "### Средние пользовательские рейтинги жанров `Action` и `Sports` разные"
   ]
  },
  {
   "cell_type": "markdown",
   "metadata": {},
   "source": [
    "$ H_{0}: \\mu_{Action} = \\mu_{Sports} $\n",
    "\n",
    "$ H_{1}: \\mu_{Action} \\neq \\mu_{Sports} $"
   ]
  },
  {
   "cell_type": "markdown",
   "metadata": {},
   "source": [
    "Проверим двустороннюю гипотезу для нескольких традиционно используемых уровнях значимости:"
   ]
  },
  {
   "cell_type": "code",
   "execution_count": 60,
   "metadata": {},
   "outputs": [
    {
     "name": "stdout",
     "output_type": "stream",
     "text": [
      "p-значение: 1.3052400208128037e-21\n",
      "Отвергаем нулевую гипотезу на 10% уровне значимости\n",
      "Отвергаем нулевую гипотезу на 5% уровне значимости\n",
      "Отвергаем нулевую гипотезу на 1% уровне значимости\n"
     ]
    }
   ],
   "source": [
    "# критический уровень статистической значимости\n",
    "alphas = [0.1, 0.05, 0.01]  \n",
    "\n",
    "results = st.ttest_ind(df_action['user_score'], df_sports['user_score'], equal_var = False, alternative='greater')\n",
    "\n",
    "print('p-значение:', results.pvalue)\n",
    "\n",
    "for alpha in alphas:\n",
    "    if results.pvalue < alpha:\n",
    "        print('Отвергаем нулевую гипотезу на {:.0%} уровне значимости'.format(alpha))\n",
    "    else:\n",
    "        print('Не получилось отвергнуть нулевую гипотезу на {:.0%} уровне значимости'.format(alpha)) \n"
   ]
  },
  {
   "cell_type": "markdown",
   "metadata": {},
   "source": [
    "Для выбранных уровней значимости отвергаем нулевую гипотезу. Вывод — средние пользовательские рейтинги жанров `Action` и `Sports` и правда различаются. \n",
    "\n",
    "Проверим теперь, какая из них статистически значимо больше:"
   ]
  },
  {
   "cell_type": "markdown",
   "metadata": {},
   "source": [
    "### Средние пользовательские рейтинги жанра `Action` больше, чем `Sports`\n"
   ]
  },
  {
   "cell_type": "markdown",
   "metadata": {},
   "source": [
    "Данная гипотеза была сформулирован на основании предудущего анализа, а именно того факта, что жанр `Action` в регионах более популярный, нежели жанр `Sports`, а значит его средние оценки, верояно, будут выше. "
   ]
  },
  {
   "cell_type": "markdown",
   "metadata": {},
   "source": [
    "$ H_{0}: \\mu_{Action} \\leq \\mu_{Sports} $\n",
    "\n",
    "$ H_{1}: \\mu_{Action} > \\mu_{Sports} $"
   ]
  },
  {
   "cell_type": "code",
   "execution_count": 61,
   "metadata": {},
   "outputs": [
    {
     "name": "stdout",
     "output_type": "stream",
     "text": [
      "p-значение: 1.3052400208128037e-21\n",
      "Отвергаем нулевую гипотезу на 10% уровне значимости\n",
      "Отвергаем нулевую гипотезу на 5% уровне значимости\n",
      "Отвергаем нулевую гипотезу на 1% уровне значимости\n"
     ]
    }
   ],
   "source": [
    "# критический уровень статистической значимости\n",
    "alphas = [0.1, 0.05, 0.01]  \n",
    "\n",
    "results = st.ttest_ind(df_action['user_score'], df_sports['user_score'], equal_var=False, alternative='greater')\n",
    "\n",
    "print('p-значение:', results.pvalue)\n",
    "\n",
    "for alpha in alphas:\n",
    "    if results.pvalue < alpha:\n",
    "        print('Отвергаем нулевую гипотезу на {:.0%} уровне значимости'.format(alpha))\n",
    "    else:\n",
    "        print('Не получилось отвергнуть нулевую гипотезу на {:.0%} уровне значимости'.format(alpha)) \n"
   ]
  },
  {
   "cell_type": "markdown",
   "metadata": {},
   "source": [
    "Для выбранных уровней значимости отвергаем нулевую гипотезу. Вывод — cредние пользовательские рейтинги жанра `Action` больше, чем `Sports`.\n",
    "\n",
    "Это может объясняться предпочтениями этого жанра в большинстве регионов - игры этого жанра являются наиболее продаваемыми. Раз на них наблюдается наибольший спрос, то, вероятно, людям они нравятся, а значит получают более высокие оценки. При этом это может быть также и результат просто более большой выборки."
   ]
  },
  {
   "cell_type": "markdown",
   "metadata": {},
   "source": [
    "**Вывод**"
   ]
  },
  {
   "cell_type": "markdown",
   "metadata": {},
   "source": [
    "Для выбранных уровней значимости не получается отвергнуть нулевую гипотезу о том, что средний пользовательский рейтинг платформ Xbox One и PC одинаковые - обе платформы в равной степени отвечают запросам пользователей. \n",
    "\n",
    "При этом для выбранных уровней значимости мы отвергаем нулевую гипотезу о том, что средние пользовательские рейтинги жанров Action и Sports одинаковы - они различаются. После дополнительного исследования можем сказать, что cредние пользовательские рейтинги жанра `Action` больше, чем `Sports`. Это может объясняться предпочтениями этого жанра в большинстве регионов - игры этого жанра являются наиболее продаваемыми, следовательно и людям они нравятся больше (или большему числу людей), а значит получают более высокие оценки."
   ]
  },
  {
   "cell_type": "markdown",
   "metadata": {},
   "source": [
    "## Общий вывод"
   ]
  },
  {
   "cell_type": "markdown",
   "metadata": {},
   "source": [
    "В ходе работы были выявлены определяющие успешность игры закономерности. Это позволит сделать ставку на потенциально популярный продукт и спланировать рекламные кампании. В первую очередь была произведена подготовка данных: названия столбцов приведены к унифицированному виду, обработаны пропуски, проверенно наличие дубликатов, заменены типы данных для некоторых переменных, был расчитан общий объем продаж. \n",
    "\n",
    "На основании исследовательского анализа в качестве актуальногопериода был выбран временной промежуток с 2012 г., так как начиная именно с этого момента продажи стабилизировались и стали находиться примерно на том уровне, на котором были в текущем году. Можно предположить, что в этот период в структуре спроса на рынке произошли какие-то изменения. При этом по продажам в этот период лидируют платформы PS4, XOne, 3DS. Однако, между продажами игр и рейтингами пользователей/критиков наблюдается слабая корреляция. Тем не менее, для рейтингов критиков отмечается положительная корреляция, то есть чем больше значения критиков, тем выше продажи. Наиболее востребованы игры в жанрах экшен и стрельбы, а наименее - жанр головоломки.\n",
    "\n",
    "По итогу анализа для регионов, можно увидеть, что нет значимых различий в результате для региона Северной Америки и Евросоюза: в обоих регионах наиболее популярны являются платформы как американского, так и японского производства; в обоих регионах наиболее популярными являются жанры экшен и стрелялки, а наиболее распространенными рейтингами ESRB являются игры «Для взрослых», возможно, как результат выбора жанра игр, а также «Для всех», возможно как наиболее массовый рейтинг.\n",
    "\n",
    "В то же время в Японии наиболее популярными являются платформы именно национального производства. Набор популярных в Японии жанров также отличается - здесь наиболее популярны компьютерные ролевые игры и экшен. При этом наиболее продаваемые по рейтингу ESRB являются рейтинги с менее жесткими возрастными ограничениями: «Для всех» и «Подросткам». Можно предположить, что в выявленных различиях по регионам отражаетсяроль разница менталитетов. То есть условно мы говорим о портрете среднего покупателя западного рынка и восточного рынка. \n",
    "\n",
    "Наконец, было выявлено, что средний пользовательский рейтинг платформ Xbox One и PC одинаковы - обе платформы в равной степени отвечают запросам пользователей, а средние пользовательские рейтинги жанров Action и Sports - различаются. При этом cредние пользовательские рейтинги жанра `Action` больше, чем `Sports`. Это может объясняться предпочтениями этого жанра во всех трех регионах. \n",
    "\n",
    "Таким образом, нам стоит сделать ставку на продвижении игр жанра экшен на таких платформах как PS4, XOne, 3DS"
   ]
  },
  {
   "cell_type": "markdown",
   "metadata": {},
   "source": [
    "\n"
   ]
  }
 ],
 "metadata": {
  "ExecuteTimeLog": [
   {
    "duration": 306,
    "start_time": "2021-08-03T13:24:25.570Z"
   },
   {
    "duration": 6010,
    "start_time": "2021-08-03T13:24:28.250Z"
   },
   {
    "duration": 5,
    "start_time": "2021-08-03T13:24:34.658Z"
   },
   {
    "duration": 49,
    "start_time": "2021-08-03T13:25:26.718Z"
   },
   {
    "duration": 32,
    "start_time": "2021-08-03T13:25:29.298Z"
   },
   {
    "duration": 58,
    "start_time": "2021-08-03T13:25:42.882Z"
   },
   {
    "duration": 14,
    "start_time": "2021-08-03T13:54:12.030Z"
   },
   {
    "duration": 5,
    "start_time": "2021-08-03T13:54:26.670Z"
   },
   {
    "duration": 5,
    "start_time": "2021-08-03T13:54:29.022Z"
   },
   {
    "duration": 5,
    "start_time": "2021-08-03T13:54:31.706Z"
   },
   {
    "duration": 5,
    "start_time": "2021-08-03T13:55:46.145Z"
   },
   {
    "duration": 4,
    "start_time": "2021-08-03T13:58:49.316Z"
   },
   {
    "duration": 69,
    "start_time": "2021-08-03T14:00:04.230Z"
   },
   {
    "duration": 73,
    "start_time": "2021-08-03T14:00:50.378Z"
   },
   {
    "duration": 14,
    "start_time": "2021-08-03T14:01:51.034Z"
   },
   {
    "duration": 875,
    "start_time": "2021-08-03T14:04:23.870Z"
   },
   {
    "duration": 9,
    "start_time": "2021-08-03T14:24:45.191Z"
   },
   {
    "duration": 7,
    "start_time": "2021-08-03T14:24:52.418Z"
   },
   {
    "duration": 13,
    "start_time": "2021-08-03T14:45:47.944Z"
   },
   {
    "duration": 8,
    "start_time": "2021-08-03T14:45:54.743Z"
   },
   {
    "duration": 6,
    "start_time": "2021-08-03T14:54:01.911Z"
   },
   {
    "duration": 365,
    "start_time": "2021-08-03T14:54:08.183Z"
   },
   {
    "duration": 244,
    "start_time": "2021-08-03T14:54:10.983Z"
   },
   {
    "duration": 7,
    "start_time": "2021-08-03T14:54:22.783Z"
   },
   {
    "duration": 6,
    "start_time": "2021-08-03T14:54:25.432Z"
   },
   {
    "duration": 5,
    "start_time": "2021-08-03T14:54:35.984Z"
   },
   {
    "duration": 6,
    "start_time": "2021-08-03T14:54:39.295Z"
   },
   {
    "duration": 5,
    "start_time": "2021-08-03T14:54:56.823Z"
   },
   {
    "duration": 8,
    "start_time": "2021-08-03T14:55:00.704Z"
   },
   {
    "duration": 16,
    "start_time": "2021-08-03T14:57:28.664Z"
   },
   {
    "duration": 4243,
    "start_time": "2021-08-03T17:31:54.496Z"
   },
   {
    "duration": 3,
    "start_time": "2021-08-03T17:31:58.741Z"
   },
   {
    "duration": 61,
    "start_time": "2021-08-03T17:31:58.746Z"
   },
   {
    "duration": 4,
    "start_time": "2021-08-03T17:31:58.809Z"
   },
   {
    "duration": 12,
    "start_time": "2021-08-03T17:31:58.814Z"
   },
   {
    "duration": 4,
    "start_time": "2021-08-03T17:31:58.827Z"
   },
   {
    "duration": 66,
    "start_time": "2021-08-03T17:31:58.833Z"
   },
   {
    "duration": 4644,
    "start_time": "2021-08-04T06:50:59.974Z"
   },
   {
    "duration": 4,
    "start_time": "2021-08-04T06:51:04.620Z"
   },
   {
    "duration": 54,
    "start_time": "2021-08-04T06:51:04.628Z"
   },
   {
    "duration": 4,
    "start_time": "2021-08-04T06:51:04.694Z"
   },
   {
    "duration": 14,
    "start_time": "2021-08-04T06:51:04.700Z"
   },
   {
    "duration": 5,
    "start_time": "2021-08-04T06:51:04.715Z"
   },
   {
    "duration": 86,
    "start_time": "2021-08-04T06:51:04.721Z"
   },
   {
    "duration": 5,
    "start_time": "2021-08-04T11:53:55.265Z"
   },
   {
    "duration": 10,
    "start_time": "2021-08-04T13:58:36.253Z"
   },
   {
    "duration": 9,
    "start_time": "2021-08-04T13:58:43.776Z"
   },
   {
    "duration": 52,
    "start_time": "2021-08-04T13:58:55.578Z"
   },
   {
    "duration": 17,
    "start_time": "2021-08-04T13:59:06.356Z"
   },
   {
    "duration": 37,
    "start_time": "2021-08-04T13:59:08.724Z"
   },
   {
    "duration": 5,
    "start_time": "2021-08-04T13:59:15.381Z"
   },
   {
    "duration": 6,
    "start_time": "2021-08-04T13:59:26.100Z"
   },
   {
    "duration": 4,
    "start_time": "2021-08-04T13:59:36.043Z"
   },
   {
    "duration": 6,
    "start_time": "2021-08-04T13:59:55.164Z"
   },
   {
    "duration": 5,
    "start_time": "2021-08-04T14:00:01.460Z"
   },
   {
    "duration": 5,
    "start_time": "2021-08-04T14:00:07.164Z"
   },
   {
    "duration": 37,
    "start_time": "2021-08-04T14:00:13.001Z"
   },
   {
    "duration": 37,
    "start_time": "2021-08-04T14:00:21.442Z"
   },
   {
    "duration": 5919,
    "start_time": "2021-08-04T14:00:23.170Z"
   },
   {
    "duration": 5866,
    "start_time": "2021-08-04T14:00:36.429Z"
   },
   {
    "duration": -212,
    "start_time": "2021-08-04T14:00:42.509Z"
   },
   {
    "duration": 38,
    "start_time": "2021-08-04T14:03:25.484Z"
   },
   {
    "duration": 5993,
    "start_time": "2021-08-04T14:03:37.681Z"
   },
   {
    "duration": 4,
    "start_time": "2021-08-04T14:04:03.240Z"
   },
   {
    "duration": 7,
    "start_time": "2021-08-04T14:04:06.075Z"
   },
   {
    "duration": 6,
    "start_time": "2021-08-04T14:04:08.721Z"
   },
   {
    "duration": 39,
    "start_time": "2021-08-04T14:04:20.221Z"
   },
   {
    "duration": 5,
    "start_time": "2021-08-04T14:04:23.976Z"
   },
   {
    "duration": 9,
    "start_time": "2021-08-04T14:04:40.541Z"
   },
   {
    "duration": 5,
    "start_time": "2021-08-04T14:04:41.771Z"
   },
   {
    "duration": 245,
    "start_time": "2021-08-04T14:05:41.240Z"
   },
   {
    "duration": 7,
    "start_time": "2021-08-04T14:05:45.204Z"
   },
   {
    "duration": 6,
    "start_time": "2021-08-04T14:05:56.583Z"
   },
   {
    "duration": 20,
    "start_time": "2021-08-04T14:06:01.671Z"
   },
   {
    "duration": 12,
    "start_time": "2021-08-04T14:06:39.202Z"
   },
   {
    "duration": 6,
    "start_time": "2021-08-04T14:08:12.655Z"
   },
   {
    "duration": 5,
    "start_time": "2021-08-04T14:31:40.372Z"
   },
   {
    "duration": 16,
    "start_time": "2021-08-04T14:31:44.270Z"
   },
   {
    "duration": 5993,
    "start_time": "2021-08-05T06:04:04.490Z"
   },
   {
    "duration": 5,
    "start_time": "2021-08-05T06:04:10.486Z"
   },
   {
    "duration": 57,
    "start_time": "2021-08-05T06:04:10.494Z"
   },
   {
    "duration": 37,
    "start_time": "2021-08-05T06:04:10.555Z"
   },
   {
    "duration": 4,
    "start_time": "2021-08-05T06:04:10.595Z"
   },
   {
    "duration": 28,
    "start_time": "2021-08-05T06:04:10.602Z"
   },
   {
    "duration": 7,
    "start_time": "2021-08-05T06:04:10.632Z"
   },
   {
    "duration": 10,
    "start_time": "2021-08-05T06:04:10.667Z"
   },
   {
    "duration": 6564,
    "start_time": "2021-08-05T06:04:10.681Z"
   },
   {
    "duration": -114,
    "start_time": "2021-08-05T06:04:17.361Z"
   },
   {
    "duration": 14,
    "start_time": "2021-08-05T12:31:51.049Z"
   },
   {
    "duration": 15,
    "start_time": "2021-08-05T12:32:00.110Z"
   },
   {
    "duration": 16,
    "start_time": "2021-08-05T12:32:03.329Z"
   },
   {
    "duration": 25,
    "start_time": "2021-08-05T12:34:21.969Z"
   },
   {
    "duration": 17,
    "start_time": "2021-08-05T12:34:57.006Z"
   },
   {
    "duration": 27,
    "start_time": "2021-08-05T12:35:06.409Z"
   },
   {
    "duration": 27,
    "start_time": "2021-08-05T12:35:35.701Z"
   },
   {
    "duration": 27,
    "start_time": "2021-08-05T12:35:43.469Z"
   },
   {
    "duration": 28,
    "start_time": "2021-08-05T12:36:32.769Z"
   },
   {
    "duration": 81,
    "start_time": "2021-08-05T12:37:31.242Z"
   },
   {
    "duration": 262,
    "start_time": "2021-08-05T12:37:34.321Z"
   },
   {
    "duration": 26,
    "start_time": "2021-08-05T12:37:39.911Z"
   },
   {
    "duration": 1098,
    "start_time": "2021-08-05T12:38:35.329Z"
   },
   {
    "duration": 13,
    "start_time": "2021-08-05T12:39:13.909Z"
   },
   {
    "duration": 12,
    "start_time": "2021-08-05T12:43:07.089Z"
   },
   {
    "duration": 8,
    "start_time": "2021-08-05T12:43:13.100Z"
   },
   {
    "duration": 28,
    "start_time": "2021-08-05T12:47:52.888Z"
   },
   {
    "duration": 266,
    "start_time": "2021-08-05T12:47:58.029Z"
   },
   {
    "duration": 9,
    "start_time": "2021-08-05T12:48:01.389Z"
   },
   {
    "duration": 8,
    "start_time": "2021-08-05T12:48:22.909Z"
   },
   {
    "duration": 10,
    "start_time": "2021-08-05T12:48:23.229Z"
   },
   {
    "duration": 9,
    "start_time": "2021-08-05T12:48:23.609Z"
   },
   {
    "duration": 33,
    "start_time": "2021-08-05T12:49:06.089Z"
   },
   {
    "duration": 12,
    "start_time": "2021-08-05T12:49:09.933Z"
   },
   {
    "duration": 217,
    "start_time": "2021-08-05T12:49:20.689Z"
   },
   {
    "duration": 336,
    "start_time": "2021-08-05T12:49:40.249Z"
   },
   {
    "duration": 303,
    "start_time": "2021-08-05T12:49:57.989Z"
   },
   {
    "duration": 12,
    "start_time": "2021-08-05T12:50:04.729Z"
   },
   {
    "duration": 35,
    "start_time": "2021-08-05T12:50:26.540Z"
   },
   {
    "duration": 43,
    "start_time": "2021-08-05T12:50:52.041Z"
   },
   {
    "duration": 18,
    "start_time": "2021-08-05T12:51:14.988Z"
   },
   {
    "duration": 18,
    "start_time": "2021-08-05T12:56:17.337Z"
   },
   {
    "duration": 18,
    "start_time": "2021-08-05T12:56:27.870Z"
   },
   {
    "duration": 6,
    "start_time": "2021-08-05T13:03:16.530Z"
   },
   {
    "duration": 19,
    "start_time": "2021-08-05T13:04:41.149Z"
   },
   {
    "duration": 17,
    "start_time": "2021-08-05T13:05:16.429Z"
   },
   {
    "duration": 33,
    "start_time": "2021-08-05T13:05:38.309Z"
   },
   {
    "duration": 284,
    "start_time": "2021-08-05T13:17:50.192Z"
   },
   {
    "duration": 33,
    "start_time": "2021-08-05T13:17:55.225Z"
   },
   {
    "duration": 13,
    "start_time": "2021-08-05T13:18:03.230Z"
   },
   {
    "duration": 20,
    "start_time": "2021-08-05T13:18:05.530Z"
   },
   {
    "duration": 7,
    "start_time": "2021-08-05T13:18:53.889Z"
   },
   {
    "duration": 24,
    "start_time": "2021-08-05T13:19:53.030Z"
   },
   {
    "duration": 26,
    "start_time": "2021-08-05T13:20:26.369Z"
   },
   {
    "duration": 3788,
    "start_time": "2021-08-05T13:20:57.691Z"
   },
   {
    "duration": 26,
    "start_time": "2021-08-05T13:22:05.149Z"
   },
   {
    "duration": 27,
    "start_time": "2021-08-05T13:22:22.820Z"
   },
   {
    "duration": 26,
    "start_time": "2021-08-05T13:22:39.649Z"
   },
   {
    "duration": 25,
    "start_time": "2021-08-05T13:22:43.418Z"
   },
   {
    "duration": 24,
    "start_time": "2021-08-05T13:22:47.410Z"
   },
   {
    "duration": 28,
    "start_time": "2021-08-05T13:22:54.610Z"
   },
   {
    "duration": 26,
    "start_time": "2021-08-05T13:24:16.790Z"
   },
   {
    "duration": 6,
    "start_time": "2021-08-05T13:26:18.037Z"
   },
   {
    "duration": 7,
    "start_time": "2021-08-05T13:26:56.301Z"
   },
   {
    "duration": 265,
    "start_time": "2021-08-05T13:28:34.549Z"
   },
   {
    "duration": 261,
    "start_time": "2021-08-05T13:28:49.469Z"
   },
   {
    "duration": 7,
    "start_time": "2021-08-05T13:28:53.449Z"
   },
   {
    "duration": 6,
    "start_time": "2021-08-05T13:28:59.289Z"
   },
   {
    "duration": 6,
    "start_time": "2021-08-05T13:29:02.137Z"
   },
   {
    "duration": 15,
    "start_time": "2021-08-05T13:32:52.214Z"
   },
   {
    "duration": 39,
    "start_time": "2021-08-05T13:33:20.983Z"
   },
   {
    "duration": 1235,
    "start_time": "2021-08-05T13:33:35.331Z"
   },
   {
    "duration": 7,
    "start_time": "2021-08-05T13:34:15.145Z"
   },
   {
    "duration": 269,
    "start_time": "2021-08-05T13:34:21.155Z"
   },
   {
    "duration": 152,
    "start_time": "2021-08-05T13:34:28.136Z"
   },
   {
    "duration": 106,
    "start_time": "2021-08-05T13:35:33.857Z"
   },
   {
    "duration": 10,
    "start_time": "2021-08-05T13:35:35.706Z"
   },
   {
    "duration": 11,
    "start_time": "2021-08-05T13:38:26.504Z"
   },
   {
    "duration": 12,
    "start_time": "2021-08-05T13:39:29.603Z"
   },
   {
    "duration": 274,
    "start_time": "2021-08-05T13:39:42.843Z"
   },
   {
    "duration": 12,
    "start_time": "2021-08-05T13:40:03.123Z"
   },
   {
    "duration": 12,
    "start_time": "2021-08-05T13:40:17.803Z"
   },
   {
    "duration": 12,
    "start_time": "2021-08-05T13:43:00.304Z"
   },
   {
    "duration": 12,
    "start_time": "2021-08-05T13:43:13.364Z"
   },
   {
    "duration": 13,
    "start_time": "2021-08-05T13:43:40.422Z"
   },
   {
    "duration": 11,
    "start_time": "2021-08-05T13:44:13.074Z"
   },
   {
    "duration": 10,
    "start_time": "2021-08-05T13:44:22.103Z"
   },
   {
    "duration": 6,
    "start_time": "2021-08-05T13:48:55.966Z"
   },
   {
    "duration": 25,
    "start_time": "2021-08-05T13:49:06.822Z"
   },
   {
    "duration": 25,
    "start_time": "2021-08-05T13:49:12.222Z"
   },
   {
    "duration": 24,
    "start_time": "2021-08-05T13:49:21.304Z"
   },
   {
    "duration": 231,
    "start_time": "2021-08-05T13:51:07.023Z"
   },
   {
    "duration": 244,
    "start_time": "2021-08-05T13:51:24.534Z"
   },
   {
    "duration": 20,
    "start_time": "2021-08-05T14:02:27.914Z"
   },
   {
    "duration": 224,
    "start_time": "2021-08-05T14:03:09.763Z"
   },
   {
    "duration": 209,
    "start_time": "2021-08-05T14:07:57.570Z"
   },
   {
    "duration": 72,
    "start_time": "2021-08-05T14:07:59.043Z"
   },
   {
    "duration": 91,
    "start_time": "2021-08-05T14:08:12.083Z"
   },
   {
    "duration": 200,
    "start_time": "2021-08-05T14:08:28.203Z"
   },
   {
    "duration": 275,
    "start_time": "2021-08-05T14:09:26.405Z"
   },
   {
    "duration": 298,
    "start_time": "2021-08-05T14:10:03.982Z"
   },
   {
    "duration": 76,
    "start_time": "2021-08-05T14:10:13.722Z"
   },
   {
    "duration": 4268,
    "start_time": "2021-08-05T14:23:26.922Z"
   },
   {
    "duration": 15684,
    "start_time": "2021-08-05T14:23:44.422Z"
   },
   {
    "duration": 8,
    "start_time": "2021-08-05T14:33:19.162Z"
   },
   {
    "duration": 6,
    "start_time": "2021-08-05T14:39:20.822Z"
   },
   {
    "duration": 24,
    "start_time": "2021-08-05T14:42:29.423Z"
   },
   {
    "duration": 8,
    "start_time": "2021-08-05T14:42:56.695Z"
   },
   {
    "duration": 31,
    "start_time": "2021-08-05T14:43:05.572Z"
   },
   {
    "duration": 29,
    "start_time": "2021-08-05T14:44:14.595Z"
   },
   {
    "duration": 21,
    "start_time": "2021-08-05T14:44:40.203Z"
   },
   {
    "duration": 20,
    "start_time": "2021-08-05T14:45:11.583Z"
   },
   {
    "duration": 6,
    "start_time": "2021-08-05T14:45:53.923Z"
   },
   {
    "duration": 237,
    "start_time": "2021-08-05T14:46:14.523Z"
   },
   {
    "duration": 213,
    "start_time": "2021-08-05T14:46:16.963Z"
   },
   {
    "duration": 272,
    "start_time": "2021-08-05T14:46:39.783Z"
   },
   {
    "duration": 9,
    "start_time": "2021-08-05T14:46:45.563Z"
   },
   {
    "duration": 10,
    "start_time": "2021-08-05T14:46:50.244Z"
   },
   {
    "duration": 11,
    "start_time": "2021-08-05T14:47:02.391Z"
   },
   {
    "duration": 10,
    "start_time": "2021-08-05T14:47:20.103Z"
   },
   {
    "duration": 10,
    "start_time": "2021-08-05T14:47:31.216Z"
   },
   {
    "duration": 26,
    "start_time": "2021-08-05T14:48:12.623Z"
   },
   {
    "duration": 275,
    "start_time": "2021-08-05T14:48:34.404Z"
   },
   {
    "duration": 12,
    "start_time": "2021-08-05T14:49:47.003Z"
   },
   {
    "duration": 7,
    "start_time": "2021-08-05T14:50:50.571Z"
   },
   {
    "duration": 106,
    "start_time": "2021-08-05T14:51:19.746Z"
   },
   {
    "duration": 6,
    "start_time": "2021-08-05T14:51:21.531Z"
   },
   {
    "duration": 1791,
    "start_time": "2021-08-06T09:43:50.383Z"
   },
   {
    "duration": 8,
    "start_time": "2021-08-06T09:43:52.177Z"
   },
   {
    "duration": 51,
    "start_time": "2021-08-06T09:43:52.188Z"
   },
   {
    "duration": 43,
    "start_time": "2021-08-06T09:43:52.242Z"
   },
   {
    "duration": 5,
    "start_time": "2021-08-06T09:43:52.288Z"
   },
   {
    "duration": 20,
    "start_time": "2021-08-06T09:43:52.296Z"
   },
   {
    "duration": 8,
    "start_time": "2021-08-06T09:43:52.319Z"
   },
   {
    "duration": 9,
    "start_time": "2021-08-06T09:43:52.332Z"
   },
   {
    "duration": 14,
    "start_time": "2021-08-06T09:43:52.384Z"
   },
   {
    "duration": 41,
    "start_time": "2021-08-06T09:43:52.400Z"
   },
   {
    "duration": 12,
    "start_time": "2021-08-06T09:43:52.443Z"
   },
   {
    "duration": 50,
    "start_time": "2021-08-06T09:43:52.457Z"
   },
   {
    "duration": 5,
    "start_time": "2021-08-06T09:43:52.510Z"
   },
   {
    "duration": 547,
    "start_time": "2021-08-06T09:43:52.517Z"
   },
   {
    "duration": 11,
    "start_time": "2021-08-06T09:43:53.056Z"
   },
   {
    "duration": 5,
    "start_time": "2021-08-06T09:43:53.064Z"
   },
   {
    "duration": 3,
    "start_time": "2021-08-06T09:43:53.067Z"
   },
   {
    "duration": 1,
    "start_time": "2021-08-06T09:43:53.070Z"
   },
   {
    "duration": 0,
    "start_time": "2021-08-06T09:43:53.073Z"
   },
   {
    "duration": -1,
    "start_time": "2021-08-06T09:43:53.075Z"
   },
   {
    "duration": -2,
    "start_time": "2021-08-06T09:43:53.077Z"
   },
   {
    "duration": -8,
    "start_time": "2021-08-06T09:43:53.085Z"
   },
   {
    "duration": -10,
    "start_time": "2021-08-06T09:43:53.088Z"
   },
   {
    "duration": -10,
    "start_time": "2021-08-06T09:43:53.090Z"
   },
   {
    "duration": -11,
    "start_time": "2021-08-06T09:43:53.092Z"
   },
   {
    "duration": -11,
    "start_time": "2021-08-06T09:43:53.094Z"
   },
   {
    "duration": -11,
    "start_time": "2021-08-06T09:43:53.096Z"
   },
   {
    "duration": -13,
    "start_time": "2021-08-06T09:43:53.099Z"
   },
   {
    "duration": -14,
    "start_time": "2021-08-06T09:43:53.101Z"
   },
   {
    "duration": -15,
    "start_time": "2021-08-06T09:43:53.104Z"
   },
   {
    "duration": -18,
    "start_time": "2021-08-06T09:43:53.108Z"
   },
   {
    "duration": -20,
    "start_time": "2021-08-06T09:43:53.111Z"
   },
   {
    "duration": -20,
    "start_time": "2021-08-06T09:43:53.113Z"
   },
   {
    "duration": -22,
    "start_time": "2021-08-06T09:43:53.116Z"
   },
   {
    "duration": 402,
    "start_time": "2021-08-06T11:10:07.659Z"
   },
   {
    "duration": 780,
    "start_time": "2021-08-06T11:11:04.828Z"
   },
   {
    "duration": 478,
    "start_time": "2021-08-06T11:12:02.054Z"
   },
   {
    "duration": 8,
    "start_time": "2021-08-06T11:12:19.445Z"
   },
   {
    "duration": 8,
    "start_time": "2021-08-06T11:12:33.086Z"
   },
   {
    "duration": 7,
    "start_time": "2021-08-06T11:12:49.226Z"
   },
   {
    "duration": 8,
    "start_time": "2021-08-06T11:13:46.166Z"
   },
   {
    "duration": 30,
    "start_time": "2021-08-06T11:14:18.395Z"
   },
   {
    "duration": 9,
    "start_time": "2021-08-06T11:27:13.898Z"
   },
   {
    "duration": 388,
    "start_time": "2021-08-06T11:27:19.618Z"
   },
   {
    "duration": 29,
    "start_time": "2021-08-06T11:27:47.583Z"
   },
   {
    "duration": 6,
    "start_time": "2021-08-06T11:28:15.754Z"
   },
   {
    "duration": 13,
    "start_time": "2021-08-06T11:28:17.746Z"
   },
   {
    "duration": 6,
    "start_time": "2021-08-06T11:28:22.790Z"
   },
   {
    "duration": 14,
    "start_time": "2021-08-06T11:28:35.186Z"
   },
   {
    "duration": 6,
    "start_time": "2021-08-06T11:28:51.467Z"
   },
   {
    "duration": 4,
    "start_time": "2021-08-06T11:28:52.566Z"
   },
   {
    "duration": 50,
    "start_time": "2021-08-06T11:28:53.518Z"
   },
   {
    "duration": 27,
    "start_time": "2021-08-06T11:28:54.437Z"
   },
   {
    "duration": 5,
    "start_time": "2021-08-06T11:28:58.085Z"
   },
   {
    "duration": 14,
    "start_time": "2021-08-06T11:28:58.406Z"
   },
   {
    "duration": 6,
    "start_time": "2021-08-06T11:29:02.226Z"
   },
   {
    "duration": 9,
    "start_time": "2021-08-06T11:29:05.066Z"
   },
   {
    "duration": 6,
    "start_time": "2021-08-06T11:29:08.386Z"
   },
   {
    "duration": 7,
    "start_time": "2021-08-06T11:29:09.306Z"
   },
   {
    "duration": 16,
    "start_time": "2021-08-06T11:29:11.406Z"
   },
   {
    "duration": 14,
    "start_time": "2021-08-06T11:42:23.986Z"
   },
   {
    "duration": 30,
    "start_time": "2021-08-06T11:42:26.186Z"
   },
   {
    "duration": 13,
    "start_time": "2021-08-06T11:42:33.566Z"
   },
   {
    "duration": 28,
    "start_time": "2021-08-06T11:42:53.306Z"
   },
   {
    "duration": 31,
    "start_time": "2021-08-06T11:43:40.858Z"
   },
   {
    "duration": 23,
    "start_time": "2021-08-06T11:43:42.505Z"
   },
   {
    "duration": 7,
    "start_time": "2021-08-06T11:43:43.586Z"
   },
   {
    "duration": 11,
    "start_time": "2021-08-06T11:43:44.286Z"
   },
   {
    "duration": 7,
    "start_time": "2021-08-06T11:46:04.926Z"
   },
   {
    "duration": 490,
    "start_time": "2021-08-06T11:49:25.918Z"
   },
   {
    "duration": 390,
    "start_time": "2021-08-06T11:49:36.046Z"
   },
   {
    "duration": 7,
    "start_time": "2021-08-06T11:49:57.566Z"
   },
   {
    "duration": 6,
    "start_time": "2021-08-06T11:50:04.986Z"
   },
   {
    "duration": 15,
    "start_time": "2021-08-06T11:50:24.726Z"
   },
   {
    "duration": 22,
    "start_time": "2021-08-06T11:50:26.066Z"
   },
   {
    "duration": 6,
    "start_time": "2021-08-06T11:50:48.302Z"
   },
   {
    "duration": 4,
    "start_time": "2021-08-06T11:50:48.825Z"
   },
   {
    "duration": 50,
    "start_time": "2021-08-06T11:50:48.978Z"
   },
   {
    "duration": 30,
    "start_time": "2021-08-06T11:50:49.061Z"
   },
   {
    "duration": 4,
    "start_time": "2021-08-06T11:50:49.145Z"
   },
   {
    "duration": 14,
    "start_time": "2021-08-06T11:50:49.237Z"
   },
   {
    "duration": 6,
    "start_time": "2021-08-06T11:50:49.826Z"
   },
   {
    "duration": 9,
    "start_time": "2021-08-06T11:50:51.118Z"
   },
   {
    "duration": 6,
    "start_time": "2021-08-06T11:50:52.026Z"
   },
   {
    "duration": 7,
    "start_time": "2021-08-06T11:50:52.465Z"
   },
   {
    "duration": 6,
    "start_time": "2021-08-06T11:50:53.362Z"
   },
   {
    "duration": 13,
    "start_time": "2021-08-06T11:50:55.267Z"
   },
   {
    "duration": 32,
    "start_time": "2021-08-06T11:50:57.774Z"
   },
   {
    "duration": 13,
    "start_time": "2021-08-06T11:51:26.069Z"
   },
   {
    "duration": 19,
    "start_time": "2021-08-06T12:17:45.064Z"
   },
   {
    "duration": 18,
    "start_time": "2021-08-06T12:17:46.505Z"
   },
   {
    "duration": 30,
    "start_time": "2021-08-06T12:18:14.925Z"
   },
   {
    "duration": 22,
    "start_time": "2021-08-06T12:18:15.194Z"
   },
   {
    "duration": 34,
    "start_time": "2021-08-06T12:19:02.746Z"
   },
   {
    "duration": 6,
    "start_time": "2021-08-06T12:19:10.737Z"
   },
   {
    "duration": 26,
    "start_time": "2021-08-06T12:19:17.738Z"
   },
   {
    "duration": 14,
    "start_time": "2021-08-06T12:20:20.757Z"
   },
   {
    "duration": 14,
    "start_time": "2021-08-06T12:20:48.445Z"
   },
   {
    "duration": 13,
    "start_time": "2021-08-06T12:21:23.045Z"
   },
   {
    "duration": 14,
    "start_time": "2021-08-06T12:21:31.653Z"
   },
   {
    "duration": 492,
    "start_time": "2021-08-06T12:22:33.084Z"
   },
   {
    "duration": 10,
    "start_time": "2021-08-06T12:22:36.185Z"
   },
   {
    "duration": 15,
    "start_time": "2021-08-06T12:22:45.507Z"
   },
   {
    "duration": 16,
    "start_time": "2021-08-06T12:22:55.985Z"
   },
   {
    "duration": 13,
    "start_time": "2021-08-06T12:23:02.365Z"
   },
   {
    "duration": 11,
    "start_time": "2021-08-06T12:23:42.404Z"
   },
   {
    "duration": 14,
    "start_time": "2021-08-06T12:23:57.744Z"
   },
   {
    "duration": 12,
    "start_time": "2021-08-06T12:24:30.967Z"
   },
   {
    "duration": 1801,
    "start_time": "2021-08-06T15:19:55.632Z"
   },
   {
    "duration": 4,
    "start_time": "2021-08-06T15:19:57.436Z"
   },
   {
    "duration": 67,
    "start_time": "2021-08-06T15:19:57.442Z"
   },
   {
    "duration": 33,
    "start_time": "2021-08-06T15:19:57.512Z"
   },
   {
    "duration": 4,
    "start_time": "2021-08-06T15:19:57.548Z"
   },
   {
    "duration": 38,
    "start_time": "2021-08-06T15:19:57.555Z"
   },
   {
    "duration": 8,
    "start_time": "2021-08-06T15:19:57.596Z"
   },
   {
    "duration": 14,
    "start_time": "2021-08-06T15:19:57.607Z"
   },
   {
    "duration": 11,
    "start_time": "2021-08-06T15:19:57.625Z"
   },
   {
    "duration": 10,
    "start_time": "2021-08-06T15:19:57.640Z"
   },
   {
    "duration": 36,
    "start_time": "2021-08-06T15:19:57.652Z"
   },
   {
    "duration": 16,
    "start_time": "2021-08-06T15:19:57.690Z"
   },
   {
    "duration": 35,
    "start_time": "2021-08-06T15:19:57.708Z"
   },
   {
    "duration": 47,
    "start_time": "2021-08-06T15:19:57.746Z"
   },
   {
    "duration": 33,
    "start_time": "2021-08-06T15:19:57.796Z"
   },
   {
    "duration": 8,
    "start_time": "2021-08-06T15:19:57.832Z"
   },
   {
    "duration": 666,
    "start_time": "2021-08-06T15:19:57.842Z"
   },
   {
    "duration": -95,
    "start_time": "2021-08-06T15:19:58.606Z"
   },
   {
    "duration": -97,
    "start_time": "2021-08-06T15:19:58.609Z"
   },
   {
    "duration": -98,
    "start_time": "2021-08-06T15:19:58.612Z"
   },
   {
    "duration": -100,
    "start_time": "2021-08-06T15:19:58.615Z"
   },
   {
    "duration": -106,
    "start_time": "2021-08-06T15:19:58.622Z"
   },
   {
    "duration": -106,
    "start_time": "2021-08-06T15:19:58.624Z"
   },
   {
    "duration": -108,
    "start_time": "2021-08-06T15:19:58.627Z"
   },
   {
    "duration": -111,
    "start_time": "2021-08-06T15:19:58.631Z"
   },
   {
    "duration": -111,
    "start_time": "2021-08-06T15:19:58.633Z"
   },
   {
    "duration": -115,
    "start_time": "2021-08-06T15:19:58.638Z"
   },
   {
    "duration": -115,
    "start_time": "2021-08-06T15:19:58.640Z"
   },
   {
    "duration": -117,
    "start_time": "2021-08-06T15:19:58.643Z"
   },
   {
    "duration": -119,
    "start_time": "2021-08-06T15:19:58.646Z"
   },
   {
    "duration": -119,
    "start_time": "2021-08-06T15:19:58.648Z"
   },
   {
    "duration": -125,
    "start_time": "2021-08-06T15:19:58.655Z"
   },
   {
    "duration": -126,
    "start_time": "2021-08-06T15:19:58.657Z"
   },
   {
    "duration": -128,
    "start_time": "2021-08-06T15:19:58.660Z"
   },
   {
    "duration": -129,
    "start_time": "2021-08-06T15:19:58.663Z"
   },
   {
    "duration": -134,
    "start_time": "2021-08-06T15:19:58.669Z"
   },
   {
    "duration": 12,
    "start_time": "2021-08-06T15:21:51.881Z"
   },
   {
    "duration": 5,
    "start_time": "2021-08-06T15:22:26.832Z"
   },
   {
    "duration": 32,
    "start_time": "2021-08-06T15:22:51.101Z"
   },
   {
    "duration": 6,
    "start_time": "2021-08-06T15:22:57.721Z"
   },
   {
    "duration": 20,
    "start_time": "2021-08-06T15:23:30.081Z"
   },
   {
    "duration": 18,
    "start_time": "2021-08-06T15:23:30.801Z"
   },
   {
    "duration": 7,
    "start_time": "2021-08-06T15:24:21.561Z"
   },
   {
    "duration": 6,
    "start_time": "2021-08-06T15:24:26.951Z"
   },
   {
    "duration": 7,
    "start_time": "2021-08-06T15:25:02.350Z"
   },
   {
    "duration": 6,
    "start_time": "2021-08-06T15:31:44.294Z"
   },
   {
    "duration": 1790,
    "start_time": "2021-08-07T07:22:59.945Z"
   },
   {
    "duration": 4,
    "start_time": "2021-08-07T07:23:01.737Z"
   },
   {
    "duration": 77,
    "start_time": "2021-08-07T07:23:01.744Z"
   },
   {
    "duration": 31,
    "start_time": "2021-08-07T07:23:01.823Z"
   },
   {
    "duration": 5,
    "start_time": "2021-08-07T07:23:01.974Z"
   },
   {
    "duration": 15,
    "start_time": "2021-08-07T07:23:02.254Z"
   },
   {
    "duration": 6,
    "start_time": "2021-08-07T07:23:04.265Z"
   },
   {
    "duration": 9,
    "start_time": "2021-08-07T07:23:04.975Z"
   },
   {
    "duration": 8,
    "start_time": "2021-08-07T07:23:05.694Z"
   },
   {
    "duration": 6,
    "start_time": "2021-08-07T07:23:05.986Z"
   },
   {
    "duration": 6,
    "start_time": "2021-08-07T07:23:06.684Z"
   },
   {
    "duration": 13,
    "start_time": "2021-08-07T07:23:08.775Z"
   },
   {
    "duration": 32,
    "start_time": "2021-08-07T07:23:12.506Z"
   },
   {
    "duration": 13,
    "start_time": "2021-08-07T07:23:29.904Z"
   },
   {
    "duration": 51,
    "start_time": "2021-08-07T10:07:41.554Z"
   },
   {
    "duration": 20,
    "start_time": "2021-08-07T10:07:52.435Z"
   },
   {
    "duration": 1888,
    "start_time": "2021-08-07T10:08:09.016Z"
   },
   {
    "duration": 5,
    "start_time": "2021-08-07T10:08:10.908Z"
   },
   {
    "duration": 73,
    "start_time": "2021-08-07T10:08:10.917Z"
   },
   {
    "duration": 50,
    "start_time": "2021-08-07T10:08:10.994Z"
   },
   {
    "duration": 6,
    "start_time": "2021-08-07T10:08:11.047Z"
   },
   {
    "duration": 46,
    "start_time": "2021-08-07T10:08:11.057Z"
   },
   {
    "duration": 10,
    "start_time": "2021-08-07T10:08:11.106Z"
   },
   {
    "duration": 13,
    "start_time": "2021-08-07T10:08:11.120Z"
   },
   {
    "duration": 8,
    "start_time": "2021-08-07T10:08:11.139Z"
   },
   {
    "duration": 11,
    "start_time": "2021-08-07T10:08:11.186Z"
   },
   {
    "duration": 12,
    "start_time": "2021-08-07T10:08:11.201Z"
   },
   {
    "duration": 20,
    "start_time": "2021-08-07T10:08:11.216Z"
   },
   {
    "duration": 73,
    "start_time": "2021-08-07T10:08:11.238Z"
   },
   {
    "duration": 14,
    "start_time": "2021-08-07T10:08:11.313Z"
   },
   {
    "duration": 22,
    "start_time": "2021-08-07T10:08:11.330Z"
   },
   {
    "duration": 10,
    "start_time": "2021-08-07T10:08:11.391Z"
   },
   {
    "duration": 19,
    "start_time": "2021-08-07T10:08:11.405Z"
   },
   {
    "duration": 18,
    "start_time": "2021-08-07T10:08:11.427Z"
   },
   {
    "duration": 37,
    "start_time": "2021-08-07T10:08:11.448Z"
   },
   {
    "duration": 131,
    "start_time": "2021-08-07T10:08:11.490Z"
   },
   {
    "duration": 94,
    "start_time": "2021-08-07T10:08:11.530Z"
   },
   {
    "duration": 93,
    "start_time": "2021-08-07T10:08:11.532Z"
   },
   {
    "duration": 88,
    "start_time": "2021-08-07T10:08:11.539Z"
   },
   {
    "duration": 86,
    "start_time": "2021-08-07T10:08:11.542Z"
   },
   {
    "duration": 86,
    "start_time": "2021-08-07T10:08:11.544Z"
   },
   {
    "duration": 84,
    "start_time": "2021-08-07T10:08:11.547Z"
   },
   {
    "duration": 84,
    "start_time": "2021-08-07T10:08:11.549Z"
   },
   {
    "duration": 82,
    "start_time": "2021-08-07T10:08:11.552Z"
   },
   {
    "duration": 82,
    "start_time": "2021-08-07T10:08:11.554Z"
   },
   {
    "duration": 82,
    "start_time": "2021-08-07T10:08:11.556Z"
   },
   {
    "duration": 82,
    "start_time": "2021-08-07T10:08:11.558Z"
   },
   {
    "duration": 80,
    "start_time": "2021-08-07T10:08:11.561Z"
   },
   {
    "duration": 8,
    "start_time": "2021-08-07T13:11:52.634Z"
   },
   {
    "duration": 11,
    "start_time": "2021-08-07T14:15:44.708Z"
   },
   {
    "duration": 14,
    "start_time": "2021-08-07T14:15:54.390Z"
   },
   {
    "duration": 20,
    "start_time": "2021-08-07T14:16:20.382Z"
   },
   {
    "duration": 17,
    "start_time": "2021-08-07T14:16:29.889Z"
   },
   {
    "duration": 12,
    "start_time": "2021-08-07T14:16:35.962Z"
   },
   {
    "duration": 18,
    "start_time": "2021-08-07T14:16:50.739Z"
   },
   {
    "duration": 21,
    "start_time": "2021-08-07T14:26:56.903Z"
   },
   {
    "duration": 14,
    "start_time": "2021-08-07T14:27:07.446Z"
   },
   {
    "duration": 12,
    "start_time": "2021-08-07T14:27:40.727Z"
   },
   {
    "duration": 648,
    "start_time": "2021-08-07T14:27:58.271Z"
   },
   {
    "duration": 13,
    "start_time": "2021-08-07T14:32:48.726Z"
   },
   {
    "duration": 18,
    "start_time": "2021-08-07T14:33:41.694Z"
   },
   {
    "duration": 1971,
    "start_time": "2021-08-07T14:34:30.803Z"
   },
   {
    "duration": 4,
    "start_time": "2021-08-07T14:34:32.778Z"
   },
   {
    "duration": 78,
    "start_time": "2021-08-07T14:34:32.789Z"
   },
   {
    "duration": 43,
    "start_time": "2021-08-07T14:34:32.870Z"
   },
   {
    "duration": 6,
    "start_time": "2021-08-07T14:34:32.917Z"
   },
   {
    "duration": 27,
    "start_time": "2021-08-07T14:34:32.926Z"
   },
   {
    "duration": 39,
    "start_time": "2021-08-07T14:34:32.956Z"
   },
   {
    "duration": 29,
    "start_time": "2021-08-07T14:34:33.006Z"
   },
   {
    "duration": 10,
    "start_time": "2021-08-07T14:34:33.040Z"
   },
   {
    "duration": 19,
    "start_time": "2021-08-07T14:34:33.053Z"
   },
   {
    "duration": 26,
    "start_time": "2021-08-07T14:34:33.076Z"
   },
   {
    "duration": 23,
    "start_time": "2021-08-07T14:34:33.107Z"
   },
   {
    "duration": 37,
    "start_time": "2021-08-07T14:34:33.134Z"
   },
   {
    "duration": 17,
    "start_time": "2021-08-07T14:34:33.186Z"
   },
   {
    "duration": 40,
    "start_time": "2021-08-07T14:34:33.206Z"
   },
   {
    "duration": 7,
    "start_time": "2021-08-07T14:34:33.249Z"
   },
   {
    "duration": 68,
    "start_time": "2021-08-07T14:34:33.260Z"
   },
   {
    "duration": 19,
    "start_time": "2021-08-07T14:34:33.331Z"
   },
   {
    "duration": 29,
    "start_time": "2021-08-07T14:34:33.352Z"
   },
   {
    "duration": 36,
    "start_time": "2021-08-07T14:34:33.384Z"
   },
   {
    "duration": 240,
    "start_time": "2021-08-07T14:34:33.427Z"
   },
   {
    "duration": -156,
    "start_time": "2021-08-07T14:34:33.826Z"
   },
   {
    "duration": -157,
    "start_time": "2021-08-07T14:34:33.829Z"
   },
   {
    "duration": -157,
    "start_time": "2021-08-07T14:34:33.831Z"
   },
   {
    "duration": -160,
    "start_time": "2021-08-07T14:34:33.835Z"
   },
   {
    "duration": -161,
    "start_time": "2021-08-07T14:34:33.838Z"
   },
   {
    "duration": -161,
    "start_time": "2021-08-07T14:34:33.840Z"
   },
   {
    "duration": -162,
    "start_time": "2021-08-07T14:34:33.842Z"
   },
   {
    "duration": -162,
    "start_time": "2021-08-07T14:34:33.844Z"
   },
   {
    "duration": -163,
    "start_time": "2021-08-07T14:34:33.846Z"
   },
   {
    "duration": -152,
    "start_time": "2021-08-07T14:34:33.848Z"
   },
   {
    "duration": -149,
    "start_time": "2021-08-07T14:34:33.850Z"
   },
   {
    "duration": 4,
    "start_time": "2021-08-07T14:38:10.146Z"
   },
   {
    "duration": 49,
    "start_time": "2021-08-07T14:38:10.722Z"
   },
   {
    "duration": 28,
    "start_time": "2021-08-07T14:38:11.222Z"
   },
   {
    "duration": 5,
    "start_time": "2021-08-07T14:38:11.708Z"
   },
   {
    "duration": 17,
    "start_time": "2021-08-07T14:38:12.202Z"
   },
   {
    "duration": 7,
    "start_time": "2021-08-07T14:38:14.870Z"
   },
   {
    "duration": 9,
    "start_time": "2021-08-07T14:38:18.542Z"
   },
   {
    "duration": 600,
    "start_time": "2021-08-07T14:38:29.676Z"
   },
   {
    "duration": 13,
    "start_time": "2021-08-07T14:38:50.566Z"
   },
   {
    "duration": 20,
    "start_time": "2021-08-07T14:39:10.795Z"
   },
   {
    "duration": 12,
    "start_time": "2021-08-07T14:40:00.211Z"
   },
   {
    "duration": 10,
    "start_time": "2021-08-07T14:40:00.879Z"
   },
   {
    "duration": 6,
    "start_time": "2021-08-07T14:40:01.047Z"
   },
   {
    "duration": 7,
    "start_time": "2021-08-07T14:40:01.210Z"
   },
   {
    "duration": 14,
    "start_time": "2021-08-07T14:40:01.467Z"
   },
   {
    "duration": 48,
    "start_time": "2021-08-07T14:40:02.256Z"
   },
   {
    "duration": 26,
    "start_time": "2021-08-07T14:40:02.779Z"
   },
   {
    "duration": 23,
    "start_time": "2021-08-07T14:40:03.738Z"
   },
   {
    "duration": 7,
    "start_time": "2021-08-07T14:40:04.007Z"
   },
   {
    "duration": 19,
    "start_time": "2021-08-07T14:40:04.959Z"
   },
   {
    "duration": 18,
    "start_time": "2021-08-07T14:40:05.426Z"
   },
   {
    "duration": 6,
    "start_time": "2021-08-07T14:40:55.166Z"
   },
   {
    "duration": 14,
    "start_time": "2021-08-07T14:41:01.806Z"
   },
   {
    "duration": 16,
    "start_time": "2021-08-07T14:43:42.696Z"
   },
   {
    "duration": 72,
    "start_time": "2021-08-07T14:44:21.638Z"
   },
   {
    "duration": 141,
    "start_time": "2021-08-07T14:45:53.405Z"
   },
   {
    "duration": 187,
    "start_time": "2021-08-07T14:46:02.406Z"
   },
   {
    "duration": 15,
    "start_time": "2021-08-07T14:46:07.787Z"
   },
   {
    "duration": 20,
    "start_time": "2021-08-07T14:47:35.198Z"
   },
   {
    "duration": 8,
    "start_time": "2021-08-07T14:47:54.230Z"
   },
   {
    "duration": 10,
    "start_time": "2021-08-07T14:52:47.850Z"
   },
   {
    "duration": 433,
    "start_time": "2021-08-07T14:55:40.674Z"
   },
   {
    "duration": 317,
    "start_time": "2021-08-07T14:56:29.744Z"
   },
   {
    "duration": 142,
    "start_time": "2021-08-07T14:57:04.405Z"
   },
   {
    "duration": 354,
    "start_time": "2021-08-07T14:57:07.911Z"
   },
   {
    "duration": 16,
    "start_time": "2021-08-07T14:57:41.095Z"
   },
   {
    "duration": 259,
    "start_time": "2021-08-07T14:57:52.939Z"
   },
   {
    "duration": 380,
    "start_time": "2021-08-07T14:58:09.816Z"
   },
   {
    "duration": 344,
    "start_time": "2021-08-07T14:58:19.031Z"
   },
   {
    "duration": 147634,
    "start_time": "2021-08-07T14:58:52.493Z"
   },
   {
    "duration": 425,
    "start_time": "2021-08-07T15:01:20.143Z"
   },
   {
    "duration": 14,
    "start_time": "2021-08-07T15:02:37.869Z"
   },
   {
    "duration": 17,
    "start_time": "2021-08-07T15:03:09.790Z"
   },
   {
    "duration": 429,
    "start_time": "2021-08-07T15:04:06.206Z"
   },
   {
    "duration": 420,
    "start_time": "2021-08-07T15:04:10.259Z"
   },
   {
    "duration": 20,
    "start_time": "2021-08-07T15:04:16.196Z"
   },
   {
    "duration": 405,
    "start_time": "2021-08-07T15:05:00.616Z"
   },
   {
    "duration": 18,
    "start_time": "2021-08-07T15:06:51.398Z"
   },
   {
    "duration": 19,
    "start_time": "2021-08-07T15:07:13.182Z"
   },
   {
    "duration": 425,
    "start_time": "2021-08-07T15:07:46.959Z"
   },
   {
    "duration": 418,
    "start_time": "2021-08-07T15:19:35.146Z"
   },
   {
    "duration": 391,
    "start_time": "2021-08-07T15:19:43.591Z"
   },
   {
    "duration": 17,
    "start_time": "2021-08-07T15:19:46.378Z"
   },
   {
    "duration": 13,
    "start_time": "2021-08-07T15:20:16.626Z"
   },
   {
    "duration": 12,
    "start_time": "2021-08-07T15:20:39.746Z"
   },
   {
    "duration": 2294,
    "start_time": "2021-08-07T15:22:46.312Z"
   },
   {
    "duration": 7,
    "start_time": "2021-08-07T15:22:48.609Z"
   },
   {
    "duration": 58,
    "start_time": "2021-08-07T15:22:48.620Z"
   },
   {
    "duration": 57,
    "start_time": "2021-08-07T15:22:48.680Z"
   },
   {
    "duration": 5,
    "start_time": "2021-08-07T15:22:48.740Z"
   },
   {
    "duration": 31,
    "start_time": "2021-08-07T15:22:48.748Z"
   },
   {
    "duration": 39,
    "start_time": "2021-08-07T15:22:48.781Z"
   },
   {
    "duration": 28,
    "start_time": "2021-08-07T15:22:48.822Z"
   },
   {
    "duration": 29,
    "start_time": "2021-08-07T15:22:48.855Z"
   },
   {
    "duration": 26,
    "start_time": "2021-08-07T15:22:48.899Z"
   },
   {
    "duration": 31,
    "start_time": "2021-08-07T15:22:48.928Z"
   },
   {
    "duration": 63,
    "start_time": "2021-08-07T15:22:48.962Z"
   },
   {
    "duration": 18,
    "start_time": "2021-08-07T15:22:49.029Z"
   },
   {
    "duration": 48,
    "start_time": "2021-08-07T15:22:49.050Z"
   },
   {
    "duration": 11,
    "start_time": "2021-08-07T15:22:49.103Z"
   },
   {
    "duration": 25,
    "start_time": "2021-08-07T15:22:49.116Z"
   },
   {
    "duration": 52,
    "start_time": "2021-08-07T15:22:49.144Z"
   },
   {
    "duration": 13,
    "start_time": "2021-08-07T15:22:49.199Z"
   },
   {
    "duration": 27,
    "start_time": "2021-08-07T15:22:49.215Z"
   },
   {
    "duration": 606,
    "start_time": "2021-08-07T15:22:49.245Z"
   },
   {
    "duration": -84,
    "start_time": "2021-08-07T15:22:49.938Z"
   },
   {
    "duration": -87,
    "start_time": "2021-08-07T15:22:49.942Z"
   },
   {
    "duration": -109,
    "start_time": "2021-08-07T15:22:49.966Z"
   },
   {
    "duration": -110,
    "start_time": "2021-08-07T15:22:49.968Z"
   },
   {
    "duration": -111,
    "start_time": "2021-08-07T15:22:49.971Z"
   },
   {
    "duration": -112,
    "start_time": "2021-08-07T15:22:49.973Z"
   },
   {
    "duration": -116,
    "start_time": "2021-08-07T15:22:49.979Z"
   },
   {
    "duration": -118,
    "start_time": "2021-08-07T15:22:49.982Z"
   },
   {
    "duration": -120,
    "start_time": "2021-08-07T15:22:49.985Z"
   },
   {
    "duration": -119,
    "start_time": "2021-08-07T15:22:49.986Z"
   },
   {
    "duration": -121,
    "start_time": "2021-08-07T15:22:49.989Z"
   },
   {
    "duration": -123,
    "start_time": "2021-08-07T15:22:49.992Z"
   },
   {
    "duration": -124,
    "start_time": "2021-08-07T15:22:49.995Z"
   },
   {
    "duration": -135,
    "start_time": "2021-08-07T15:22:50.008Z"
   },
   {
    "duration": -137,
    "start_time": "2021-08-07T15:22:50.011Z"
   },
   {
    "duration": 12,
    "start_time": "2021-08-07T15:23:45.912Z"
   },
   {
    "duration": 6,
    "start_time": "2021-08-07T15:24:09.579Z"
   },
   {
    "duration": 12,
    "start_time": "2021-08-07T15:24:31.700Z"
   },
   {
    "duration": 12,
    "start_time": "2021-08-07T15:25:26.447Z"
   },
   {
    "duration": 14,
    "start_time": "2021-08-07T15:25:44.696Z"
   },
   {
    "duration": 18,
    "start_time": "2021-08-07T15:26:00.018Z"
   },
   {
    "duration": 20,
    "start_time": "2021-08-07T15:26:03.880Z"
   },
   {
    "duration": 7,
    "start_time": "2021-08-07T15:26:09.191Z"
   },
   {
    "duration": 10,
    "start_time": "2021-08-07T15:26:21.259Z"
   },
   {
    "duration": 79,
    "start_time": "2021-08-07T15:26:40.682Z"
   },
   {
    "duration": 7,
    "start_time": "2021-08-07T15:26:41.851Z"
   },
   {
    "duration": 429,
    "start_time": "2021-08-07T15:27:12.151Z"
   },
   {
    "duration": 274,
    "start_time": "2021-08-07T15:28:45.502Z"
   },
   {
    "duration": 28,
    "start_time": "2021-08-07T15:29:02.895Z"
   },
   {
    "duration": 17,
    "start_time": "2021-08-07T15:29:07.692Z"
   },
   {
    "duration": 347,
    "start_time": "2021-08-07T15:29:12.435Z"
   },
   {
    "duration": 12,
    "start_time": "2021-08-07T15:30:45.551Z"
   },
   {
    "duration": 15,
    "start_time": "2021-08-07T15:30:52.432Z"
   },
   {
    "duration": 8,
    "start_time": "2021-08-07T15:44:15.341Z"
   },
   {
    "duration": 1026,
    "start_time": "2021-08-07T15:49:52.920Z"
   },
   {
    "duration": 202,
    "start_time": "2021-08-07T15:50:01.020Z"
   },
   {
    "duration": 19,
    "start_time": "2021-08-07T16:01:03.736Z"
   },
   {
    "duration": 19,
    "start_time": "2021-08-07T16:01:04.220Z"
   },
   {
    "duration": 7,
    "start_time": "2021-08-07T16:01:23.176Z"
   },
   {
    "duration": 10,
    "start_time": "2021-08-07T16:18:12.636Z"
   },
   {
    "duration": 20,
    "start_time": "2021-08-07T16:18:14.876Z"
   },
   {
    "duration": 8,
    "start_time": "2021-08-07T16:22:15.322Z"
   },
   {
    "duration": 15,
    "start_time": "2021-08-07T16:22:21.589Z"
   },
   {
    "duration": 6,
    "start_time": "2021-08-07T16:22:26.126Z"
   },
   {
    "duration": 6,
    "start_time": "2021-08-07T16:23:10.318Z"
   },
   {
    "duration": 6,
    "start_time": "2021-08-07T16:23:22.540Z"
   },
   {
    "duration": 7,
    "start_time": "2021-08-07T16:26:57.759Z"
   },
   {
    "duration": 22968,
    "start_time": "2021-08-07T16:27:55.720Z"
   },
   {
    "duration": 8,
    "start_time": "2021-08-07T16:28:33.044Z"
   },
   {
    "duration": 10,
    "start_time": "2021-08-07T16:28:38.105Z"
   },
   {
    "duration": 16,
    "start_time": "2021-08-07T16:28:41.288Z"
   },
   {
    "duration": 1882,
    "start_time": "2021-08-07T16:29:35.273Z"
   },
   {
    "duration": 6411,
    "start_time": "2021-08-07T16:30:47.836Z"
   },
   {
    "duration": 59,
    "start_time": "2021-08-07T16:47:06.889Z"
   },
   {
    "duration": 8,
    "start_time": "2021-08-07T16:48:22.290Z"
   },
   {
    "duration": 5,
    "start_time": "2021-08-07T16:48:22.806Z"
   },
   {
    "duration": 51,
    "start_time": "2021-08-07T16:48:22.929Z"
   },
   {
    "duration": 30,
    "start_time": "2021-08-07T16:48:23.017Z"
   },
   {
    "duration": 7,
    "start_time": "2021-08-07T16:48:23.105Z"
   },
   {
    "duration": 21,
    "start_time": "2021-08-07T16:48:23.202Z"
   },
   {
    "duration": 7,
    "start_time": "2021-08-07T16:48:23.773Z"
   },
   {
    "duration": 11,
    "start_time": "2021-08-07T16:48:24.018Z"
   },
   {
    "duration": 24,
    "start_time": "2021-08-07T16:48:24.190Z"
   },
   {
    "duration": 6,
    "start_time": "2021-08-07T16:48:24.361Z"
   },
   {
    "duration": 19,
    "start_time": "2021-08-07T16:48:24.610Z"
   },
   {
    "duration": 41,
    "start_time": "2021-08-07T16:48:24.793Z"
   },
   {
    "duration": 15,
    "start_time": "2021-08-07T16:48:24.949Z"
   },
   {
    "duration": 31,
    "start_time": "2021-08-07T16:48:25.114Z"
   },
   {
    "duration": 7,
    "start_time": "2021-08-07T16:48:25.218Z"
   },
   {
    "duration": 38,
    "start_time": "2021-08-07T16:48:26.002Z"
   },
   {
    "duration": 39,
    "start_time": "2021-08-07T16:48:26.177Z"
   },
   {
    "duration": 8,
    "start_time": "2021-08-07T16:48:26.702Z"
   },
   {
    "duration": 5,
    "start_time": "2021-08-07T16:48:27.074Z"
   },
   {
    "duration": 239,
    "start_time": "2021-08-07T16:48:27.622Z"
   },
   {
    "duration": 9,
    "start_time": "2021-08-07T16:48:30.747Z"
   },
   {
    "duration": 12,
    "start_time": "2021-08-07T16:48:33.645Z"
   },
   {
    "duration": 60,
    "start_time": "2021-08-07T16:48:37.765Z"
   },
   {
    "duration": 42,
    "start_time": "2021-08-07T16:48:46.161Z"
   },
   {
    "duration": 425,
    "start_time": "2021-08-07T16:49:17.653Z"
   },
   {
    "duration": 70,
    "start_time": "2021-08-07T16:49:21.757Z"
   },
   {
    "duration": 19,
    "start_time": "2021-08-07T16:49:25.837Z"
   },
   {
    "duration": 10014,
    "start_time": "2021-08-07T16:50:49.037Z"
   },
   {
    "duration": -51,
    "start_time": "2021-08-07T16:50:59.107Z"
   },
   {
    "duration": 478,
    "start_time": "2021-08-07T16:51:41.249Z"
   },
   {
    "duration": 13565,
    "start_time": "2021-08-07T16:51:58.741Z"
   },
   {
    "duration": -19,
    "start_time": "2021-08-07T16:52:12.329Z"
   },
   {
    "duration": 37,
    "start_time": "2021-08-07T16:52:30.590Z"
   },
   {
    "duration": 58,
    "start_time": "2021-08-07T16:52:32.433Z"
   },
   {
    "duration": 1949,
    "start_time": "2021-08-07T16:52:47.377Z"
   },
   {
    "duration": 4,
    "start_time": "2021-08-07T16:52:49.329Z"
   },
   {
    "duration": 70,
    "start_time": "2021-08-07T16:52:49.335Z"
   },
   {
    "duration": 38,
    "start_time": "2021-08-07T16:52:49.409Z"
   },
   {
    "duration": 5,
    "start_time": "2021-08-07T16:52:49.449Z"
   },
   {
    "duration": 46,
    "start_time": "2021-08-07T16:52:49.457Z"
   },
   {
    "duration": 12,
    "start_time": "2021-08-07T16:52:49.511Z"
   },
   {
    "duration": 9,
    "start_time": "2021-08-07T16:52:49.528Z"
   },
   {
    "duration": 14,
    "start_time": "2021-08-07T16:52:49.540Z"
   },
   {
    "duration": 34,
    "start_time": "2021-08-07T16:52:49.557Z"
   },
   {
    "duration": 23,
    "start_time": "2021-08-07T16:52:49.598Z"
   },
   {
    "duration": 67,
    "start_time": "2021-08-07T16:52:49.624Z"
   },
   {
    "duration": 19,
    "start_time": "2021-08-07T16:52:49.697Z"
   },
   {
    "duration": 19,
    "start_time": "2021-08-07T16:52:49.721Z"
   },
   {
    "duration": 6,
    "start_time": "2021-08-07T16:52:49.742Z"
   },
   {
    "duration": 58,
    "start_time": "2021-08-07T16:52:49.751Z"
   },
   {
    "duration": 26,
    "start_time": "2021-08-07T16:52:49.812Z"
   },
   {
    "duration": 6,
    "start_time": "2021-08-07T16:52:49.841Z"
   },
   {
    "duration": 36,
    "start_time": "2021-08-07T16:52:49.850Z"
   },
   {
    "duration": 219,
    "start_time": "2021-08-07T16:52:49.892Z"
   },
   {
    "duration": 10,
    "start_time": "2021-08-07T16:52:50.114Z"
   },
   {
    "duration": 17,
    "start_time": "2021-08-07T16:52:50.127Z"
   },
   {
    "duration": 599,
    "start_time": "2021-08-07T16:52:50.148Z"
   },
   {
    "duration": -272,
    "start_time": "2021-08-07T16:52:51.023Z"
   },
   {
    "duration": -276,
    "start_time": "2021-08-07T16:52:51.028Z"
   },
   {
    "duration": -281,
    "start_time": "2021-08-07T16:52:51.035Z"
   },
   {
    "duration": -284,
    "start_time": "2021-08-07T16:52:51.040Z"
   },
   {
    "duration": -286,
    "start_time": "2021-08-07T16:52:51.043Z"
   },
   {
    "duration": -287,
    "start_time": "2021-08-07T16:52:51.046Z"
   },
   {
    "duration": -288,
    "start_time": "2021-08-07T16:52:51.049Z"
   },
   {
    "duration": -288,
    "start_time": "2021-08-07T16:52:51.050Z"
   },
   {
    "duration": -288,
    "start_time": "2021-08-07T16:52:51.053Z"
   },
   {
    "duration": -289,
    "start_time": "2021-08-07T16:52:51.055Z"
   },
   {
    "duration": -290,
    "start_time": "2021-08-07T16:52:51.058Z"
   },
   {
    "duration": -291,
    "start_time": "2021-08-07T16:52:51.061Z"
   },
   {
    "duration": -293,
    "start_time": "2021-08-07T16:52:51.064Z"
   },
   {
    "duration": -293,
    "start_time": "2021-08-07T16:52:51.066Z"
   },
   {
    "duration": -295,
    "start_time": "2021-08-07T16:52:51.069Z"
   },
   {
    "duration": -295,
    "start_time": "2021-08-07T16:52:51.071Z"
   },
   {
    "duration": 53,
    "start_time": "2021-08-07T16:52:56.201Z"
   },
   {
    "duration": 462,
    "start_time": "2021-08-07T16:53:51.357Z"
   },
   {
    "duration": 10,
    "start_time": "2021-08-07T16:54:55.921Z"
   },
   {
    "duration": 31,
    "start_time": "2021-08-07T16:55:07.053Z"
   },
   {
    "duration": 15,
    "start_time": "2021-08-07T17:04:08.839Z"
   },
   {
    "duration": 45,
    "start_time": "2021-08-07T17:09:11.874Z"
   },
   {
    "duration": 52,
    "start_time": "2021-08-07T17:10:40.947Z"
   },
   {
    "duration": 408,
    "start_time": "2021-08-07T17:12:35.662Z"
   },
   {
    "duration": 80,
    "start_time": "2021-08-07T17:12:43.479Z"
   },
   {
    "duration": 8,
    "start_time": "2021-08-07T17:21:50.695Z"
   },
   {
    "duration": 5,
    "start_time": "2021-08-07T17:21:51.154Z"
   },
   {
    "duration": 49,
    "start_time": "2021-08-07T17:21:51.322Z"
   },
   {
    "duration": 42,
    "start_time": "2021-08-07T17:21:51.399Z"
   },
   {
    "duration": 6,
    "start_time": "2021-08-07T17:21:51.504Z"
   },
   {
    "duration": 20,
    "start_time": "2021-08-07T17:21:51.587Z"
   },
   {
    "duration": 11,
    "start_time": "2021-08-07T17:21:53.878Z"
   },
   {
    "duration": 10,
    "start_time": "2021-08-07T17:22:06.810Z"
   },
   {
    "duration": 9,
    "start_time": "2021-08-07T17:22:11.130Z"
   },
   {
    "duration": 20,
    "start_time": "2021-08-07T17:22:12.683Z"
   },
   {
    "duration": 6,
    "start_time": "2021-08-07T17:22:18.619Z"
   },
   {
    "duration": 21,
    "start_time": "2021-08-07T17:22:44.983Z"
   },
   {
    "duration": 13,
    "start_time": "2021-08-07T17:23:10.982Z"
   },
   {
    "duration": 41,
    "start_time": "2021-08-07T17:23:37.407Z"
   },
   {
    "duration": 17,
    "start_time": "2021-08-07T19:45:53.687Z"
   },
   {
    "duration": 2455,
    "start_time": "2021-08-07T19:46:04.090Z"
   },
   {
    "duration": 6,
    "start_time": "2021-08-07T19:46:06.549Z"
   },
   {
    "duration": 75,
    "start_time": "2021-08-07T19:46:06.558Z"
   },
   {
    "duration": 35,
    "start_time": "2021-08-07T19:46:06.636Z"
   },
   {
    "duration": 19,
    "start_time": "2021-08-07T19:46:06.673Z"
   },
   {
    "duration": 17,
    "start_time": "2021-08-07T19:46:06.695Z"
   },
   {
    "duration": 8,
    "start_time": "2021-08-07T19:46:06.714Z"
   },
   {
    "duration": 11,
    "start_time": "2021-08-07T19:46:06.725Z"
   },
   {
    "duration": 60,
    "start_time": "2021-08-07T19:46:06.740Z"
   },
   {
    "duration": 10,
    "start_time": "2021-08-07T19:46:06.804Z"
   },
   {
    "duration": 21,
    "start_time": "2021-08-07T19:46:06.817Z"
   },
   {
    "duration": 77,
    "start_time": "2021-08-07T19:46:06.842Z"
   },
   {
    "duration": 13,
    "start_time": "2021-08-07T19:46:06.921Z"
   },
   {
    "duration": 51,
    "start_time": "2021-08-07T19:46:06.936Z"
   },
   {
    "duration": 23,
    "start_time": "2021-08-07T19:46:06.992Z"
   },
   {
    "duration": 8,
    "start_time": "2021-08-07T19:46:07.018Z"
   },
   {
    "duration": 5,
    "start_time": "2021-08-07T19:46:07.029Z"
   },
   {
    "duration": 232,
    "start_time": "2021-08-07T19:46:07.037Z"
   },
   {
    "duration": 18,
    "start_time": "2021-08-07T19:46:07.272Z"
   },
   {
    "duration": 13,
    "start_time": "2021-08-07T19:46:07.293Z"
   },
   {
    "duration": 78,
    "start_time": "2021-08-07T19:46:07.309Z"
   },
   {
    "duration": 4,
    "start_time": "2021-08-07T19:46:07.389Z"
   },
   {
    "duration": 23,
    "start_time": "2021-08-07T19:46:07.395Z"
   },
   {
    "duration": 25,
    "start_time": "2021-08-07T19:46:07.420Z"
   },
   {
    "duration": 32,
    "start_time": "2021-08-07T19:46:18.130Z"
   },
   {
    "duration": 18,
    "start_time": "2021-08-07T19:46:23.520Z"
   },
   {
    "duration": 43,
    "start_time": "2021-08-07T19:47:26.024Z"
   },
   {
    "duration": 30,
    "start_time": "2021-08-07T19:49:31.352Z"
   },
   {
    "duration": 758,
    "start_time": "2021-08-07T19:50:39.197Z"
   },
   {
    "duration": 7,
    "start_time": "2021-08-07T19:51:19.715Z"
   },
   {
    "duration": 36,
    "start_time": "2021-08-07T19:51:33.958Z"
   },
   {
    "duration": 11309,
    "start_time": "2021-08-07T19:52:19.188Z"
   },
   {
    "duration": 434,
    "start_time": "2021-08-07T19:53:17.083Z"
   },
   {
    "duration": 7,
    "start_time": "2021-08-07T19:53:20.419Z"
   },
   {
    "duration": 1742,
    "start_time": "2021-08-07T19:53:32.207Z"
   },
   {
    "duration": 30,
    "start_time": "2021-08-07T19:53:48.016Z"
   },
   {
    "duration": 468,
    "start_time": "2021-08-07T19:53:58.069Z"
   },
   {
    "duration": 439,
    "start_time": "2021-08-07T19:54:49.751Z"
   },
   {
    "duration": 865,
    "start_time": "2021-08-07T19:55:06.363Z"
   },
   {
    "duration": 484,
    "start_time": "2021-08-07T19:57:15.567Z"
   },
   {
    "duration": 570,
    "start_time": "2021-08-07T19:57:40.837Z"
   },
   {
    "duration": 553,
    "start_time": "2021-08-07T19:58:47.183Z"
   },
   {
    "duration": 433,
    "start_time": "2021-08-07T19:59:46.100Z"
   },
   {
    "duration": 1028,
    "start_time": "2021-08-07T20:00:42.916Z"
   },
   {
    "duration": 976,
    "start_time": "2021-08-07T20:00:55.951Z"
   },
   {
    "duration": 460,
    "start_time": "2021-08-07T20:56:51.021Z"
   },
   {
    "duration": 540,
    "start_time": "2021-08-07T20:57:14.941Z"
   },
   {
    "duration": 533,
    "start_time": "2021-08-07T20:58:32.872Z"
   },
   {
    "duration": 907,
    "start_time": "2021-08-07T21:12:20.301Z"
   },
   {
    "duration": 905,
    "start_time": "2021-08-07T21:12:35.014Z"
   },
   {
    "duration": 131,
    "start_time": "2021-08-07T21:13:26.498Z"
   },
   {
    "duration": 1265,
    "start_time": "2021-08-07T21:13:35.754Z"
   },
   {
    "duration": 934,
    "start_time": "2021-08-07T21:14:02.166Z"
   },
   {
    "duration": 685,
    "start_time": "2021-08-07T21:14:15.385Z"
   },
   {
    "duration": 1031,
    "start_time": "2021-08-07T21:14:33.698Z"
   },
   {
    "duration": 555,
    "start_time": "2021-08-07T21:15:09.461Z"
   },
   {
    "duration": 555,
    "start_time": "2021-08-07T21:15:17.010Z"
   },
   {
    "duration": 614,
    "start_time": "2021-08-07T21:15:38.546Z"
   },
   {
    "duration": 663,
    "start_time": "2021-08-07T21:21:21.645Z"
   },
   {
    "duration": 142,
    "start_time": "2021-08-07T21:57:04.082Z"
   },
   {
    "duration": 404,
    "start_time": "2021-08-07T21:57:08.074Z"
   },
   {
    "duration": 444,
    "start_time": "2021-08-07T21:57:16.542Z"
   },
   {
    "duration": 449,
    "start_time": "2021-08-07T21:57:32.135Z"
   },
   {
    "duration": 407,
    "start_time": "2021-08-07T21:57:37.598Z"
   },
   {
    "duration": 561,
    "start_time": "2021-08-07T21:57:48.266Z"
   },
   {
    "duration": 403,
    "start_time": "2021-08-07T22:00:45.202Z"
   },
   {
    "duration": 431,
    "start_time": "2021-08-07T22:01:09.606Z"
   },
   {
    "duration": 397,
    "start_time": "2021-08-07T22:01:16.550Z"
   },
   {
    "duration": 947,
    "start_time": "2021-08-07T22:03:38.702Z"
   },
   {
    "duration": 934,
    "start_time": "2021-08-07T22:04:15.254Z"
   },
   {
    "duration": 940,
    "start_time": "2021-08-07T22:08:01.126Z"
   },
   {
    "duration": 2097,
    "start_time": "2021-08-07T22:09:19.258Z"
   },
   {
    "duration": 697,
    "start_time": "2021-08-07T22:09:28.262Z"
   },
   {
    "duration": 135,
    "start_time": "2021-08-07T22:10:55.434Z"
   },
   {
    "duration": 451,
    "start_time": "2021-08-07T22:11:00.126Z"
   },
   {
    "duration": 2196,
    "start_time": "2021-08-07T22:11:15.714Z"
   },
   {
    "duration": 573,
    "start_time": "2021-08-07T22:11:31.582Z"
   },
   {
    "duration": 545,
    "start_time": "2021-08-07T22:13:23.578Z"
   },
   {
    "duration": 518,
    "start_time": "2021-08-07T22:14:04.870Z"
   },
   {
    "duration": 537,
    "start_time": "2021-08-07T22:14:12.626Z"
   },
   {
    "duration": 537,
    "start_time": "2021-08-07T22:14:17.819Z"
   },
   {
    "duration": 536,
    "start_time": "2021-08-07T22:14:21.654Z"
   },
   {
    "duration": 530,
    "start_time": "2021-08-07T22:20:24.319Z"
   },
   {
    "duration": 966,
    "start_time": "2021-08-07T22:20:38.403Z"
   },
   {
    "duration": 545,
    "start_time": "2021-08-07T22:21:22.355Z"
   },
   {
    "duration": 411,
    "start_time": "2021-08-07T22:23:01.255Z"
   },
   {
    "duration": 1059,
    "start_time": "2021-08-07T22:23:28.740Z"
   },
   {
    "duration": 1065,
    "start_time": "2021-08-07T22:23:55.179Z"
   },
   {
    "duration": 1084,
    "start_time": "2021-08-07T22:24:01.227Z"
   },
   {
    "duration": 1118,
    "start_time": "2021-08-07T22:26:10.959Z"
   },
   {
    "duration": 9,
    "start_time": "2021-08-07T22:26:50.723Z"
   },
   {
    "duration": 6,
    "start_time": "2021-08-07T22:27:49.083Z"
   },
   {
    "duration": 12,
    "start_time": "2021-08-07T22:27:53.143Z"
   },
   {
    "duration": 10,
    "start_time": "2021-08-07T22:27:59.424Z"
   },
   {
    "duration": 16,
    "start_time": "2021-08-07T22:28:05.380Z"
   },
   {
    "duration": 10,
    "start_time": "2021-08-07T22:28:20.804Z"
   },
   {
    "duration": 1895,
    "start_time": "2021-08-07T22:29:25.168Z"
   },
   {
    "duration": 3,
    "start_time": "2021-08-07T22:31:51.831Z"
   },
   {
    "duration": 1180,
    "start_time": "2021-08-07T22:34:00.116Z"
   },
   {
    "duration": 1102,
    "start_time": "2021-08-07T22:34:38.483Z"
   },
   {
    "duration": 1523,
    "start_time": "2021-08-07T22:35:18.879Z"
   },
   {
    "duration": 1464,
    "start_time": "2021-08-07T22:35:35.812Z"
   },
   {
    "duration": 2048,
    "start_time": "2021-08-07T22:36:07.120Z"
   },
   {
    "duration": 5,
    "start_time": "2021-08-07T22:36:16.031Z"
   },
   {
    "duration": 1690,
    "start_time": "2021-08-07T22:37:33.672Z"
   },
   {
    "duration": 1132,
    "start_time": "2021-08-07T22:40:23.183Z"
   },
   {
    "duration": 1476,
    "start_time": "2021-08-07T22:42:43.704Z"
   },
   {
    "duration": 1765,
    "start_time": "2021-08-07T22:44:39.067Z"
   },
   {
    "duration": 1409,
    "start_time": "2021-08-07T22:44:59.092Z"
   },
   {
    "duration": 1411,
    "start_time": "2021-08-07T22:45:15.515Z"
   },
   {
    "duration": 1240,
    "start_time": "2021-08-07T22:45:57.939Z"
   },
   {
    "duration": 28,
    "start_time": "2021-08-07T22:47:44.947Z"
   },
   {
    "duration": 1845,
    "start_time": "2021-08-07T22:48:08.680Z"
   },
   {
    "duration": 4,
    "start_time": "2021-08-07T22:48:10.527Z"
   },
   {
    "duration": 61,
    "start_time": "2021-08-07T22:48:10.533Z"
   },
   {
    "duration": 31,
    "start_time": "2021-08-07T22:48:10.597Z"
   },
   {
    "duration": 5,
    "start_time": "2021-08-07T22:48:10.630Z"
   },
   {
    "duration": 21,
    "start_time": "2021-08-07T22:48:10.637Z"
   },
   {
    "duration": 28,
    "start_time": "2021-08-07T22:48:10.661Z"
   },
   {
    "duration": 10,
    "start_time": "2021-08-07T22:48:10.693Z"
   },
   {
    "duration": 14,
    "start_time": "2021-08-07T22:48:10.706Z"
   },
   {
    "duration": 8,
    "start_time": "2021-08-07T22:48:10.723Z"
   },
   {
    "duration": 60,
    "start_time": "2021-08-07T22:48:10.734Z"
   },
   {
    "duration": 33,
    "start_time": "2021-08-07T22:48:10.797Z"
   },
   {
    "duration": 13,
    "start_time": "2021-08-07T22:48:10.832Z"
   },
   {
    "duration": 52,
    "start_time": "2021-08-07T22:48:10.847Z"
   },
   {
    "duration": 24,
    "start_time": "2021-08-07T22:48:10.901Z"
   },
   {
    "duration": 6,
    "start_time": "2021-08-07T22:48:10.928Z"
   },
   {
    "duration": 7,
    "start_time": "2021-08-07T22:48:10.936Z"
   },
   {
    "duration": 207,
    "start_time": "2021-08-07T22:48:10.945Z"
   },
   {
    "duration": 8,
    "start_time": "2021-08-07T22:48:11.155Z"
   },
   {
    "duration": 27,
    "start_time": "2021-08-07T22:48:11.165Z"
   },
   {
    "duration": 53,
    "start_time": "2021-08-07T22:48:11.194Z"
   },
   {
    "duration": 3,
    "start_time": "2021-08-07T22:48:11.250Z"
   },
   {
    "duration": 35,
    "start_time": "2021-08-07T22:48:11.257Z"
   },
   {
    "duration": 23,
    "start_time": "2021-08-07T22:48:11.295Z"
   },
   {
    "duration": 18,
    "start_time": "2021-08-07T22:48:11.320Z"
   },
   {
    "duration": 59,
    "start_time": "2021-08-07T22:48:11.340Z"
   },
   {
    "duration": 938,
    "start_time": "2021-08-07T22:48:11.401Z"
   },
   {
    "duration": 3,
    "start_time": "2021-08-07T22:48:12.342Z"
   },
   {
    "duration": 1320,
    "start_time": "2021-08-07T22:48:12.348Z"
   },
   {
    "duration": 702,
    "start_time": "2021-08-07T22:48:13.670Z"
   },
   {
    "duration": 1265,
    "start_time": "2021-08-08T07:54:14.183Z"
   },
   {
    "duration": 2,
    "start_time": "2021-08-08T07:54:15.450Z"
   },
   {
    "duration": 39,
    "start_time": "2021-08-08T07:54:15.454Z"
   },
   {
    "duration": 18,
    "start_time": "2021-08-08T07:54:15.494Z"
   },
   {
    "duration": 3,
    "start_time": "2021-08-08T07:54:15.514Z"
   },
   {
    "duration": 10,
    "start_time": "2021-08-08T07:54:15.519Z"
   },
   {
    "duration": 4,
    "start_time": "2021-08-08T07:54:15.541Z"
   },
   {
    "duration": 8,
    "start_time": "2021-08-08T07:54:15.548Z"
   },
   {
    "duration": 7,
    "start_time": "2021-08-08T07:54:15.558Z"
   },
   {
    "duration": 8,
    "start_time": "2021-08-08T07:54:15.567Z"
   },
   {
    "duration": 9,
    "start_time": "2021-08-08T07:54:15.577Z"
   },
   {
    "duration": 19,
    "start_time": "2021-08-08T07:54:15.587Z"
   },
   {
    "duration": 34,
    "start_time": "2021-08-08T07:54:15.607Z"
   },
   {
    "duration": 11,
    "start_time": "2021-08-08T07:54:15.643Z"
   },
   {
    "duration": 11,
    "start_time": "2021-08-08T07:54:15.655Z"
   },
   {
    "duration": 4,
    "start_time": "2021-08-08T07:54:15.667Z"
   },
   {
    "duration": 5,
    "start_time": "2021-08-08T07:54:15.673Z"
   },
   {
    "duration": 132,
    "start_time": "2021-08-08T07:54:15.680Z"
   },
   {
    "duration": 5,
    "start_time": "2021-08-08T07:54:15.813Z"
   },
   {
    "duration": 21,
    "start_time": "2021-08-08T07:54:15.820Z"
   },
   {
    "duration": 28,
    "start_time": "2021-08-08T07:54:15.842Z"
   },
   {
    "duration": 2,
    "start_time": "2021-08-08T07:54:15.871Z"
   },
   {
    "duration": 8,
    "start_time": "2021-08-08T07:54:15.876Z"
   },
   {
    "duration": 14,
    "start_time": "2021-08-08T07:54:15.886Z"
   },
   {
    "duration": 10,
    "start_time": "2021-08-08T07:54:15.902Z"
   },
   {
    "duration": 18,
    "start_time": "2021-08-08T07:54:15.941Z"
   },
   {
    "duration": 372,
    "start_time": "2021-08-08T07:54:15.961Z"
   },
   {
    "duration": 6,
    "start_time": "2021-08-08T07:54:16.335Z"
   },
   {
    "duration": 617,
    "start_time": "2021-08-08T07:54:16.342Z"
   },
   {
    "duration": 450,
    "start_time": "2021-08-08T07:54:16.960Z"
   },
   {
    "duration": 6,
    "start_time": "2021-08-08T07:55:28.472Z"
   },
   {
    "duration": 7,
    "start_time": "2021-08-08T07:55:43.563Z"
   },
   {
    "duration": 33,
    "start_time": "2021-08-08T07:55:53.052Z"
   },
   {
    "duration": 292,
    "start_time": "2021-08-08T07:56:06.428Z"
   },
   {
    "duration": 604,
    "start_time": "2021-08-08T07:56:10.799Z"
   },
   {
    "duration": 1221,
    "start_time": "2021-08-08T07:57:08.016Z"
   },
   {
    "duration": 3,
    "start_time": "2021-08-08T07:57:09.239Z"
   },
   {
    "duration": 37,
    "start_time": "2021-08-08T07:57:09.245Z"
   },
   {
    "duration": 18,
    "start_time": "2021-08-08T07:57:09.284Z"
   },
   {
    "duration": 4,
    "start_time": "2021-08-08T07:57:09.304Z"
   },
   {
    "duration": 12,
    "start_time": "2021-08-08T07:57:09.310Z"
   },
   {
    "duration": 4,
    "start_time": "2021-08-08T07:57:09.340Z"
   },
   {
    "duration": 10,
    "start_time": "2021-08-08T07:57:09.346Z"
   },
   {
    "duration": 8,
    "start_time": "2021-08-08T07:57:09.357Z"
   },
   {
    "duration": 6,
    "start_time": "2021-08-08T07:57:09.366Z"
   },
   {
    "duration": 10,
    "start_time": "2021-08-08T07:57:09.373Z"
   },
   {
    "duration": 17,
    "start_time": "2021-08-08T07:57:09.384Z"
   },
   {
    "duration": 38,
    "start_time": "2021-08-08T07:57:09.403Z"
   },
   {
    "duration": 12,
    "start_time": "2021-08-08T07:57:09.442Z"
   },
   {
    "duration": 14,
    "start_time": "2021-08-08T07:57:09.455Z"
   },
   {
    "duration": 4,
    "start_time": "2021-08-08T07:57:09.471Z"
   },
   {
    "duration": 5,
    "start_time": "2021-08-08T07:57:09.476Z"
   },
   {
    "duration": 128,
    "start_time": "2021-08-08T07:57:09.482Z"
   },
   {
    "duration": 5,
    "start_time": "2021-08-08T07:57:09.612Z"
   },
   {
    "duration": 7,
    "start_time": "2021-08-08T07:57:09.618Z"
   },
   {
    "duration": 41,
    "start_time": "2021-08-08T07:57:09.627Z"
   },
   {
    "duration": 2,
    "start_time": "2021-08-08T07:57:09.671Z"
   },
   {
    "duration": 12,
    "start_time": "2021-08-08T07:57:09.674Z"
   },
   {
    "duration": 15,
    "start_time": "2021-08-08T07:57:09.687Z"
   },
   {
    "duration": 10,
    "start_time": "2021-08-08T07:57:09.703Z"
   },
   {
    "duration": 40,
    "start_time": "2021-08-08T07:57:09.714Z"
   },
   {
    "duration": 405,
    "start_time": "2021-08-08T07:57:09.756Z"
   },
   {
    "duration": 3,
    "start_time": "2021-08-08T07:57:10.162Z"
   },
   {
    "duration": 527,
    "start_time": "2021-08-08T07:57:10.166Z"
   },
   {
    "duration": 469,
    "start_time": "2021-08-08T07:57:10.695Z"
   },
   {
    "duration": 5,
    "start_time": "2021-08-08T07:57:35.472Z"
   },
   {
    "duration": 9,
    "start_time": "2021-08-08T07:58:14.708Z"
   },
   {
    "duration": 5,
    "start_time": "2021-08-08T07:58:15.524Z"
   },
   {
    "duration": 1172,
    "start_time": "2021-08-08T08:00:58.082Z"
   },
   {
    "duration": 3,
    "start_time": "2021-08-08T08:00:59.256Z"
   },
   {
    "duration": 48,
    "start_time": "2021-08-08T08:00:59.261Z"
   },
   {
    "duration": 19,
    "start_time": "2021-08-08T08:00:59.311Z"
   },
   {
    "duration": 11,
    "start_time": "2021-08-08T08:00:59.331Z"
   },
   {
    "duration": 23,
    "start_time": "2021-08-08T08:00:59.344Z"
   },
   {
    "duration": 13,
    "start_time": "2021-08-08T08:00:59.369Z"
   },
   {
    "duration": 18,
    "start_time": "2021-08-08T08:00:59.384Z"
   },
   {
    "duration": 30,
    "start_time": "2021-08-08T08:00:59.404Z"
   },
   {
    "duration": 19,
    "start_time": "2021-08-08T08:00:59.436Z"
   },
   {
    "duration": 14,
    "start_time": "2021-08-08T08:00:59.457Z"
   },
   {
    "duration": 26,
    "start_time": "2021-08-08T08:00:59.473Z"
   },
   {
    "duration": 9,
    "start_time": "2021-08-08T08:00:59.501Z"
   },
   {
    "duration": 19,
    "start_time": "2021-08-08T08:00:59.512Z"
   },
   {
    "duration": 21,
    "start_time": "2021-08-08T08:00:59.532Z"
   },
   {
    "duration": 10,
    "start_time": "2021-08-08T08:00:59.554Z"
   },
   {
    "duration": 21,
    "start_time": "2021-08-08T08:00:59.566Z"
   },
   {
    "duration": 116,
    "start_time": "2021-08-08T08:00:59.588Z"
   },
   {
    "duration": 5,
    "start_time": "2021-08-08T08:00:59.705Z"
   },
   {
    "duration": 8,
    "start_time": "2021-08-08T08:00:59.711Z"
   },
   {
    "duration": 40,
    "start_time": "2021-08-08T08:00:59.720Z"
   },
   {
    "duration": 2,
    "start_time": "2021-08-08T08:00:59.762Z"
   },
   {
    "duration": 14,
    "start_time": "2021-08-08T08:00:59.766Z"
   },
   {
    "duration": 16,
    "start_time": "2021-08-08T08:00:59.782Z"
   },
   {
    "duration": 11,
    "start_time": "2021-08-08T08:00:59.799Z"
   },
   {
    "duration": 44,
    "start_time": "2021-08-08T08:00:59.811Z"
   },
   {
    "duration": 389,
    "start_time": "2021-08-08T08:00:59.857Z"
   },
   {
    "duration": 2,
    "start_time": "2021-08-08T08:01:00.248Z"
   },
   {
    "duration": 671,
    "start_time": "2021-08-08T08:01:00.251Z"
   },
   {
    "duration": 442,
    "start_time": "2021-08-08T08:01:00.924Z"
   },
   {
    "duration": 294,
    "start_time": "2021-08-08T08:02:18.972Z"
   },
   {
    "duration": 307,
    "start_time": "2021-08-08T08:02:23.525Z"
   },
   {
    "duration": 369,
    "start_time": "2021-08-08T08:02:26.416Z"
   },
   {
    "duration": 302,
    "start_time": "2021-08-08T08:02:29.844Z"
   },
   {
    "duration": 3,
    "start_time": "2021-08-08T10:28:20.788Z"
   },
   {
    "duration": 16,
    "start_time": "2021-08-08T10:28:58.804Z"
   },
   {
    "duration": 46,
    "start_time": "2021-08-08T10:29:04.528Z"
   },
   {
    "duration": 94,
    "start_time": "2021-08-08T10:30:02.588Z"
   },
   {
    "duration": 20,
    "start_time": "2021-08-08T10:30:49.776Z"
   },
   {
    "duration": 15,
    "start_time": "2021-08-08T10:31:08.712Z"
   },
   {
    "duration": 44,
    "start_time": "2021-08-08T10:31:14.832Z"
   },
   {
    "duration": 15,
    "start_time": "2021-08-08T10:31:58.588Z"
   },
   {
    "duration": 4,
    "start_time": "2021-08-08T10:32:19.980Z"
   },
   {
    "duration": 359,
    "start_time": "2021-08-08T10:32:26.800Z"
   },
   {
    "duration": 245,
    "start_time": "2021-08-08T10:32:32.444Z"
   },
   {
    "duration": 4,
    "start_time": "2021-08-08T10:32:36.476Z"
   },
   {
    "duration": 5,
    "start_time": "2021-08-08T10:32:48.824Z"
   },
   {
    "duration": 298,
    "start_time": "2021-08-08T10:33:04.524Z"
   },
   {
    "duration": 260,
    "start_time": "2021-08-08T10:33:27.004Z"
   },
   {
    "duration": 300,
    "start_time": "2021-08-08T10:33:39.272Z"
   },
   {
    "duration": 92,
    "start_time": "2021-08-08T10:34:21.915Z"
   },
   {
    "duration": 262,
    "start_time": "2021-08-08T10:34:29.144Z"
   },
   {
    "duration": 277,
    "start_time": "2021-08-08T10:34:31.272Z"
   },
   {
    "duration": 14,
    "start_time": "2021-08-08T10:34:46.628Z"
   },
   {
    "duration": 16,
    "start_time": "2021-08-08T10:35:56.364Z"
   },
   {
    "duration": 302,
    "start_time": "2021-08-08T10:36:23.184Z"
   },
   {
    "duration": 251,
    "start_time": "2021-08-08T10:36:27.992Z"
   },
   {
    "duration": 14,
    "start_time": "2021-08-08T10:37:06.551Z"
   },
   {
    "duration": 17,
    "start_time": "2021-08-08T10:37:45.624Z"
   },
   {
    "duration": 14,
    "start_time": "2021-08-08T10:37:57.468Z"
   },
   {
    "duration": 6072,
    "start_time": "2021-08-08T10:38:08.428Z"
   },
   {
    "duration": 16,
    "start_time": "2021-08-08T10:38:22.040Z"
   },
   {
    "duration": 18,
    "start_time": "2021-08-08T10:38:43.168Z"
   },
   {
    "duration": 3869,
    "start_time": "2021-08-08T10:38:56.793Z"
   },
   {
    "duration": 18,
    "start_time": "2021-08-08T10:39:04.429Z"
   },
   {
    "duration": 18,
    "start_time": "2021-08-08T10:39:12.231Z"
   },
   {
    "duration": 14,
    "start_time": "2021-08-08T10:39:23.963Z"
   },
   {
    "duration": 1222,
    "start_time": "2021-08-08T10:39:36.908Z"
   },
   {
    "duration": 3,
    "start_time": "2021-08-08T10:39:38.132Z"
   },
   {
    "duration": 37,
    "start_time": "2021-08-08T10:39:38.140Z"
   },
   {
    "duration": 18,
    "start_time": "2021-08-08T10:39:38.179Z"
   },
   {
    "duration": 3,
    "start_time": "2021-08-08T10:39:38.199Z"
   },
   {
    "duration": 10,
    "start_time": "2021-08-08T10:39:38.204Z"
   },
   {
    "duration": 8,
    "start_time": "2021-08-08T10:39:38.215Z"
   },
   {
    "duration": 19,
    "start_time": "2021-08-08T10:39:38.226Z"
   },
   {
    "duration": 9,
    "start_time": "2021-08-08T10:39:38.247Z"
   },
   {
    "duration": 6,
    "start_time": "2021-08-08T10:39:38.257Z"
   },
   {
    "duration": 15,
    "start_time": "2021-08-08T10:39:38.264Z"
   },
   {
    "duration": 19,
    "start_time": "2021-08-08T10:39:38.281Z"
   },
   {
    "duration": 8,
    "start_time": "2021-08-08T10:39:38.301Z"
   },
   {
    "duration": 36,
    "start_time": "2021-08-08T10:39:38.310Z"
   },
   {
    "duration": 14,
    "start_time": "2021-08-08T10:39:38.347Z"
   },
   {
    "duration": 3,
    "start_time": "2021-08-08T10:39:38.363Z"
   },
   {
    "duration": 3,
    "start_time": "2021-08-08T10:39:38.368Z"
   },
   {
    "duration": 125,
    "start_time": "2021-08-08T10:39:38.373Z"
   },
   {
    "duration": 6,
    "start_time": "2021-08-08T10:39:38.499Z"
   },
   {
    "duration": 7,
    "start_time": "2021-08-08T10:39:38.506Z"
   },
   {
    "duration": 48,
    "start_time": "2021-08-08T10:39:38.515Z"
   },
   {
    "duration": 2,
    "start_time": "2021-08-08T10:39:38.564Z"
   },
   {
    "duration": 9,
    "start_time": "2021-08-08T10:39:38.569Z"
   },
   {
    "duration": 17,
    "start_time": "2021-08-08T10:39:38.579Z"
   },
   {
    "duration": 17,
    "start_time": "2021-08-08T10:39:38.597Z"
   },
   {
    "duration": 401,
    "start_time": "2021-08-08T10:39:38.616Z"
   },
   {
    "duration": 630,
    "start_time": "2021-08-08T10:39:39.019Z"
   },
   {
    "duration": 345,
    "start_time": "2021-08-08T10:39:39.651Z"
   },
   {
    "duration": 47,
    "start_time": "2021-08-08T10:39:39.951Z"
   },
   {
    "duration": 44,
    "start_time": "2021-08-08T10:39:39.955Z"
   },
   {
    "duration": 17,
    "start_time": "2021-08-08T10:39:48.597Z"
   },
   {
    "duration": 15,
    "start_time": "2021-08-08T10:39:59.017Z"
   },
   {
    "duration": 4,
    "start_time": "2021-08-08T10:40:08.620Z"
   },
   {
    "duration": 5,
    "start_time": "2021-08-08T10:40:22.576Z"
   },
   {
    "duration": 16,
    "start_time": "2021-08-08T10:40:33.216Z"
   },
   {
    "duration": 16,
    "start_time": "2021-08-08T10:40:45.688Z"
   },
   {
    "duration": 14,
    "start_time": "2021-08-08T10:40:57.888Z"
   },
   {
    "duration": 5,
    "start_time": "2021-08-08T10:41:03.932Z"
   },
   {
    "duration": 16,
    "start_time": "2021-08-08T10:41:21.641Z"
   },
   {
    "duration": 14,
    "start_time": "2021-08-08T10:41:25.245Z"
   },
   {
    "duration": 15,
    "start_time": "2021-08-08T10:41:36.208Z"
   },
   {
    "duration": 16,
    "start_time": "2021-08-08T10:41:40.432Z"
   },
   {
    "duration": 4,
    "start_time": "2021-08-08T10:41:49.009Z"
   },
   {
    "duration": 5,
    "start_time": "2021-08-08T10:42:31.184Z"
   },
   {
    "duration": 92,
    "start_time": "2021-08-08T10:43:28.114Z"
   },
   {
    "duration": 23,
    "start_time": "2021-08-08T10:43:33.886Z"
   },
   {
    "duration": 15,
    "start_time": "2021-08-08T10:43:42.393Z"
   },
   {
    "duration": 6,
    "start_time": "2021-08-08T10:43:44.653Z"
   },
   {
    "duration": 279,
    "start_time": "2021-08-08T10:44:09.249Z"
   },
   {
    "duration": 17,
    "start_time": "2021-08-08T10:44:13.605Z"
   },
   {
    "duration": 457,
    "start_time": "2021-08-08T10:44:18.621Z"
   },
   {
    "duration": 6414,
    "start_time": "2021-08-08T10:44:47.973Z"
   },
   {
    "duration": 15,
    "start_time": "2021-08-08T10:44:55.489Z"
   },
   {
    "duration": 6,
    "start_time": "2021-08-08T10:45:31.473Z"
   },
   {
    "duration": 455,
    "start_time": "2021-08-08T10:47:54.961Z"
   },
   {
    "duration": 272,
    "start_time": "2021-08-08T10:50:13.629Z"
   },
   {
    "duration": 14,
    "start_time": "2021-08-08T10:50:28.917Z"
   },
   {
    "duration": 12,
    "start_time": "2021-08-08T10:50:37.201Z"
   },
   {
    "duration": 12,
    "start_time": "2021-08-08T10:50:41.345Z"
   },
   {
    "duration": 15,
    "start_time": "2021-08-08T10:50:49.309Z"
   },
   {
    "duration": 450,
    "start_time": "2021-08-08T10:50:52.281Z"
   },
   {
    "duration": 446,
    "start_time": "2021-08-08T10:51:04.545Z"
   },
   {
    "duration": 708,
    "start_time": "2021-08-08T10:55:50.593Z"
   },
   {
    "duration": 619,
    "start_time": "2021-08-08T10:56:19.337Z"
   },
   {
    "duration": 854,
    "start_time": "2021-08-08T10:56:47.741Z"
   },
   {
    "duration": 865,
    "start_time": "2021-08-08T10:57:19.397Z"
   },
   {
    "duration": 970,
    "start_time": "2021-08-08T10:57:44.589Z"
   },
   {
    "duration": 742,
    "start_time": "2021-08-08T10:58:00.501Z"
   },
   {
    "duration": 600,
    "start_time": "2021-08-08T10:58:10.897Z"
   },
   {
    "duration": 613,
    "start_time": "2021-08-08T10:58:16.261Z"
   },
   {
    "duration": 735,
    "start_time": "2021-08-08T11:00:49.265Z"
   },
   {
    "duration": 630,
    "start_time": "2021-08-08T11:02:10.061Z"
   },
   {
    "duration": 611,
    "start_time": "2021-08-08T11:02:17.205Z"
   },
   {
    "duration": 539,
    "start_time": "2021-08-08T11:02:55.801Z"
   },
   {
    "duration": 16,
    "start_time": "2021-08-08T11:02:58.673Z"
   },
   {
    "duration": 453,
    "start_time": "2021-08-08T11:02:59.773Z"
   },
   {
    "duration": 15,
    "start_time": "2021-08-08T11:03:13.821Z"
   },
   {
    "duration": 433,
    "start_time": "2021-08-08T11:03:28.181Z"
   },
   {
    "duration": 16,
    "start_time": "2021-08-08T11:03:36.313Z"
   },
   {
    "duration": 441,
    "start_time": "2021-08-08T11:03:38.377Z"
   },
   {
    "duration": 16,
    "start_time": "2021-08-08T11:04:17.221Z"
   },
   {
    "duration": 437,
    "start_time": "2021-08-08T11:04:22.621Z"
   },
   {
    "duration": 19,
    "start_time": "2021-08-08T11:04:36.985Z"
   },
   {
    "duration": 36,
    "start_time": "2021-08-08T11:04:57.621Z"
   },
   {
    "duration": 5,
    "start_time": "2021-08-08T11:06:35.461Z"
   },
   {
    "duration": 7,
    "start_time": "2021-08-08T11:06:56.205Z"
   },
   {
    "duration": 29,
    "start_time": "2021-08-08T11:07:48.193Z"
   },
   {
    "duration": 266,
    "start_time": "2021-08-08T11:08:48.573Z"
   },
   {
    "duration": 258,
    "start_time": "2021-08-08T11:09:03.709Z"
   },
   {
    "duration": 274,
    "start_time": "2021-08-08T11:09:39.981Z"
   },
   {
    "duration": 23,
    "start_time": "2021-08-08T11:10:28.353Z"
   },
   {
    "duration": 5755,
    "start_time": "2021-08-08T11:10:42.209Z"
   },
   {
    "duration": 5837,
    "start_time": "2021-08-08T11:12:34.425Z"
   },
   {
    "duration": 5810,
    "start_time": "2021-08-08T11:12:50.722Z"
   },
   {
    "duration": 5780,
    "start_time": "2021-08-08T11:13:26.489Z"
   },
   {
    "duration": 286,
    "start_time": "2021-08-08T11:14:19.473Z"
   },
   {
    "duration": 9,
    "start_time": "2021-08-08T11:14:52.649Z"
   },
   {
    "duration": 266,
    "start_time": "2021-08-08T11:15:32.152Z"
   },
   {
    "duration": 5596,
    "start_time": "2021-08-08T11:16:35.585Z"
   },
   {
    "duration": 6131,
    "start_time": "2021-08-08T11:17:36.062Z"
   },
   {
    "duration": 40,
    "start_time": "2021-08-08T11:21:18.727Z"
   },
   {
    "duration": 4,
    "start_time": "2021-08-08T11:26:59.874Z"
   },
   {
    "duration": 251,
    "start_time": "2021-08-08T11:27:26.874Z"
   },
   {
    "duration": 281,
    "start_time": "2021-08-08T11:27:55.175Z"
   },
   {
    "duration": 240,
    "start_time": "2021-08-08T11:28:05.474Z"
   },
   {
    "duration": 249,
    "start_time": "2021-08-08T11:28:08.010Z"
   },
   {
    "duration": 287,
    "start_time": "2021-08-08T11:28:14.103Z"
   },
   {
    "duration": 4,
    "start_time": "2021-08-08T11:28:17.627Z"
   },
   {
    "duration": 8,
    "start_time": "2021-08-08T11:28:22.814Z"
   },
   {
    "duration": 7,
    "start_time": "2021-08-08T11:28:28.294Z"
   },
   {
    "duration": 7,
    "start_time": "2021-08-08T11:28:46.374Z"
   },
   {
    "duration": 9,
    "start_time": "2021-08-08T11:28:55.914Z"
   },
   {
    "duration": 289,
    "start_time": "2021-08-08T11:29:13.787Z"
   },
   {
    "duration": 7,
    "start_time": "2021-08-08T11:29:17.851Z"
   },
   {
    "duration": 6,
    "start_time": "2021-08-08T11:29:31.327Z"
   },
   {
    "duration": 6,
    "start_time": "2021-08-08T11:29:48.155Z"
   },
   {
    "duration": 6,
    "start_time": "2021-08-08T11:29:52.807Z"
   },
   {
    "duration": 7,
    "start_time": "2021-08-08T11:30:47.590Z"
   },
   {
    "duration": 7,
    "start_time": "2021-08-08T11:30:51.881Z"
   },
   {
    "duration": 272,
    "start_time": "2021-08-08T11:31:02.595Z"
   },
   {
    "duration": 252,
    "start_time": "2021-08-08T11:31:04.654Z"
   },
   {
    "duration": 297,
    "start_time": "2021-08-08T11:31:06.315Z"
   },
   {
    "duration": 7,
    "start_time": "2021-08-08T11:31:12.424Z"
   },
   {
    "duration": 23,
    "start_time": "2021-08-08T11:32:42.030Z"
   },
   {
    "duration": 17,
    "start_time": "2021-08-08T11:32:51.327Z"
   },
   {
    "duration": 448,
    "start_time": "2021-08-08T11:32:52.107Z"
   },
   {
    "duration": 7,
    "start_time": "2021-08-08T11:32:55.107Z"
   },
   {
    "duration": 40,
    "start_time": "2021-08-08T11:36:39.951Z"
   },
   {
    "duration": 55,
    "start_time": "2021-08-08T11:36:53.015Z"
   },
   {
    "duration": 39,
    "start_time": "2021-08-08T11:38:35.795Z"
   },
   {
    "duration": 252,
    "start_time": "2021-08-08T11:39:09.319Z"
   },
   {
    "duration": 41,
    "start_time": "2021-08-08T11:39:35.090Z"
   },
   {
    "duration": 41,
    "start_time": "2021-08-08T11:39:49.099Z"
   },
   {
    "duration": 42,
    "start_time": "2021-08-08T11:39:57.771Z"
   },
   {
    "duration": 1231,
    "start_time": "2021-08-08T11:40:53.203Z"
   },
   {
    "duration": 3,
    "start_time": "2021-08-08T11:40:54.436Z"
   },
   {
    "duration": 41,
    "start_time": "2021-08-08T11:40:54.441Z"
   },
   {
    "duration": 20,
    "start_time": "2021-08-08T11:40:54.483Z"
   },
   {
    "duration": 3,
    "start_time": "2021-08-08T11:40:54.505Z"
   },
   {
    "duration": 12,
    "start_time": "2021-08-08T11:40:54.510Z"
   },
   {
    "duration": 18,
    "start_time": "2021-08-08T11:40:54.524Z"
   },
   {
    "duration": 7,
    "start_time": "2021-08-08T11:40:54.546Z"
   },
   {
    "duration": 10,
    "start_time": "2021-08-08T11:40:54.555Z"
   },
   {
    "duration": 6,
    "start_time": "2021-08-08T11:40:54.566Z"
   },
   {
    "duration": 11,
    "start_time": "2021-08-08T11:40:54.573Z"
   },
   {
    "duration": 56,
    "start_time": "2021-08-08T11:40:54.585Z"
   },
   {
    "duration": 10,
    "start_time": "2021-08-08T11:40:54.642Z"
   },
   {
    "duration": 11,
    "start_time": "2021-08-08T11:40:54.654Z"
   },
   {
    "duration": 11,
    "start_time": "2021-08-08T11:40:54.666Z"
   },
   {
    "duration": 10,
    "start_time": "2021-08-08T11:40:54.678Z"
   },
   {
    "duration": 5,
    "start_time": "2021-08-08T11:40:54.690Z"
   },
   {
    "duration": 125,
    "start_time": "2021-08-08T11:40:54.697Z"
   },
   {
    "duration": 17,
    "start_time": "2021-08-08T11:40:54.824Z"
   },
   {
    "duration": 8,
    "start_time": "2021-08-08T11:40:54.842Z"
   },
   {
    "duration": 30,
    "start_time": "2021-08-08T11:40:54.851Z"
   },
   {
    "duration": 7,
    "start_time": "2021-08-08T11:40:54.883Z"
   },
   {
    "duration": 14,
    "start_time": "2021-08-08T11:40:54.893Z"
   },
   {
    "duration": 43,
    "start_time": "2021-08-08T11:40:54.909Z"
   },
   {
    "duration": 375,
    "start_time": "2021-08-08T11:40:54.954Z"
   },
   {
    "duration": 635,
    "start_time": "2021-08-08T11:40:55.331Z"
   },
   {
    "duration": 16,
    "start_time": "2021-08-08T11:40:55.968Z"
   },
   {
    "duration": 512,
    "start_time": "2021-08-08T11:40:55.986Z"
   },
   {
    "duration": 6,
    "start_time": "2021-08-08T11:40:56.500Z"
   },
   {
    "duration": 55,
    "start_time": "2021-08-08T11:40:56.507Z"
   },
   {
    "duration": 26,
    "start_time": "2021-08-08T11:42:19.911Z"
   },
   {
    "duration": 373,
    "start_time": "2021-08-08T11:46:08.819Z"
   },
   {
    "duration": 347,
    "start_time": "2021-08-08T11:46:24.303Z"
   },
   {
    "duration": 89,
    "start_time": "2021-08-08T11:46:43.727Z"
   },
   {
    "duration": 993,
    "start_time": "2021-08-08T11:46:50.127Z"
   },
   {
    "duration": 12,
    "start_time": "2021-08-08T11:47:00.563Z"
   },
   {
    "duration": 12,
    "start_time": "2021-08-08T11:47:16.087Z"
   },
   {
    "duration": 15,
    "start_time": "2021-08-08T11:47:27.183Z"
   },
   {
    "duration": 17,
    "start_time": "2021-08-08T11:47:34.843Z"
   },
   {
    "duration": 15,
    "start_time": "2021-08-08T11:47:40.515Z"
   },
   {
    "duration": 16,
    "start_time": "2021-08-08T11:47:49.997Z"
   },
   {
    "duration": 17,
    "start_time": "2021-08-08T12:01:01.792Z"
   },
   {
    "duration": 444,
    "start_time": "2021-08-08T12:01:04.184Z"
   },
   {
    "duration": 444,
    "start_time": "2021-08-08T12:01:21.936Z"
   },
   {
    "duration": 436,
    "start_time": "2021-08-08T12:01:37.468Z"
   },
   {
    "duration": 16,
    "start_time": "2021-08-08T12:01:40.336Z"
   },
   {
    "duration": 528,
    "start_time": "2021-08-08T12:01:41.019Z"
   },
   {
    "duration": 42,
    "start_time": "2021-08-08T12:06:28.772Z"
   },
   {
    "duration": 71,
    "start_time": "2021-08-08T12:06:35.729Z"
   },
   {
    "duration": 14,
    "start_time": "2021-08-08T12:08:23.292Z"
   },
   {
    "duration": 71,
    "start_time": "2021-08-08T12:10:38.368Z"
   },
   {
    "duration": 257,
    "start_time": "2021-08-08T12:10:58.221Z"
   },
   {
    "duration": 73,
    "start_time": "2021-08-08T12:11:05.860Z"
   },
   {
    "duration": 20,
    "start_time": "2021-08-08T12:11:56.456Z"
   },
   {
    "duration": 283,
    "start_time": "2021-08-08T12:12:08.440Z"
   },
   {
    "duration": 20,
    "start_time": "2021-08-08T12:12:35.449Z"
   },
   {
    "duration": 19,
    "start_time": "2021-08-08T12:13:24.576Z"
   },
   {
    "duration": 10,
    "start_time": "2021-08-08T12:14:16.560Z"
   },
   {
    "duration": 11,
    "start_time": "2021-08-08T12:14:30.736Z"
   },
   {
    "duration": 11,
    "start_time": "2021-08-08T12:14:54.164Z"
   },
   {
    "duration": 13,
    "start_time": "2021-08-08T12:15:02.780Z"
   },
   {
    "duration": 24,
    "start_time": "2021-08-08T12:33:43.113Z"
   },
   {
    "duration": 275,
    "start_time": "2021-08-08T12:33:45.785Z"
   },
   {
    "duration": 276,
    "start_time": "2021-08-08T12:34:21.137Z"
   },
   {
    "duration": 16,
    "start_time": "2021-08-08T12:35:06.957Z"
   },
   {
    "duration": 449,
    "start_time": "2021-08-08T12:35:07.477Z"
   },
   {
    "duration": 16,
    "start_time": "2021-08-08T12:35:07.928Z"
   },
   {
    "duration": 45,
    "start_time": "2021-08-08T12:35:07.946Z"
   },
   {
    "duration": 315,
    "start_time": "2021-08-08T12:35:07.993Z"
   },
   {
    "duration": 9,
    "start_time": "2021-08-08T12:35:08.310Z"
   },
   {
    "duration": 43,
    "start_time": "2021-08-08T12:35:24.009Z"
   },
   {
    "duration": 24,
    "start_time": "2021-08-08T12:35:50.301Z"
   },
   {
    "duration": 286,
    "start_time": "2021-08-08T12:35:51.185Z"
   },
   {
    "duration": 1237,
    "start_time": "2021-08-08T12:36:15.001Z"
   },
   {
    "duration": 2,
    "start_time": "2021-08-08T12:36:16.240Z"
   },
   {
    "duration": 46,
    "start_time": "2021-08-08T12:36:16.244Z"
   },
   {
    "duration": 19,
    "start_time": "2021-08-08T12:36:16.292Z"
   },
   {
    "duration": 8,
    "start_time": "2021-08-08T12:36:16.313Z"
   },
   {
    "duration": 16,
    "start_time": "2021-08-08T12:36:16.323Z"
   },
   {
    "duration": 14,
    "start_time": "2021-08-08T12:36:16.341Z"
   },
   {
    "duration": 19,
    "start_time": "2021-08-08T12:36:16.358Z"
   },
   {
    "duration": 19,
    "start_time": "2021-08-08T12:36:16.379Z"
   },
   {
    "duration": 16,
    "start_time": "2021-08-08T12:36:16.399Z"
   },
   {
    "duration": 26,
    "start_time": "2021-08-08T12:36:16.416Z"
   },
   {
    "duration": 22,
    "start_time": "2021-08-08T12:36:16.444Z"
   },
   {
    "duration": 10,
    "start_time": "2021-08-08T12:36:16.468Z"
   },
   {
    "duration": 18,
    "start_time": "2021-08-08T12:36:16.479Z"
   },
   {
    "duration": 20,
    "start_time": "2021-08-08T12:36:16.498Z"
   },
   {
    "duration": 22,
    "start_time": "2021-08-08T12:36:16.520Z"
   },
   {
    "duration": 4,
    "start_time": "2021-08-08T12:36:16.543Z"
   },
   {
    "duration": 111,
    "start_time": "2021-08-08T12:36:16.549Z"
   },
   {
    "duration": 5,
    "start_time": "2021-08-08T12:36:16.662Z"
   },
   {
    "duration": 18,
    "start_time": "2021-08-08T12:36:16.669Z"
   },
   {
    "duration": 32,
    "start_time": "2021-08-08T12:36:16.689Z"
   },
   {
    "duration": 6,
    "start_time": "2021-08-08T12:36:16.723Z"
   },
   {
    "duration": 23,
    "start_time": "2021-08-08T12:36:16.731Z"
   },
   {
    "duration": 18,
    "start_time": "2021-08-08T12:36:16.756Z"
   },
   {
    "duration": 321,
    "start_time": "2021-08-08T12:36:16.776Z"
   },
   {
    "duration": 683,
    "start_time": "2021-08-08T12:36:17.098Z"
   },
   {
    "duration": 16,
    "start_time": "2021-08-08T12:36:17.782Z"
   },
   {
    "duration": 460,
    "start_time": "2021-08-08T12:36:17.800Z"
   },
   {
    "duration": 6,
    "start_time": "2021-08-08T12:36:18.262Z"
   },
   {
    "duration": 61,
    "start_time": "2021-08-08T12:36:18.270Z"
   },
   {
    "duration": 305,
    "start_time": "2021-08-08T12:36:18.333Z"
   },
   {
    "duration": 8,
    "start_time": "2021-08-08T12:36:18.641Z"
   },
   {
    "duration": 17,
    "start_time": "2021-08-08T12:36:18.651Z"
   },
   {
    "duration": 346,
    "start_time": "2021-08-08T12:37:04.652Z"
   },
   {
    "duration": 259,
    "start_time": "2021-08-08T12:37:21.537Z"
   },
   {
    "duration": 276,
    "start_time": "2021-08-08T13:26:15.841Z"
   },
   {
    "duration": 47,
    "start_time": "2021-08-08T13:27:42.908Z"
   },
   {
    "duration": 37,
    "start_time": "2021-08-08T13:33:50.302Z"
   },
   {
    "duration": 35,
    "start_time": "2021-08-08T13:33:59.286Z"
   },
   {
    "duration": 27,
    "start_time": "2021-08-08T13:34:04.518Z"
   },
   {
    "duration": 27,
    "start_time": "2021-08-08T13:34:14.742Z"
   },
   {
    "duration": 24,
    "start_time": "2021-08-08T13:34:22.494Z"
   },
   {
    "duration": 50,
    "start_time": "2021-08-08T13:45:28.333Z"
   },
   {
    "duration": 279,
    "start_time": "2021-08-08T14:06:12.458Z"
   },
   {
    "duration": 5,
    "start_time": "2021-08-08T14:06:45.170Z"
   },
   {
    "duration": 5,
    "start_time": "2021-08-08T14:07:01.986Z"
   },
   {
    "duration": 5,
    "start_time": "2021-08-08T14:07:13.618Z"
   },
   {
    "duration": 5,
    "start_time": "2021-08-08T14:08:37.134Z"
   },
   {
    "duration": 2,
    "start_time": "2021-08-08T14:09:17.362Z"
   },
   {
    "duration": 4,
    "start_time": "2021-08-08T14:09:31.218Z"
   },
   {
    "duration": 24,
    "start_time": "2021-08-08T14:11:20.627Z"
   },
   {
    "duration": 19,
    "start_time": "2021-08-08T14:12:13.263Z"
   },
   {
    "duration": 32,
    "start_time": "2021-08-08T14:12:21.431Z"
   },
   {
    "duration": 27,
    "start_time": "2021-08-08T14:12:50.352Z"
   },
   {
    "duration": 25,
    "start_time": "2021-08-08T14:16:57.699Z"
   },
   {
    "duration": 27,
    "start_time": "2021-08-08T14:17:55.343Z"
   },
   {
    "duration": 27,
    "start_time": "2021-08-08T14:27:20.370Z"
   },
   {
    "duration": 22,
    "start_time": "2021-08-08T14:27:30.523Z"
   },
   {
    "duration": 26,
    "start_time": "2021-08-08T14:27:58.423Z"
   },
   {
    "duration": 525,
    "start_time": "2021-08-08T14:28:55.491Z"
   },
   {
    "duration": 507,
    "start_time": "2021-08-08T14:31:11.775Z"
   },
   {
    "duration": 273,
    "start_time": "2021-08-08T14:33:21.832Z"
   },
   {
    "duration": 275,
    "start_time": "2021-08-08T14:33:31.027Z"
   },
   {
    "duration": 19,
    "start_time": "2021-08-08T14:34:02.824Z"
   },
   {
    "duration": 27,
    "start_time": "2021-08-08T14:34:20.183Z"
   },
   {
    "duration": 264,
    "start_time": "2021-08-08T14:34:37.164Z"
   },
   {
    "duration": 250,
    "start_time": "2021-08-08T14:34:45.951Z"
   },
   {
    "duration": 9,
    "start_time": "2021-08-08T14:34:59.024Z"
   },
   {
    "duration": 88,
    "start_time": "2021-08-08T14:36:46.875Z"
   },
   {
    "duration": 30,
    "start_time": "2021-08-08T14:37:16.296Z"
   },
   {
    "duration": 27,
    "start_time": "2021-08-08T14:37:47.479Z"
   },
   {
    "duration": 30,
    "start_time": "2021-08-08T14:38:11.839Z"
   },
   {
    "duration": 35,
    "start_time": "2021-08-08T14:38:14.391Z"
   },
   {
    "duration": 6,
    "start_time": "2021-08-08T14:43:51.399Z"
   },
   {
    "duration": 268,
    "start_time": "2021-08-08T14:44:14.404Z"
   },
   {
    "duration": 21,
    "start_time": "2021-08-08T14:44:25.352Z"
   },
   {
    "duration": 24,
    "start_time": "2021-08-08T14:44:51.919Z"
   },
   {
    "duration": 50,
    "start_time": "2021-08-08T14:44:57.660Z"
   },
   {
    "duration": 25,
    "start_time": "2021-08-08T14:45:14.399Z"
   },
   {
    "duration": 24,
    "start_time": "2021-08-08T14:45:29.251Z"
   },
   {
    "duration": 24,
    "start_time": "2021-08-08T14:45:42.024Z"
   },
   {
    "duration": 52,
    "start_time": "2021-08-08T14:45:48.907Z"
   },
   {
    "duration": 24,
    "start_time": "2021-08-08T14:46:17.984Z"
   },
   {
    "duration": 28,
    "start_time": "2021-08-08T14:46:39.819Z"
   },
   {
    "duration": 5,
    "start_time": "2021-08-08T14:50:13.039Z"
   },
   {
    "duration": 1283,
    "start_time": "2021-08-08T14:50:18.539Z"
   },
   {
    "duration": 3,
    "start_time": "2021-08-08T14:50:19.824Z"
   },
   {
    "duration": 53,
    "start_time": "2021-08-08T14:50:19.828Z"
   },
   {
    "duration": 19,
    "start_time": "2021-08-08T14:50:19.883Z"
   },
   {
    "duration": 16,
    "start_time": "2021-08-08T14:50:19.904Z"
   },
   {
    "duration": 30,
    "start_time": "2021-08-08T14:50:19.922Z"
   },
   {
    "duration": 22,
    "start_time": "2021-08-08T14:50:19.953Z"
   },
   {
    "duration": 22,
    "start_time": "2021-08-08T14:50:19.979Z"
   },
   {
    "duration": 21,
    "start_time": "2021-08-08T14:50:20.003Z"
   },
   {
    "duration": 31,
    "start_time": "2021-08-08T14:50:20.026Z"
   },
   {
    "duration": 32,
    "start_time": "2021-08-08T14:50:20.059Z"
   },
   {
    "duration": 36,
    "start_time": "2021-08-08T14:50:20.092Z"
   },
   {
    "duration": 9,
    "start_time": "2021-08-08T14:50:20.129Z"
   },
   {
    "duration": 21,
    "start_time": "2021-08-08T14:50:20.139Z"
   },
   {
    "duration": 22,
    "start_time": "2021-08-08T14:50:20.161Z"
   },
   {
    "duration": 13,
    "start_time": "2021-08-08T14:50:20.184Z"
   },
   {
    "duration": 16,
    "start_time": "2021-08-08T14:50:20.199Z"
   },
   {
    "duration": 134,
    "start_time": "2021-08-08T14:50:20.216Z"
   },
   {
    "duration": 5,
    "start_time": "2021-08-08T14:50:20.352Z"
   },
   {
    "duration": 27,
    "start_time": "2021-08-08T14:50:20.359Z"
   },
   {
    "duration": 35,
    "start_time": "2021-08-08T14:50:20.388Z"
   },
   {
    "duration": 7,
    "start_time": "2021-08-08T14:50:20.425Z"
   },
   {
    "duration": 25,
    "start_time": "2021-08-08T14:50:20.435Z"
   },
   {
    "duration": 25,
    "start_time": "2021-08-08T14:50:20.462Z"
   },
   {
    "duration": 321,
    "start_time": "2021-08-08T14:50:20.489Z"
   },
   {
    "duration": 690,
    "start_time": "2021-08-08T14:50:20.811Z"
   },
   {
    "duration": 16,
    "start_time": "2021-08-08T14:50:21.503Z"
   },
   {
    "duration": 569,
    "start_time": "2021-08-08T14:50:21.521Z"
   },
   {
    "duration": 29,
    "start_time": "2021-08-08T14:50:22.093Z"
   },
   {
    "duration": 523,
    "start_time": "2021-08-08T14:50:22.124Z"
   },
   {
    "duration": 25,
    "start_time": "2021-08-08T14:50:22.649Z"
   },
   {
    "duration": 903,
    "start_time": "2021-08-08T14:59:18.536Z"
   },
   {
    "duration": 855,
    "start_time": "2021-08-08T14:59:57.756Z"
   },
   {
    "duration": 41,
    "start_time": "2021-08-08T15:00:14.656Z"
   },
   {
    "duration": 43,
    "start_time": "2021-08-08T15:00:32.368Z"
   },
   {
    "duration": 380,
    "start_time": "2021-08-08T15:00:44.100Z"
   },
   {
    "duration": 13,
    "start_time": "2021-08-08T15:00:50.925Z"
   },
   {
    "duration": 857,
    "start_time": "2021-08-08T15:01:04.844Z"
   },
   {
    "duration": 28,
    "start_time": "2021-08-08T15:01:18.495Z"
   },
   {
    "duration": 503,
    "start_time": "2021-08-08T15:01:22.815Z"
   },
   {
    "duration": 24,
    "start_time": "2021-08-08T15:01:29.236Z"
   },
   {
    "duration": 24,
    "start_time": "2021-08-08T15:01:43.076Z"
   },
   {
    "duration": 28,
    "start_time": "2021-08-08T17:33:12.894Z"
   },
   {
    "duration": 23,
    "start_time": "2021-08-08T18:02:19.641Z"
   },
   {
    "duration": 35,
    "start_time": "2021-08-08T18:22:57.790Z"
   },
   {
    "duration": 24,
    "start_time": "2021-08-08T18:23:36.791Z"
   },
   {
    "duration": 30,
    "start_time": "2021-08-08T18:23:43.666Z"
   },
   {
    "duration": 504,
    "start_time": "2021-08-08T18:23:44.411Z"
   },
   {
    "duration": 24,
    "start_time": "2021-08-08T18:23:46.742Z"
   },
   {
    "duration": 25,
    "start_time": "2021-08-08T18:24:24.886Z"
   },
   {
    "duration": 30,
    "start_time": "2021-08-08T18:24:31.726Z"
   },
   {
    "duration": 31,
    "start_time": "2021-08-08T18:24:43.334Z"
   },
   {
    "duration": 5,
    "start_time": "2021-08-08T18:25:42.534Z"
   },
   {
    "duration": 338,
    "start_time": "2021-08-08T18:26:12.718Z"
   },
   {
    "duration": 5,
    "start_time": "2021-08-08T18:29:46.007Z"
   },
   {
    "duration": 256,
    "start_time": "2021-08-08T18:30:04.963Z"
   },
   {
    "duration": 4,
    "start_time": "2021-08-08T18:30:12.710Z"
   },
   {
    "duration": 245,
    "start_time": "2021-08-08T18:30:19.435Z"
   },
   {
    "duration": 4,
    "start_time": "2021-08-08T18:30:51.591Z"
   },
   {
    "duration": 55,
    "start_time": "2021-08-08T18:30:59.803Z"
   },
   {
    "duration": 257,
    "start_time": "2021-08-08T18:31:23.239Z"
   },
   {
    "duration": 250,
    "start_time": "2021-08-08T18:31:32.150Z"
   },
   {
    "duration": 3,
    "start_time": "2021-08-08T18:31:37.791Z"
   },
   {
    "duration": 4,
    "start_time": "2021-08-08T18:31:48.927Z"
   },
   {
    "duration": 5,
    "start_time": "2021-08-08T18:31:55.839Z"
   },
   {
    "duration": 3,
    "start_time": "2021-08-08T18:32:15.231Z"
   },
   {
    "duration": 6,
    "start_time": "2021-08-08T18:32:21.278Z"
   },
   {
    "duration": 248,
    "start_time": "2021-08-08T18:32:34.238Z"
   },
   {
    "duration": 4,
    "start_time": "2021-08-08T18:32:43.531Z"
   },
   {
    "duration": 5,
    "start_time": "2021-08-08T18:32:48.798Z"
   },
   {
    "duration": 241,
    "start_time": "2021-08-08T18:32:57.195Z"
   },
   {
    "duration": 3,
    "start_time": "2021-08-08T18:33:02.515Z"
   },
   {
    "duration": 3,
    "start_time": "2021-08-08T18:33:34.355Z"
   },
   {
    "duration": 4,
    "start_time": "2021-08-08T18:33:40.079Z"
   },
   {
    "duration": 4,
    "start_time": "2021-08-08T18:33:47.278Z"
   },
   {
    "duration": 5,
    "start_time": "2021-08-08T18:34:11.314Z"
   },
   {
    "duration": 7,
    "start_time": "2021-08-08T18:34:21.047Z"
   },
   {
    "duration": 5,
    "start_time": "2021-08-08T18:34:35.842Z"
   },
   {
    "duration": 7,
    "start_time": "2021-08-08T18:34:41.799Z"
   },
   {
    "duration": 10,
    "start_time": "2021-08-08T18:35:30.262Z"
   },
   {
    "duration": 8,
    "start_time": "2021-08-08T18:35:36.651Z"
   },
   {
    "duration": 252,
    "start_time": "2021-08-08T18:36:07.238Z"
   },
   {
    "duration": 8,
    "start_time": "2021-08-08T18:36:12.866Z"
   },
   {
    "duration": 8,
    "start_time": "2021-08-08T18:37:06.918Z"
   },
   {
    "duration": 254,
    "start_time": "2021-08-08T18:37:56.955Z"
   },
   {
    "duration": 1274,
    "start_time": "2021-08-08T18:38:02.587Z"
   },
   {
    "duration": 3,
    "start_time": "2021-08-08T18:38:03.862Z"
   },
   {
    "duration": 51,
    "start_time": "2021-08-08T18:38:03.867Z"
   },
   {
    "duration": 20,
    "start_time": "2021-08-08T18:38:03.920Z"
   },
   {
    "duration": 3,
    "start_time": "2021-08-08T18:38:03.941Z"
   },
   {
    "duration": 15,
    "start_time": "2021-08-08T18:38:03.946Z"
   },
   {
    "duration": 7,
    "start_time": "2021-08-08T18:38:03.963Z"
   },
   {
    "duration": 7,
    "start_time": "2021-08-08T18:38:03.972Z"
   },
   {
    "duration": 9,
    "start_time": "2021-08-08T18:38:03.981Z"
   },
   {
    "duration": 9,
    "start_time": "2021-08-08T18:38:03.991Z"
   },
   {
    "duration": 41,
    "start_time": "2021-08-08T18:38:04.001Z"
   },
   {
    "duration": 21,
    "start_time": "2021-08-08T18:38:04.044Z"
   },
   {
    "duration": 9,
    "start_time": "2021-08-08T18:38:04.066Z"
   },
   {
    "duration": 11,
    "start_time": "2021-08-08T18:38:04.077Z"
   },
   {
    "duration": 12,
    "start_time": "2021-08-08T18:38:04.090Z"
   },
   {
    "duration": 4,
    "start_time": "2021-08-08T18:38:04.103Z"
   },
   {
    "duration": 4,
    "start_time": "2021-08-08T18:38:04.141Z"
   },
   {
    "duration": 123,
    "start_time": "2021-08-08T18:38:04.147Z"
   },
   {
    "duration": 5,
    "start_time": "2021-08-08T18:38:04.272Z"
   },
   {
    "duration": 13,
    "start_time": "2021-08-08T18:38:04.279Z"
   },
   {
    "duration": 27,
    "start_time": "2021-08-08T18:38:04.293Z"
   },
   {
    "duration": 25,
    "start_time": "2021-08-08T18:38:04.321Z"
   },
   {
    "duration": 18,
    "start_time": "2021-08-08T18:38:04.349Z"
   },
   {
    "duration": 20,
    "start_time": "2021-08-08T18:38:04.369Z"
   },
   {
    "duration": 349,
    "start_time": "2021-08-08T18:38:04.391Z"
   },
   {
    "duration": 726,
    "start_time": "2021-08-08T18:38:04.742Z"
   },
   {
    "duration": 18,
    "start_time": "2021-08-08T18:38:05.470Z"
   },
   {
    "duration": 497,
    "start_time": "2021-08-08T18:38:05.489Z"
   },
   {
    "duration": 33,
    "start_time": "2021-08-08T18:38:05.988Z"
   },
   {
    "duration": 568,
    "start_time": "2021-08-08T18:38:06.022Z"
   },
   {
    "duration": 25,
    "start_time": "2021-08-08T18:38:06.592Z"
   },
   {
    "duration": 396,
    "start_time": "2021-08-08T18:38:06.620Z"
   },
   {
    "duration": 1115,
    "start_time": "2021-08-08T18:38:14.415Z"
   },
   {
    "duration": 4,
    "start_time": "2021-08-08T18:38:32.639Z"
   },
   {
    "duration": 30,
    "start_time": "2021-08-08T18:39:17.710Z"
   },
   {
    "duration": 503,
    "start_time": "2021-08-08T18:39:18.199Z"
   },
   {
    "duration": 23,
    "start_time": "2021-08-08T18:39:18.704Z"
   },
   {
    "duration": 15,
    "start_time": "2021-08-08T18:39:18.729Z"
   },
   {
    "duration": 963,
    "start_time": "2021-08-08T18:39:18.745Z"
   },
   {
    "duration": 262,
    "start_time": "2021-08-08T18:39:37.899Z"
   },
   {
    "duration": 972,
    "start_time": "2021-08-08T18:39:48.159Z"
   },
   {
    "duration": 19,
    "start_time": "2021-08-08T18:40:12.967Z"
   },
   {
    "duration": 27,
    "start_time": "2021-08-08T18:40:31.339Z"
   },
   {
    "duration": 4,
    "start_time": "2021-08-08T18:40:39.627Z"
   },
   {
    "duration": 575,
    "start_time": "2021-08-08T18:41:01.827Z"
   },
   {
    "duration": 287,
    "start_time": "2021-08-08T18:41:14.959Z"
   },
   {
    "duration": 95,
    "start_time": "2021-08-08T18:41:40.199Z"
   },
   {
    "duration": 271,
    "start_time": "2021-08-08T18:41:44.291Z"
   },
   {
    "duration": 287,
    "start_time": "2021-08-08T18:42:04.691Z"
   },
   {
    "duration": 6314,
    "start_time": "2021-08-08T18:42:10.735Z"
   },
   {
    "duration": 19,
    "start_time": "2021-08-08T18:42:40.575Z"
   },
   {
    "duration": 19,
    "start_time": "2021-08-08T18:48:32.079Z"
   },
   {
    "duration": 41,
    "start_time": "2021-08-08T18:48:40.638Z"
   },
   {
    "duration": 272,
    "start_time": "2021-08-08T18:49:42.898Z"
   },
   {
    "duration": 246,
    "start_time": "2021-08-08T18:49:53.111Z"
   },
   {
    "duration": 32,
    "start_time": "2021-08-08T19:01:29.056Z"
   },
   {
    "duration": 79,
    "start_time": "2021-08-08T19:07:45.264Z"
   },
   {
    "duration": 28,
    "start_time": "2021-08-08T19:07:51.460Z"
   },
   {
    "duration": 21,
    "start_time": "2021-08-08T19:09:21.084Z"
   },
   {
    "duration": 21,
    "start_time": "2021-08-08T19:09:28.396Z"
   },
   {
    "duration": 7,
    "start_time": "2021-08-08T19:09:43.276Z"
   },
   {
    "duration": 1042,
    "start_time": "2021-08-08T19:10:06.712Z"
   },
   {
    "duration": 6087,
    "start_time": "2021-08-08T19:10:28.416Z"
   },
   {
    "duration": 5,
    "start_time": "2021-08-08T19:10:46.344Z"
   },
   {
    "duration": 5,
    "start_time": "2021-08-08T19:11:37.120Z"
   },
   {
    "duration": 4,
    "start_time": "2021-08-08T19:11:50.724Z"
   },
   {
    "duration": 3,
    "start_time": "2021-08-08T19:12:07.401Z"
   },
   {
    "duration": 4,
    "start_time": "2021-08-08T19:12:29.115Z"
   },
   {
    "duration": 6,
    "start_time": "2021-08-08T19:12:41.492Z"
   },
   {
    "duration": 8,
    "start_time": "2021-08-08T19:14:08.393Z"
   },
   {
    "duration": 25,
    "start_time": "2021-08-08T19:14:26.220Z"
   },
   {
    "duration": 4,
    "start_time": "2021-08-08T19:14:36.336Z"
   },
   {
    "duration": 24,
    "start_time": "2021-08-08T19:24:17.484Z"
   },
   {
    "duration": 4,
    "start_time": "2021-08-08T19:25:00.089Z"
   },
   {
    "duration": 266,
    "start_time": "2021-08-08T19:26:06.852Z"
   },
   {
    "duration": 270,
    "start_time": "2021-08-08T19:26:27.404Z"
   },
   {
    "duration": 21,
    "start_time": "2021-08-08T19:27:56.728Z"
   },
   {
    "duration": 20,
    "start_time": "2021-08-08T19:28:30.317Z"
   },
   {
    "duration": 3,
    "start_time": "2021-08-08T19:28:39.121Z"
   },
   {
    "duration": 14,
    "start_time": "2021-08-08T19:29:13.288Z"
   },
   {
    "duration": 475,
    "start_time": "2021-08-08T19:30:04.580Z"
   },
   {
    "duration": 87,
    "start_time": "2021-08-08T19:35:23.233Z"
   },
   {
    "duration": 18,
    "start_time": "2021-08-08T19:38:11.984Z"
   },
   {
    "duration": 4,
    "start_time": "2021-08-08T19:40:14.316Z"
   },
   {
    "duration": 6,
    "start_time": "2021-08-08T19:40:19.289Z"
   },
   {
    "duration": 6,
    "start_time": "2021-08-08T19:40:29.400Z"
   },
   {
    "duration": 6,
    "start_time": "2021-08-08T19:40:45.789Z"
   },
   {
    "duration": 280,
    "start_time": "2021-08-08T19:40:49.432Z"
   },
   {
    "duration": 6,
    "start_time": "2021-08-08T19:40:51.533Z"
   },
   {
    "duration": 13,
    "start_time": "2021-08-08T19:40:57.744Z"
   },
   {
    "duration": 7,
    "start_time": "2021-08-08T19:41:21.064Z"
   },
   {
    "duration": 6,
    "start_time": "2021-08-08T19:41:25.689Z"
   },
   {
    "duration": 11,
    "start_time": "2021-08-08T19:41:33.644Z"
   },
   {
    "duration": 7,
    "start_time": "2021-08-08T19:41:44.336Z"
   },
   {
    "duration": 8,
    "start_time": "2021-08-08T19:41:49.624Z"
   },
   {
    "duration": 8,
    "start_time": "2021-08-08T19:42:49.368Z"
   },
   {
    "duration": 7,
    "start_time": "2021-08-08T19:42:54.833Z"
   },
   {
    "duration": 92,
    "start_time": "2021-08-08T19:42:58.636Z"
   },
   {
    "duration": 7,
    "start_time": "2021-08-08T19:43:45.774Z"
   },
   {
    "duration": 9,
    "start_time": "2021-08-08T19:44:02.142Z"
   },
   {
    "duration": 7,
    "start_time": "2021-08-08T19:44:31.854Z"
   },
   {
    "duration": 7,
    "start_time": "2021-08-08T19:44:49.357Z"
   },
   {
    "duration": 7,
    "start_time": "2021-08-08T19:45:07.221Z"
   },
   {
    "duration": 1222,
    "start_time": "2021-08-08T19:49:51.933Z"
   },
   {
    "duration": 3,
    "start_time": "2021-08-08T19:49:53.157Z"
   },
   {
    "duration": 44,
    "start_time": "2021-08-08T19:49:53.162Z"
   },
   {
    "duration": 20,
    "start_time": "2021-08-08T19:49:53.207Z"
   },
   {
    "duration": 3,
    "start_time": "2021-08-08T19:49:53.228Z"
   },
   {
    "duration": 14,
    "start_time": "2021-08-08T19:49:53.233Z"
   },
   {
    "duration": 9,
    "start_time": "2021-08-08T19:49:53.249Z"
   },
   {
    "duration": 6,
    "start_time": "2021-08-08T19:49:53.261Z"
   },
   {
    "duration": 9,
    "start_time": "2021-08-08T19:49:53.269Z"
   },
   {
    "duration": 6,
    "start_time": "2021-08-08T19:49:53.280Z"
   },
   {
    "duration": 10,
    "start_time": "2021-08-08T19:49:53.287Z"
   },
   {
    "duration": 59,
    "start_time": "2021-08-08T19:49:53.299Z"
   },
   {
    "duration": 9,
    "start_time": "2021-08-08T19:49:53.359Z"
   },
   {
    "duration": 12,
    "start_time": "2021-08-08T19:49:53.370Z"
   },
   {
    "duration": 11,
    "start_time": "2021-08-08T19:49:53.384Z"
   },
   {
    "duration": 5,
    "start_time": "2021-08-08T19:49:53.397Z"
   },
   {
    "duration": 6,
    "start_time": "2021-08-08T19:49:53.403Z"
   },
   {
    "duration": 147,
    "start_time": "2021-08-08T19:49:53.411Z"
   },
   {
    "duration": 7,
    "start_time": "2021-08-08T19:49:53.560Z"
   },
   {
    "duration": 9,
    "start_time": "2021-08-08T19:49:53.568Z"
   },
   {
    "duration": 27,
    "start_time": "2021-08-08T19:49:53.578Z"
   },
   {
    "duration": 34,
    "start_time": "2021-08-08T19:49:53.607Z"
   },
   {
    "duration": 18,
    "start_time": "2021-08-08T19:49:53.645Z"
   },
   {
    "duration": 16,
    "start_time": "2021-08-08T19:49:53.665Z"
   },
   {
    "duration": 401,
    "start_time": "2021-08-08T19:49:53.683Z"
   },
   {
    "duration": 717,
    "start_time": "2021-08-08T19:49:54.086Z"
   },
   {
    "duration": 16,
    "start_time": "2021-08-08T19:49:54.805Z"
   },
   {
    "duration": 487,
    "start_time": "2021-08-08T19:49:54.822Z"
   },
   {
    "duration": 42,
    "start_time": "2021-08-08T19:49:55.311Z"
   },
   {
    "duration": 738,
    "start_time": "2021-08-08T19:49:55.355Z"
   },
   {
    "duration": 26,
    "start_time": "2021-08-08T19:49:56.095Z"
   },
   {
    "duration": 18,
    "start_time": "2021-08-08T19:49:56.123Z"
   },
   {
    "duration": 6,
    "start_time": "2021-08-08T19:49:56.149Z"
   },
   {
    "duration": 29,
    "start_time": "2021-08-08T19:49:56.157Z"
   },
   {
    "duration": 567,
    "start_time": "2021-08-08T19:49:56.188Z"
   },
   {
    "duration": -56,
    "start_time": "2021-08-08T19:49:56.813Z"
   },
   {
    "duration": -60,
    "start_time": "2021-08-08T19:49:56.818Z"
   },
   {
    "duration": -62,
    "start_time": "2021-08-08T19:49:56.821Z"
   },
   {
    "duration": -67,
    "start_time": "2021-08-08T19:49:56.827Z"
   },
   {
    "duration": -69,
    "start_time": "2021-08-08T19:49:56.830Z"
   },
   {
    "duration": -71,
    "start_time": "2021-08-08T19:49:56.833Z"
   },
   {
    "duration": -74,
    "start_time": "2021-08-08T19:49:56.837Z"
   },
   {
    "duration": -76,
    "start_time": "2021-08-08T19:49:56.840Z"
   },
   {
    "duration": -78,
    "start_time": "2021-08-08T19:49:56.842Z"
   },
   {
    "duration": -80,
    "start_time": "2021-08-08T19:49:56.845Z"
   },
   {
    "duration": -82,
    "start_time": "2021-08-08T19:49:56.848Z"
   },
   {
    "duration": -84,
    "start_time": "2021-08-08T19:49:56.851Z"
   },
   {
    "duration": 8,
    "start_time": "2021-08-08T19:50:18.609Z"
   },
   {
    "duration": 8,
    "start_time": "2021-08-08T19:50:18.837Z"
   },
   {
    "duration": 7,
    "start_time": "2021-08-08T19:50:19.005Z"
   },
   {
    "duration": 7,
    "start_time": "2021-08-08T19:50:20.425Z"
   },
   {
    "duration": 7,
    "start_time": "2021-08-08T19:50:20.817Z"
   },
   {
    "duration": 7,
    "start_time": "2021-08-08T19:50:21.981Z"
   },
   {
    "duration": 7,
    "start_time": "2021-08-08T19:50:25.177Z"
   },
   {
    "duration": 7,
    "start_time": "2021-08-08T19:50:25.693Z"
   },
   {
    "duration": 7,
    "start_time": "2021-08-08T19:50:26.489Z"
   },
   {
    "duration": 15,
    "start_time": "2021-08-08T19:51:41.929Z"
   },
   {
    "duration": 13,
    "start_time": "2021-08-08T19:51:43.989Z"
   },
   {
    "duration": 14,
    "start_time": "2021-08-08T19:51:46.757Z"
   },
   {
    "duration": 4,
    "start_time": "2021-08-08T19:52:24.893Z"
   },
   {
    "duration": 1890,
    "start_time": "2021-08-09T10:38:35.351Z"
   },
   {
    "duration": 3,
    "start_time": "2021-08-09T10:38:37.244Z"
   },
   {
    "duration": 48,
    "start_time": "2021-08-09T10:38:37.251Z"
   },
   {
    "duration": 31,
    "start_time": "2021-08-09T10:38:37.302Z"
   },
   {
    "duration": 4,
    "start_time": "2021-08-09T10:38:37.335Z"
   },
   {
    "duration": 33,
    "start_time": "2021-08-09T10:38:37.342Z"
   },
   {
    "duration": 8,
    "start_time": "2021-08-09T10:38:37.377Z"
   },
   {
    "duration": 11,
    "start_time": "2021-08-09T10:38:37.390Z"
   },
   {
    "duration": 16,
    "start_time": "2021-08-09T10:38:37.404Z"
   },
   {
    "duration": 7,
    "start_time": "2021-08-09T10:38:37.467Z"
   },
   {
    "duration": 17,
    "start_time": "2021-08-09T10:38:37.477Z"
   },
   {
    "duration": 70,
    "start_time": "2021-08-09T10:38:37.497Z"
   },
   {
    "duration": 13,
    "start_time": "2021-08-09T10:38:37.570Z"
   },
   {
    "duration": 18,
    "start_time": "2021-08-09T10:38:37.585Z"
   },
   {
    "duration": 21,
    "start_time": "2021-08-09T10:38:37.605Z"
   },
   {
    "duration": 44,
    "start_time": "2021-08-09T10:38:37.628Z"
   },
   {
    "duration": 6,
    "start_time": "2021-08-09T10:38:37.675Z"
   },
   {
    "duration": 202,
    "start_time": "2021-08-09T10:38:37.683Z"
   },
   {
    "duration": 8,
    "start_time": "2021-08-09T10:38:37.887Z"
   },
   {
    "duration": 11,
    "start_time": "2021-08-09T10:38:37.897Z"
   },
   {
    "duration": 66,
    "start_time": "2021-08-09T10:38:37.910Z"
   },
   {
    "duration": 10,
    "start_time": "2021-08-09T10:38:37.978Z"
   },
   {
    "duration": 25,
    "start_time": "2021-08-09T10:38:37.994Z"
   },
   {
    "duration": 65,
    "start_time": "2021-08-09T10:38:38.022Z"
   },
   {
    "duration": 666,
    "start_time": "2021-08-09T10:38:38.089Z"
   },
   {
    "duration": 1151,
    "start_time": "2021-08-09T10:38:38.759Z"
   },
   {
    "duration": 26,
    "start_time": "2021-08-09T10:38:39.913Z"
   },
   {
    "duration": 867,
    "start_time": "2021-08-09T10:38:39.942Z"
   },
   {
    "duration": 64,
    "start_time": "2021-08-09T10:38:40.812Z"
   },
   {
    "duration": 926,
    "start_time": "2021-08-09T10:38:40.880Z"
   },
   {
    "duration": 39,
    "start_time": "2021-08-09T10:38:41.809Z"
   },
   {
    "duration": 10,
    "start_time": "2021-08-09T10:38:41.868Z"
   },
   {
    "duration": 4,
    "start_time": "2021-08-09T10:38:41.880Z"
   },
   {
    "duration": 28,
    "start_time": "2021-08-09T10:38:41.887Z"
   },
   {
    "duration": 4,
    "start_time": "2021-08-09T10:38:41.917Z"
   },
   {
    "duration": 46,
    "start_time": "2021-08-09T10:38:41.924Z"
   },
   {
    "duration": 456,
    "start_time": "2021-08-09T10:38:41.973Z"
   },
   {
    "duration": -107,
    "start_time": "2021-08-09T10:38:42.539Z"
   },
   {
    "duration": -112,
    "start_time": "2021-08-09T10:38:42.546Z"
   },
   {
    "duration": -114,
    "start_time": "2021-08-09T10:38:42.550Z"
   },
   {
    "duration": -119,
    "start_time": "2021-08-09T10:38:42.557Z"
   },
   {
    "duration": -122,
    "start_time": "2021-08-09T10:38:42.562Z"
   },
   {
    "duration": -124,
    "start_time": "2021-08-09T10:38:42.566Z"
   },
   {
    "duration": -126,
    "start_time": "2021-08-09T10:38:42.571Z"
   },
   {
    "duration": -128,
    "start_time": "2021-08-09T10:38:42.575Z"
   },
   {
    "duration": -145,
    "start_time": "2021-08-09T10:38:42.594Z"
   },
   {
    "duration": -148,
    "start_time": "2021-08-09T10:38:42.599Z"
   },
   {
    "duration": -150,
    "start_time": "2021-08-09T10:38:42.603Z"
   },
   {
    "duration": -151,
    "start_time": "2021-08-09T10:38:42.606Z"
   },
   {
    "duration": -150,
    "start_time": "2021-08-09T10:38:42.610Z"
   },
   {
    "duration": 1702,
    "start_time": "2021-08-09T10:38:58.789Z"
   },
   {
    "duration": 3,
    "start_time": "2021-08-09T10:39:00.494Z"
   },
   {
    "duration": 53,
    "start_time": "2021-08-09T10:39:00.500Z"
   },
   {
    "duration": 38,
    "start_time": "2021-08-09T10:39:00.556Z"
   },
   {
    "duration": 5,
    "start_time": "2021-08-09T10:39:00.597Z"
   },
   {
    "duration": 24,
    "start_time": "2021-08-09T10:39:00.604Z"
   },
   {
    "duration": 37,
    "start_time": "2021-08-09T10:39:00.630Z"
   },
   {
    "duration": 9,
    "start_time": "2021-08-09T10:39:00.673Z"
   },
   {
    "duration": 27,
    "start_time": "2021-08-09T10:39:00.686Z"
   },
   {
    "duration": 7,
    "start_time": "2021-08-09T10:39:00.715Z"
   },
   {
    "duration": 16,
    "start_time": "2021-08-09T10:39:00.725Z"
   },
   {
    "duration": 35,
    "start_time": "2021-08-09T10:39:00.768Z"
   },
   {
    "duration": 13,
    "start_time": "2021-08-09T10:39:00.806Z"
   },
   {
    "duration": 52,
    "start_time": "2021-08-09T10:39:00.821Z"
   },
   {
    "duration": 19,
    "start_time": "2021-08-09T10:39:00.876Z"
   },
   {
    "duration": 6,
    "start_time": "2021-08-09T10:39:00.897Z"
   },
   {
    "duration": 6,
    "start_time": "2021-08-09T10:39:00.906Z"
   },
   {
    "duration": 220,
    "start_time": "2021-08-09T10:39:00.914Z"
   },
   {
    "duration": 8,
    "start_time": "2021-08-09T10:39:01.137Z"
   },
   {
    "duration": 23,
    "start_time": "2021-08-09T10:39:01.147Z"
   },
   {
    "duration": 52,
    "start_time": "2021-08-09T10:39:01.173Z"
   },
   {
    "duration": 9,
    "start_time": "2021-08-09T10:39:01.228Z"
   },
   {
    "duration": 42,
    "start_time": "2021-08-09T10:39:01.243Z"
   },
   {
    "duration": 29,
    "start_time": "2021-08-09T10:39:01.288Z"
   },
   {
    "duration": 773,
    "start_time": "2021-08-09T10:39:01.319Z"
   },
   {
    "duration": 1185,
    "start_time": "2021-08-09T10:39:02.095Z"
   },
   {
    "duration": 25,
    "start_time": "2021-08-09T10:39:03.283Z"
   },
   {
    "duration": 884,
    "start_time": "2021-08-09T10:39:03.310Z"
   },
   {
    "duration": 48,
    "start_time": "2021-08-09T10:39:04.196Z"
   },
   {
    "duration": 948,
    "start_time": "2021-08-09T10:39:04.246Z"
   },
   {
    "duration": 37,
    "start_time": "2021-08-09T10:39:05.197Z"
   },
   {
    "duration": 30,
    "start_time": "2021-08-09T10:39:05.237Z"
   },
   {
    "duration": 2,
    "start_time": "2021-08-09T10:39:05.270Z"
   },
   {
    "duration": 42,
    "start_time": "2021-08-09T10:39:05.275Z"
   },
   {
    "duration": 7,
    "start_time": "2021-08-09T10:39:05.319Z"
   },
   {
    "duration": 7,
    "start_time": "2021-08-09T10:39:05.328Z"
   },
   {
    "duration": 30,
    "start_time": "2021-08-09T10:39:05.338Z"
   },
   {
    "duration": 10,
    "start_time": "2021-08-09T10:39:05.371Z"
   },
   {
    "duration": 17,
    "start_time": "2021-08-09T10:39:05.383Z"
   },
   {
    "duration": 21,
    "start_time": "2021-08-09T10:39:05.403Z"
   },
   {
    "duration": 12,
    "start_time": "2021-08-09T10:39:05.426Z"
   },
   {
    "duration": 34,
    "start_time": "2021-08-09T10:39:05.441Z"
   },
   {
    "duration": 26,
    "start_time": "2021-08-09T10:39:05.477Z"
   },
   {
    "duration": 25,
    "start_time": "2021-08-09T10:39:05.506Z"
   },
   {
    "duration": 16,
    "start_time": "2021-08-09T10:39:05.534Z"
   },
   {
    "duration": 32,
    "start_time": "2021-08-09T10:39:05.553Z"
   },
   {
    "duration": 24,
    "start_time": "2021-08-09T10:39:05.588Z"
   },
   {
    "duration": 65,
    "start_time": "2021-08-09T10:39:05.615Z"
   },
   {
    "duration": 7,
    "start_time": "2021-08-09T10:39:05.683Z"
   },
   {
    "duration": 430,
    "start_time": "2021-08-09T11:44:41.091Z"
   },
   {
    "duration": 263,
    "start_time": "2021-08-09T11:44:54.439Z"
   },
   {
    "duration": 14,
    "start_time": "2021-08-09T11:45:13.822Z"
   },
   {
    "duration": 10,
    "start_time": "2021-08-09T11:46:06.690Z"
   },
   {
    "duration": 223,
    "start_time": "2021-08-09T11:49:48.691Z"
   },
   {
    "duration": 6,
    "start_time": "2021-08-09T11:49:58.450Z"
   },
   {
    "duration": 32,
    "start_time": "2021-08-09T12:34:47.582Z"
   },
   {
    "duration": 367,
    "start_time": "2021-08-09T12:35:11.130Z"
   },
   {
    "duration": 7,
    "start_time": "2021-08-09T12:35:34.330Z"
   },
   {
    "duration": 33,
    "start_time": "2021-08-09T12:36:10.674Z"
   },
   {
    "duration": 1689,
    "start_time": "2021-08-09T12:41:39.604Z"
   },
   {
    "duration": 4,
    "start_time": "2021-08-09T12:41:41.295Z"
   },
   {
    "duration": 49,
    "start_time": "2021-08-09T12:41:41.302Z"
   },
   {
    "duration": 32,
    "start_time": "2021-08-09T12:41:41.368Z"
   },
   {
    "duration": 4,
    "start_time": "2021-08-09T12:41:41.402Z"
   },
   {
    "duration": 68,
    "start_time": "2021-08-09T12:41:41.409Z"
   },
   {
    "duration": 8,
    "start_time": "2021-08-09T12:41:41.479Z"
   },
   {
    "duration": 10,
    "start_time": "2021-08-09T12:41:41.490Z"
   },
   {
    "duration": 69,
    "start_time": "2021-08-09T12:41:41.503Z"
   },
   {
    "duration": 9,
    "start_time": "2021-08-09T12:41:41.575Z"
   },
   {
    "duration": 15,
    "start_time": "2021-08-09T12:41:41.587Z"
   },
   {
    "duration": 87,
    "start_time": "2021-08-09T12:41:41.604Z"
   },
   {
    "duration": 13,
    "start_time": "2021-08-09T12:41:41.693Z"
   },
   {
    "duration": 73,
    "start_time": "2021-08-09T12:41:41.709Z"
   },
   {
    "duration": 19,
    "start_time": "2021-08-09T12:41:41.785Z"
   },
   {
    "duration": 64,
    "start_time": "2021-08-09T12:41:41.806Z"
   },
   {
    "duration": 5,
    "start_time": "2021-08-09T12:41:41.872Z"
   },
   {
    "duration": 390,
    "start_time": "2021-08-09T12:41:41.879Z"
   },
   {
    "duration": 8,
    "start_time": "2021-08-09T12:41:42.272Z"
   },
   {
    "duration": 12,
    "start_time": "2021-08-09T12:41:42.282Z"
   },
   {
    "duration": 74,
    "start_time": "2021-08-09T12:41:42.297Z"
   },
   {
    "duration": 10,
    "start_time": "2021-08-09T12:41:42.374Z"
   },
   {
    "duration": 27,
    "start_time": "2021-08-09T12:41:42.388Z"
   },
   {
    "duration": 56,
    "start_time": "2021-08-09T12:41:42.418Z"
   },
   {
    "duration": 582,
    "start_time": "2021-08-09T12:41:42.477Z"
   },
   {
    "duration": 1221,
    "start_time": "2021-08-09T12:41:43.061Z"
   },
   {
    "duration": 23,
    "start_time": "2021-08-09T12:41:44.285Z"
   },
   {
    "duration": 873,
    "start_time": "2021-08-09T12:41:44.311Z"
   },
   {
    "duration": 44,
    "start_time": "2021-08-09T12:41:45.187Z"
   },
   {
    "duration": 948,
    "start_time": "2021-08-09T12:41:45.233Z"
   },
   {
    "duration": 36,
    "start_time": "2021-08-09T12:41:46.183Z"
   },
   {
    "duration": 8,
    "start_time": "2021-08-09T12:41:46.222Z"
   },
   {
    "duration": 35,
    "start_time": "2021-08-09T12:41:46.232Z"
   },
   {
    "duration": 23,
    "start_time": "2021-08-09T12:41:46.269Z"
   },
   {
    "duration": 3,
    "start_time": "2021-08-09T12:41:46.294Z"
   },
   {
    "duration": 12,
    "start_time": "2021-08-09T12:41:46.299Z"
   },
   {
    "duration": 16,
    "start_time": "2021-08-09T12:41:46.314Z"
   },
   {
    "duration": 36,
    "start_time": "2021-08-09T12:41:46.333Z"
   },
   {
    "duration": 9,
    "start_time": "2021-08-09T12:41:46.371Z"
   },
   {
    "duration": 18,
    "start_time": "2021-08-09T12:41:46.383Z"
   },
   {
    "duration": 8,
    "start_time": "2021-08-09T12:41:46.403Z"
   },
   {
    "duration": 16,
    "start_time": "2021-08-09T12:41:46.413Z"
   },
   {
    "duration": 40,
    "start_time": "2021-08-09T12:41:46.432Z"
   },
   {
    "duration": 9,
    "start_time": "2021-08-09T12:41:46.475Z"
   },
   {
    "duration": 9,
    "start_time": "2021-08-09T12:41:46.486Z"
   },
   {
    "duration": 31,
    "start_time": "2021-08-09T13:40:03.420Z"
   },
   {
    "duration": 31,
    "start_time": "2021-08-09T13:40:11.867Z"
   },
   {
    "duration": 19,
    "start_time": "2021-08-09T13:40:55.540Z"
   },
   {
    "duration": 599,
    "start_time": "2021-08-09T13:44:04.855Z"
   },
   {
    "duration": 18,
    "start_time": "2021-08-09T13:44:20.651Z"
   },
   {
    "duration": 14,
    "start_time": "2021-08-09T14:17:29.848Z"
   },
   {
    "duration": 9,
    "start_time": "2021-08-09T14:18:32.088Z"
   },
   {
    "duration": 14,
    "start_time": "2021-08-09T14:19:08.118Z"
   },
   {
    "duration": 8,
    "start_time": "2021-08-09T14:19:25.881Z"
   },
   {
    "duration": 15,
    "start_time": "2021-08-09T14:20:34.129Z"
   },
   {
    "duration": 6,
    "start_time": "2021-08-09T14:24:23.525Z"
   },
   {
    "duration": 4,
    "start_time": "2021-08-09T14:24:23.971Z"
   },
   {
    "duration": 47,
    "start_time": "2021-08-09T14:24:24.153Z"
   },
   {
    "duration": 29,
    "start_time": "2021-08-09T14:24:24.252Z"
   },
   {
    "duration": 5,
    "start_time": "2021-08-09T14:24:24.405Z"
   },
   {
    "duration": 14,
    "start_time": "2021-08-09T14:24:24.629Z"
   },
   {
    "duration": 7,
    "start_time": "2021-08-09T14:24:26.191Z"
   },
   {
    "duration": 8,
    "start_time": "2021-08-09T14:24:27.607Z"
   },
   {
    "duration": 12,
    "start_time": "2021-08-09T14:24:28.814Z"
   },
   {
    "duration": 5,
    "start_time": "2021-08-09T14:24:29.864Z"
   },
   {
    "duration": 15,
    "start_time": "2021-08-09T14:24:31.980Z"
   },
   {
    "duration": 33,
    "start_time": "2021-08-09T14:24:34.369Z"
   },
   {
    "duration": 13,
    "start_time": "2021-08-09T14:24:35.965Z"
   },
   {
    "duration": 17,
    "start_time": "2021-08-09T14:24:39.964Z"
   },
   {
    "duration": 18,
    "start_time": "2021-08-09T14:24:40.394Z"
   },
   {
    "duration": 6,
    "start_time": "2021-08-09T14:24:44.118Z"
   },
   {
    "duration": 8,
    "start_time": "2021-08-09T14:24:48.196Z"
   },
   {
    "duration": 12,
    "start_time": "2021-08-09T14:24:48.378Z"
   },
   {
    "duration": 38,
    "start_time": "2021-08-09T14:24:48.458Z"
   },
   {
    "duration": 11,
    "start_time": "2021-08-09T14:24:48.538Z"
   },
   {
    "duration": 26,
    "start_time": "2021-08-09T14:24:48.613Z"
   },
   {
    "duration": 27,
    "start_time": "2021-08-09T14:24:49.014Z"
   },
   {
    "duration": 567,
    "start_time": "2021-08-09T14:24:49.110Z"
   },
   {
    "duration": 1175,
    "start_time": "2021-08-09T14:24:49.679Z"
   },
   {
    "duration": 31,
    "start_time": "2021-08-09T14:24:50.856Z"
   },
   {
    "duration": 887,
    "start_time": "2021-08-09T14:24:50.889Z"
   },
   {
    "duration": 42,
    "start_time": "2021-08-09T14:24:51.779Z"
   },
   {
    "duration": 948,
    "start_time": "2021-08-09T14:24:51.824Z"
   },
   {
    "duration": 37,
    "start_time": "2021-08-09T14:24:52.775Z"
   },
   {
    "duration": 8,
    "start_time": "2021-08-09T14:24:52.815Z"
   },
   {
    "duration": 7,
    "start_time": "2021-08-09T14:24:52.825Z"
   },
   {
    "duration": 54,
    "start_time": "2021-08-09T14:24:52.834Z"
   },
   {
    "duration": 3,
    "start_time": "2021-08-09T14:24:52.890Z"
   },
   {
    "duration": 7,
    "start_time": "2021-08-09T14:24:52.895Z"
   },
   {
    "duration": 11,
    "start_time": "2021-08-09T14:24:54.006Z"
   },
   {
    "duration": 10,
    "start_time": "2021-08-09T14:24:54.249Z"
   },
   {
    "duration": 10,
    "start_time": "2021-08-09T14:24:54.505Z"
   },
   {
    "duration": 10,
    "start_time": "2021-08-09T14:24:54.847Z"
   },
   {
    "duration": 9,
    "start_time": "2021-08-09T14:24:55.112Z"
   },
   {
    "duration": 10,
    "start_time": "2021-08-09T14:24:55.338Z"
   },
   {
    "duration": 10,
    "start_time": "2021-08-09T14:24:55.677Z"
   },
   {
    "duration": 10,
    "start_time": "2021-08-09T14:24:55.926Z"
   },
   {
    "duration": 10,
    "start_time": "2021-08-09T14:24:56.197Z"
   },
   {
    "duration": 15,
    "start_time": "2021-08-09T14:24:56.924Z"
   },
   {
    "duration": 8,
    "start_time": "2021-08-09T14:24:57.219Z"
   },
   {
    "duration": 117,
    "start_time": "2021-08-09T14:24:57.313Z"
   },
   {
    "duration": 8,
    "start_time": "2021-08-09T14:24:57.451Z"
   },
   {
    "duration": 8,
    "start_time": "2021-08-09T14:25:50.213Z"
   },
   {
    "duration": 1716,
    "start_time": "2021-08-09T14:26:33.174Z"
   },
   {
    "duration": 3,
    "start_time": "2021-08-09T14:26:34.893Z"
   },
   {
    "duration": 53,
    "start_time": "2021-08-09T14:26:34.899Z"
   },
   {
    "duration": 33,
    "start_time": "2021-08-09T14:26:34.954Z"
   },
   {
    "duration": 4,
    "start_time": "2021-08-09T14:26:34.990Z"
   },
   {
    "duration": 24,
    "start_time": "2021-08-09T14:26:34.996Z"
   },
   {
    "duration": 9,
    "start_time": "2021-08-09T14:26:35.022Z"
   },
   {
    "duration": 8,
    "start_time": "2021-08-09T14:26:35.068Z"
   },
   {
    "duration": 20,
    "start_time": "2021-08-09T14:26:35.079Z"
   },
   {
    "duration": 27,
    "start_time": "2021-08-09T14:26:35.101Z"
   },
   {
    "duration": 30,
    "start_time": "2021-08-09T14:26:35.131Z"
   },
   {
    "duration": 31,
    "start_time": "2021-08-09T14:26:35.164Z"
   },
   {
    "duration": 22,
    "start_time": "2021-08-09T14:26:35.198Z"
   },
   {
    "duration": 17,
    "start_time": "2021-08-09T14:26:35.222Z"
   },
   {
    "duration": 34,
    "start_time": "2021-08-09T14:26:35.241Z"
   },
   {
    "duration": 7,
    "start_time": "2021-08-09T14:26:35.277Z"
   },
   {
    "duration": 9,
    "start_time": "2021-08-09T14:26:35.286Z"
   },
   {
    "duration": 210,
    "start_time": "2021-08-09T14:26:35.298Z"
   },
   {
    "duration": 8,
    "start_time": "2021-08-09T14:26:35.511Z"
   },
   {
    "duration": 22,
    "start_time": "2021-08-09T14:26:35.521Z"
   },
   {
    "duration": 62,
    "start_time": "2021-08-09T14:26:35.546Z"
   },
   {
    "duration": 12,
    "start_time": "2021-08-09T14:26:35.611Z"
   },
   {
    "duration": 53,
    "start_time": "2021-08-09T14:26:35.631Z"
   },
   {
    "duration": 29,
    "start_time": "2021-08-09T14:26:35.689Z"
   },
   {
    "duration": 690,
    "start_time": "2021-08-09T14:26:35.720Z"
   },
   {
    "duration": 1175,
    "start_time": "2021-08-09T14:26:36.412Z"
   },
   {
    "duration": 25,
    "start_time": "2021-08-09T14:26:37.590Z"
   },
   {
    "duration": 902,
    "start_time": "2021-08-09T14:26:37.617Z"
   },
   {
    "duration": 56,
    "start_time": "2021-08-09T14:26:38.522Z"
   },
   {
    "duration": 963,
    "start_time": "2021-08-09T14:26:38.581Z"
   },
   {
    "duration": 47,
    "start_time": "2021-08-09T14:26:39.547Z"
   },
   {
    "duration": 7,
    "start_time": "2021-08-09T14:26:39.596Z"
   },
   {
    "duration": 9,
    "start_time": "2021-08-09T14:26:39.606Z"
   },
   {
    "duration": 51,
    "start_time": "2021-08-09T14:26:39.617Z"
   },
   {
    "duration": 3,
    "start_time": "2021-08-09T14:26:39.670Z"
   },
   {
    "duration": 13,
    "start_time": "2021-08-09T14:26:39.676Z"
   },
   {
    "duration": 15,
    "start_time": "2021-08-09T14:26:39.692Z"
   },
   {
    "duration": 19,
    "start_time": "2021-08-09T14:26:39.709Z"
   },
   {
    "duration": 8,
    "start_time": "2021-08-09T14:26:39.731Z"
   },
   {
    "duration": 27,
    "start_time": "2021-08-09T14:26:39.742Z"
   },
   {
    "duration": 26,
    "start_time": "2021-08-09T14:26:39.771Z"
   },
   {
    "duration": 13,
    "start_time": "2021-08-09T14:26:39.799Z"
   },
   {
    "duration": 16,
    "start_time": "2021-08-09T14:26:39.814Z"
   },
   {
    "duration": 43,
    "start_time": "2021-08-09T14:26:39.833Z"
   },
   {
    "duration": 24,
    "start_time": "2021-08-09T14:26:39.879Z"
   },
   {
    "duration": 24,
    "start_time": "2021-08-09T14:26:39.906Z"
   },
   {
    "duration": 23,
    "start_time": "2021-08-09T14:26:39.932Z"
   },
   {
    "duration": 32,
    "start_time": "2021-08-09T14:26:39.957Z"
   },
   {
    "duration": 8,
    "start_time": "2021-08-09T14:26:39.992Z"
   },
   {
    "duration": 20,
    "start_time": "2021-08-09T14:28:15.752Z"
   },
   {
    "duration": 7,
    "start_time": "2021-08-09T14:28:36.648Z"
   },
   {
    "duration": 123,
    "start_time": "2021-08-09T14:43:31.872Z"
   },
   {
    "duration": 7,
    "start_time": "2021-08-09T14:47:58.656Z"
   },
   {
    "duration": 9,
    "start_time": "2021-08-09T14:48:12.286Z"
   },
   {
    "duration": 367,
    "start_time": "2021-08-09T14:49:44.036Z"
   },
   {
    "duration": 20978,
    "start_time": "2021-08-09T14:53:14.889Z"
   },
   {
    "duration": 265,
    "start_time": "2021-08-09T14:53:41.413Z"
   },
   {
    "duration": 262,
    "start_time": "2021-08-09T14:54:38.822Z"
   },
   {
    "duration": 1769,
    "start_time": "2021-08-09T14:55:31.174Z"
   },
   {
    "duration": 3,
    "start_time": "2021-08-09T14:55:32.946Z"
   },
   {
    "duration": 67,
    "start_time": "2021-08-09T14:55:32.952Z"
   },
   {
    "duration": 32,
    "start_time": "2021-08-09T14:55:33.022Z"
   },
   {
    "duration": 6,
    "start_time": "2021-08-09T14:55:33.056Z"
   },
   {
    "duration": 17,
    "start_time": "2021-08-09T14:55:33.067Z"
   },
   {
    "duration": 6,
    "start_time": "2021-08-09T14:55:33.087Z"
   },
   {
    "duration": 12,
    "start_time": "2021-08-09T14:55:33.096Z"
   },
   {
    "duration": 14,
    "start_time": "2021-08-09T14:55:33.110Z"
   },
   {
    "duration": 41,
    "start_time": "2021-08-09T14:55:33.126Z"
   },
   {
    "duration": 24,
    "start_time": "2021-08-09T14:55:33.170Z"
   },
   {
    "duration": 33,
    "start_time": "2021-08-09T14:55:33.197Z"
   },
   {
    "duration": 37,
    "start_time": "2021-08-09T14:55:33.233Z"
   },
   {
    "duration": 19,
    "start_time": "2021-08-09T14:55:33.273Z"
   },
   {
    "duration": 21,
    "start_time": "2021-08-09T14:55:33.295Z"
   },
   {
    "duration": 6,
    "start_time": "2021-08-09T14:55:33.319Z"
   },
   {
    "duration": 39,
    "start_time": "2021-08-09T14:55:33.328Z"
   },
   {
    "duration": 195,
    "start_time": "2021-08-09T14:55:33.370Z"
   },
   {
    "duration": 8,
    "start_time": "2021-08-09T14:55:33.567Z"
   },
   {
    "duration": 14,
    "start_time": "2021-08-09T14:55:33.578Z"
   },
   {
    "duration": 40,
    "start_time": "2021-08-09T14:55:33.594Z"
   },
   {
    "duration": 35,
    "start_time": "2021-08-09T14:55:33.636Z"
   },
   {
    "duration": 27,
    "start_time": "2021-08-09T14:55:33.676Z"
   },
   {
    "duration": 28,
    "start_time": "2021-08-09T14:55:33.706Z"
   },
   {
    "duration": 646,
    "start_time": "2021-08-09T14:55:33.767Z"
   },
   {
    "duration": 1147,
    "start_time": "2021-08-09T14:55:34.416Z"
   },
   {
    "duration": 25,
    "start_time": "2021-08-09T14:55:35.567Z"
   },
   {
    "duration": 875,
    "start_time": "2021-08-09T14:55:35.594Z"
   },
   {
    "duration": 44,
    "start_time": "2021-08-09T14:55:36.471Z"
   },
   {
    "duration": 970,
    "start_time": "2021-08-09T14:55:36.518Z"
   },
   {
    "duration": 37,
    "start_time": "2021-08-09T14:55:37.491Z"
   },
   {
    "duration": 8,
    "start_time": "2021-08-09T14:55:37.530Z"
   },
   {
    "duration": 3,
    "start_time": "2021-08-09T14:55:37.567Z"
   },
   {
    "duration": 32,
    "start_time": "2021-08-09T14:55:37.572Z"
   },
   {
    "duration": 4,
    "start_time": "2021-08-09T14:55:37.607Z"
   },
   {
    "duration": 9,
    "start_time": "2021-08-09T14:55:37.613Z"
   },
   {
    "duration": 18,
    "start_time": "2021-08-09T14:55:37.625Z"
   },
   {
    "duration": 29,
    "start_time": "2021-08-09T14:55:37.646Z"
   },
   {
    "duration": 14,
    "start_time": "2021-08-09T14:55:37.677Z"
   },
   {
    "duration": 14,
    "start_time": "2021-08-09T14:55:37.693Z"
   },
   {
    "duration": 17,
    "start_time": "2021-08-09T14:55:37.710Z"
   },
   {
    "duration": 38,
    "start_time": "2021-08-09T14:55:37.729Z"
   },
   {
    "duration": 10,
    "start_time": "2021-08-09T14:55:37.769Z"
   },
   {
    "duration": 12,
    "start_time": "2021-08-09T14:55:37.782Z"
   },
   {
    "duration": 11,
    "start_time": "2021-08-09T14:55:37.796Z"
   },
   {
    "duration": 14,
    "start_time": "2021-08-09T14:55:37.809Z"
   },
   {
    "duration": 8,
    "start_time": "2021-08-09T14:55:37.868Z"
   },
   {
    "duration": 17,
    "start_time": "2021-08-09T14:55:37.878Z"
   },
   {
    "duration": 8,
    "start_time": "2021-08-09T14:55:37.898Z"
   },
   {
    "duration": 3629,
    "start_time": "2021-08-09T14:55:37.908Z"
   },
   {
    "duration": 10,
    "start_time": "2021-08-09T14:55:41.539Z"
   },
   {
    "duration": 11,
    "start_time": "2021-08-09T14:58:08.400Z"
   },
   {
    "duration": 10,
    "start_time": "2021-08-09T14:58:20.240Z"
   },
   {
    "duration": 8,
    "start_time": "2021-08-09T15:07:28.639Z"
   },
   {
    "duration": 8,
    "start_time": "2021-08-09T15:07:41.476Z"
   },
   {
    "duration": 9,
    "start_time": "2021-08-09T15:08:18.868Z"
   },
   {
    "duration": 8,
    "start_time": "2021-08-09T15:08:24.234Z"
   },
   {
    "duration": 8,
    "start_time": "2021-08-09T15:08:27.652Z"
   },
   {
    "duration": 19,
    "start_time": "2021-08-09T15:23:39.129Z"
   },
   {
    "duration": 15,
    "start_time": "2021-08-09T15:23:59.641Z"
   },
   {
    "duration": 18,
    "start_time": "2021-08-09T15:30:57.934Z"
   },
   {
    "duration": 8,
    "start_time": "2021-08-09T15:33:28.538Z"
   },
   {
    "duration": 8,
    "start_time": "2021-08-09T15:33:34.362Z"
   },
   {
    "duration": 7,
    "start_time": "2021-08-09T15:33:39.282Z"
   },
   {
    "duration": 9,
    "start_time": "2021-08-09T15:33:43.552Z"
   },
   {
    "duration": 9,
    "start_time": "2021-08-09T15:33:47.884Z"
   },
   {
    "duration": 7,
    "start_time": "2021-08-09T15:33:50.687Z"
   },
   {
    "duration": 1312,
    "start_time": "2021-08-10T03:39:02.535Z"
   },
   {
    "duration": 2,
    "start_time": "2021-08-10T03:39:03.849Z"
   },
   {
    "duration": 40,
    "start_time": "2021-08-10T03:39:03.853Z"
   },
   {
    "duration": 19,
    "start_time": "2021-08-10T03:39:03.895Z"
   },
   {
    "duration": 3,
    "start_time": "2021-08-10T03:39:03.915Z"
   },
   {
    "duration": 11,
    "start_time": "2021-08-10T03:39:03.920Z"
   },
   {
    "duration": 4,
    "start_time": "2021-08-10T03:39:03.940Z"
   },
   {
    "duration": 16,
    "start_time": "2021-08-10T03:39:03.948Z"
   },
   {
    "duration": 24,
    "start_time": "2021-08-10T03:39:03.966Z"
   },
   {
    "duration": 8,
    "start_time": "2021-08-10T03:39:03.991Z"
   },
   {
    "duration": 12,
    "start_time": "2021-08-10T03:39:04.000Z"
   },
   {
    "duration": 21,
    "start_time": "2021-08-10T03:39:04.013Z"
   },
   {
    "duration": 12,
    "start_time": "2021-08-10T03:39:04.035Z"
   },
   {
    "duration": 12,
    "start_time": "2021-08-10T03:39:04.049Z"
   },
   {
    "duration": 12,
    "start_time": "2021-08-10T03:39:04.062Z"
   },
   {
    "duration": 4,
    "start_time": "2021-08-10T03:39:04.076Z"
   },
   {
    "duration": 8,
    "start_time": "2021-08-10T03:39:04.082Z"
   },
   {
    "duration": 132,
    "start_time": "2021-08-10T03:39:04.091Z"
   },
   {
    "duration": 6,
    "start_time": "2021-08-10T03:39:04.225Z"
   },
   {
    "duration": 15,
    "start_time": "2021-08-10T03:39:04.232Z"
   },
   {
    "duration": 33,
    "start_time": "2021-08-10T03:39:04.248Z"
   },
   {
    "duration": 7,
    "start_time": "2021-08-10T03:39:04.283Z"
   },
   {
    "duration": 16,
    "start_time": "2021-08-10T03:39:04.293Z"
   },
   {
    "duration": 39,
    "start_time": "2021-08-10T03:39:04.311Z"
   },
   {
    "duration": 401,
    "start_time": "2021-08-10T03:39:04.352Z"
   },
   {
    "duration": 640,
    "start_time": "2021-08-10T03:39:04.755Z"
   },
   {
    "duration": 15,
    "start_time": "2021-08-10T03:39:05.397Z"
   },
   {
    "duration": 467,
    "start_time": "2021-08-10T03:39:05.414Z"
   },
   {
    "duration": 29,
    "start_time": "2021-08-10T03:39:05.883Z"
   },
   {
    "duration": 518,
    "start_time": "2021-08-10T03:39:05.913Z"
   },
   {
    "duration": 28,
    "start_time": "2021-08-10T03:39:06.434Z"
   },
   {
    "duration": 7,
    "start_time": "2021-08-10T03:39:06.464Z"
   },
   {
    "duration": 4,
    "start_time": "2021-08-10T03:39:06.472Z"
   },
   {
    "duration": 22,
    "start_time": "2021-08-10T03:39:06.477Z"
   },
   {
    "duration": 3,
    "start_time": "2021-08-10T03:39:06.500Z"
   },
   {
    "duration": 8,
    "start_time": "2021-08-10T03:39:06.504Z"
   },
   {
    "duration": 32,
    "start_time": "2021-08-10T03:39:06.514Z"
   },
   {
    "duration": 7,
    "start_time": "2021-08-10T03:39:06.548Z"
   },
   {
    "duration": 11,
    "start_time": "2021-08-10T03:39:06.556Z"
   },
   {
    "duration": 7,
    "start_time": "2021-08-10T03:39:06.569Z"
   },
   {
    "duration": 7,
    "start_time": "2021-08-10T03:39:06.577Z"
   },
   {
    "duration": 6,
    "start_time": "2021-08-10T03:39:06.586Z"
   },
   {
    "duration": 47,
    "start_time": "2021-08-10T03:39:06.594Z"
   },
   {
    "duration": 8,
    "start_time": "2021-08-10T03:39:06.643Z"
   },
   {
    "duration": 9,
    "start_time": "2021-08-10T03:39:06.653Z"
   },
   {
    "duration": 10,
    "start_time": "2021-08-10T03:39:06.664Z"
   },
   {
    "duration": 5,
    "start_time": "2021-08-10T03:39:06.675Z"
   },
   {
    "duration": 18,
    "start_time": "2021-08-10T03:39:06.681Z"
   },
   {
    "duration": 351,
    "start_time": "2021-08-10T03:39:06.701Z"
   },
   {
    "duration": -154,
    "start_time": "2021-08-10T03:39:07.208Z"
   },
   {
    "duration": 21,
    "start_time": "2021-08-10T03:39:17.584Z"
   },
   {
    "duration": 21,
    "start_time": "2021-08-10T03:39:22.868Z"
   },
   {
    "duration": 23,
    "start_time": "2021-08-10T03:39:49.860Z"
   },
   {
    "duration": 23,
    "start_time": "2021-08-10T03:39:55.664Z"
   },
   {
    "duration": 23,
    "start_time": "2021-08-10T03:39:58.652Z"
   },
   {
    "duration": 7484,
    "start_time": "2021-08-10T03:41:08.647Z"
   },
   {
    "duration": 3,
    "start_time": "2021-08-10T03:41:16.133Z"
   },
   {
    "duration": 40,
    "start_time": "2021-08-10T03:41:16.138Z"
   },
   {
    "duration": 17,
    "start_time": "2021-08-10T03:41:16.180Z"
   },
   {
    "duration": 3,
    "start_time": "2021-08-10T03:41:16.198Z"
   },
   {
    "duration": 13,
    "start_time": "2021-08-10T03:41:16.202Z"
   },
   {
    "duration": 5,
    "start_time": "2021-08-10T03:41:17.683Z"
   },
   {
    "duration": 6,
    "start_time": "2021-08-10T03:41:19.227Z"
   },
   {
    "duration": 8,
    "start_time": "2021-08-10T03:41:20.280Z"
   },
   {
    "duration": 21,
    "start_time": "2021-08-10T03:41:34.604Z"
   },
   {
    "duration": 21,
    "start_time": "2021-08-10T03:42:05.688Z"
   },
   {
    "duration": 21,
    "start_time": "2021-08-10T03:42:30.046Z"
   },
   {
    "duration": 22790,
    "start_time": "2021-08-10T08:18:07.199Z"
   },
   {
    "duration": 4,
    "start_time": "2021-08-10T08:18:29.992Z"
   },
   {
    "duration": 487,
    "start_time": "2021-08-10T08:18:30.000Z"
   },
   {
    "duration": 35,
    "start_time": "2021-08-10T08:18:30.491Z"
   },
   {
    "duration": 5,
    "start_time": "2021-08-10T08:18:30.528Z"
   },
   {
    "duration": 46,
    "start_time": "2021-08-10T08:18:30.536Z"
   },
   {
    "duration": 19,
    "start_time": "2021-08-10T08:18:30.585Z"
   },
   {
    "duration": 22,
    "start_time": "2021-08-10T08:18:30.607Z"
   },
   {
    "duration": 33,
    "start_time": "2021-08-10T08:18:30.634Z"
   },
   {
    "duration": 7,
    "start_time": "2021-08-10T08:18:30.671Z"
   },
   {
    "duration": 60,
    "start_time": "2021-08-10T08:18:30.681Z"
   },
   {
    "duration": 30,
    "start_time": "2021-08-10T08:18:30.743Z"
   },
   {
    "duration": 43,
    "start_time": "2021-08-10T08:18:30.776Z"
   },
   {
    "duration": 29,
    "start_time": "2021-08-10T08:18:30.822Z"
   },
   {
    "duration": 28,
    "start_time": "2021-08-10T08:18:30.854Z"
   },
   {
    "duration": 17,
    "start_time": "2021-08-10T08:18:30.884Z"
   },
   {
    "duration": 14,
    "start_time": "2021-08-10T08:18:30.904Z"
   },
   {
    "duration": 5,
    "start_time": "2021-08-10T08:18:30.921Z"
   },
   {
    "duration": 203,
    "start_time": "2021-08-10T08:18:30.929Z"
   },
   {
    "duration": 9,
    "start_time": "2021-08-10T08:18:31.135Z"
   },
   {
    "duration": 58,
    "start_time": "2021-08-10T08:18:31.147Z"
   },
   {
    "duration": 49,
    "start_time": "2021-08-10T08:18:31.207Z"
   },
   {
    "duration": 10,
    "start_time": "2021-08-10T08:18:31.258Z"
   },
   {
    "duration": 37,
    "start_time": "2021-08-10T08:18:31.271Z"
   },
   {
    "duration": 29,
    "start_time": "2021-08-10T08:18:31.310Z"
   },
   {
    "duration": 654,
    "start_time": "2021-08-10T08:18:31.342Z"
   },
   {
    "duration": 1139,
    "start_time": "2021-08-10T08:18:32.001Z"
   },
   {
    "duration": 33,
    "start_time": "2021-08-10T08:18:33.143Z"
   },
   {
    "duration": 942,
    "start_time": "2021-08-10T08:18:33.179Z"
   },
   {
    "duration": 56,
    "start_time": "2021-08-10T08:18:34.123Z"
   },
   {
    "duration": 711,
    "start_time": "2021-08-10T08:18:34.181Z"
   },
   {
    "duration": 37,
    "start_time": "2021-08-10T08:18:34.894Z"
   },
   {
    "duration": 8,
    "start_time": "2021-08-10T08:18:34.933Z"
   },
   {
    "duration": 4,
    "start_time": "2021-08-10T08:18:34.968Z"
   },
   {
    "duration": 28,
    "start_time": "2021-08-10T08:18:34.974Z"
   },
   {
    "duration": 3,
    "start_time": "2021-08-10T08:18:35.005Z"
   },
   {
    "duration": 16,
    "start_time": "2021-08-10T08:18:35.010Z"
   },
   {
    "duration": 41,
    "start_time": "2021-08-10T08:18:35.028Z"
   },
   {
    "duration": 9,
    "start_time": "2021-08-10T08:18:35.071Z"
   },
   {
    "duration": 14,
    "start_time": "2021-08-10T08:18:35.082Z"
   },
   {
    "duration": 15,
    "start_time": "2021-08-10T08:18:35.099Z"
   },
   {
    "duration": 12,
    "start_time": "2021-08-10T08:18:35.117Z"
   },
   {
    "duration": 41,
    "start_time": "2021-08-10T08:18:35.131Z"
   },
   {
    "duration": 14,
    "start_time": "2021-08-10T08:18:35.175Z"
   },
   {
    "duration": 10,
    "start_time": "2021-08-10T08:18:35.191Z"
   },
   {
    "duration": 15,
    "start_time": "2021-08-10T08:18:35.204Z"
   },
   {
    "duration": 50,
    "start_time": "2021-08-10T08:18:35.221Z"
   },
   {
    "duration": 8,
    "start_time": "2021-08-10T08:18:35.273Z"
   },
   {
    "duration": 23,
    "start_time": "2021-08-10T08:18:35.283Z"
   },
   {
    "duration": 9,
    "start_time": "2021-08-10T08:18:35.308Z"
   },
   {
    "duration": 52,
    "start_time": "2021-08-10T08:18:35.319Z"
   },
   {
    "duration": 15,
    "start_time": "2021-08-10T09:01:23.031Z"
   },
   {
    "duration": 9000,
    "start_time": "2021-08-10T12:17:46.528Z"
   },
   {
    "duration": 4,
    "start_time": "2021-08-10T12:17:55.531Z"
   },
   {
    "duration": 56,
    "start_time": "2021-08-10T12:17:55.538Z"
   },
   {
    "duration": 34,
    "start_time": "2021-08-10T12:17:55.596Z"
   },
   {
    "duration": 5,
    "start_time": "2021-08-10T12:17:55.632Z"
   },
   {
    "duration": 41,
    "start_time": "2021-08-10T12:17:55.640Z"
   },
   {
    "duration": 6,
    "start_time": "2021-08-10T12:17:55.683Z"
   },
   {
    "duration": 14,
    "start_time": "2021-08-10T12:17:55.692Z"
   },
   {
    "duration": 12,
    "start_time": "2021-08-10T12:17:55.710Z"
   },
   {
    "duration": 7,
    "start_time": "2021-08-10T12:17:55.725Z"
   },
   {
    "duration": 72,
    "start_time": "2021-08-10T12:17:55.734Z"
   },
   {
    "duration": 13,
    "start_time": "2021-08-10T12:17:55.808Z"
   },
   {
    "duration": 59,
    "start_time": "2021-08-10T12:17:55.823Z"
   },
   {
    "duration": 13,
    "start_time": "2021-08-10T12:17:55.884Z"
   },
   {
    "duration": 16,
    "start_time": "2021-08-10T12:17:55.899Z"
   },
   {
    "duration": 52,
    "start_time": "2021-08-10T12:17:55.917Z"
   },
   {
    "duration": 7,
    "start_time": "2021-08-10T12:17:55.971Z"
   },
   {
    "duration": 5,
    "start_time": "2021-08-10T12:17:55.980Z"
   },
   {
    "duration": 204,
    "start_time": "2021-08-10T12:17:55.988Z"
   },
   {
    "duration": 9,
    "start_time": "2021-08-10T12:17:56.195Z"
   },
   {
    "duration": 10,
    "start_time": "2021-08-10T12:17:56.207Z"
   },
   {
    "duration": 68,
    "start_time": "2021-08-10T12:17:56.219Z"
   },
   {
    "duration": 9,
    "start_time": "2021-08-10T12:17:56.289Z"
   },
   {
    "duration": 30,
    "start_time": "2021-08-10T12:17:56.300Z"
   },
   {
    "duration": 53,
    "start_time": "2021-08-10T12:17:56.332Z"
   },
   {
    "duration": 656,
    "start_time": "2021-08-10T12:17:56.387Z"
   },
   {
    "duration": 1186,
    "start_time": "2021-08-10T12:17:57.048Z"
   },
   {
    "duration": 38,
    "start_time": "2021-08-10T12:17:58.237Z"
   },
   {
    "duration": 892,
    "start_time": "2021-08-10T12:17:58.277Z"
   },
   {
    "duration": 46,
    "start_time": "2021-08-10T12:17:59.171Z"
   },
   {
    "duration": 719,
    "start_time": "2021-08-10T12:17:59.219Z"
   },
   {
    "duration": 49,
    "start_time": "2021-08-10T12:17:59.941Z"
   },
   {
    "duration": 9,
    "start_time": "2021-08-10T12:17:59.992Z"
   },
   {
    "duration": 22,
    "start_time": "2021-08-10T12:18:00.004Z"
   },
   {
    "duration": 38,
    "start_time": "2021-08-10T12:18:00.028Z"
   },
   {
    "duration": 8,
    "start_time": "2021-08-10T12:18:00.069Z"
   },
   {
    "duration": 24,
    "start_time": "2021-08-10T12:18:00.079Z"
   },
   {
    "duration": 17,
    "start_time": "2021-08-10T12:18:00.106Z"
   },
   {
    "duration": 31,
    "start_time": "2021-08-10T12:18:00.125Z"
   },
   {
    "duration": 30,
    "start_time": "2021-08-10T12:18:00.159Z"
   },
   {
    "duration": 21,
    "start_time": "2021-08-10T12:18:00.192Z"
   },
   {
    "duration": 27,
    "start_time": "2021-08-10T12:18:00.216Z"
   },
   {
    "duration": 24,
    "start_time": "2021-08-10T12:18:00.246Z"
   },
   {
    "duration": 33,
    "start_time": "2021-08-10T12:18:00.272Z"
   },
   {
    "duration": 9,
    "start_time": "2021-08-10T12:18:00.307Z"
   },
   {
    "duration": 14,
    "start_time": "2021-08-10T12:18:00.318Z"
   },
   {
    "duration": 19,
    "start_time": "2021-08-10T12:18:00.334Z"
   },
   {
    "duration": 24,
    "start_time": "2021-08-10T12:18:00.355Z"
   },
   {
    "duration": 32,
    "start_time": "2021-08-10T12:18:00.381Z"
   },
   {
    "duration": 10,
    "start_time": "2021-08-10T12:18:00.415Z"
   },
   {
    "duration": 17,
    "start_time": "2021-08-10T12:18:00.427Z"
   },
   {
    "duration": 21,
    "start_time": "2021-08-10T12:18:00.446Z"
   },
   {
    "duration": 8,
    "start_time": "2021-08-10T12:18:34.107Z"
   },
   {
    "duration": 10,
    "start_time": "2021-08-10T12:29:11.206Z"
   },
   {
    "duration": 50,
    "start_time": "2021-08-10T12:50:40.786Z"
   },
   {
    "duration": 44,
    "start_time": "2021-08-10T12:50:53.505Z"
   },
   {
    "duration": 8,
    "start_time": "2021-08-10T12:53:22.825Z"
   },
   {
    "duration": 30,
    "start_time": "2021-08-10T12:54:09.373Z"
   },
   {
    "duration": 1206,
    "start_time": "2021-08-10T12:54:49.046Z"
   },
   {
    "duration": 9276,
    "start_time": "2021-08-10T12:55:10.086Z"
   },
   {
    "duration": 4,
    "start_time": "2021-08-10T12:55:19.365Z"
   },
   {
    "duration": 61,
    "start_time": "2021-08-10T12:55:19.372Z"
   },
   {
    "duration": 32,
    "start_time": "2021-08-10T12:55:19.436Z"
   },
   {
    "duration": 5,
    "start_time": "2021-08-10T12:55:19.470Z"
   },
   {
    "duration": 23,
    "start_time": "2021-08-10T12:55:19.477Z"
   },
   {
    "duration": 7,
    "start_time": "2021-08-10T12:55:19.502Z"
   },
   {
    "duration": 11,
    "start_time": "2021-08-10T12:55:19.511Z"
   },
   {
    "duration": 45,
    "start_time": "2021-08-10T12:55:19.526Z"
   },
   {
    "duration": 12,
    "start_time": "2021-08-10T12:55:19.574Z"
   },
   {
    "duration": 38,
    "start_time": "2021-08-10T12:55:19.588Z"
   },
   {
    "duration": 13,
    "start_time": "2021-08-10T12:55:19.628Z"
   },
   {
    "duration": 41,
    "start_time": "2021-08-10T12:55:19.667Z"
   },
   {
    "duration": 16,
    "start_time": "2021-08-10T12:55:19.711Z"
   },
   {
    "duration": 47,
    "start_time": "2021-08-10T12:55:19.730Z"
   },
   {
    "duration": 17,
    "start_time": "2021-08-10T12:55:19.779Z"
   },
   {
    "duration": 7,
    "start_time": "2021-08-10T12:55:19.798Z"
   },
   {
    "duration": 5,
    "start_time": "2021-08-10T12:55:19.807Z"
   },
   {
    "duration": 219,
    "start_time": "2021-08-10T12:55:19.815Z"
   },
   {
    "duration": 8,
    "start_time": "2021-08-10T12:55:20.037Z"
   },
   {
    "duration": 26,
    "start_time": "2021-08-10T12:55:20.047Z"
   },
   {
    "duration": 44,
    "start_time": "2021-08-10T12:55:20.075Z"
   },
   {
    "duration": 10,
    "start_time": "2021-08-10T12:55:20.122Z"
   },
   {
    "duration": 55,
    "start_time": "2021-08-10T12:55:20.134Z"
   },
   {
    "duration": 27,
    "start_time": "2021-08-10T12:55:20.192Z"
   },
   {
    "duration": 663,
    "start_time": "2021-08-10T12:55:20.222Z"
   },
   {
    "duration": 1168,
    "start_time": "2021-08-10T12:55:20.890Z"
   },
   {
    "duration": 25,
    "start_time": "2021-08-10T12:55:22.067Z"
   },
   {
    "duration": 892,
    "start_time": "2021-08-10T12:55:22.095Z"
   },
   {
    "duration": 44,
    "start_time": "2021-08-10T12:55:22.990Z"
   },
   {
    "duration": 718,
    "start_time": "2021-08-10T12:55:23.037Z"
   },
   {
    "duration": 40,
    "start_time": "2021-08-10T12:55:23.757Z"
   },
   {
    "duration": 9,
    "start_time": "2021-08-10T12:55:23.799Z"
   },
   {
    "duration": 58,
    "start_time": "2021-08-10T12:55:23.811Z"
   },
   {
    "duration": 413,
    "start_time": "2021-08-10T12:55:23.872Z"
   },
   {
    "duration": -22,
    "start_time": "2021-08-10T12:55:24.310Z"
   },
   {
    "duration": -24,
    "start_time": "2021-08-10T12:55:24.313Z"
   },
   {
    "duration": -26,
    "start_time": "2021-08-10T12:55:24.317Z"
   },
   {
    "duration": -28,
    "start_time": "2021-08-10T12:55:24.320Z"
   },
   {
    "duration": -31,
    "start_time": "2021-08-10T12:55:24.324Z"
   },
   {
    "duration": -32,
    "start_time": "2021-08-10T12:55:24.327Z"
   },
   {
    "duration": -35,
    "start_time": "2021-08-10T12:55:24.331Z"
   },
   {
    "duration": -37,
    "start_time": "2021-08-10T12:55:24.335Z"
   },
   {
    "duration": -46,
    "start_time": "2021-08-10T12:55:24.345Z"
   },
   {
    "duration": -51,
    "start_time": "2021-08-10T12:55:24.351Z"
   },
   {
    "duration": -54,
    "start_time": "2021-08-10T12:55:24.355Z"
   },
   {
    "duration": -56,
    "start_time": "2021-08-10T12:55:24.358Z"
   },
   {
    "duration": -57,
    "start_time": "2021-08-10T12:55:24.360Z"
   },
   {
    "duration": -59,
    "start_time": "2021-08-10T12:55:24.364Z"
   },
   {
    "duration": -61,
    "start_time": "2021-08-10T12:55:24.367Z"
   },
   {
    "duration": -69,
    "start_time": "2021-08-10T12:55:24.376Z"
   },
   {
    "duration": -72,
    "start_time": "2021-08-10T12:55:24.380Z"
   },
   {
    "duration": 69,
    "start_time": "2021-08-10T13:34:23.320Z"
   },
   {
    "duration": 70,
    "start_time": "2021-08-10T13:34:43.279Z"
   },
   {
    "duration": 32,
    "start_time": "2021-08-10T13:34:57.180Z"
   },
   {
    "duration": 38,
    "start_time": "2021-08-10T13:35:12.118Z"
   },
   {
    "duration": 10,
    "start_time": "2021-08-10T13:35:18.438Z"
   },
   {
    "duration": 9,
    "start_time": "2021-08-10T13:35:21.290Z"
   },
   {
    "duration": 1012,
    "start_time": "2021-08-10T13:35:32.878Z"
   },
   {
    "duration": 9002,
    "start_time": "2021-08-10T13:35:48.901Z"
   },
   {
    "duration": 4,
    "start_time": "2021-08-10T13:35:57.906Z"
   },
   {
    "duration": 54,
    "start_time": "2021-08-10T13:35:57.913Z"
   },
   {
    "duration": 34,
    "start_time": "2021-08-10T13:35:57.970Z"
   },
   {
    "duration": 4,
    "start_time": "2021-08-10T13:35:58.007Z"
   },
   {
    "duration": 17,
    "start_time": "2021-08-10T13:35:58.013Z"
   },
   {
    "duration": 39,
    "start_time": "2021-08-10T13:35:58.033Z"
   },
   {
    "duration": 12,
    "start_time": "2021-08-10T13:35:58.074Z"
   },
   {
    "duration": 12,
    "start_time": "2021-08-10T13:35:58.090Z"
   },
   {
    "duration": 15,
    "start_time": "2021-08-10T13:35:58.105Z"
   },
   {
    "duration": 67,
    "start_time": "2021-08-10T13:35:58.122Z"
   },
   {
    "duration": 12,
    "start_time": "2021-08-10T13:35:58.191Z"
   },
   {
    "duration": 32,
    "start_time": "2021-08-10T13:35:58.206Z"
   },
   {
    "duration": 13,
    "start_time": "2021-08-10T13:35:58.268Z"
   },
   {
    "duration": 18,
    "start_time": "2021-08-10T13:35:58.283Z"
   },
   {
    "duration": 17,
    "start_time": "2021-08-10T13:35:58.303Z"
   },
   {
    "duration": 45,
    "start_time": "2021-08-10T13:35:58.322Z"
   },
   {
    "duration": 7,
    "start_time": "2021-08-10T13:35:58.370Z"
   },
   {
    "duration": 203,
    "start_time": "2021-08-10T13:35:58.380Z"
   },
   {
    "duration": 9,
    "start_time": "2021-08-10T13:35:58.587Z"
   },
   {
    "duration": 10,
    "start_time": "2021-08-10T13:35:58.598Z"
   },
   {
    "duration": 72,
    "start_time": "2021-08-10T13:35:58.611Z"
   },
   {
    "duration": 10,
    "start_time": "2021-08-10T13:35:58.686Z"
   },
   {
    "duration": 26,
    "start_time": "2021-08-10T13:35:58.698Z"
   },
   {
    "duration": 56,
    "start_time": "2021-08-10T13:35:58.726Z"
   },
   {
    "duration": 655,
    "start_time": "2021-08-10T13:35:58.785Z"
   },
   {
    "duration": 1183,
    "start_time": "2021-08-10T13:35:59.446Z"
   },
   {
    "duration": 35,
    "start_time": "2021-08-10T13:36:00.632Z"
   },
   {
    "duration": 871,
    "start_time": "2021-08-10T13:36:00.670Z"
   },
   {
    "duration": 61,
    "start_time": "2021-08-10T13:36:01.543Z"
   },
   {
    "duration": 741,
    "start_time": "2021-08-10T13:36:01.606Z"
   },
   {
    "duration": 47,
    "start_time": "2021-08-10T13:36:02.350Z"
   },
   {
    "duration": 27,
    "start_time": "2021-08-10T13:36:02.400Z"
   },
   {
    "duration": 1138,
    "start_time": "2021-08-10T13:36:02.429Z"
   },
   {
    "duration": -91,
    "start_time": "2021-08-10T13:36:03.661Z"
   },
   {
    "duration": -95,
    "start_time": "2021-08-10T13:36:03.666Z"
   },
   {
    "duration": -97,
    "start_time": "2021-08-10T13:36:03.670Z"
   },
   {
    "duration": -99,
    "start_time": "2021-08-10T13:36:03.673Z"
   },
   {
    "duration": -102,
    "start_time": "2021-08-10T13:36:03.677Z"
   },
   {
    "duration": -103,
    "start_time": "2021-08-10T13:36:03.680Z"
   },
   {
    "duration": -105,
    "start_time": "2021-08-10T13:36:03.683Z"
   },
   {
    "duration": -107,
    "start_time": "2021-08-10T13:36:03.686Z"
   },
   {
    "duration": -108,
    "start_time": "2021-08-10T13:36:03.689Z"
   },
   {
    "duration": -112,
    "start_time": "2021-08-10T13:36:03.694Z"
   },
   {
    "duration": -114,
    "start_time": "2021-08-10T13:36:03.697Z"
   },
   {
    "duration": -115,
    "start_time": "2021-08-10T13:36:03.700Z"
   },
   {
    "duration": -117,
    "start_time": "2021-08-10T13:36:03.703Z"
   },
   {
    "duration": -119,
    "start_time": "2021-08-10T13:36:03.706Z"
   },
   {
    "duration": -129,
    "start_time": "2021-08-10T13:36:03.718Z"
   },
   {
    "duration": -132,
    "start_time": "2021-08-10T13:36:03.722Z"
   },
   {
    "duration": -135,
    "start_time": "2021-08-10T13:36:03.726Z"
   },
   {
    "duration": -138,
    "start_time": "2021-08-10T13:36:03.731Z"
   },
   {
    "duration": 7,
    "start_time": "2021-08-10T13:36:58.318Z"
   },
   {
    "duration": 960,
    "start_time": "2021-08-10T13:37:48.350Z"
   },
   {
    "duration": 40,
    "start_time": "2021-08-10T13:38:21.758Z"
   },
   {
    "duration": 896,
    "start_time": "2021-08-10T13:40:48.018Z"
   },
   {
    "duration": 469,
    "start_time": "2021-08-10T13:43:12.080Z"
   },
   {
    "duration": 229,
    "start_time": "2021-08-10T13:43:52.818Z"
   },
   {
    "duration": 1011,
    "start_time": "2021-08-10T13:44:17.901Z"
   },
   {
    "duration": 24,
    "start_time": "2021-08-10T14:15:43.627Z"
   },
   {
    "duration": 270,
    "start_time": "2021-08-10T14:31:14.318Z"
   },
   {
    "duration": 9066,
    "start_time": "2021-08-10T14:31:33.176Z"
   },
   {
    "duration": 5,
    "start_time": "2021-08-10T14:31:42.245Z"
   },
   {
    "duration": 59,
    "start_time": "2021-08-10T14:31:42.254Z"
   },
   {
    "duration": 32,
    "start_time": "2021-08-10T14:31:42.315Z"
   },
   {
    "duration": 18,
    "start_time": "2021-08-10T14:31:42.350Z"
   },
   {
    "duration": 19,
    "start_time": "2021-08-10T14:31:42.371Z"
   },
   {
    "duration": 6,
    "start_time": "2021-08-10T14:31:42.392Z"
   },
   {
    "duration": 11,
    "start_time": "2021-08-10T14:31:42.400Z"
   },
   {
    "duration": 11,
    "start_time": "2021-08-10T14:31:42.415Z"
   },
   {
    "duration": 43,
    "start_time": "2021-08-10T14:31:42.429Z"
   },
   {
    "duration": 40,
    "start_time": "2021-08-10T14:31:42.474Z"
   },
   {
    "duration": 13,
    "start_time": "2021-08-10T14:31:42.517Z"
   },
   {
    "duration": 32,
    "start_time": "2021-08-10T14:31:42.568Z"
   },
   {
    "duration": 13,
    "start_time": "2021-08-10T14:31:42.602Z"
   },
   {
    "duration": 61,
    "start_time": "2021-08-10T14:31:42.617Z"
   },
   {
    "duration": 16,
    "start_time": "2021-08-10T14:31:42.680Z"
   },
   {
    "duration": 7,
    "start_time": "2021-08-10T14:31:42.699Z"
   },
   {
    "duration": 5,
    "start_time": "2021-08-10T14:31:42.708Z"
   },
   {
    "duration": 239,
    "start_time": "2021-08-10T14:31:42.716Z"
   },
   {
    "duration": 12,
    "start_time": "2021-08-10T14:31:42.958Z"
   },
   {
    "duration": 11,
    "start_time": "2021-08-10T14:31:42.973Z"
   },
   {
    "duration": 37,
    "start_time": "2021-08-10T14:31:42.987Z"
   },
   {
    "duration": 47,
    "start_time": "2021-08-10T14:31:43.027Z"
   },
   {
    "duration": 26,
    "start_time": "2021-08-10T14:31:43.076Z"
   },
   {
    "duration": 62,
    "start_time": "2021-08-10T14:31:43.105Z"
   },
   {
    "duration": 638,
    "start_time": "2021-08-10T14:31:43.170Z"
   },
   {
    "duration": 1157,
    "start_time": "2021-08-10T14:31:43.814Z"
   },
   {
    "duration": 26,
    "start_time": "2021-08-10T14:31:44.975Z"
   },
   {
    "duration": 892,
    "start_time": "2021-08-10T14:31:45.004Z"
   },
   {
    "duration": 44,
    "start_time": "2021-08-10T14:31:45.898Z"
   },
   {
    "duration": 739,
    "start_time": "2021-08-10T14:31:45.944Z"
   },
   {
    "duration": 39,
    "start_time": "2021-08-10T14:31:46.686Z"
   },
   {
    "duration": 40,
    "start_time": "2021-08-10T14:31:46.727Z"
   },
   {
    "duration": 42,
    "start_time": "2021-08-10T14:31:46.770Z"
   },
   {
    "duration": 921,
    "start_time": "2021-08-10T14:31:46.815Z"
   },
   {
    "duration": 39,
    "start_time": "2021-08-10T14:31:47.739Z"
   },
   {
    "duration": 3,
    "start_time": "2021-08-10T14:31:47.780Z"
   },
   {
    "duration": 11,
    "start_time": "2021-08-10T14:31:47.786Z"
   },
   {
    "duration": 11,
    "start_time": "2021-08-10T14:31:47.799Z"
   },
   {
    "duration": 56,
    "start_time": "2021-08-10T14:31:47.812Z"
   },
   {
    "duration": 10,
    "start_time": "2021-08-10T14:31:47.871Z"
   },
   {
    "duration": 11,
    "start_time": "2021-08-10T14:31:47.883Z"
   },
   {
    "duration": 9,
    "start_time": "2021-08-10T14:31:47.897Z"
   },
   {
    "duration": 58,
    "start_time": "2021-08-10T14:31:47.908Z"
   },
   {
    "duration": 11,
    "start_time": "2021-08-10T14:31:47.969Z"
   },
   {
    "duration": 14,
    "start_time": "2021-08-10T14:31:47.983Z"
   },
   {
    "duration": 10,
    "start_time": "2021-08-10T14:31:47.999Z"
   },
   {
    "duration": 61,
    "start_time": "2021-08-10T14:31:48.011Z"
   },
   {
    "duration": 20,
    "start_time": "2021-08-10T14:31:48.074Z"
   },
   {
    "duration": 18,
    "start_time": "2021-08-10T14:31:48.097Z"
   },
   {
    "duration": 9,
    "start_time": "2021-08-10T14:31:48.118Z"
   },
   {
    "duration": 40,
    "start_time": "2021-08-10T14:31:48.130Z"
   },
   {
    "duration": 22305,
    "start_time": "2021-08-11T05:48:25.833Z"
   },
   {
    "duration": 4,
    "start_time": "2021-08-11T05:48:48.140Z"
   },
   {
    "duration": 54,
    "start_time": "2021-08-11T05:48:48.148Z"
   },
   {
    "duration": 33,
    "start_time": "2021-08-11T05:48:48.206Z"
   },
   {
    "duration": 5,
    "start_time": "2021-08-11T05:48:48.257Z"
   },
   {
    "duration": 20,
    "start_time": "2021-08-11T05:48:48.264Z"
   },
   {
    "duration": 8,
    "start_time": "2021-08-11T05:48:48.287Z"
   },
   {
    "duration": 11,
    "start_time": "2021-08-11T05:48:48.301Z"
   },
   {
    "duration": 51,
    "start_time": "2021-08-11T05:48:48.316Z"
   },
   {
    "duration": 9,
    "start_time": "2021-08-11T05:48:48.370Z"
   },
   {
    "duration": 42,
    "start_time": "2021-08-11T05:48:48.381Z"
   },
   {
    "duration": 40,
    "start_time": "2021-08-11T05:48:48.426Z"
   },
   {
    "duration": 33,
    "start_time": "2021-08-11T05:48:48.469Z"
   },
   {
    "duration": 13,
    "start_time": "2021-08-11T05:48:48.504Z"
   },
   {
    "duration": 54,
    "start_time": "2021-08-11T05:48:48.519Z"
   },
   {
    "duration": 17,
    "start_time": "2021-08-11T05:48:48.575Z"
   },
   {
    "duration": 6,
    "start_time": "2021-08-11T05:48:48.594Z"
   },
   {
    "duration": 12,
    "start_time": "2021-08-11T05:48:48.602Z"
   },
   {
    "duration": 213,
    "start_time": "2021-08-11T05:48:48.617Z"
   },
   {
    "duration": 24,
    "start_time": "2021-08-11T05:48:48.832Z"
   },
   {
    "duration": 13,
    "start_time": "2021-08-11T05:48:48.858Z"
   },
   {
    "duration": 39,
    "start_time": "2021-08-11T05:48:48.873Z"
   },
   {
    "duration": 10,
    "start_time": "2021-08-11T05:48:48.917Z"
   },
   {
    "duration": 49,
    "start_time": "2021-08-11T05:48:48.930Z"
   },
   {
    "duration": 31,
    "start_time": "2021-08-11T05:48:48.981Z"
   },
   {
    "duration": 650,
    "start_time": "2021-08-11T05:48:49.014Z"
   },
   {
    "duration": 1128,
    "start_time": "2021-08-11T05:48:49.667Z"
   },
   {
    "duration": 25,
    "start_time": "2021-08-11T05:48:50.798Z"
   },
   {
    "duration": 884,
    "start_time": "2021-08-11T05:48:50.826Z"
   },
   {
    "duration": 57,
    "start_time": "2021-08-11T05:48:51.712Z"
   },
   {
    "duration": 739,
    "start_time": "2021-08-11T05:48:51.771Z"
   },
   {
    "duration": 59,
    "start_time": "2021-08-11T05:48:52.513Z"
   },
   {
    "duration": 9,
    "start_time": "2021-08-11T05:48:52.575Z"
   },
   {
    "duration": 44,
    "start_time": "2021-08-11T05:48:52.586Z"
   },
   {
    "duration": 938,
    "start_time": "2021-08-11T05:48:52.633Z"
   },
   {
    "duration": 24,
    "start_time": "2021-08-11T05:48:53.573Z"
   },
   {
    "duration": 6,
    "start_time": "2021-08-11T05:48:53.600Z"
   },
   {
    "duration": 47,
    "start_time": "2021-08-11T05:48:53.608Z"
   },
   {
    "duration": 10,
    "start_time": "2021-08-11T05:48:53.658Z"
   },
   {
    "duration": 15,
    "start_time": "2021-08-11T05:48:53.670Z"
   },
   {
    "duration": 15,
    "start_time": "2021-08-11T05:48:53.688Z"
   },
   {
    "duration": 15,
    "start_time": "2021-08-11T05:48:53.705Z"
   },
   {
    "duration": 38,
    "start_time": "2021-08-11T05:48:53.723Z"
   },
   {
    "duration": 18,
    "start_time": "2021-08-11T05:48:53.764Z"
   },
   {
    "duration": 15,
    "start_time": "2021-08-11T05:48:53.785Z"
   },
   {
    "duration": 16,
    "start_time": "2021-08-11T05:48:53.803Z"
   },
   {
    "duration": 28,
    "start_time": "2021-08-11T05:48:53.821Z"
   },
   {
    "duration": 18,
    "start_time": "2021-08-11T05:48:53.851Z"
   },
   {
    "duration": 15,
    "start_time": "2021-08-11T05:48:53.872Z"
   },
   {
    "duration": 18,
    "start_time": "2021-08-11T05:48:53.889Z"
   },
   {
    "duration": 9,
    "start_time": "2021-08-11T05:48:53.909Z"
   },
   {
    "duration": 41,
    "start_time": "2021-08-11T05:48:53.920Z"
   },
   {
    "duration": 24,
    "start_time": "2021-08-11T15:58:07.950Z"
   },
   {
    "duration": 550,
    "start_time": "2021-08-11T15:58:34.698Z"
   },
   {
    "duration": 650,
    "start_time": "2021-08-11T15:59:08.190Z"
   },
   {
    "duration": 669,
    "start_time": "2021-08-11T15:59:39.510Z"
   },
   {
    "duration": 705,
    "start_time": "2021-08-11T15:59:47.350Z"
   },
   {
    "duration": 645,
    "start_time": "2021-08-11T15:59:53.322Z"
   },
   {
    "duration": 688,
    "start_time": "2021-08-11T15:59:58.510Z"
   },
   {
    "duration": 675,
    "start_time": "2021-08-11T16:00:03.510Z"
   },
   {
    "duration": 562,
    "start_time": "2021-08-11T16:01:21.439Z"
   },
   {
    "duration": 4,
    "start_time": "2021-08-11T16:01:39.490Z"
   },
   {
    "duration": 34,
    "start_time": "2021-08-11T16:01:42.350Z"
   },
   {
    "duration": 155,
    "start_time": "2021-08-11T16:03:21.511Z"
   },
   {
    "duration": 362,
    "start_time": "2021-08-11T16:04:17.403Z"
   },
   {
    "duration": 406,
    "start_time": "2021-08-11T16:04:21.610Z"
   },
   {
    "duration": -82,
    "start_time": "2021-08-11T16:04:22.100Z"
   },
   {
    "duration": 43,
    "start_time": "2021-08-11T16:04:41.850Z"
   },
   {
    "duration": 678,
    "start_time": "2021-08-11T16:04:44.310Z"
   },
   {
    "duration": 10123,
    "start_time": "2021-08-11T16:14:23.605Z"
   },
   {
    "duration": 3,
    "start_time": "2021-08-11T16:14:33.732Z"
   },
   {
    "duration": 67,
    "start_time": "2021-08-11T16:14:33.740Z"
   },
   {
    "duration": 32,
    "start_time": "2021-08-11T16:14:33.809Z"
   },
   {
    "duration": 14,
    "start_time": "2021-08-11T16:14:33.844Z"
   },
   {
    "duration": 17,
    "start_time": "2021-08-11T16:14:33.860Z"
   },
   {
    "duration": 6,
    "start_time": "2021-08-11T16:14:33.879Z"
   },
   {
    "duration": 13,
    "start_time": "2021-08-11T16:14:33.887Z"
   },
   {
    "duration": 14,
    "start_time": "2021-08-11T16:14:33.904Z"
   },
   {
    "duration": 5,
    "start_time": "2021-08-11T16:14:33.958Z"
   },
   {
    "duration": 47,
    "start_time": "2021-08-11T16:14:33.966Z"
   },
   {
    "duration": 14,
    "start_time": "2021-08-11T16:14:34.015Z"
   },
   {
    "duration": 58,
    "start_time": "2021-08-11T16:14:34.031Z"
   },
   {
    "duration": 17,
    "start_time": "2021-08-11T16:14:34.092Z"
   },
   {
    "duration": 48,
    "start_time": "2021-08-11T16:14:34.112Z"
   },
   {
    "duration": 19,
    "start_time": "2021-08-11T16:14:34.163Z"
   },
   {
    "duration": 6,
    "start_time": "2021-08-11T16:14:34.185Z"
   },
   {
    "duration": 7,
    "start_time": "2021-08-11T16:14:34.194Z"
   },
   {
    "duration": 230,
    "start_time": "2021-08-11T16:14:34.204Z"
   },
   {
    "duration": 19,
    "start_time": "2021-08-11T16:14:34.437Z"
   },
   {
    "duration": 12,
    "start_time": "2021-08-11T16:14:34.459Z"
   },
   {
    "duration": 48,
    "start_time": "2021-08-11T16:14:34.473Z"
   },
   {
    "duration": 10,
    "start_time": "2021-08-11T16:14:34.523Z"
   },
   {
    "duration": 47,
    "start_time": "2021-08-11T16:14:34.535Z"
   },
   {
    "duration": 33,
    "start_time": "2021-08-11T16:14:34.584Z"
   },
   {
    "duration": 687,
    "start_time": "2021-08-11T16:14:34.620Z"
   },
   {
    "duration": 1225,
    "start_time": "2021-08-11T16:14:35.313Z"
   },
   {
    "duration": 35,
    "start_time": "2021-08-11T16:14:36.541Z"
   },
   {
    "duration": 931,
    "start_time": "2021-08-11T16:14:36.579Z"
   },
   {
    "duration": 65,
    "start_time": "2021-08-11T16:14:37.513Z"
   },
   {
    "duration": 711,
    "start_time": "2021-08-11T16:14:37.581Z"
   },
   {
    "duration": 40,
    "start_time": "2021-08-11T16:14:38.294Z"
   },
   {
    "duration": 9,
    "start_time": "2021-08-11T16:14:38.356Z"
   },
   {
    "duration": 38,
    "start_time": "2021-08-11T16:14:38.368Z"
   },
   {
    "duration": 957,
    "start_time": "2021-08-11T16:14:38.408Z"
   },
   {
    "duration": 539,
    "start_time": "2021-08-11T16:14:39.368Z"
   },
   {
    "duration": 0,
    "start_time": "2021-08-11T16:14:39.909Z"
   },
   {
    "duration": -3,
    "start_time": "2021-08-11T16:14:39.914Z"
   },
   {
    "duration": -5,
    "start_time": "2021-08-11T16:14:39.917Z"
   },
   {
    "duration": -7,
    "start_time": "2021-08-11T16:14:39.921Z"
   },
   {
    "duration": -9,
    "start_time": "2021-08-11T16:14:39.924Z"
   },
   {
    "duration": -16,
    "start_time": "2021-08-11T16:14:39.932Z"
   },
   {
    "duration": -17,
    "start_time": "2021-08-11T16:14:39.935Z"
   },
   {
    "duration": -20,
    "start_time": "2021-08-11T16:14:39.939Z"
   },
   {
    "duration": -22,
    "start_time": "2021-08-11T16:14:39.942Z"
   },
   {
    "duration": -24,
    "start_time": "2021-08-11T16:14:39.946Z"
   },
   {
    "duration": -26,
    "start_time": "2021-08-11T16:14:39.949Z"
   },
   {
    "duration": -28,
    "start_time": "2021-08-11T16:14:39.953Z"
   },
   {
    "duration": -30,
    "start_time": "2021-08-11T16:14:39.957Z"
   },
   {
    "duration": -33,
    "start_time": "2021-08-11T16:14:39.961Z"
   },
   {
    "duration": -35,
    "start_time": "2021-08-11T16:14:39.964Z"
   },
   {
    "duration": -37,
    "start_time": "2021-08-11T16:14:39.968Z"
   },
   {
    "duration": 38,
    "start_time": "2021-08-11T16:15:39.492Z"
   },
   {
    "duration": 12,
    "start_time": "2021-08-11T16:16:59.923Z"
   },
   {
    "duration": 4,
    "start_time": "2021-08-11T16:17:45.443Z"
   },
   {
    "duration": 10,
    "start_time": "2021-08-11T16:17:49.804Z"
   },
   {
    "duration": 494,
    "start_time": "2021-08-11T16:18:14.523Z"
   },
   {
    "duration": 388,
    "start_time": "2021-08-11T16:18:27.663Z"
   },
   {
    "duration": 531,
    "start_time": "2021-08-11T16:19:06.731Z"
   },
   {
    "duration": 1568,
    "start_time": "2021-08-11T16:19:30.663Z"
   },
   {
    "duration": 370,
    "start_time": "2021-08-11T16:19:36.399Z"
   },
   {
    "duration": 24,
    "start_time": "2021-08-11T16:19:50.685Z"
   },
   {
    "duration": 9,
    "start_time": "2021-08-11T16:20:01.383Z"
   },
   {
    "duration": 23,
    "start_time": "2021-08-11T16:20:18.919Z"
   },
   {
    "duration": 511,
    "start_time": "2021-08-11T16:20:42.675Z"
   },
   {
    "duration": 513,
    "start_time": "2021-08-11T16:20:48.623Z"
   },
   {
    "duration": 519,
    "start_time": "2021-08-11T16:20:52.932Z"
   },
   {
    "duration": 516,
    "start_time": "2021-08-11T16:21:14.863Z"
   },
   {
    "duration": 532,
    "start_time": "2021-08-11T16:21:20.223Z"
   },
   {
    "duration": 717,
    "start_time": "2021-08-11T16:21:39.964Z"
   },
   {
    "duration": 9762,
    "start_time": "2021-08-11T16:21:58.386Z"
   },
   {
    "duration": 3,
    "start_time": "2021-08-11T16:22:08.151Z"
   },
   {
    "duration": 53,
    "start_time": "2021-08-11T16:22:08.157Z"
   },
   {
    "duration": 42,
    "start_time": "2021-08-11T16:22:08.213Z"
   },
   {
    "duration": 5,
    "start_time": "2021-08-11T16:22:08.257Z"
   },
   {
    "duration": 23,
    "start_time": "2021-08-11T16:22:08.264Z"
   },
   {
    "duration": 18,
    "start_time": "2021-08-11T16:22:08.289Z"
   },
   {
    "duration": 19,
    "start_time": "2021-08-11T16:22:08.310Z"
   },
   {
    "duration": 24,
    "start_time": "2021-08-11T16:22:08.333Z"
   },
   {
    "duration": 13,
    "start_time": "2021-08-11T16:22:08.361Z"
   },
   {
    "duration": 52,
    "start_time": "2021-08-11T16:22:08.376Z"
   },
   {
    "duration": 25,
    "start_time": "2021-08-11T16:22:08.431Z"
   },
   {
    "duration": 32,
    "start_time": "2021-08-11T16:22:08.458Z"
   },
   {
    "duration": 13,
    "start_time": "2021-08-11T16:22:08.492Z"
   },
   {
    "duration": 54,
    "start_time": "2021-08-11T16:22:08.507Z"
   },
   {
    "duration": 17,
    "start_time": "2021-08-11T16:22:08.564Z"
   },
   {
    "duration": 10,
    "start_time": "2021-08-11T16:22:08.583Z"
   },
   {
    "duration": 16,
    "start_time": "2021-08-11T16:22:08.595Z"
   },
   {
    "duration": 196,
    "start_time": "2021-08-11T16:22:08.613Z"
   },
   {
    "duration": 9,
    "start_time": "2021-08-11T16:22:08.811Z"
   },
   {
    "duration": 19,
    "start_time": "2021-08-11T16:22:08.823Z"
   },
   {
    "duration": 38,
    "start_time": "2021-08-11T16:22:08.856Z"
   },
   {
    "duration": 10,
    "start_time": "2021-08-11T16:22:08.896Z"
   },
   {
    "duration": 56,
    "start_time": "2021-08-11T16:22:08.908Z"
   },
   {
    "duration": 29,
    "start_time": "2021-08-11T16:22:08.966Z"
   },
   {
    "duration": 642,
    "start_time": "2021-08-11T16:22:08.998Z"
   },
   {
    "duration": 1129,
    "start_time": "2021-08-11T16:22:09.657Z"
   },
   {
    "duration": 26,
    "start_time": "2021-08-11T16:22:10.789Z"
   },
   {
    "duration": 861,
    "start_time": "2021-08-11T16:22:10.817Z"
   },
   {
    "duration": 46,
    "start_time": "2021-08-11T16:22:11.681Z"
   },
   {
    "duration": 727,
    "start_time": "2021-08-11T16:22:11.730Z"
   },
   {
    "duration": 40,
    "start_time": "2021-08-11T16:22:12.460Z"
   },
   {
    "duration": 8,
    "start_time": "2021-08-11T16:22:12.502Z"
   },
   {
    "duration": 65,
    "start_time": "2021-08-11T16:22:12.512Z"
   },
   {
    "duration": 906,
    "start_time": "2021-08-11T16:22:12.580Z"
   },
   {
    "duration": 24,
    "start_time": "2021-08-11T16:22:13.488Z"
   },
   {
    "duration": 524,
    "start_time": "2021-08-11T16:22:13.515Z"
   },
   {
    "duration": -17,
    "start_time": "2021-08-11T16:22:14.059Z"
   },
   {
    "duration": -19,
    "start_time": "2021-08-11T16:22:14.063Z"
   },
   {
    "duration": -22,
    "start_time": "2021-08-11T16:22:14.067Z"
   },
   {
    "duration": -26,
    "start_time": "2021-08-11T16:22:14.072Z"
   },
   {
    "duration": -28,
    "start_time": "2021-08-11T16:22:14.076Z"
   },
   {
    "duration": -31,
    "start_time": "2021-08-11T16:22:14.081Z"
   },
   {
    "duration": -32,
    "start_time": "2021-08-11T16:22:14.084Z"
   },
   {
    "duration": -34,
    "start_time": "2021-08-11T16:22:14.087Z"
   },
   {
    "duration": -35,
    "start_time": "2021-08-11T16:22:14.090Z"
   },
   {
    "duration": -38,
    "start_time": "2021-08-11T16:22:14.094Z"
   },
   {
    "duration": -39,
    "start_time": "2021-08-11T16:22:14.097Z"
   },
   {
    "duration": -41,
    "start_time": "2021-08-11T16:22:14.100Z"
   },
   {
    "duration": -49,
    "start_time": "2021-08-11T16:22:14.110Z"
   },
   {
    "duration": -52,
    "start_time": "2021-08-11T16:22:14.115Z"
   },
   {
    "duration": -55,
    "start_time": "2021-08-11T16:22:14.119Z"
   },
   {
    "duration": -57,
    "start_time": "2021-08-11T16:22:14.123Z"
   },
   {
    "duration": 513,
    "start_time": "2021-08-11T16:22:24.064Z"
   },
   {
    "duration": 225,
    "start_time": "2021-08-11T16:24:38.044Z"
   },
   {
    "duration": 396,
    "start_time": "2021-08-11T16:25:05.384Z"
   },
   {
    "duration": 142,
    "start_time": "2021-08-11T16:25:15.804Z"
   },
   {
    "duration": 122,
    "start_time": "2021-08-11T16:25:21.444Z"
   },
   {
    "duration": 133,
    "start_time": "2021-08-11T16:25:40.184Z"
   },
   {
    "duration": 123,
    "start_time": "2021-08-11T16:25:48.244Z"
   },
   {
    "duration": 115,
    "start_time": "2021-08-11T16:26:36.904Z"
   },
   {
    "duration": 624,
    "start_time": "2021-08-11T16:26:42.084Z"
   },
   {
    "duration": 217,
    "start_time": "2021-08-11T16:29:23.416Z"
   },
   {
    "duration": 676,
    "start_time": "2021-08-11T16:29:38.424Z"
   },
   {
    "duration": 39,
    "start_time": "2021-08-11T16:33:14.084Z"
   },
   {
    "duration": 385,
    "start_time": "2021-08-11T16:33:53.045Z"
   },
   {
    "duration": 28,
    "start_time": "2021-08-11T16:34:01.672Z"
   },
   {
    "duration": 374,
    "start_time": "2021-08-11T16:38:18.841Z"
   },
   {
    "duration": 755,
    "start_time": "2021-08-11T16:38:35.744Z"
   },
   {
    "duration": 128,
    "start_time": "2021-08-11T16:39:29.784Z"
   },
   {
    "duration": 110,
    "start_time": "2021-08-11T16:39:33.224Z"
   },
   {
    "duration": 646,
    "start_time": "2021-08-11T16:39:41.904Z"
   },
   {
    "duration": 596,
    "start_time": "2021-08-11T16:40:29.904Z"
   },
   {
    "duration": 33,
    "start_time": "2021-08-11T16:40:59.012Z"
   },
   {
    "duration": 12,
    "start_time": "2021-08-11T16:41:14.944Z"
   },
   {
    "duration": 11853,
    "start_time": "2021-08-11T19:16:38.524Z"
   },
   {
    "duration": 4,
    "start_time": "2021-08-11T19:16:50.378Z"
   },
   {
    "duration": 39,
    "start_time": "2021-08-11T19:16:50.384Z"
   },
   {
    "duration": 19,
    "start_time": "2021-08-11T19:16:50.425Z"
   },
   {
    "duration": 4,
    "start_time": "2021-08-11T19:16:50.445Z"
   },
   {
    "duration": 10,
    "start_time": "2021-08-11T19:16:50.451Z"
   },
   {
    "duration": 4,
    "start_time": "2021-08-11T19:16:50.463Z"
   },
   {
    "duration": 24,
    "start_time": "2021-08-11T19:16:50.470Z"
   },
   {
    "duration": 10,
    "start_time": "2021-08-11T19:16:50.496Z"
   },
   {
    "duration": 6,
    "start_time": "2021-08-11T19:16:50.507Z"
   },
   {
    "duration": 24,
    "start_time": "2021-08-11T19:16:50.514Z"
   },
   {
    "duration": 9,
    "start_time": "2021-08-11T19:16:50.540Z"
   },
   {
    "duration": 42,
    "start_time": "2021-08-11T19:16:50.551Z"
   },
   {
    "duration": 11,
    "start_time": "2021-08-11T19:16:50.595Z"
   },
   {
    "duration": 14,
    "start_time": "2021-08-11T19:16:50.608Z"
   },
   {
    "duration": 14,
    "start_time": "2021-08-11T19:16:50.624Z"
   },
   {
    "duration": 5,
    "start_time": "2021-08-11T19:16:50.639Z"
   },
   {
    "duration": 6,
    "start_time": "2021-08-11T19:16:50.646Z"
   },
   {
    "duration": 128,
    "start_time": "2021-08-11T19:16:50.653Z"
   },
   {
    "duration": 11,
    "start_time": "2021-08-11T19:16:50.782Z"
   },
   {
    "duration": 6,
    "start_time": "2021-08-11T19:16:50.794Z"
   },
   {
    "duration": 23,
    "start_time": "2021-08-11T19:16:50.802Z"
   },
   {
    "duration": 6,
    "start_time": "2021-08-11T19:16:50.828Z"
   },
   {
    "duration": 14,
    "start_time": "2021-08-11T19:16:50.835Z"
   },
   {
    "duration": 47,
    "start_time": "2021-08-11T19:16:50.850Z"
   },
   {
    "duration": 370,
    "start_time": "2021-08-11T19:16:50.898Z"
   },
   {
    "duration": 602,
    "start_time": "2021-08-11T19:16:51.270Z"
   },
   {
    "duration": 23,
    "start_time": "2021-08-11T19:16:51.874Z"
   },
   {
    "duration": 542,
    "start_time": "2021-08-11T19:16:51.898Z"
   },
   {
    "duration": 26,
    "start_time": "2021-08-11T19:16:52.442Z"
   },
   {
    "duration": 378,
    "start_time": "2021-08-11T19:16:52.470Z"
   },
   {
    "duration": 22,
    "start_time": "2021-08-11T19:16:52.850Z"
   },
   {
    "duration": 4,
    "start_time": "2021-08-11T19:16:52.874Z"
   },
   {
    "duration": 29,
    "start_time": "2021-08-11T19:16:52.880Z"
   },
   {
    "duration": 488,
    "start_time": "2021-08-11T19:16:52.911Z"
   },
   {
    "duration": 14,
    "start_time": "2021-08-11T19:16:53.400Z"
   },
   {
    "duration": 330,
    "start_time": "2021-08-11T19:16:53.416Z"
   },
   {
    "duration": 42,
    "start_time": "2021-08-11T19:16:53.706Z"
   },
   {
    "duration": 38,
    "start_time": "2021-08-11T19:16:53.711Z"
   },
   {
    "duration": 36,
    "start_time": "2021-08-11T19:16:53.714Z"
   },
   {
    "duration": 32,
    "start_time": "2021-08-11T19:16:53.719Z"
   },
   {
    "duration": 30,
    "start_time": "2021-08-11T19:16:53.722Z"
   },
   {
    "duration": 26,
    "start_time": "2021-08-11T19:16:53.727Z"
   },
   {
    "duration": 23,
    "start_time": "2021-08-11T19:16:53.731Z"
   },
   {
    "duration": 19,
    "start_time": "2021-08-11T19:16:53.736Z"
   },
   {
    "duration": 16,
    "start_time": "2021-08-11T19:16:53.740Z"
   },
   {
    "duration": 13,
    "start_time": "2021-08-11T19:16:53.744Z"
   },
   {
    "duration": 11,
    "start_time": "2021-08-11T19:16:53.747Z"
   },
   {
    "duration": 6,
    "start_time": "2021-08-11T19:16:53.752Z"
   },
   {
    "duration": 4,
    "start_time": "2021-08-11T19:16:53.755Z"
   },
   {
    "duration": 0,
    "start_time": "2021-08-11T19:16:53.760Z"
   },
   {
    "duration": -2,
    "start_time": "2021-08-11T19:16:53.763Z"
   },
   {
    "duration": -6,
    "start_time": "2021-08-11T19:16:53.768Z"
   },
   {
    "duration": -8,
    "start_time": "2021-08-11T19:16:53.771Z"
   },
   {
    "duration": 115,
    "start_time": "2021-08-11T19:33:46.426Z"
   },
   {
    "duration": 116,
    "start_time": "2021-08-11T19:34:11.590Z"
   },
   {
    "duration": 364,
    "start_time": "2021-08-11T19:35:21.630Z"
   },
   {
    "duration": 9,
    "start_time": "2021-08-11T19:38:33.300Z"
   },
   {
    "duration": 16,
    "start_time": "2021-08-11T19:39:03.402Z"
   },
   {
    "duration": 16,
    "start_time": "2021-08-11T19:39:12.130Z"
   },
   {
    "duration": 179,
    "start_time": "2021-08-11T19:40:07.106Z"
   },
   {
    "duration": 370,
    "start_time": "2021-08-11T19:41:15.803Z"
   },
   {
    "duration": 452,
    "start_time": "2021-08-11T19:42:21.818Z"
   },
   {
    "duration": 241,
    "start_time": "2021-08-11T19:43:32.771Z"
   },
   {
    "duration": 112,
    "start_time": "2021-08-11T19:46:15.519Z"
   },
   {
    "duration": 239,
    "start_time": "2021-08-11T19:46:47.459Z"
   },
   {
    "duration": 235,
    "start_time": "2021-08-11T19:46:52.183Z"
   },
   {
    "duration": 243,
    "start_time": "2021-08-11T19:46:58.707Z"
   },
   {
    "duration": 22337,
    "start_time": "2021-08-12T08:22:28.513Z"
   },
   {
    "duration": 4,
    "start_time": "2021-08-12T08:22:50.853Z"
   },
   {
    "duration": 58,
    "start_time": "2021-08-12T08:22:50.860Z"
   },
   {
    "duration": 32,
    "start_time": "2021-08-12T08:22:50.921Z"
   },
   {
    "duration": 4,
    "start_time": "2021-08-12T08:22:50.956Z"
   },
   {
    "duration": 15,
    "start_time": "2021-08-12T08:22:50.987Z"
   },
   {
    "duration": 7,
    "start_time": "2021-08-12T08:22:51.004Z"
   },
   {
    "duration": 14,
    "start_time": "2021-08-12T08:22:51.014Z"
   },
   {
    "duration": 14,
    "start_time": "2021-08-12T08:22:51.032Z"
   },
   {
    "duration": 38,
    "start_time": "2021-08-12T08:22:51.050Z"
   },
   {
    "duration": 39,
    "start_time": "2021-08-12T08:22:51.090Z"
   },
   {
    "duration": 13,
    "start_time": "2021-08-12T08:22:51.131Z"
   },
   {
    "duration": 67,
    "start_time": "2021-08-12T08:22:51.146Z"
   },
   {
    "duration": 14,
    "start_time": "2021-08-12T08:22:51.215Z"
   },
   {
    "duration": 20,
    "start_time": "2021-08-12T08:22:51.231Z"
   },
   {
    "duration": 49,
    "start_time": "2021-08-12T08:22:51.253Z"
   },
   {
    "duration": 7,
    "start_time": "2021-08-12T08:22:51.305Z"
   },
   {
    "duration": 7,
    "start_time": "2021-08-12T08:22:51.314Z"
   },
   {
    "duration": 211,
    "start_time": "2021-08-12T08:22:51.324Z"
   },
   {
    "duration": 10,
    "start_time": "2021-08-12T08:22:51.538Z"
   },
   {
    "duration": 37,
    "start_time": "2021-08-12T08:22:51.550Z"
   },
   {
    "duration": 39,
    "start_time": "2021-08-12T08:22:51.590Z"
   },
   {
    "duration": 10,
    "start_time": "2021-08-12T08:22:51.632Z"
   },
   {
    "duration": 57,
    "start_time": "2021-08-12T08:22:51.644Z"
   },
   {
    "duration": 28,
    "start_time": "2021-08-12T08:22:51.704Z"
   },
   {
    "duration": 659,
    "start_time": "2021-08-12T08:22:51.735Z"
   },
   {
    "duration": 1245,
    "start_time": "2021-08-12T08:22:52.399Z"
   },
   {
    "duration": 40,
    "start_time": "2021-08-12T08:22:53.647Z"
   },
   {
    "duration": 866,
    "start_time": "2021-08-12T08:22:53.689Z"
   },
   {
    "duration": 56,
    "start_time": "2021-08-12T08:22:54.558Z"
   },
   {
    "duration": 773,
    "start_time": "2021-08-12T08:22:54.617Z"
   },
   {
    "duration": 38,
    "start_time": "2021-08-12T08:22:55.392Z"
   },
   {
    "duration": 8,
    "start_time": "2021-08-12T08:22:55.433Z"
   },
   {
    "duration": 66,
    "start_time": "2021-08-12T08:22:55.444Z"
   },
   {
    "duration": 1035,
    "start_time": "2021-08-12T08:22:55.513Z"
   },
   {
    "duration": 37,
    "start_time": "2021-08-12T08:22:56.550Z"
   },
   {
    "duration": 524,
    "start_time": "2021-08-12T08:22:56.590Z"
   },
   {
    "duration": 11,
    "start_time": "2021-08-12T08:22:57.116Z"
   },
   {
    "duration": 20,
    "start_time": "2021-08-12T08:22:57.129Z"
   },
   {
    "duration": 18,
    "start_time": "2021-08-12T08:22:57.152Z"
   },
   {
    "duration": 11,
    "start_time": "2021-08-12T08:22:57.185Z"
   },
   {
    "duration": 15,
    "start_time": "2021-08-12T08:22:57.198Z"
   },
   {
    "duration": 28,
    "start_time": "2021-08-12T08:22:57.215Z"
   },
   {
    "duration": 27,
    "start_time": "2021-08-12T08:22:57.246Z"
   },
   {
    "duration": 21,
    "start_time": "2021-08-12T08:22:57.275Z"
   },
   {
    "duration": 26,
    "start_time": "2021-08-12T08:22:57.299Z"
   },
   {
    "duration": 18,
    "start_time": "2021-08-12T08:22:57.328Z"
   },
   {
    "duration": 36,
    "start_time": "2021-08-12T08:22:57.349Z"
   },
   {
    "duration": 16,
    "start_time": "2021-08-12T08:22:57.388Z"
   },
   {
    "duration": 14,
    "start_time": "2021-08-12T08:22:57.406Z"
   },
   {
    "duration": 45,
    "start_time": "2021-08-12T08:22:57.422Z"
   },
   {
    "duration": 22861,
    "start_time": "2021-08-12T19:49:48.117Z"
   },
   {
    "duration": 4,
    "start_time": "2021-08-12T19:50:10.981Z"
   },
   {
    "duration": 55,
    "start_time": "2021-08-12T19:50:10.987Z"
   },
   {
    "duration": 37,
    "start_time": "2021-08-12T19:50:11.045Z"
   },
   {
    "duration": 5,
    "start_time": "2021-08-12T19:50:11.084Z"
   },
   {
    "duration": 21,
    "start_time": "2021-08-12T19:50:11.091Z"
   },
   {
    "duration": 6,
    "start_time": "2021-08-12T19:50:11.114Z"
   },
   {
    "duration": 45,
    "start_time": "2021-08-12T19:50:11.124Z"
   },
   {
    "duration": 12,
    "start_time": "2021-08-12T19:50:11.173Z"
   },
   {
    "duration": 8,
    "start_time": "2021-08-12T19:50:11.187Z"
   },
   {
    "duration": 37,
    "start_time": "2021-08-12T19:50:11.197Z"
   },
   {
    "duration": 38,
    "start_time": "2021-08-12T19:50:11.237Z"
   },
   {
    "duration": 32,
    "start_time": "2021-08-12T19:50:11.278Z"
   },
   {
    "duration": 13,
    "start_time": "2021-08-12T19:50:11.313Z"
   },
   {
    "duration": 55,
    "start_time": "2021-08-12T19:50:11.329Z"
   },
   {
    "duration": 17,
    "start_time": "2021-08-12T19:50:11.386Z"
   },
   {
    "duration": 7,
    "start_time": "2021-08-12T19:50:11.405Z"
   },
   {
    "duration": 6,
    "start_time": "2021-08-12T19:50:11.414Z"
   },
   {
    "duration": 224,
    "start_time": "2021-08-12T19:50:11.422Z"
   },
   {
    "duration": 20,
    "start_time": "2021-08-12T19:50:11.648Z"
   },
   {
    "duration": 10,
    "start_time": "2021-08-12T19:50:11.670Z"
   },
   {
    "duration": 38,
    "start_time": "2021-08-12T19:50:11.683Z"
   },
   {
    "duration": 10,
    "start_time": "2021-08-12T19:50:11.726Z"
   },
   {
    "duration": 51,
    "start_time": "2021-08-12T19:50:11.739Z"
   },
   {
    "duration": 28,
    "start_time": "2021-08-12T19:50:11.792Z"
   },
   {
    "duration": 673,
    "start_time": "2021-08-12T19:50:11.822Z"
   },
   {
    "duration": 1149,
    "start_time": "2021-08-12T19:50:12.498Z"
   },
   {
    "duration": 35,
    "start_time": "2021-08-12T19:50:13.649Z"
   },
   {
    "duration": 897,
    "start_time": "2021-08-12T19:50:13.686Z"
   },
   {
    "duration": 45,
    "start_time": "2021-08-12T19:50:14.586Z"
   },
   {
    "duration": 702,
    "start_time": "2021-08-12T19:50:14.633Z"
   },
   {
    "duration": 49,
    "start_time": "2021-08-12T19:50:15.338Z"
   },
   {
    "duration": 8,
    "start_time": "2021-08-12T19:50:15.389Z"
   },
   {
    "duration": 37,
    "start_time": "2021-08-12T19:50:15.400Z"
   },
   {
    "duration": 914,
    "start_time": "2021-08-12T19:50:15.467Z"
   },
   {
    "duration": 27,
    "start_time": "2021-08-12T19:50:16.384Z"
   },
   {
    "duration": 499,
    "start_time": "2021-08-12T19:50:16.413Z"
   },
   {
    "duration": 10,
    "start_time": "2021-08-12T19:50:16.914Z"
   },
   {
    "duration": 13,
    "start_time": "2021-08-12T19:50:16.926Z"
   },
   {
    "duration": 30,
    "start_time": "2021-08-12T19:50:16.942Z"
   },
   {
    "duration": 8,
    "start_time": "2021-08-12T19:50:16.974Z"
   },
   {
    "duration": 12,
    "start_time": "2021-08-12T19:50:16.985Z"
   },
   {
    "duration": 9,
    "start_time": "2021-08-12T19:50:16.999Z"
   },
   {
    "duration": 58,
    "start_time": "2021-08-12T19:50:17.011Z"
   },
   {
    "duration": 10,
    "start_time": "2021-08-12T19:50:17.071Z"
   },
   {
    "duration": 11,
    "start_time": "2021-08-12T19:50:17.084Z"
   },
   {
    "duration": 13,
    "start_time": "2021-08-12T19:50:17.098Z"
   },
   {
    "duration": 7,
    "start_time": "2021-08-12T19:50:17.114Z"
   },
   {
    "duration": 13,
    "start_time": "2021-08-12T19:50:17.168Z"
   },
   {
    "duration": 7,
    "start_time": "2021-08-12T19:50:17.183Z"
   },
   {
    "duration": 9,
    "start_time": "2021-08-12T19:50:17.193Z"
   },
   {
    "duration": 18110,
    "start_time": "2021-08-13T11:36:08.216Z"
   },
   {
    "duration": 3,
    "start_time": "2021-08-13T11:36:26.330Z"
   },
   {
    "duration": 79,
    "start_time": "2021-08-13T11:36:26.337Z"
   },
   {
    "duration": 32,
    "start_time": "2021-08-13T11:36:26.419Z"
   },
   {
    "duration": 5,
    "start_time": "2021-08-13T11:36:26.454Z"
   },
   {
    "duration": 35,
    "start_time": "2021-08-13T11:36:26.462Z"
   },
   {
    "duration": 12,
    "start_time": "2021-08-13T11:36:26.499Z"
   },
   {
    "duration": 27,
    "start_time": "2021-08-13T11:36:26.514Z"
   },
   {
    "duration": 27,
    "start_time": "2021-08-13T11:36:26.546Z"
   },
   {
    "duration": 6,
    "start_time": "2021-08-13T11:36:26.576Z"
   },
   {
    "duration": 42,
    "start_time": "2021-08-13T11:36:26.584Z"
   },
   {
    "duration": 26,
    "start_time": "2021-08-13T11:36:26.629Z"
   },
   {
    "duration": 33,
    "start_time": "2021-08-13T11:36:26.658Z"
   },
   {
    "duration": 13,
    "start_time": "2021-08-13T11:36:26.694Z"
   },
   {
    "duration": 53,
    "start_time": "2021-08-13T11:36:26.710Z"
   },
   {
    "duration": 19,
    "start_time": "2021-08-13T11:36:26.766Z"
   },
   {
    "duration": 7,
    "start_time": "2021-08-13T11:36:26.788Z"
   },
   {
    "duration": 9,
    "start_time": "2021-08-13T11:36:26.798Z"
   },
   {
    "duration": 230,
    "start_time": "2021-08-13T11:36:26.809Z"
   },
   {
    "duration": 16,
    "start_time": "2021-08-13T11:36:27.042Z"
   },
   {
    "duration": 12,
    "start_time": "2021-08-13T11:36:27.060Z"
   },
   {
    "duration": 40,
    "start_time": "2021-08-13T11:36:27.074Z"
   },
   {
    "duration": 44,
    "start_time": "2021-08-13T11:36:27.118Z"
   },
   {
    "duration": 26,
    "start_time": "2021-08-13T11:36:27.165Z"
   },
   {
    "duration": 29,
    "start_time": "2021-08-13T11:36:27.194Z"
   },
   {
    "duration": 655,
    "start_time": "2021-08-13T11:36:27.254Z"
   },
   {
    "duration": 1266,
    "start_time": "2021-08-13T11:36:27.917Z"
   },
   {
    "duration": 25,
    "start_time": "2021-08-13T11:36:29.187Z"
   },
   {
    "duration": 879,
    "start_time": "2021-08-13T11:36:29.215Z"
   },
   {
    "duration": 63,
    "start_time": "2021-08-13T11:36:30.097Z"
   },
   {
    "duration": 712,
    "start_time": "2021-08-13T11:36:30.162Z"
   },
   {
    "duration": 38,
    "start_time": "2021-08-13T11:36:30.877Z"
   },
   {
    "duration": 8,
    "start_time": "2021-08-13T11:36:30.917Z"
   },
   {
    "duration": 40,
    "start_time": "2021-08-13T11:36:30.954Z"
   },
   {
    "duration": 903,
    "start_time": "2021-08-13T11:36:30.997Z"
   },
   {
    "duration": 25,
    "start_time": "2021-08-13T11:36:31.903Z"
   },
   {
    "duration": 491,
    "start_time": "2021-08-13T11:36:31.930Z"
   },
   {
    "duration": 10,
    "start_time": "2021-08-13T11:36:32.423Z"
   },
   {
    "duration": 26,
    "start_time": "2021-08-13T11:36:32.435Z"
   },
   {
    "duration": 8,
    "start_time": "2021-08-13T11:36:32.464Z"
   },
   {
    "duration": 10,
    "start_time": "2021-08-13T11:36:32.474Z"
   },
   {
    "duration": 10,
    "start_time": "2021-08-13T11:36:32.486Z"
   },
   {
    "duration": 8,
    "start_time": "2021-08-13T11:36:32.499Z"
   },
   {
    "duration": 47,
    "start_time": "2021-08-13T11:36:32.510Z"
   },
   {
    "duration": 12,
    "start_time": "2021-08-13T11:36:32.559Z"
   },
   {
    "duration": 9,
    "start_time": "2021-08-13T11:36:32.574Z"
   },
   {
    "duration": 14,
    "start_time": "2021-08-13T11:36:32.586Z"
   },
   {
    "duration": 52,
    "start_time": "2021-08-13T11:36:32.602Z"
   },
   {
    "duration": 15,
    "start_time": "2021-08-13T11:36:32.657Z"
   },
   {
    "duration": 9,
    "start_time": "2021-08-13T11:36:32.674Z"
   },
   {
    "duration": 12,
    "start_time": "2021-08-13T11:36:32.685Z"
   },
   {
    "duration": 481,
    "start_time": "2021-08-13T11:44:21.158Z"
   },
   {
    "duration": 497,
    "start_time": "2021-08-13T11:44:47.037Z"
   },
   {
    "duration": 576,
    "start_time": "2021-08-13T11:44:52.675Z"
   },
   {
    "duration": 470,
    "start_time": "2021-08-13T11:45:03.523Z"
   },
   {
    "duration": 428,
    "start_time": "2021-08-13T11:45:48.843Z"
   },
   {
    "duration": 264,
    "start_time": "2021-08-13T11:46:13.723Z"
   },
   {
    "duration": 482,
    "start_time": "2021-08-13T11:46:17.212Z"
   },
   {
    "duration": 481,
    "start_time": "2021-08-13T11:46:27.558Z"
   },
   {
    "duration": 551,
    "start_time": "2021-08-13T11:46:35.435Z"
   },
   {
    "duration": 1147,
    "start_time": "2021-08-13T11:46:50.476Z"
   },
   {
    "duration": 850,
    "start_time": "2021-08-13T11:46:58.119Z"
   },
   {
    "duration": 709,
    "start_time": "2021-08-13T11:47:05.435Z"
   },
   {
    "duration": 1020,
    "start_time": "2021-08-13T11:47:13.475Z"
   },
   {
    "duration": 482,
    "start_time": "2021-08-13T11:47:24.156Z"
   },
   {
    "duration": 766,
    "start_time": "2021-08-13T12:15:16.447Z"
   },
   {
    "duration": 26,
    "start_time": "2021-08-13T12:27:35.703Z"
   },
   {
    "duration": 10,
    "start_time": "2021-08-13T12:28:04.027Z"
   },
   {
    "duration": 24,
    "start_time": "2021-08-13T12:42:05.474Z"
   },
   {
    "duration": 15,
    "start_time": "2021-08-13T12:42:12.395Z"
   },
   {
    "duration": 254,
    "start_time": "2021-08-13T12:42:50.955Z"
   },
   {
    "duration": 316,
    "start_time": "2021-08-13T12:42:55.674Z"
   },
   {
    "duration": 7,
    "start_time": "2021-08-13T12:43:07.889Z"
   },
   {
    "duration": 13,
    "start_time": "2021-08-13T12:43:48.035Z"
   },
   {
    "duration": 736,
    "start_time": "2021-08-13T12:44:42.154Z"
   },
   {
    "duration": 678,
    "start_time": "2021-08-13T12:44:57.794Z"
   },
   {
    "duration": 692,
    "start_time": "2021-08-13T12:45:07.395Z"
   },
   {
    "duration": 662,
    "start_time": "2021-08-13T12:45:19.386Z"
   },
   {
    "duration": 87,
    "start_time": "2021-08-13T12:47:56.314Z"
   },
   {
    "duration": 764,
    "start_time": "2021-08-13T12:48:05.197Z"
   },
   {
    "duration": 842,
    "start_time": "2021-08-13T12:48:56.674Z"
   },
   {
    "duration": 793,
    "start_time": "2021-08-13T12:49:02.155Z"
   },
   {
    "duration": 1188,
    "start_time": "2021-08-13T12:50:44.634Z"
   },
   {
    "duration": 85,
    "start_time": "2021-08-13T12:51:33.554Z"
   },
   {
    "duration": 1389,
    "start_time": "2021-08-13T12:51:40.115Z"
   },
   {
    "duration": 1296,
    "start_time": "2021-08-13T12:53:48.949Z"
   },
   {
    "duration": 1232,
    "start_time": "2021-08-13T12:53:50.387Z"
   },
   {
    "duration": 32,
    "start_time": "2021-08-13T13:16:01.149Z"
   },
   {
    "duration": 8,
    "start_time": "2021-08-13T13:17:39.069Z"
   },
   {
    "duration": 36,
    "start_time": "2021-08-13T13:17:43.670Z"
   },
   {
    "duration": 37,
    "start_time": "2021-08-13T13:18:00.550Z"
   },
   {
    "duration": 265,
    "start_time": "2021-08-13T13:18:22.229Z"
   },
   {
    "duration": 12,
    "start_time": "2021-08-13T13:18:25.909Z"
   },
   {
    "duration": 1178,
    "start_time": "2021-08-13T13:19:30.190Z"
   },
   {
    "duration": 7,
    "start_time": "2021-08-13T13:21:07.825Z"
   },
   {
    "duration": 35,
    "start_time": "2021-08-13T13:22:05.869Z"
   },
   {
    "duration": 8,
    "start_time": "2021-08-13T13:46:33.629Z"
   },
   {
    "duration": 14,
    "start_time": "2021-08-13T13:46:40.549Z"
   },
   {
    "duration": 34,
    "start_time": "2021-08-13T13:46:56.390Z"
   },
   {
    "duration": 8,
    "start_time": "2021-08-13T13:47:01.549Z"
   },
   {
    "duration": 12,
    "start_time": "2021-08-13T13:47:02.319Z"
   },
   {
    "duration": 1163,
    "start_time": "2021-08-13T13:47:03.149Z"
   },
   {
    "duration": 6,
    "start_time": "2021-08-13T13:55:16.669Z"
   },
   {
    "duration": 6,
    "start_time": "2021-08-13T13:55:20.476Z"
   },
   {
    "duration": 9292,
    "start_time": "2021-08-13T13:55:29.708Z"
   },
   {
    "duration": 5,
    "start_time": "2021-08-13T13:55:39.003Z"
   },
   {
    "duration": 73,
    "start_time": "2021-08-13T13:55:39.013Z"
   },
   {
    "duration": 35,
    "start_time": "2021-08-13T13:55:39.089Z"
   },
   {
    "duration": 31,
    "start_time": "2021-08-13T13:55:39.127Z"
   },
   {
    "duration": 30,
    "start_time": "2021-08-13T13:55:39.161Z"
   },
   {
    "duration": 11,
    "start_time": "2021-08-13T13:55:39.196Z"
   },
   {
    "duration": 15,
    "start_time": "2021-08-13T13:55:39.209Z"
   },
   {
    "duration": 39,
    "start_time": "2021-08-13T13:55:39.229Z"
   },
   {
    "duration": 6,
    "start_time": "2021-08-13T13:55:39.271Z"
   },
   {
    "duration": 59,
    "start_time": "2021-08-13T13:55:39.279Z"
   },
   {
    "duration": 12,
    "start_time": "2021-08-13T13:55:39.354Z"
   },
   {
    "duration": 40,
    "start_time": "2021-08-13T13:55:39.368Z"
   },
   {
    "duration": 23,
    "start_time": "2021-08-13T13:55:39.410Z"
   },
   {
    "duration": 19,
    "start_time": "2021-08-13T13:55:39.455Z"
   },
   {
    "duration": 18,
    "start_time": "2021-08-13T13:55:39.476Z"
   },
   {
    "duration": 11,
    "start_time": "2021-08-13T13:55:39.497Z"
   },
   {
    "duration": 28,
    "start_time": "2021-08-13T13:55:39.510Z"
   },
   {
    "duration": 193,
    "start_time": "2021-08-13T13:55:39.555Z"
   },
   {
    "duration": 6,
    "start_time": "2021-08-13T13:55:39.754Z"
   },
   {
    "duration": 28,
    "start_time": "2021-08-13T13:55:39.762Z"
   },
   {
    "duration": 17,
    "start_time": "2021-08-13T13:55:39.792Z"
   },
   {
    "duration": 56,
    "start_time": "2021-08-13T13:55:39.811Z"
   },
   {
    "duration": 11,
    "start_time": "2021-08-13T13:55:39.869Z"
   },
   {
    "duration": 40,
    "start_time": "2021-08-13T13:55:39.883Z"
   },
   {
    "duration": 49,
    "start_time": "2021-08-13T13:55:39.926Z"
   },
   {
    "duration": 676,
    "start_time": "2021-08-13T13:55:39.981Z"
   },
   {
    "duration": 1169,
    "start_time": "2021-08-13T13:55:40.660Z"
   },
   {
    "duration": 41,
    "start_time": "2021-08-13T13:55:41.833Z"
   },
   {
    "duration": 859,
    "start_time": "2021-08-13T13:55:41.877Z"
   },
   {
    "duration": 53,
    "start_time": "2021-08-13T13:55:42.739Z"
   },
   {
    "duration": 728,
    "start_time": "2021-08-13T13:55:42.795Z"
   },
   {
    "duration": 53,
    "start_time": "2021-08-13T13:55:43.526Z"
   },
   {
    "duration": 8,
    "start_time": "2021-08-13T13:55:43.582Z"
   },
   {
    "duration": 41,
    "start_time": "2021-08-13T13:55:43.592Z"
   },
   {
    "duration": 1037,
    "start_time": "2021-08-13T13:55:43.655Z"
   },
   {
    "duration": 25,
    "start_time": "2021-08-13T13:55:44.695Z"
   },
   {
    "duration": 519,
    "start_time": "2021-08-13T13:55:44.722Z"
   },
   {
    "duration": 14,
    "start_time": "2021-08-13T13:55:45.243Z"
   },
   {
    "duration": 28,
    "start_time": "2021-08-13T13:55:45.259Z"
   },
   {
    "duration": 1291,
    "start_time": "2021-08-13T13:55:45.289Z"
   },
   {
    "duration": 10,
    "start_time": "2021-08-13T13:55:46.584Z"
   },
   {
    "duration": 20,
    "start_time": "2021-08-13T13:55:46.597Z"
   },
   {
    "duration": 1211,
    "start_time": "2021-08-13T13:55:46.620Z"
   },
   {
    "duration": 39,
    "start_time": "2021-08-13T13:55:47.834Z"
   },
   {
    "duration": 11,
    "start_time": "2021-08-13T13:55:47.876Z"
   },
   {
    "duration": 10,
    "start_time": "2021-08-13T13:55:47.890Z"
   },
   {
    "duration": 10,
    "start_time": "2021-08-13T13:55:47.903Z"
   },
   {
    "duration": 46,
    "start_time": "2021-08-13T13:55:47.916Z"
   },
   {
    "duration": 8,
    "start_time": "2021-08-13T13:55:47.965Z"
   },
   {
    "duration": 9,
    "start_time": "2021-08-13T13:55:47.975Z"
   },
   {
    "duration": 10,
    "start_time": "2021-08-13T13:55:47.987Z"
   },
   {
    "duration": 9,
    "start_time": "2021-08-13T13:55:47.999Z"
   },
   {
    "duration": 10,
    "start_time": "2021-08-13T13:55:48.054Z"
   },
   {
    "duration": 19,
    "start_time": "2021-08-13T13:55:48.066Z"
   },
   {
    "duration": 9,
    "start_time": "2021-08-13T13:55:48.087Z"
   },
   {
    "duration": 19,
    "start_time": "2021-08-13T13:55:48.099Z"
   },
   {
    "duration": 9,
    "start_time": "2021-08-13T13:55:48.155Z"
   },
   {
    "duration": 8,
    "start_time": "2021-08-13T13:55:48.166Z"
   },
   {
    "duration": 9532,
    "start_time": "2021-08-13T15:06:48.927Z"
   },
   {
    "duration": 4,
    "start_time": "2021-08-13T15:06:58.462Z"
   },
   {
    "duration": 57,
    "start_time": "2021-08-13T15:06:58.469Z"
   },
   {
    "duration": 39,
    "start_time": "2021-08-13T15:06:58.529Z"
   },
   {
    "duration": 5,
    "start_time": "2021-08-13T15:06:58.571Z"
   },
   {
    "duration": 18,
    "start_time": "2021-08-13T15:06:58.580Z"
   },
   {
    "duration": 7,
    "start_time": "2021-08-13T15:06:58.600Z"
   },
   {
    "duration": 51,
    "start_time": "2021-08-13T15:06:58.610Z"
   },
   {
    "duration": 12,
    "start_time": "2021-08-13T15:06:58.666Z"
   },
   {
    "duration": 6,
    "start_time": "2021-08-13T15:06:58.681Z"
   },
   {
    "duration": 66,
    "start_time": "2021-08-13T15:06:58.690Z"
   },
   {
    "duration": 13,
    "start_time": "2021-08-13T15:06:58.758Z"
   },
   {
    "duration": 33,
    "start_time": "2021-08-13T15:06:58.773Z"
   },
   {
    "duration": 12,
    "start_time": "2021-08-13T15:06:58.808Z"
   },
   {
    "duration": 49,
    "start_time": "2021-08-13T15:06:58.823Z"
   },
   {
    "duration": 17,
    "start_time": "2021-08-13T15:06:58.874Z"
   },
   {
    "duration": 8,
    "start_time": "2021-08-13T15:06:58.893Z"
   },
   {
    "duration": 50,
    "start_time": "2021-08-13T15:06:58.904Z"
   },
   {
    "duration": 186,
    "start_time": "2021-08-13T15:06:58.957Z"
   },
   {
    "duration": 10,
    "start_time": "2021-08-13T15:06:59.145Z"
   },
   {
    "duration": 27,
    "start_time": "2021-08-13T15:06:59.157Z"
   },
   {
    "duration": 17,
    "start_time": "2021-08-13T15:06:59.187Z"
   },
   {
    "duration": 43,
    "start_time": "2021-08-13T15:06:59.206Z"
   },
   {
    "duration": 10,
    "start_time": "2021-08-13T15:06:59.254Z"
   },
   {
    "duration": 36,
    "start_time": "2021-08-13T15:06:59.266Z"
   },
   {
    "duration": 52,
    "start_time": "2021-08-13T15:06:59.304Z"
   },
   {
    "duration": 664,
    "start_time": "2021-08-13T15:06:59.362Z"
   },
   {
    "duration": 1304,
    "start_time": "2021-08-13T15:07:00.030Z"
   },
   {
    "duration": 35,
    "start_time": "2021-08-13T15:07:01.337Z"
   },
   {
    "duration": 916,
    "start_time": "2021-08-13T15:07:01.374Z"
   },
   {
    "duration": 44,
    "start_time": "2021-08-13T15:07:02.293Z"
   },
   {
    "duration": 712,
    "start_time": "2021-08-13T15:07:02.355Z"
   },
   {
    "duration": 38,
    "start_time": "2021-08-13T15:07:03.070Z"
   },
   {
    "duration": 8,
    "start_time": "2021-08-13T15:07:03.110Z"
   },
   {
    "duration": 68,
    "start_time": "2021-08-13T15:07:03.120Z"
   },
   {
    "duration": 914,
    "start_time": "2021-08-13T15:07:03.190Z"
   },
   {
    "duration": 26,
    "start_time": "2021-08-13T15:07:04.107Z"
   },
   {
    "duration": 591,
    "start_time": "2021-08-13T15:07:04.155Z"
   },
   {
    "duration": 12,
    "start_time": "2021-08-13T15:07:04.749Z"
   },
   {
    "duration": 14,
    "start_time": "2021-08-13T15:07:04.764Z"
   },
   {
    "duration": 1221,
    "start_time": "2021-08-13T15:07:04.781Z"
   },
   {
    "duration": 8,
    "start_time": "2021-08-13T15:07:06.005Z"
   },
   {
    "duration": 20,
    "start_time": "2021-08-13T15:07:06.016Z"
   },
   {
    "duration": 1255,
    "start_time": "2021-08-13T15:07:06.038Z"
   },
   {
    "duration": 21,
    "start_time": "2021-08-13T15:07:07.296Z"
   },
   {
    "duration": 52,
    "start_time": "2021-08-13T15:07:07.319Z"
   },
   {
    "duration": 11,
    "start_time": "2021-08-13T15:07:07.373Z"
   },
   {
    "duration": 16,
    "start_time": "2021-08-13T15:07:07.386Z"
   },
   {
    "duration": 18,
    "start_time": "2021-08-13T15:07:07.405Z"
   },
   {
    "duration": 31,
    "start_time": "2021-08-13T15:07:07.426Z"
   },
   {
    "duration": 13,
    "start_time": "2021-08-13T15:07:07.460Z"
   },
   {
    "duration": 26,
    "start_time": "2021-08-13T15:07:07.476Z"
   },
   {
    "duration": 22,
    "start_time": "2021-08-13T15:07:07.506Z"
   },
   {
    "duration": 28,
    "start_time": "2021-08-13T15:07:07.531Z"
   },
   {
    "duration": 10,
    "start_time": "2021-08-13T15:07:07.563Z"
   },
   {
    "duration": 30,
    "start_time": "2021-08-13T15:07:07.577Z"
   },
   {
    "duration": 44,
    "start_time": "2021-08-13T15:07:07.610Z"
   },
   {
    "duration": 13,
    "start_time": "2021-08-13T15:07:07.656Z"
   },
   {
    "duration": 22,
    "start_time": "2021-08-13T15:07:07.672Z"
   },
   {
    "duration": 29,
    "start_time": "2021-08-13T15:07:07.696Z"
   },
   {
    "duration": 459,
    "start_time": "2021-08-13T15:09:43.025Z"
   },
   {
    "duration": 14,
    "start_time": "2021-08-13T15:12:11.994Z"
   },
   {
    "duration": 580,
    "start_time": "2021-08-13T15:21:52.964Z"
   },
   {
    "duration": 16,
    "start_time": "2021-08-13T15:24:54.594Z"
   },
   {
    "duration": 448,
    "start_time": "2021-08-13T15:25:00.414Z"
   },
   {
    "duration": 423,
    "start_time": "2021-08-13T15:26:57.134Z"
   },
   {
    "duration": 756,
    "start_time": "2021-08-13T15:28:35.773Z"
   },
   {
    "duration": 1104,
    "start_time": "2021-08-13T15:29:54.916Z"
   },
   {
    "duration": 18,
    "start_time": "2021-08-13T15:30:10.784Z"
   },
   {
    "duration": 89,
    "start_time": "2021-08-13T15:30:13.717Z"
   },
   {
    "duration": 283,
    "start_time": "2021-08-13T15:30:19.454Z"
   },
   {
    "duration": 305,
    "start_time": "2021-08-13T15:30:26.555Z"
   },
   {
    "duration": 24,
    "start_time": "2021-08-13T15:30:38.915Z"
   },
   {
    "duration": 387,
    "start_time": "2021-08-13T15:30:57.635Z"
   },
   {
    "duration": 428,
    "start_time": "2021-08-13T15:32:00.635Z"
   },
   {
    "duration": 18,
    "start_time": "2021-08-13T15:33:38.805Z"
   },
   {
    "duration": 27,
    "start_time": "2021-08-13T15:33:42.105Z"
   },
   {
    "duration": 24,
    "start_time": "2021-08-13T15:33:56.767Z"
   },
   {
    "duration": 18,
    "start_time": "2021-08-13T15:34:00.474Z"
   },
   {
    "duration": 425,
    "start_time": "2021-08-13T15:34:01.203Z"
   },
   {
    "duration": 418,
    "start_time": "2021-08-13T15:34:26.054Z"
   },
   {
    "duration": 447,
    "start_time": "2021-08-13T15:34:39.074Z"
   },
   {
    "duration": 426,
    "start_time": "2021-08-13T15:35:05.794Z"
   },
   {
    "duration": 442,
    "start_time": "2021-08-13T15:35:30.984Z"
   },
   {
    "duration": 37,
    "start_time": "2021-08-13T15:35:54.194Z"
   },
   {
    "duration": 831,
    "start_time": "2021-08-13T15:41:39.891Z"
   },
   {
    "duration": 7,
    "start_time": "2021-08-13T15:48:34.794Z"
   },
   {
    "duration": 28,
    "start_time": "2021-08-13T16:02:52.554Z"
   },
   {
    "duration": 765,
    "start_time": "2021-08-13T16:05:05.485Z"
   },
   {
    "duration": 1186,
    "start_time": "2021-08-13T16:07:47.204Z"
   },
   {
    "duration": 1132,
    "start_time": "2021-08-13T16:08:30.132Z"
   },
   {
    "duration": 16757,
    "start_time": "2021-08-13T17:50:19.631Z"
   },
   {
    "duration": 9,
    "start_time": "2021-08-13T17:50:36.392Z"
   },
   {
    "duration": 71,
    "start_time": "2021-08-13T17:50:36.404Z"
   },
   {
    "duration": 31,
    "start_time": "2021-08-13T17:50:36.478Z"
   },
   {
    "duration": 9,
    "start_time": "2021-08-13T17:50:36.511Z"
   },
   {
    "duration": 29,
    "start_time": "2021-08-13T17:50:36.522Z"
   },
   {
    "duration": 12,
    "start_time": "2021-08-13T17:50:36.553Z"
   },
   {
    "duration": 24,
    "start_time": "2021-08-13T17:50:36.567Z"
   },
   {
    "duration": 24,
    "start_time": "2021-08-13T17:50:36.599Z"
   },
   {
    "duration": 20,
    "start_time": "2021-08-13T17:50:36.627Z"
   },
   {
    "duration": 22,
    "start_time": "2021-08-13T17:50:36.649Z"
   },
   {
    "duration": 42,
    "start_time": "2021-08-13T17:50:36.673Z"
   },
   {
    "duration": 13,
    "start_time": "2021-08-13T17:50:36.718Z"
   },
   {
    "duration": 18,
    "start_time": "2021-08-13T17:50:36.734Z"
   },
   {
    "duration": 55,
    "start_time": "2021-08-13T17:50:36.755Z"
   },
   {
    "duration": 7,
    "start_time": "2021-08-13T17:50:36.813Z"
   },
   {
    "duration": 14,
    "start_time": "2021-08-13T17:50:36.822Z"
   },
   {
    "duration": 192,
    "start_time": "2021-08-13T17:50:36.839Z"
   },
   {
    "duration": 7,
    "start_time": "2021-08-13T17:50:37.039Z"
   },
   {
    "duration": 13,
    "start_time": "2021-08-13T17:50:37.049Z"
   },
   {
    "duration": 16,
    "start_time": "2021-08-13T17:50:37.064Z"
   },
   {
    "duration": 53,
    "start_time": "2021-08-13T17:50:37.082Z"
   },
   {
    "duration": 10,
    "start_time": "2021-08-13T17:50:37.138Z"
   },
   {
    "duration": 52,
    "start_time": "2021-08-13T17:50:37.150Z"
   },
   {
    "duration": 27,
    "start_time": "2021-08-13T17:50:37.205Z"
   },
   {
    "duration": 635,
    "start_time": "2021-08-13T17:50:37.235Z"
   },
   {
    "duration": 1144,
    "start_time": "2021-08-13T17:50:37.876Z"
   },
   {
    "duration": 24,
    "start_time": "2021-08-13T17:50:39.024Z"
   },
   {
    "duration": 902,
    "start_time": "2021-08-13T17:50:39.051Z"
   },
   {
    "duration": 60,
    "start_time": "2021-08-13T17:50:39.956Z"
   },
   {
    "duration": 696,
    "start_time": "2021-08-13T17:50:40.018Z"
   },
   {
    "duration": 40,
    "start_time": "2021-08-13T17:50:40.716Z"
   },
   {
    "duration": 9,
    "start_time": "2021-08-13T17:50:40.758Z"
   },
   {
    "duration": 67,
    "start_time": "2021-08-13T17:50:40.769Z"
   },
   {
    "duration": 992,
    "start_time": "2021-08-13T17:50:40.838Z"
   },
   {
    "duration": 28,
    "start_time": "2021-08-13T17:50:41.833Z"
   },
   {
    "duration": 557,
    "start_time": "2021-08-13T17:50:41.864Z"
   },
   {
    "duration": 8,
    "start_time": "2021-08-13T17:50:42.423Z"
   },
   {
    "duration": 16,
    "start_time": "2021-08-13T17:50:42.434Z"
   },
   {
    "duration": 1256,
    "start_time": "2021-08-13T17:50:42.453Z"
   },
   {
    "duration": 10,
    "start_time": "2021-08-13T17:50:43.712Z"
   },
   {
    "duration": 15,
    "start_time": "2021-08-13T17:50:43.725Z"
   },
   {
    "duration": 1325,
    "start_time": "2021-08-13T17:50:43.743Z"
   },
   {
    "duration": 32,
    "start_time": "2021-08-13T17:50:45.070Z"
   },
   {
    "duration": 533,
    "start_time": "2021-08-13T17:50:45.105Z"
   },
   {
    "duration": 12,
    "start_time": "2021-08-13T17:50:45.641Z"
   },
   {
    "duration": 11,
    "start_time": "2021-08-13T17:50:45.655Z"
   },
   {
    "duration": 35,
    "start_time": "2021-08-13T17:50:45.669Z"
   },
   {
    "duration": 9,
    "start_time": "2021-08-13T17:50:45.707Z"
   },
   {
    "duration": 9,
    "start_time": "2021-08-13T17:50:45.718Z"
   },
   {
    "duration": 8,
    "start_time": "2021-08-13T17:50:45.729Z"
   },
   {
    "duration": 9,
    "start_time": "2021-08-13T17:50:45.739Z"
   },
   {
    "duration": 58,
    "start_time": "2021-08-13T17:50:45.750Z"
   },
   {
    "duration": 9,
    "start_time": "2021-08-13T17:50:45.810Z"
   },
   {
    "duration": 12,
    "start_time": "2021-08-13T17:50:45.822Z"
   },
   {
    "duration": 8,
    "start_time": "2021-08-13T17:50:45.837Z"
   },
   {
    "duration": 61,
    "start_time": "2021-08-13T17:50:45.848Z"
   },
   {
    "duration": 8,
    "start_time": "2021-08-13T17:50:45.912Z"
   },
   {
    "duration": 9,
    "start_time": "2021-08-13T17:50:45.922Z"
   },
   {
    "duration": 1168,
    "start_time": "2021-08-13T22:59:51.623Z"
   },
   {
    "duration": 16982,
    "start_time": "2021-08-13T22:59:56.037Z"
   },
   {
    "duration": 4,
    "start_time": "2021-08-13T23:00:13.022Z"
   },
   {
    "duration": 58,
    "start_time": "2021-08-13T23:00:13.029Z"
   },
   {
    "duration": 35,
    "start_time": "2021-08-13T23:00:13.090Z"
   },
   {
    "duration": 5,
    "start_time": "2021-08-13T23:00:13.127Z"
   },
   {
    "duration": 16,
    "start_time": "2021-08-13T23:00:13.153Z"
   },
   {
    "duration": 7,
    "start_time": "2021-08-13T23:00:13.171Z"
   },
   {
    "duration": 13,
    "start_time": "2021-08-13T23:00:13.180Z"
   },
   {
    "duration": 18,
    "start_time": "2021-08-13T23:00:13.197Z"
   },
   {
    "duration": 39,
    "start_time": "2021-08-13T23:00:13.218Z"
   },
   {
    "duration": 20,
    "start_time": "2021-08-13T23:00:13.259Z"
   },
   {
    "duration": 36,
    "start_time": "2021-08-13T23:00:13.281Z"
   },
   {
    "duration": 37,
    "start_time": "2021-08-13T23:00:13.319Z"
   },
   {
    "duration": 39,
    "start_time": "2021-08-13T23:00:13.358Z"
   },
   {
    "duration": 18,
    "start_time": "2021-08-13T23:00:13.400Z"
   },
   {
    "duration": 6,
    "start_time": "2021-08-13T23:00:13.421Z"
   },
   {
    "duration": 30,
    "start_time": "2021-08-13T23:00:13.429Z"
   },
   {
    "duration": 307,
    "start_time": "2021-08-13T23:00:13.461Z"
   },
   {
    "duration": 5,
    "start_time": "2021-08-13T23:00:13.771Z"
   },
   {
    "duration": 22,
    "start_time": "2021-08-13T23:00:13.779Z"
   },
   {
    "duration": 14,
    "start_time": "2021-08-13T23:00:13.803Z"
   },
   {
    "duration": 55,
    "start_time": "2021-08-13T23:00:13.820Z"
   },
   {
    "duration": 10,
    "start_time": "2021-08-13T23:00:13.877Z"
   },
   {
    "duration": 25,
    "start_time": "2021-08-13T23:00:13.889Z"
   },
   {
    "duration": 53,
    "start_time": "2021-08-13T23:00:13.916Z"
   },
   {
    "duration": 620,
    "start_time": "2021-08-13T23:00:13.971Z"
   },
   {
    "duration": 1340,
    "start_time": "2021-08-13T23:00:14.597Z"
   },
   {
    "duration": 30,
    "start_time": "2021-08-13T23:00:15.940Z"
   },
   {
    "duration": 987,
    "start_time": "2021-08-13T23:00:15.973Z"
   },
   {
    "duration": 48,
    "start_time": "2021-08-13T23:00:16.963Z"
   },
   {
    "duration": 746,
    "start_time": "2021-08-13T23:00:17.014Z"
   },
   {
    "duration": 39,
    "start_time": "2021-08-13T23:00:17.762Z"
   },
   {
    "duration": 8,
    "start_time": "2021-08-13T23:00:17.804Z"
   },
   {
    "duration": 1793,
    "start_time": "2021-08-13T23:00:17.814Z"
   },
   {
    "duration": 78,
    "start_time": "2021-08-13T23:00:19.610Z"
   },
   {
    "duration": 1073,
    "start_time": "2021-08-13T23:00:19.690Z"
   },
   {
    "duration": 26,
    "start_time": "2021-08-13T23:00:20.765Z"
   },
   {
    "duration": 562,
    "start_time": "2021-08-13T23:00:20.795Z"
   },
   {
    "duration": 10,
    "start_time": "2021-08-13T23:00:21.360Z"
   },
   {
    "duration": 29,
    "start_time": "2021-08-13T23:00:21.373Z"
   },
   {
    "duration": 1533,
    "start_time": "2021-08-13T23:00:21.405Z"
   },
   {
    "duration": 19,
    "start_time": "2021-08-13T23:00:22.941Z"
   },
   {
    "duration": 26,
    "start_time": "2021-08-13T23:00:22.963Z"
   },
   {
    "duration": 1206,
    "start_time": "2021-08-13T23:00:22.992Z"
   },
   {
    "duration": 25,
    "start_time": "2021-08-13T23:00:24.201Z"
   },
   {
    "duration": 577,
    "start_time": "2021-08-13T23:00:24.229Z"
   },
   {
    "duration": 10,
    "start_time": "2021-08-13T23:00:24.809Z"
   },
   {
    "duration": 35,
    "start_time": "2021-08-13T23:00:24.822Z"
   },
   {
    "duration": 11,
    "start_time": "2021-08-13T23:00:24.860Z"
   },
   {
    "duration": 30,
    "start_time": "2021-08-13T23:00:24.874Z"
   },
   {
    "duration": 21,
    "start_time": "2021-08-13T23:00:24.906Z"
   },
   {
    "duration": 24,
    "start_time": "2021-08-13T23:00:24.930Z"
   },
   {
    "duration": 11,
    "start_time": "2021-08-13T23:00:24.956Z"
   },
   {
    "duration": 29,
    "start_time": "2021-08-13T23:00:24.969Z"
   },
   {
    "duration": 30,
    "start_time": "2021-08-13T23:00:25.001Z"
   },
   {
    "duration": 24,
    "start_time": "2021-08-13T23:00:25.033Z"
   },
   {
    "duration": 9,
    "start_time": "2021-08-13T23:00:25.059Z"
   },
   {
    "duration": 28,
    "start_time": "2021-08-13T23:00:25.071Z"
   },
   {
    "duration": 10,
    "start_time": "2021-08-13T23:00:25.102Z"
   },
   {
    "duration": 30,
    "start_time": "2021-08-13T23:00:25.115Z"
   },
   {
    "duration": 9,
    "start_time": "2021-08-13T23:01:54.222Z"
   },
   {
    "duration": 7615,
    "start_time": "2021-08-13T23:01:57.294Z"
   },
   {
    "duration": 4,
    "start_time": "2021-08-13T23:02:04.913Z"
   },
   {
    "duration": 62,
    "start_time": "2021-08-13T23:02:04.920Z"
   },
   {
    "duration": 29,
    "start_time": "2021-08-13T23:02:04.984Z"
   },
   {
    "duration": 4,
    "start_time": "2021-08-13T23:02:05.016Z"
   },
   {
    "duration": 41,
    "start_time": "2021-08-13T23:02:05.022Z"
   },
   {
    "duration": 6,
    "start_time": "2021-08-13T23:02:05.066Z"
   },
   {
    "duration": 28,
    "start_time": "2021-08-13T23:02:05.074Z"
   },
   {
    "duration": 19,
    "start_time": "2021-08-13T23:02:05.106Z"
   },
   {
    "duration": 9,
    "start_time": "2021-08-13T23:02:05.128Z"
   },
   {
    "duration": 15,
    "start_time": "2021-08-13T23:02:05.154Z"
   },
   {
    "duration": 43,
    "start_time": "2021-08-13T23:02:05.171Z"
   },
   {
    "duration": 38,
    "start_time": "2021-08-13T23:02:05.216Z"
   },
   {
    "duration": 17,
    "start_time": "2021-08-13T23:02:05.257Z"
   },
   {
    "duration": 17,
    "start_time": "2021-08-13T23:02:05.277Z"
   },
   {
    "duration": 13,
    "start_time": "2021-08-13T23:02:05.297Z"
   },
   {
    "duration": 15,
    "start_time": "2021-08-13T23:02:05.312Z"
   },
   {
    "duration": 210,
    "start_time": "2021-08-13T23:02:05.329Z"
   },
   {
    "duration": 13,
    "start_time": "2021-08-13T23:02:05.541Z"
   },
   {
    "duration": 10,
    "start_time": "2021-08-13T23:02:05.557Z"
   },
   {
    "duration": 25,
    "start_time": "2021-08-13T23:02:05.570Z"
   },
   {
    "duration": 51,
    "start_time": "2021-08-13T23:02:05.598Z"
   },
   {
    "duration": 11,
    "start_time": "2021-08-13T23:02:05.652Z"
   },
   {
    "duration": 39,
    "start_time": "2021-08-13T23:02:05.666Z"
   },
   {
    "duration": 33,
    "start_time": "2021-08-13T23:02:05.707Z"
   },
   {
    "duration": 592,
    "start_time": "2021-08-13T23:02:05.754Z"
   },
   {
    "duration": 1209,
    "start_time": "2021-08-13T23:02:06.356Z"
   },
   {
    "duration": 26,
    "start_time": "2021-08-13T23:02:07.568Z"
   },
   {
    "duration": 954,
    "start_time": "2021-08-13T23:02:07.597Z"
   },
   {
    "duration": 47,
    "start_time": "2021-08-13T23:02:08.554Z"
   },
   {
    "duration": 755,
    "start_time": "2021-08-13T23:02:08.603Z"
   },
   {
    "duration": 43,
    "start_time": "2021-08-13T23:02:09.361Z"
   },
   {
    "duration": 11,
    "start_time": "2021-08-13T23:02:09.407Z"
   },
   {
    "duration": 1185,
    "start_time": "2021-08-13T23:02:09.421Z"
   },
   {
    "duration": 56,
    "start_time": "2021-08-13T23:02:10.608Z"
   },
   {
    "duration": 1066,
    "start_time": "2021-08-13T23:02:10.667Z"
   },
   {
    "duration": 38,
    "start_time": "2021-08-13T23:02:11.735Z"
   },
   {
    "duration": 539,
    "start_time": "2021-08-13T23:02:11.776Z"
   },
   {
    "duration": 8,
    "start_time": "2021-08-13T23:02:12.318Z"
   },
   {
    "duration": 33,
    "start_time": "2021-08-13T23:02:12.328Z"
   },
   {
    "duration": 1257,
    "start_time": "2021-08-13T23:02:12.364Z"
   },
   {
    "duration": 9,
    "start_time": "2021-08-13T23:02:13.623Z"
   },
   {
    "duration": 28,
    "start_time": "2021-08-13T23:02:13.634Z"
   },
   {
    "duration": 1194,
    "start_time": "2021-08-13T23:02:13.665Z"
   },
   {
    "duration": 20,
    "start_time": "2021-08-13T23:02:14.862Z"
   },
   {
    "duration": 586,
    "start_time": "2021-08-13T23:02:14.885Z"
   },
   {
    "duration": 12,
    "start_time": "2021-08-13T23:02:15.474Z"
   },
   {
    "duration": 14,
    "start_time": "2021-08-13T23:02:15.489Z"
   },
   {
    "duration": 10,
    "start_time": "2021-08-13T23:02:15.506Z"
   },
   {
    "duration": 10,
    "start_time": "2021-08-13T23:02:15.554Z"
   },
   {
    "duration": 15,
    "start_time": "2021-08-13T23:02:15.567Z"
   },
   {
    "duration": 27,
    "start_time": "2021-08-13T23:02:15.584Z"
   },
   {
    "duration": 16,
    "start_time": "2021-08-13T23:02:15.613Z"
   },
   {
    "duration": 13,
    "start_time": "2021-08-13T23:02:15.631Z"
   },
   {
    "duration": 24,
    "start_time": "2021-08-13T23:02:15.646Z"
   },
   {
    "duration": 23,
    "start_time": "2021-08-13T23:02:15.672Z"
   },
   {
    "duration": 21,
    "start_time": "2021-08-13T23:02:15.698Z"
   },
   {
    "duration": 25,
    "start_time": "2021-08-13T23:02:15.722Z"
   },
   {
    "duration": 19,
    "start_time": "2021-08-13T23:02:15.750Z"
   },
   {
    "duration": 28,
    "start_time": "2021-08-13T23:02:15.772Z"
   },
   {
    "duration": 268,
    "start_time": "2021-08-13T23:05:56.943Z"
   },
   {
    "duration": 259,
    "start_time": "2021-08-13T23:06:18.020Z"
   },
   {
    "duration": 254,
    "start_time": "2021-08-13T23:06:47.388Z"
   },
   {
    "duration": 938,
    "start_time": "2021-08-13T23:07:35.549Z"
   },
   {
    "duration": 1342,
    "start_time": "2021-08-13T23:07:42.604Z"
   },
   {
    "duration": 1189,
    "start_time": "2021-08-13T23:07:58.294Z"
   },
   {
    "duration": 7536,
    "start_time": "2021-08-13T23:08:13.286Z"
   },
   {
    "duration": 5,
    "start_time": "2021-08-13T23:08:20.826Z"
   },
   {
    "duration": 63,
    "start_time": "2021-08-13T23:08:20.836Z"
   },
   {
    "duration": 32,
    "start_time": "2021-08-13T23:08:20.902Z"
   },
   {
    "duration": 18,
    "start_time": "2021-08-13T23:08:20.936Z"
   },
   {
    "duration": 40,
    "start_time": "2021-08-13T23:08:20.957Z"
   },
   {
    "duration": 12,
    "start_time": "2021-08-13T23:08:20.999Z"
   },
   {
    "duration": 22,
    "start_time": "2021-08-13T23:08:21.013Z"
   },
   {
    "duration": 23,
    "start_time": "2021-08-13T23:08:21.040Z"
   },
   {
    "duration": 16,
    "start_time": "2021-08-13T23:08:21.066Z"
   },
   {
    "duration": 23,
    "start_time": "2021-08-13T23:08:21.084Z"
   },
   {
    "duration": 34,
    "start_time": "2021-08-13T23:08:21.110Z"
   },
   {
    "duration": 13,
    "start_time": "2021-08-13T23:08:21.154Z"
   },
   {
    "duration": 19,
    "start_time": "2021-08-13T23:08:21.169Z"
   },
   {
    "duration": 18,
    "start_time": "2021-08-13T23:08:21.190Z"
   },
   {
    "duration": 48,
    "start_time": "2021-08-13T23:08:21.210Z"
   },
   {
    "duration": 11,
    "start_time": "2021-08-13T23:08:21.260Z"
   },
   {
    "duration": 209,
    "start_time": "2021-08-13T23:08:21.273Z"
   },
   {
    "duration": 6,
    "start_time": "2021-08-13T23:08:21.484Z"
   },
   {
    "duration": 15,
    "start_time": "2021-08-13T23:08:21.493Z"
   },
   {
    "duration": 14,
    "start_time": "2021-08-13T23:08:21.511Z"
   },
   {
    "duration": 61,
    "start_time": "2021-08-13T23:08:21.527Z"
   },
   {
    "duration": 11,
    "start_time": "2021-08-13T23:08:21.590Z"
   },
   {
    "duration": 52,
    "start_time": "2021-08-13T23:08:21.603Z"
   },
   {
    "duration": 29,
    "start_time": "2021-08-13T23:08:21.658Z"
   },
   {
    "duration": 603,
    "start_time": "2021-08-13T23:08:21.690Z"
   },
   {
    "duration": 555,
    "start_time": "2021-08-13T23:08:22.299Z"
   },
   {
    "duration": 52955,
    "start_time": "2021-08-13T23:07:29.903Z"
   },
   {
    "duration": 52955,
    "start_time": "2021-08-13T23:07:29.905Z"
   },
   {
    "duration": 52955,
    "start_time": "2021-08-13T23:07:29.907Z"
   },
   {
    "duration": 52954,
    "start_time": "2021-08-13T23:07:29.909Z"
   },
   {
    "duration": 52954,
    "start_time": "2021-08-13T23:07:29.911Z"
   },
   {
    "duration": 52951,
    "start_time": "2021-08-13T23:07:29.915Z"
   },
   {
    "duration": 52951,
    "start_time": "2021-08-13T23:07:29.917Z"
   },
   {
    "duration": 52949,
    "start_time": "2021-08-13T23:07:29.920Z"
   },
   {
    "duration": 52948,
    "start_time": "2021-08-13T23:07:29.922Z"
   },
   {
    "duration": 52941,
    "start_time": "2021-08-13T23:07:29.931Z"
   },
   {
    "duration": 52939,
    "start_time": "2021-08-13T23:07:29.934Z"
   },
   {
    "duration": 52939,
    "start_time": "2021-08-13T23:07:29.936Z"
   },
   {
    "duration": 52938,
    "start_time": "2021-08-13T23:07:29.938Z"
   },
   {
    "duration": 52937,
    "start_time": "2021-08-13T23:07:29.940Z"
   },
   {
    "duration": 52937,
    "start_time": "2021-08-13T23:07:29.942Z"
   },
   {
    "duration": 52935,
    "start_time": "2021-08-13T23:07:29.945Z"
   },
   {
    "duration": 52934,
    "start_time": "2021-08-13T23:07:29.948Z"
   },
   {
    "duration": 52933,
    "start_time": "2021-08-13T23:07:29.950Z"
   },
   {
    "duration": 52907,
    "start_time": "2021-08-13T23:07:29.979Z"
   },
   {
    "duration": 52904,
    "start_time": "2021-08-13T23:07:29.983Z"
   },
   {
    "duration": 52903,
    "start_time": "2021-08-13T23:07:29.986Z"
   },
   {
    "duration": 52901,
    "start_time": "2021-08-13T23:07:29.991Z"
   },
   {
    "duration": 52901,
    "start_time": "2021-08-13T23:07:29.993Z"
   },
   {
    "duration": 52900,
    "start_time": "2021-08-13T23:07:29.997Z"
   },
   {
    "duration": 52957,
    "start_time": "2021-08-13T23:07:29.999Z"
   },
   {
    "duration": 52956,
    "start_time": "2021-08-13T23:07:30.002Z"
   },
   {
    "duration": 52956,
    "start_time": "2021-08-13T23:07:30.004Z"
   },
   {
    "duration": 52955,
    "start_time": "2021-08-13T23:07:30.007Z"
   },
   {
    "duration": 52955,
    "start_time": "2021-08-13T23:07:30.009Z"
   },
   {
    "duration": 52954,
    "start_time": "2021-08-13T23:07:30.012Z"
   },
   {
    "duration": 52954,
    "start_time": "2021-08-13T23:07:30.015Z"
   },
   {
    "duration": 52954,
    "start_time": "2021-08-13T23:07:30.017Z"
   },
   {
    "duration": 52954,
    "start_time": "2021-08-13T23:07:30.019Z"
   },
   {
    "duration": 521,
    "start_time": "2021-08-13T23:09:51.701Z"
   },
   {
    "duration": 330,
    "start_time": "2021-08-13T23:10:03.604Z"
   },
   {
    "duration": 549,
    "start_time": "2021-08-13T23:10:26.920Z"
   },
   {
    "duration": 262,
    "start_time": "2021-08-13T23:10:37.237Z"
   },
   {
    "duration": 1132,
    "start_time": "2021-08-13T23:12:50.278Z"
   },
   {
    "duration": 1419,
    "start_time": "2021-08-13T23:12:56.804Z"
   },
   {
    "duration": 1500,
    "start_time": "2021-08-13T23:13:17.248Z"
   },
   {
    "duration": 1219,
    "start_time": "2021-08-13T23:13:20.686Z"
   },
   {
    "duration": 1183,
    "start_time": "2021-08-13T23:13:48.913Z"
   },
   {
    "duration": 9649,
    "start_time": "2021-08-13T23:15:28.981Z"
   },
   {
    "duration": 4,
    "start_time": "2021-08-13T23:15:38.633Z"
   },
   {
    "duration": 53,
    "start_time": "2021-08-13T23:15:38.640Z"
   },
   {
    "duration": 34,
    "start_time": "2021-08-13T23:15:38.696Z"
   },
   {
    "duration": 6,
    "start_time": "2021-08-13T23:15:38.732Z"
   },
   {
    "duration": 15,
    "start_time": "2021-08-13T23:15:38.755Z"
   },
   {
    "duration": 7,
    "start_time": "2021-08-13T23:15:38.772Z"
   },
   {
    "duration": 10,
    "start_time": "2021-08-13T23:15:38.781Z"
   },
   {
    "duration": 12,
    "start_time": "2021-08-13T23:15:38.796Z"
   },
   {
    "duration": 49,
    "start_time": "2021-08-13T23:15:38.810Z"
   },
   {
    "duration": 18,
    "start_time": "2021-08-13T23:15:38.861Z"
   },
   {
    "duration": 38,
    "start_time": "2021-08-13T23:15:38.881Z"
   },
   {
    "duration": 39,
    "start_time": "2021-08-13T23:15:38.921Z"
   },
   {
    "duration": 17,
    "start_time": "2021-08-13T23:15:38.963Z"
   },
   {
    "duration": 18,
    "start_time": "2021-08-13T23:15:38.983Z"
   },
   {
    "duration": 7,
    "start_time": "2021-08-13T23:15:39.004Z"
   },
   {
    "duration": 42,
    "start_time": "2021-08-13T23:15:39.013Z"
   },
   {
    "duration": 215,
    "start_time": "2021-08-13T23:15:39.058Z"
   },
   {
    "duration": 5,
    "start_time": "2021-08-13T23:15:39.276Z"
   },
   {
    "duration": 14,
    "start_time": "2021-08-13T23:15:39.284Z"
   },
   {
    "duration": 10,
    "start_time": "2021-08-13T23:15:39.301Z"
   },
   {
    "duration": 67,
    "start_time": "2021-08-13T23:15:39.314Z"
   },
   {
    "duration": 10,
    "start_time": "2021-08-13T23:15:39.384Z"
   },
   {
    "duration": 27,
    "start_time": "2021-08-13T23:15:39.396Z"
   },
   {
    "duration": 54,
    "start_time": "2021-08-13T23:15:39.425Z"
   },
   {
    "duration": 691,
    "start_time": "2021-08-13T23:15:39.481Z"
   },
   {
    "duration": 1154,
    "start_time": "2021-08-13T23:15:40.179Z"
   },
   {
    "duration": 36,
    "start_time": "2021-08-13T23:15:41.336Z"
   },
   {
    "duration": 1001,
    "start_time": "2021-08-13T23:15:41.374Z"
   },
   {
    "duration": 48,
    "start_time": "2021-08-13T23:15:42.378Z"
   },
   {
    "duration": 926,
    "start_time": "2021-08-13T23:15:42.429Z"
   },
   {
    "duration": 47,
    "start_time": "2021-08-13T23:15:43.357Z"
   },
   {
    "duration": 11,
    "start_time": "2021-08-13T23:15:43.407Z"
   },
   {
    "duration": 2166,
    "start_time": "2021-08-13T23:15:43.421Z"
   },
   {
    "duration": 91,
    "start_time": "2021-08-13T23:15:45.589Z"
   },
   {
    "duration": 1017,
    "start_time": "2021-08-13T23:15:45.683Z"
   },
   {
    "duration": 50,
    "start_time": "2021-08-13T23:15:46.703Z"
   },
   {
    "duration": 709,
    "start_time": "2021-08-13T23:15:46.756Z"
   },
   {
    "duration": 12,
    "start_time": "2021-08-13T23:15:47.468Z"
   },
   {
    "duration": 20,
    "start_time": "2021-08-13T23:15:47.483Z"
   },
   {
    "duration": 1441,
    "start_time": "2021-08-13T23:15:47.506Z"
   },
   {
    "duration": 9,
    "start_time": "2021-08-13T23:15:48.950Z"
   },
   {
    "duration": 16,
    "start_time": "2021-08-13T23:15:48.962Z"
   },
   {
    "duration": 1190,
    "start_time": "2021-08-13T23:15:48.981Z"
   },
   {
    "duration": 20,
    "start_time": "2021-08-13T23:15:50.173Z"
   },
   {
    "duration": 587,
    "start_time": "2021-08-13T23:15:50.196Z"
   },
   {
    "duration": 10,
    "start_time": "2021-08-13T23:15:50.786Z"
   },
   {
    "duration": 17,
    "start_time": "2021-08-13T23:15:50.798Z"
   },
   {
    "duration": 14,
    "start_time": "2021-08-13T23:15:50.817Z"
   },
   {
    "duration": 10,
    "start_time": "2021-08-13T23:15:50.854Z"
   },
   {
    "duration": 19,
    "start_time": "2021-08-13T23:15:50.866Z"
   },
   {
    "duration": 9,
    "start_time": "2021-08-13T23:15:50.888Z"
   },
   {
    "duration": 10,
    "start_time": "2021-08-13T23:15:50.900Z"
   },
   {
    "duration": 47,
    "start_time": "2021-08-13T23:15:50.913Z"
   },
   {
    "duration": 9,
    "start_time": "2021-08-13T23:15:50.963Z"
   },
   {
    "duration": 18,
    "start_time": "2021-08-13T23:15:50.975Z"
   },
   {
    "duration": 10,
    "start_time": "2021-08-13T23:15:50.995Z"
   },
   {
    "duration": 54,
    "start_time": "2021-08-13T23:15:51.008Z"
   },
   {
    "duration": 7,
    "start_time": "2021-08-13T23:15:51.065Z"
   },
   {
    "duration": 20,
    "start_time": "2021-08-13T23:15:51.074Z"
   },
   {
    "duration": 1146,
    "start_time": "2021-08-13T23:17:34.099Z"
   },
   {
    "duration": 1217,
    "start_time": "2021-08-13T23:17:42.259Z"
   },
   {
    "duration": 1156,
    "start_time": "2021-08-13T23:19:28.763Z"
   },
   {
    "duration": 1168,
    "start_time": "2021-08-13T23:20:35.267Z"
   },
   {
    "duration": 555,
    "start_time": "2021-08-13T23:21:03.029Z"
   },
   {
    "duration": 1149,
    "start_time": "2021-08-13T23:21:06.822Z"
   },
   {
    "duration": 777,
    "start_time": "2021-08-13T23:21:15.662Z"
   },
   {
    "duration": 1324,
    "start_time": "2021-08-13T23:21:46.205Z"
   },
   {
    "duration": 1143,
    "start_time": "2021-08-13T23:21:56.116Z"
   },
   {
    "duration": 333,
    "start_time": "2021-08-14T20:28:30.238Z"
   },
   {
    "duration": 19320,
    "start_time": "2021-08-14T20:28:37.084Z"
   },
   {
    "duration": 5,
    "start_time": "2021-08-14T20:28:56.407Z"
   },
   {
    "duration": 60,
    "start_time": "2021-08-14T20:28:56.415Z"
   },
   {
    "duration": 35,
    "start_time": "2021-08-14T20:28:56.477Z"
   },
   {
    "duration": 4,
    "start_time": "2021-08-14T20:28:56.514Z"
   },
   {
    "duration": 51,
    "start_time": "2021-08-14T20:28:56.521Z"
   },
   {
    "duration": 6,
    "start_time": "2021-08-14T20:28:56.575Z"
   },
   {
    "duration": 427,
    "start_time": "2021-08-14T20:28:56.586Z"
   },
   {
    "duration": -151,
    "start_time": "2021-08-14T20:28:57.169Z"
   },
   {
    "duration": -159,
    "start_time": "2021-08-14T20:28:57.178Z"
   },
   {
    "duration": -162,
    "start_time": "2021-08-14T20:28:57.182Z"
   },
   {
    "duration": -163,
    "start_time": "2021-08-14T20:28:57.185Z"
   },
   {
    "duration": -165,
    "start_time": "2021-08-14T20:28:57.189Z"
   },
   {
    "duration": -167,
    "start_time": "2021-08-14T20:28:57.193Z"
   },
   {
    "duration": -170,
    "start_time": "2021-08-14T20:28:57.197Z"
   },
   {
    "duration": -172,
    "start_time": "2021-08-14T20:28:57.201Z"
   },
   {
    "duration": -175,
    "start_time": "2021-08-14T20:28:57.205Z"
   },
   {
    "duration": -177,
    "start_time": "2021-08-14T20:28:57.208Z"
   },
   {
    "duration": -180,
    "start_time": "2021-08-14T20:28:57.212Z"
   },
   {
    "duration": -183,
    "start_time": "2021-08-14T20:28:57.217Z"
   },
   {
    "duration": -186,
    "start_time": "2021-08-14T20:28:57.221Z"
   },
   {
    "duration": -191,
    "start_time": "2021-08-14T20:28:57.227Z"
   },
   {
    "duration": -193,
    "start_time": "2021-08-14T20:28:57.230Z"
   },
   {
    "duration": -195,
    "start_time": "2021-08-14T20:28:57.234Z"
   },
   {
    "duration": -198,
    "start_time": "2021-08-14T20:28:57.238Z"
   },
   {
    "duration": -201,
    "start_time": "2021-08-14T20:28:57.242Z"
   },
   {
    "duration": -202,
    "start_time": "2021-08-14T20:28:57.245Z"
   },
   {
    "duration": -205,
    "start_time": "2021-08-14T20:28:57.249Z"
   },
   {
    "duration": -208,
    "start_time": "2021-08-14T20:28:57.253Z"
   },
   {
    "duration": -211,
    "start_time": "2021-08-14T20:28:57.257Z"
   },
   {
    "duration": -213,
    "start_time": "2021-08-14T20:28:57.261Z"
   },
   {
    "duration": -215,
    "start_time": "2021-08-14T20:28:57.264Z"
   },
   {
    "duration": -218,
    "start_time": "2021-08-14T20:28:57.268Z"
   },
   {
    "duration": -219,
    "start_time": "2021-08-14T20:28:57.271Z"
   },
   {
    "duration": -208,
    "start_time": "2021-08-14T20:28:57.275Z"
   },
   {
    "duration": -219,
    "start_time": "2021-08-14T20:28:57.287Z"
   },
   {
    "duration": -221,
    "start_time": "2021-08-14T20:28:57.290Z"
   },
   {
    "duration": -223,
    "start_time": "2021-08-14T20:28:57.294Z"
   },
   {
    "duration": -225,
    "start_time": "2021-08-14T20:28:57.298Z"
   },
   {
    "duration": -229,
    "start_time": "2021-08-14T20:28:57.303Z"
   },
   {
    "duration": -233,
    "start_time": "2021-08-14T20:28:57.308Z"
   },
   {
    "duration": -235,
    "start_time": "2021-08-14T20:28:57.312Z"
   },
   {
    "duration": -238,
    "start_time": "2021-08-14T20:28:57.316Z"
   },
   {
    "duration": -241,
    "start_time": "2021-08-14T20:28:57.320Z"
   },
   {
    "duration": -244,
    "start_time": "2021-08-14T20:28:57.324Z"
   },
   {
    "duration": -247,
    "start_time": "2021-08-14T20:28:57.328Z"
   },
   {
    "duration": -249,
    "start_time": "2021-08-14T20:28:57.332Z"
   },
   {
    "duration": -252,
    "start_time": "2021-08-14T20:28:57.336Z"
   },
   {
    "duration": -253,
    "start_time": "2021-08-14T20:28:57.339Z"
   },
   {
    "duration": -256,
    "start_time": "2021-08-14T20:28:57.343Z"
   },
   {
    "duration": -259,
    "start_time": "2021-08-14T20:28:57.347Z"
   },
   {
    "duration": -261,
    "start_time": "2021-08-14T20:28:57.350Z"
   },
   {
    "duration": -263,
    "start_time": "2021-08-14T20:28:57.354Z"
   },
   {
    "duration": -266,
    "start_time": "2021-08-14T20:28:57.358Z"
   },
   {
    "duration": -268,
    "start_time": "2021-08-14T20:28:57.361Z"
   },
   {
    "duration": -270,
    "start_time": "2021-08-14T20:28:57.365Z"
   },
   {
    "duration": -272,
    "start_time": "2021-08-14T20:28:57.368Z"
   },
   {
    "duration": -275,
    "start_time": "2021-08-14T20:28:57.372Z"
   },
   {
    "duration": -278,
    "start_time": "2021-08-14T20:28:57.376Z"
   },
   {
    "duration": -279,
    "start_time": "2021-08-14T20:28:57.379Z"
   },
   {
    "duration": 13,
    "start_time": "2021-08-14T20:29:19.360Z"
   },
   {
    "duration": 8995,
    "start_time": "2021-08-14T20:29:28.597Z"
   },
   {
    "duration": 4,
    "start_time": "2021-08-14T20:29:37.594Z"
   },
   {
    "duration": 48,
    "start_time": "2021-08-14T20:29:37.602Z"
   },
   {
    "duration": 39,
    "start_time": "2021-08-14T20:29:37.653Z"
   },
   {
    "duration": 5,
    "start_time": "2021-08-14T20:29:37.695Z"
   },
   {
    "duration": 16,
    "start_time": "2021-08-14T20:29:37.703Z"
   },
   {
    "duration": 45,
    "start_time": "2021-08-14T20:29:37.722Z"
   },
   {
    "duration": 13,
    "start_time": "2021-08-14T20:29:37.772Z"
   },
   {
    "duration": 13,
    "start_time": "2021-08-14T20:29:37.788Z"
   },
   {
    "duration": 10,
    "start_time": "2021-08-14T20:29:37.804Z"
   },
   {
    "duration": 51,
    "start_time": "2021-08-14T20:29:37.816Z"
   },
   {
    "duration": 33,
    "start_time": "2021-08-14T20:29:37.870Z"
   },
   {
    "duration": 13,
    "start_time": "2021-08-14T20:29:37.905Z"
   },
   {
    "duration": 59,
    "start_time": "2021-08-14T20:29:37.921Z"
   },
   {
    "duration": 19,
    "start_time": "2021-08-14T20:29:37.982Z"
   },
   {
    "duration": 6,
    "start_time": "2021-08-14T20:29:38.004Z"
   },
   {
    "duration": 5,
    "start_time": "2021-08-14T20:29:38.013Z"
   },
   {
    "duration": 231,
    "start_time": "2021-08-14T20:29:38.021Z"
   },
   {
    "duration": 6,
    "start_time": "2021-08-14T20:29:38.254Z"
   },
   {
    "duration": 11,
    "start_time": "2021-08-14T20:29:38.268Z"
   },
   {
    "duration": 11,
    "start_time": "2021-08-14T20:29:38.282Z"
   },
   {
    "duration": 74,
    "start_time": "2021-08-14T20:29:38.296Z"
   },
   {
    "duration": 10,
    "start_time": "2021-08-14T20:29:38.377Z"
   },
   {
    "duration": 26,
    "start_time": "2021-08-14T20:29:38.390Z"
   },
   {
    "duration": 62,
    "start_time": "2021-08-14T20:29:38.418Z"
   },
   {
    "duration": 747,
    "start_time": "2021-08-14T20:29:38.482Z"
   },
   {
    "duration": 1070,
    "start_time": "2021-08-14T20:29:39.232Z"
   },
   {
    "duration": 27,
    "start_time": "2021-08-14T20:29:40.305Z"
   },
   {
    "duration": 1033,
    "start_time": "2021-08-14T20:29:40.334Z"
   },
   {
    "duration": 41,
    "start_time": "2021-08-14T20:29:41.369Z"
   },
   {
    "duration": 778,
    "start_time": "2021-08-14T20:29:41.413Z"
   },
   {
    "duration": 35,
    "start_time": "2021-08-14T20:29:42.193Z"
   },
   {
    "duration": 37,
    "start_time": "2021-08-14T20:29:42.230Z"
   },
   {
    "duration": 2068,
    "start_time": "2021-08-14T20:29:42.270Z"
   },
   {
    "duration": 34,
    "start_time": "2021-08-14T20:29:44.367Z"
   },
   {
    "duration": 1066,
    "start_time": "2021-08-14T20:29:44.404Z"
   },
   {
    "duration": 25,
    "start_time": "2021-08-14T20:29:45.472Z"
   },
   {
    "duration": 540,
    "start_time": "2021-08-14T20:29:45.500Z"
   },
   {
    "duration": 8,
    "start_time": "2021-08-14T20:29:46.042Z"
   },
   {
    "duration": 23,
    "start_time": "2021-08-14T20:29:46.053Z"
   },
   {
    "duration": 1831,
    "start_time": "2021-08-14T20:29:46.078Z"
   },
   {
    "duration": 10,
    "start_time": "2021-08-14T20:29:47.912Z"
   },
   {
    "duration": 20,
    "start_time": "2021-08-14T20:29:47.924Z"
   },
   {
    "duration": 1206,
    "start_time": "2021-08-14T20:29:47.968Z"
   },
   {
    "duration": 19,
    "start_time": "2021-08-14T20:29:49.177Z"
   },
   {
    "duration": 571,
    "start_time": "2021-08-14T20:29:49.199Z"
   },
   {
    "duration": 9,
    "start_time": "2021-08-14T20:29:49.773Z"
   },
   {
    "duration": 15,
    "start_time": "2021-08-14T20:29:49.784Z"
   },
   {
    "duration": 9,
    "start_time": "2021-08-14T20:29:49.801Z"
   },
   {
    "duration": 8,
    "start_time": "2021-08-14T20:29:49.812Z"
   },
   {
    "duration": 49,
    "start_time": "2021-08-14T20:29:49.823Z"
   },
   {
    "duration": 18,
    "start_time": "2021-08-14T20:29:49.874Z"
   },
   {
    "duration": 11,
    "start_time": "2021-08-14T20:29:49.895Z"
   },
   {
    "duration": 10,
    "start_time": "2021-08-14T20:29:49.909Z"
   },
   {
    "duration": 49,
    "start_time": "2021-08-14T20:29:49.922Z"
   },
   {
    "duration": 16,
    "start_time": "2021-08-14T20:29:49.974Z"
   },
   {
    "duration": 10,
    "start_time": "2021-08-14T20:29:49.993Z"
   },
   {
    "duration": 15,
    "start_time": "2021-08-14T20:29:50.006Z"
   },
   {
    "duration": 10,
    "start_time": "2021-08-14T20:29:50.068Z"
   },
   {
    "duration": 36,
    "start_time": "2021-08-14T20:29:50.081Z"
   },
   {
    "duration": 16,
    "start_time": "2021-08-14T20:31:24.573Z"
   },
   {
    "duration": 4,
    "start_time": "2021-08-14T20:31:50.538Z"
   },
   {
    "duration": 5,
    "start_time": "2021-08-14T20:32:08.542Z"
   },
   {
    "duration": 9690,
    "start_time": "2021-08-14T20:32:15.186Z"
   },
   {
    "duration": 4,
    "start_time": "2021-08-14T20:32:24.878Z"
   },
   {
    "duration": 55,
    "start_time": "2021-08-14T20:32:24.885Z"
   },
   {
    "duration": 41,
    "start_time": "2021-08-14T20:32:24.943Z"
   },
   {
    "duration": 6,
    "start_time": "2021-08-14T20:32:24.986Z"
   },
   {
    "duration": 19,
    "start_time": "2021-08-14T20:32:24.994Z"
   },
   {
    "duration": 10,
    "start_time": "2021-08-14T20:32:25.015Z"
   },
   {
    "duration": 7,
    "start_time": "2021-08-14T20:32:25.029Z"
   },
   {
    "duration": 416,
    "start_time": "2021-08-14T20:32:25.069Z"
   },
   {
    "duration": -95,
    "start_time": "2021-08-14T20:32:25.585Z"
   },
   {
    "duration": -101,
    "start_time": "2021-08-14T20:32:25.592Z"
   },
   {
    "duration": -104,
    "start_time": "2021-08-14T20:32:25.596Z"
   },
   {
    "duration": -106,
    "start_time": "2021-08-14T20:32:25.600Z"
   },
   {
    "duration": -109,
    "start_time": "2021-08-14T20:32:25.604Z"
   },
   {
    "duration": -111,
    "start_time": "2021-08-14T20:32:25.608Z"
   },
   {
    "duration": -114,
    "start_time": "2021-08-14T20:32:25.613Z"
   },
   {
    "duration": -116,
    "start_time": "2021-08-14T20:32:25.616Z"
   },
   {
    "duration": -118,
    "start_time": "2021-08-14T20:32:25.620Z"
   },
   {
    "duration": -123,
    "start_time": "2021-08-14T20:32:25.626Z"
   },
   {
    "duration": -125,
    "start_time": "2021-08-14T20:32:25.630Z"
   },
   {
    "duration": -129,
    "start_time": "2021-08-14T20:32:25.635Z"
   },
   {
    "duration": -132,
    "start_time": "2021-08-14T20:32:25.639Z"
   },
   {
    "duration": -136,
    "start_time": "2021-08-14T20:32:25.644Z"
   },
   {
    "duration": -138,
    "start_time": "2021-08-14T20:32:25.648Z"
   },
   {
    "duration": -142,
    "start_time": "2021-08-14T20:32:25.653Z"
   },
   {
    "duration": -143,
    "start_time": "2021-08-14T20:32:25.656Z"
   },
   {
    "duration": -146,
    "start_time": "2021-08-14T20:32:25.660Z"
   },
   {
    "duration": -149,
    "start_time": "2021-08-14T20:32:25.664Z"
   },
   {
    "duration": -151,
    "start_time": "2021-08-14T20:32:25.668Z"
   },
   {
    "duration": -153,
    "start_time": "2021-08-14T20:32:25.671Z"
   },
   {
    "duration": -157,
    "start_time": "2021-08-14T20:32:25.677Z"
   },
   {
    "duration": -167,
    "start_time": "2021-08-14T20:32:25.688Z"
   },
   {
    "duration": -171,
    "start_time": "2021-08-14T20:32:25.693Z"
   },
   {
    "duration": -174,
    "start_time": "2021-08-14T20:32:25.697Z"
   },
   {
    "duration": -178,
    "start_time": "2021-08-14T20:32:25.702Z"
   },
   {
    "duration": -180,
    "start_time": "2021-08-14T20:32:25.705Z"
   },
   {
    "duration": -144,
    "start_time": "2021-08-14T20:32:25.711Z"
   },
   {
    "duration": -147,
    "start_time": "2021-08-14T20:32:25.715Z"
   },
   {
    "duration": -149,
    "start_time": "2021-08-14T20:32:25.719Z"
   },
   {
    "duration": -152,
    "start_time": "2021-08-14T20:32:25.723Z"
   },
   {
    "duration": -156,
    "start_time": "2021-08-14T20:32:25.728Z"
   },
   {
    "duration": -158,
    "start_time": "2021-08-14T20:32:25.732Z"
   },
   {
    "duration": -162,
    "start_time": "2021-08-14T20:32:25.737Z"
   },
   {
    "duration": -165,
    "start_time": "2021-08-14T20:32:25.742Z"
   },
   {
    "duration": -168,
    "start_time": "2021-08-14T20:32:25.746Z"
   },
   {
    "duration": -171,
    "start_time": "2021-08-14T20:32:25.750Z"
   },
   {
    "duration": -174,
    "start_time": "2021-08-14T20:32:25.755Z"
   },
   {
    "duration": -177,
    "start_time": "2021-08-14T20:32:25.759Z"
   },
   {
    "duration": -181,
    "start_time": "2021-08-14T20:32:25.764Z"
   },
   {
    "duration": -183,
    "start_time": "2021-08-14T20:32:25.768Z"
   },
   {
    "duration": -186,
    "start_time": "2021-08-14T20:32:25.772Z"
   },
   {
    "duration": -188,
    "start_time": "2021-08-14T20:32:25.776Z"
   },
   {
    "duration": -191,
    "start_time": "2021-08-14T20:32:25.780Z"
   },
   {
    "duration": -193,
    "start_time": "2021-08-14T20:32:25.784Z"
   },
   {
    "duration": -204,
    "start_time": "2021-08-14T20:32:25.796Z"
   },
   {
    "duration": -207,
    "start_time": "2021-08-14T20:32:25.800Z"
   },
   {
    "duration": -210,
    "start_time": "2021-08-14T20:32:25.805Z"
   },
   {
    "duration": -212,
    "start_time": "2021-08-14T20:32:25.808Z"
   },
   {
    "duration": -215,
    "start_time": "2021-08-14T20:32:25.812Z"
   },
   {
    "duration": -218,
    "start_time": "2021-08-14T20:32:25.816Z"
   },
   {
    "duration": -222,
    "start_time": "2021-08-14T20:32:25.822Z"
   },
   {
    "duration": -224,
    "start_time": "2021-08-14T20:32:25.825Z"
   },
   {
    "duration": 8712,
    "start_time": "2021-08-14T20:32:47.794Z"
   },
   {
    "duration": 4,
    "start_time": "2021-08-14T20:32:56.509Z"
   },
   {
    "duration": 63,
    "start_time": "2021-08-14T20:32:56.520Z"
   },
   {
    "duration": 32,
    "start_time": "2021-08-14T20:32:56.586Z"
   },
   {
    "duration": 4,
    "start_time": "2021-08-14T20:32:56.621Z"
   },
   {
    "duration": 40,
    "start_time": "2021-08-14T20:32:56.628Z"
   },
   {
    "duration": 17,
    "start_time": "2021-08-14T20:32:56.673Z"
   },
   {
    "duration": 3,
    "start_time": "2021-08-14T20:32:56.694Z"
   },
   {
    "duration": 9,
    "start_time": "2021-08-14T20:32:56.700Z"
   },
   {
    "duration": 15,
    "start_time": "2021-08-14T20:32:56.711Z"
   },
   {
    "duration": 10,
    "start_time": "2021-08-14T20:32:56.728Z"
   },
   {
    "duration": 39,
    "start_time": "2021-08-14T20:32:56.740Z"
   },
   {
    "duration": 34,
    "start_time": "2021-08-14T20:32:56.782Z"
   },
   {
    "duration": 13,
    "start_time": "2021-08-14T20:32:56.818Z"
   },
   {
    "duration": 49,
    "start_time": "2021-08-14T20:32:56.834Z"
   },
   {
    "duration": 19,
    "start_time": "2021-08-14T20:32:56.886Z"
   },
   {
    "duration": 6,
    "start_time": "2021-08-14T20:32:56.908Z"
   },
   {
    "duration": 5,
    "start_time": "2021-08-14T20:32:56.917Z"
   },
   {
    "duration": 224,
    "start_time": "2021-08-14T20:32:56.925Z"
   },
   {
    "duration": 7,
    "start_time": "2021-08-14T20:32:57.151Z"
   },
   {
    "duration": 16,
    "start_time": "2021-08-14T20:32:57.167Z"
   },
   {
    "duration": 11,
    "start_time": "2021-08-14T20:32:57.189Z"
   },
   {
    "duration": 63,
    "start_time": "2021-08-14T20:32:57.204Z"
   },
   {
    "duration": 11,
    "start_time": "2021-08-14T20:32:57.270Z"
   },
   {
    "duration": 27,
    "start_time": "2021-08-14T20:32:57.283Z"
   },
   {
    "duration": 57,
    "start_time": "2021-08-14T20:32:57.313Z"
   },
   {
    "duration": 727,
    "start_time": "2021-08-14T20:32:57.373Z"
   },
   {
    "duration": 1399,
    "start_time": "2021-08-14T20:32:58.103Z"
   },
   {
    "duration": 89,
    "start_time": "2021-08-14T20:32:59.504Z"
   },
   {
    "duration": 3,
    "start_time": "2021-08-14T20:32:59.593Z"
   },
   {
    "duration": 0,
    "start_time": "2021-08-14T20:32:59.597Z"
   },
   {
    "duration": -2,
    "start_time": "2021-08-14T20:32:59.601Z"
   },
   {
    "duration": -5,
    "start_time": "2021-08-14T20:32:59.605Z"
   },
   {
    "duration": -7,
    "start_time": "2021-08-14T20:32:59.609Z"
   },
   {
    "duration": -9,
    "start_time": "2021-08-14T20:32:59.612Z"
   },
   {
    "duration": -11,
    "start_time": "2021-08-14T20:32:59.615Z"
   },
   {
    "duration": -13,
    "start_time": "2021-08-14T20:32:59.619Z"
   },
   {
    "duration": -16,
    "start_time": "2021-08-14T20:32:59.623Z"
   },
   {
    "duration": -19,
    "start_time": "2021-08-14T20:32:59.628Z"
   },
   {
    "duration": -22,
    "start_time": "2021-08-14T20:32:59.632Z"
   },
   {
    "duration": -24,
    "start_time": "2021-08-14T20:32:59.635Z"
   },
   {
    "duration": -26,
    "start_time": "2021-08-14T20:32:59.639Z"
   },
   {
    "duration": -32,
    "start_time": "2021-08-14T20:32:59.646Z"
   },
   {
    "duration": -34,
    "start_time": "2021-08-14T20:32:59.650Z"
   },
   {
    "duration": -37,
    "start_time": "2021-08-14T20:32:59.654Z"
   },
   {
    "duration": -39,
    "start_time": "2021-08-14T20:32:59.658Z"
   },
   {
    "duration": -44,
    "start_time": "2021-08-14T20:32:59.664Z"
   },
   {
    "duration": -129,
    "start_time": "2021-08-14T20:32:59.750Z"
   },
   {
    "duration": -133,
    "start_time": "2021-08-14T20:32:59.756Z"
   },
   {
    "duration": -137,
    "start_time": "2021-08-14T20:32:59.761Z"
   },
   {
    "duration": -145,
    "start_time": "2021-08-14T20:32:59.770Z"
   },
   {
    "duration": -148,
    "start_time": "2021-08-14T20:32:59.775Z"
   },
   {
    "duration": -153,
    "start_time": "2021-08-14T20:32:59.781Z"
   },
   {
    "duration": -160,
    "start_time": "2021-08-14T20:32:59.790Z"
   },
   {
    "duration": -164,
    "start_time": "2021-08-14T20:32:59.795Z"
   },
   {
    "duration": -172,
    "start_time": "2021-08-14T20:32:59.804Z"
   },
   {
    "duration": -143,
    "start_time": "2021-08-14T20:32:59.809Z"
   },
   {
    "duration": -146,
    "start_time": "2021-08-14T20:32:59.814Z"
   },
   {
    "duration": -155,
    "start_time": "2021-08-14T20:32:59.824Z"
   },
   {
    "duration": -159,
    "start_time": "2021-08-14T20:32:59.830Z"
   },
   {
    "duration": -164,
    "start_time": "2021-08-14T20:32:59.836Z"
   },
   {
    "duration": -169,
    "start_time": "2021-08-14T20:32:59.842Z"
   },
   {
    "duration": 9094,
    "start_time": "2021-08-14T20:33:38.743Z"
   },
   {
    "duration": 4,
    "start_time": "2021-08-14T20:33:47.839Z"
   },
   {
    "duration": 50,
    "start_time": "2021-08-14T20:33:47.846Z"
   },
   {
    "duration": 33,
    "start_time": "2021-08-14T20:33:47.900Z"
   },
   {
    "duration": 5,
    "start_time": "2021-08-14T20:33:47.936Z"
   },
   {
    "duration": 19,
    "start_time": "2021-08-14T20:33:47.969Z"
   },
   {
    "duration": 8,
    "start_time": "2021-08-14T20:33:47.990Z"
   },
   {
    "duration": 4,
    "start_time": "2021-08-14T20:33:48.002Z"
   },
   {
    "duration": 12,
    "start_time": "2021-08-14T20:33:48.009Z"
   },
   {
    "duration": 53,
    "start_time": "2021-08-14T20:33:48.024Z"
   },
   {
    "duration": 8,
    "start_time": "2021-08-14T20:33:48.080Z"
   },
   {
    "duration": 14,
    "start_time": "2021-08-14T20:33:48.090Z"
   },
   {
    "duration": 69,
    "start_time": "2021-08-14T20:33:48.106Z"
   },
   {
    "duration": 13,
    "start_time": "2021-08-14T20:33:48.177Z"
   },
   {
    "duration": 18,
    "start_time": "2021-08-14T20:33:48.193Z"
   },
   {
    "duration": 66,
    "start_time": "2021-08-14T20:33:48.213Z"
   },
   {
    "duration": 9,
    "start_time": "2021-08-14T20:33:48.283Z"
   },
   {
    "duration": 7,
    "start_time": "2021-08-14T20:33:48.295Z"
   },
   {
    "duration": 308,
    "start_time": "2021-08-14T20:33:48.305Z"
   },
   {
    "duration": 7,
    "start_time": "2021-08-14T20:33:48.616Z"
   },
   {
    "duration": 11,
    "start_time": "2021-08-14T20:33:48.625Z"
   },
   {
    "duration": 32,
    "start_time": "2021-08-14T20:33:48.638Z"
   },
   {
    "duration": 39,
    "start_time": "2021-08-14T20:33:48.676Z"
   },
   {
    "duration": 10,
    "start_time": "2021-08-14T20:33:48.718Z"
   },
   {
    "duration": 56,
    "start_time": "2021-08-14T20:33:48.731Z"
   },
   {
    "duration": 28,
    "start_time": "2021-08-14T20:33:48.789Z"
   },
   {
    "duration": 732,
    "start_time": "2021-08-14T20:33:48.819Z"
   },
   {
    "duration": 1038,
    "start_time": "2021-08-14T20:33:49.554Z"
   },
   {
    "duration": 25,
    "start_time": "2021-08-14T20:33:50.595Z"
   },
   {
    "duration": 883,
    "start_time": "2021-08-14T20:33:50.622Z"
   },
   {
    "duration": 42,
    "start_time": "2021-08-14T20:33:51.508Z"
   },
   {
    "duration": 773,
    "start_time": "2021-08-14T20:33:51.568Z"
   },
   {
    "duration": 47,
    "start_time": "2021-08-14T20:33:52.344Z"
   },
   {
    "duration": 8,
    "start_time": "2021-08-14T20:33:52.394Z"
   },
   {
    "duration": 2063,
    "start_time": "2021-08-14T20:33:52.404Z"
   },
   {
    "duration": 37,
    "start_time": "2021-08-14T20:33:54.469Z"
   },
   {
    "duration": 1062,
    "start_time": "2021-08-14T20:33:54.508Z"
   },
   {
    "duration": 24,
    "start_time": "2021-08-14T20:33:55.572Z"
   },
   {
    "duration": 531,
    "start_time": "2021-08-14T20:33:55.598Z"
   },
   {
    "duration": 13,
    "start_time": "2021-08-14T20:33:56.132Z"
   },
   {
    "duration": 26,
    "start_time": "2021-08-14T20:33:56.148Z"
   },
   {
    "duration": 1896,
    "start_time": "2021-08-14T20:33:56.177Z"
   },
   {
    "duration": 12,
    "start_time": "2021-08-14T20:33:58.076Z"
   },
   {
    "duration": 21,
    "start_time": "2021-08-14T20:33:58.091Z"
   },
   {
    "duration": 1912,
    "start_time": "2021-08-14T20:33:58.115Z"
   },
   {
    "duration": 39,
    "start_time": "2021-08-14T20:34:00.029Z"
   },
   {
    "duration": 580,
    "start_time": "2021-08-14T20:34:00.071Z"
   },
   {
    "duration": 16,
    "start_time": "2021-08-14T20:34:00.653Z"
   },
   {
    "duration": 23,
    "start_time": "2021-08-14T20:34:00.671Z"
   },
   {
    "duration": 12,
    "start_time": "2021-08-14T20:34:00.697Z"
   },
   {
    "duration": 16,
    "start_time": "2021-08-14T20:34:00.712Z"
   },
   {
    "duration": 42,
    "start_time": "2021-08-14T20:34:00.731Z"
   },
   {
    "duration": 11,
    "start_time": "2021-08-14T20:34:00.776Z"
   },
   {
    "duration": 26,
    "start_time": "2021-08-14T20:34:00.790Z"
   },
   {
    "duration": 12,
    "start_time": "2021-08-14T20:34:00.819Z"
   },
   {
    "duration": 37,
    "start_time": "2021-08-14T20:34:00.834Z"
   },
   {
    "duration": 32,
    "start_time": "2021-08-14T20:34:00.874Z"
   },
   {
    "duration": 13,
    "start_time": "2021-08-14T20:34:00.909Z"
   },
   {
    "duration": 35,
    "start_time": "2021-08-14T20:34:00.925Z"
   },
   {
    "duration": 13,
    "start_time": "2021-08-14T20:34:00.967Z"
   },
   {
    "duration": 91,
    "start_time": "2021-08-14T20:34:00.983Z"
   },
   {
    "duration": 905,
    "start_time": "2021-08-14T20:42:07.268Z"
   },
   {
    "duration": 914,
    "start_time": "2021-08-14T20:42:12.124Z"
   },
   {
    "duration": 19,
    "start_time": "2021-08-14T20:42:47.634Z"
   },
   {
    "duration": 8723,
    "start_time": "2021-08-14T20:42:53.382Z"
   },
   {
    "duration": 5,
    "start_time": "2021-08-14T20:43:02.108Z"
   },
   {
    "duration": 65,
    "start_time": "2021-08-14T20:43:02.117Z"
   },
   {
    "duration": 36,
    "start_time": "2021-08-14T20:43:02.185Z"
   },
   {
    "duration": 6,
    "start_time": "2021-08-14T20:43:02.224Z"
   },
   {
    "duration": 44,
    "start_time": "2021-08-14T20:43:02.234Z"
   },
   {
    "duration": 8,
    "start_time": "2021-08-14T20:43:02.281Z"
   },
   {
    "duration": 20,
    "start_time": "2021-08-14T20:43:02.293Z"
   },
   {
    "duration": 4,
    "start_time": "2021-08-14T20:43:02.316Z"
   },
   {
    "duration": 48,
    "start_time": "2021-08-14T20:43:02.322Z"
   },
   {
    "duration": 14,
    "start_time": "2021-08-14T20:43:02.372Z"
   },
   {
    "duration": 17,
    "start_time": "2021-08-14T20:43:02.388Z"
   },
   {
    "duration": 35,
    "start_time": "2021-08-14T20:43:02.407Z"
   },
   {
    "duration": 33,
    "start_time": "2021-08-14T20:43:02.444Z"
   },
   {
    "duration": 22,
    "start_time": "2021-08-14T20:43:02.480Z"
   },
   {
    "duration": 19,
    "start_time": "2021-08-14T20:43:02.504Z"
   },
   {
    "duration": 43,
    "start_time": "2021-08-14T20:43:02.526Z"
   },
   {
    "duration": 16,
    "start_time": "2021-08-14T20:43:02.572Z"
   },
   {
    "duration": 191,
    "start_time": "2021-08-14T20:43:02.591Z"
   },
   {
    "duration": 6,
    "start_time": "2021-08-14T20:43:02.785Z"
   },
   {
    "duration": 13,
    "start_time": "2021-08-14T20:43:02.793Z"
   },
   {
    "duration": 11,
    "start_time": "2021-08-14T20:43:02.809Z"
   },
   {
    "duration": 69,
    "start_time": "2021-08-14T20:43:02.826Z"
   },
   {
    "duration": 11,
    "start_time": "2021-08-14T20:43:02.899Z"
   },
   {
    "duration": 56,
    "start_time": "2021-08-14T20:43:02.913Z"
   },
   {
    "duration": 26,
    "start_time": "2021-08-14T20:43:02.971Z"
   },
   {
    "duration": 736,
    "start_time": "2021-08-14T20:43:02.999Z"
   },
   {
    "duration": 1020,
    "start_time": "2021-08-14T20:43:03.737Z"
   },
   {
    "duration": 24,
    "start_time": "2021-08-14T20:43:04.767Z"
   },
   {
    "duration": 870,
    "start_time": "2021-08-14T20:43:04.794Z"
   },
   {
    "duration": 39,
    "start_time": "2021-08-14T20:43:05.667Z"
   },
   {
    "duration": 868,
    "start_time": "2021-08-14T20:43:05.709Z"
   },
   {
    "duration": 33,
    "start_time": "2021-08-14T20:43:06.579Z"
   },
   {
    "duration": 8,
    "start_time": "2021-08-14T20:43:06.614Z"
   },
   {
    "duration": 2053,
    "start_time": "2021-08-14T20:43:06.624Z"
   },
   {
    "duration": 90,
    "start_time": "2021-08-14T20:43:08.679Z"
   },
   {
    "duration": 999,
    "start_time": "2021-08-14T20:43:08.771Z"
   },
   {
    "duration": 26,
    "start_time": "2021-08-14T20:43:09.772Z"
   },
   {
    "duration": 532,
    "start_time": "2021-08-14T20:43:09.801Z"
   },
   {
    "duration": 8,
    "start_time": "2021-08-14T20:43:10.336Z"
   },
   {
    "duration": 29,
    "start_time": "2021-08-14T20:43:10.347Z"
   },
   {
    "duration": 1457,
    "start_time": "2021-08-14T20:43:10.379Z"
   },
   {
    "duration": 7,
    "start_time": "2021-08-14T20:43:11.839Z"
   },
   {
    "duration": 25,
    "start_time": "2021-08-14T20:43:11.849Z"
   },
   {
    "duration": 1166,
    "start_time": "2021-08-14T20:43:11.876Z"
   },
   {
    "duration": 27,
    "start_time": "2021-08-14T20:43:13.045Z"
   },
   {
    "duration": 553,
    "start_time": "2021-08-14T20:43:13.074Z"
   },
   {
    "duration": 10,
    "start_time": "2021-08-14T20:43:13.629Z"
   },
   {
    "duration": 27,
    "start_time": "2021-08-14T20:43:13.641Z"
   },
   {
    "duration": 9,
    "start_time": "2021-08-14T20:43:13.671Z"
   },
   {
    "duration": 16,
    "start_time": "2021-08-14T20:43:13.683Z"
   },
   {
    "duration": 12,
    "start_time": "2021-08-14T20:43:13.701Z"
   },
   {
    "duration": 11,
    "start_time": "2021-08-14T20:43:13.716Z"
   },
   {
    "duration": 12,
    "start_time": "2021-08-14T20:43:13.766Z"
   },
   {
    "duration": 10,
    "start_time": "2021-08-14T20:43:13.781Z"
   },
   {
    "duration": 11,
    "start_time": "2021-08-14T20:43:13.794Z"
   },
   {
    "duration": 67,
    "start_time": "2021-08-14T20:43:13.808Z"
   },
   {
    "duration": 10,
    "start_time": "2021-08-14T20:43:13.877Z"
   },
   {
    "duration": 14,
    "start_time": "2021-08-14T20:43:13.889Z"
   },
   {
    "duration": 7,
    "start_time": "2021-08-14T20:43:13.905Z"
   },
   {
    "duration": 10,
    "start_time": "2021-08-14T20:43:13.914Z"
   },
   {
    "duration": 9241,
    "start_time": "2021-08-14T20:43:56.837Z"
   },
   {
    "duration": 4,
    "start_time": "2021-08-14T20:44:06.081Z"
   },
   {
    "duration": 62,
    "start_time": "2021-08-14T20:44:06.087Z"
   },
   {
    "duration": 33,
    "start_time": "2021-08-14T20:44:06.151Z"
   },
   {
    "duration": 4,
    "start_time": "2021-08-14T20:44:06.187Z"
   },
   {
    "duration": 22,
    "start_time": "2021-08-14T20:44:06.193Z"
   },
   {
    "duration": 9,
    "start_time": "2021-08-14T20:44:06.218Z"
   },
   {
    "duration": 43,
    "start_time": "2021-08-14T20:44:06.231Z"
   },
   {
    "duration": 8,
    "start_time": "2021-08-14T20:44:06.277Z"
   },
   {
    "duration": 17,
    "start_time": "2021-08-14T20:44:06.288Z"
   },
   {
    "duration": 7,
    "start_time": "2021-08-14T20:44:06.308Z"
   },
   {
    "duration": 18,
    "start_time": "2021-08-14T20:44:06.317Z"
   },
   {
    "duration": 59,
    "start_time": "2021-08-14T20:44:06.338Z"
   },
   {
    "duration": 14,
    "start_time": "2021-08-14T20:44:06.399Z"
   },
   {
    "duration": 53,
    "start_time": "2021-08-14T20:44:06.415Z"
   },
   {
    "duration": 18,
    "start_time": "2021-08-14T20:44:06.471Z"
   },
   {
    "duration": 6,
    "start_time": "2021-08-14T20:44:06.492Z"
   },
   {
    "duration": 11,
    "start_time": "2021-08-14T20:44:06.501Z"
   },
   {
    "duration": 215,
    "start_time": "2021-08-14T20:44:06.514Z"
   },
   {
    "duration": 6,
    "start_time": "2021-08-14T20:44:06.732Z"
   },
   {
    "duration": 30,
    "start_time": "2021-08-14T20:44:06.740Z"
   },
   {
    "duration": 11,
    "start_time": "2021-08-14T20:44:06.772Z"
   },
   {
    "duration": 38,
    "start_time": "2021-08-14T20:44:06.789Z"
   },
   {
    "duration": 38,
    "start_time": "2021-08-14T20:44:06.830Z"
   },
   {
    "duration": 24,
    "start_time": "2021-08-14T20:44:06.870Z"
   },
   {
    "duration": 28,
    "start_time": "2021-08-14T20:44:06.896Z"
   },
   {
    "duration": 681,
    "start_time": "2021-08-14T20:44:06.927Z"
   },
   {
    "duration": 1166,
    "start_time": "2021-08-14T20:44:07.610Z"
   },
   {
    "duration": 24,
    "start_time": "2021-08-14T20:44:08.779Z"
   },
   {
    "duration": 886,
    "start_time": "2021-08-14T20:44:08.805Z"
   },
   {
    "duration": 48,
    "start_time": "2021-08-14T20:44:09.694Z"
   },
   {
    "duration": 706,
    "start_time": "2021-08-14T20:44:09.767Z"
   },
   {
    "duration": 37,
    "start_time": "2021-08-14T20:44:10.475Z"
   },
   {
    "duration": 9,
    "start_time": "2021-08-14T20:44:10.514Z"
   },
   {
    "duration": 2067,
    "start_time": "2021-08-14T20:44:10.525Z"
   },
   {
    "duration": 105,
    "start_time": "2021-08-14T20:44:12.595Z"
   },
   {
    "duration": 1082,
    "start_time": "2021-08-14T20:44:12.703Z"
   },
   {
    "duration": 27,
    "start_time": "2021-08-14T20:44:13.788Z"
   },
   {
    "duration": 542,
    "start_time": "2021-08-14T20:44:13.818Z"
   },
   {
    "duration": 8,
    "start_time": "2021-08-14T20:44:14.368Z"
   },
   {
    "duration": 26,
    "start_time": "2021-08-14T20:44:14.380Z"
   },
   {
    "duration": 1563,
    "start_time": "2021-08-14T20:44:14.409Z"
   },
   {
    "duration": 10,
    "start_time": "2021-08-14T20:44:15.976Z"
   },
   {
    "duration": 14,
    "start_time": "2021-08-14T20:44:15.988Z"
   },
   {
    "duration": 1234,
    "start_time": "2021-08-14T20:44:16.004Z"
   },
   {
    "duration": 29,
    "start_time": "2021-08-14T20:44:17.241Z"
   },
   {
    "duration": 556,
    "start_time": "2021-08-14T20:44:17.273Z"
   },
   {
    "duration": 10,
    "start_time": "2021-08-14T20:44:17.831Z"
   },
   {
    "duration": 25,
    "start_time": "2021-08-14T20:44:17.843Z"
   },
   {
    "duration": 9,
    "start_time": "2021-08-14T20:44:17.870Z"
   },
   {
    "duration": 13,
    "start_time": "2021-08-14T20:44:17.881Z"
   },
   {
    "duration": 9,
    "start_time": "2021-08-14T20:44:17.896Z"
   },
   {
    "duration": 13,
    "start_time": "2021-08-14T20:44:17.907Z"
   },
   {
    "duration": 52,
    "start_time": "2021-08-14T20:44:17.922Z"
   },
   {
    "duration": 14,
    "start_time": "2021-08-14T20:44:17.976Z"
   },
   {
    "duration": 9,
    "start_time": "2021-08-14T20:44:17.993Z"
   },
   {
    "duration": 13,
    "start_time": "2021-08-14T20:44:18.005Z"
   },
   {
    "duration": 48,
    "start_time": "2021-08-14T20:44:18.020Z"
   },
   {
    "duration": 17,
    "start_time": "2021-08-14T20:44:18.071Z"
   },
   {
    "duration": 9,
    "start_time": "2021-08-14T20:44:18.090Z"
   },
   {
    "duration": 9,
    "start_time": "2021-08-14T20:44:18.101Z"
   },
   {
    "duration": 8893,
    "start_time": "2021-08-14T20:45:23.670Z"
   },
   {
    "duration": 4,
    "start_time": "2021-08-14T20:45:32.566Z"
   },
   {
    "duration": 50,
    "start_time": "2021-08-14T20:45:32.573Z"
   },
   {
    "duration": 46,
    "start_time": "2021-08-14T20:45:32.626Z"
   },
   {
    "duration": 5,
    "start_time": "2021-08-14T20:45:32.674Z"
   },
   {
    "duration": 15,
    "start_time": "2021-08-14T20:45:32.682Z"
   },
   {
    "duration": 6,
    "start_time": "2021-08-14T20:45:32.699Z"
   },
   {
    "duration": 3,
    "start_time": "2021-08-14T20:45:32.709Z"
   },
   {
    "duration": 52,
    "start_time": "2021-08-14T20:45:32.715Z"
   },
   {
    "duration": 13,
    "start_time": "2021-08-14T20:45:32.769Z"
   },
   {
    "duration": 12,
    "start_time": "2021-08-14T20:45:32.784Z"
   },
   {
    "duration": 14,
    "start_time": "2021-08-14T20:45:32.799Z"
   },
   {
    "duration": 56,
    "start_time": "2021-08-14T20:45:32.815Z"
   },
   {
    "duration": 13,
    "start_time": "2021-08-14T20:45:32.873Z"
   },
   {
    "duration": 19,
    "start_time": "2021-08-14T20:45:32.888Z"
   },
   {
    "duration": 18,
    "start_time": "2021-08-14T20:45:32.909Z"
   },
   {
    "duration": 6,
    "start_time": "2021-08-14T20:45:32.967Z"
   },
   {
    "duration": 6,
    "start_time": "2021-08-14T20:45:32.976Z"
   },
   {
    "duration": 201,
    "start_time": "2021-08-14T20:45:32.984Z"
   },
   {
    "duration": 5,
    "start_time": "2021-08-14T20:45:33.187Z"
   },
   {
    "duration": 9,
    "start_time": "2021-08-14T20:45:33.195Z"
   },
   {
    "duration": 9,
    "start_time": "2021-08-14T20:45:33.207Z"
   },
   {
    "duration": 71,
    "start_time": "2021-08-14T20:45:33.223Z"
   },
   {
    "duration": 9,
    "start_time": "2021-08-14T20:45:33.298Z"
   },
   {
    "duration": 26,
    "start_time": "2021-08-14T20:45:33.309Z"
   },
   {
    "duration": 53,
    "start_time": "2021-08-14T20:45:33.337Z"
   },
   {
    "duration": 727,
    "start_time": "2021-08-14T20:45:33.393Z"
   },
   {
    "duration": 1039,
    "start_time": "2021-08-14T20:45:34.123Z"
   },
   {
    "duration": 24,
    "start_time": "2021-08-14T20:45:35.167Z"
   },
   {
    "duration": 1273,
    "start_time": "2021-08-14T20:45:35.194Z"
   },
   {
    "duration": 45,
    "start_time": "2021-08-14T20:45:36.469Z"
   },
   {
    "duration": 871,
    "start_time": "2021-08-14T20:45:36.516Z"
   },
   {
    "duration": 37,
    "start_time": "2021-08-14T20:45:37.389Z"
   },
   {
    "duration": 8,
    "start_time": "2021-08-14T20:45:37.428Z"
   },
   {
    "duration": 2034,
    "start_time": "2021-08-14T20:45:37.438Z"
   },
   {
    "duration": 35,
    "start_time": "2021-08-14T20:45:39.475Z"
   },
   {
    "duration": 1143,
    "start_time": "2021-08-14T20:45:39.512Z"
   },
   {
    "duration": 29,
    "start_time": "2021-08-14T20:45:40.658Z"
   },
   {
    "duration": 547,
    "start_time": "2021-08-14T20:45:40.689Z"
   },
   {
    "duration": 8,
    "start_time": "2021-08-14T20:45:41.238Z"
   },
   {
    "duration": 24,
    "start_time": "2021-08-14T20:45:41.249Z"
   },
   {
    "duration": 1499,
    "start_time": "2021-08-14T20:45:41.276Z"
   },
   {
    "duration": 8,
    "start_time": "2021-08-14T20:45:42.777Z"
   },
   {
    "duration": 13,
    "start_time": "2021-08-14T20:45:42.788Z"
   },
   {
    "duration": 1280,
    "start_time": "2021-08-14T20:45:42.804Z"
   },
   {
    "duration": 19,
    "start_time": "2021-08-14T20:45:44.086Z"
   },
   {
    "duration": 565,
    "start_time": "2021-08-14T20:45:44.107Z"
   },
   {
    "duration": 10,
    "start_time": "2021-08-14T20:45:44.674Z"
   },
   {
    "duration": 14,
    "start_time": "2021-08-14T20:45:44.686Z"
   },
   {
    "duration": 9,
    "start_time": "2021-08-14T20:45:44.703Z"
   },
   {
    "duration": 10,
    "start_time": "2021-08-14T20:45:44.714Z"
   },
   {
    "duration": 10,
    "start_time": "2021-08-14T20:45:44.767Z"
   },
   {
    "duration": 14,
    "start_time": "2021-08-14T20:45:44.779Z"
   },
   {
    "duration": 10,
    "start_time": "2021-08-14T20:45:44.795Z"
   },
   {
    "duration": 9,
    "start_time": "2021-08-14T20:45:44.807Z"
   },
   {
    "duration": 49,
    "start_time": "2021-08-14T20:45:44.819Z"
   },
   {
    "duration": 13,
    "start_time": "2021-08-14T20:45:44.870Z"
   },
   {
    "duration": 10,
    "start_time": "2021-08-14T20:45:44.885Z"
   },
   {
    "duration": 17,
    "start_time": "2021-08-14T20:45:44.897Z"
   },
   {
    "duration": 54,
    "start_time": "2021-08-14T20:45:44.917Z"
   },
   {
    "duration": 10,
    "start_time": "2021-08-14T20:45:44.974Z"
   },
   {
    "duration": 1202,
    "start_time": "2021-08-14T20:46:46.786Z"
   },
   {
    "duration": -162,
    "start_time": "2021-08-14T20:46:48.153Z"
   },
   {
    "duration": 33,
    "start_time": "2021-08-14T20:46:58.315Z"
   },
   {
    "duration": 1036,
    "start_time": "2021-08-14T20:46:59.623Z"
   },
   {
    "duration": 29,
    "start_time": "2021-08-14T20:48:48.591Z"
   },
   {
    "duration": 18,
    "start_time": "2021-08-14T20:53:35.464Z"
   },
   {
    "duration": 657,
    "start_time": "2021-08-14T20:53:36.067Z"
   },
   {
    "duration": 19,
    "start_time": "2021-08-14T20:53:49.224Z"
   },
   {
    "duration": 569,
    "start_time": "2021-08-14T20:54:52.071Z"
   },
   {
    "duration": 88,
    "start_time": "2021-08-14T20:58:52.399Z"
   },
   {
    "duration": 97,
    "start_time": "2021-08-14T20:59:18.703Z"
   },
   {
    "duration": 20,
    "start_time": "2021-08-14T21:01:45.182Z"
   },
   {
    "duration": 545,
    "start_time": "2021-08-14T21:01:45.462Z"
   },
   {
    "duration": 10884,
    "start_time": "2021-08-14T21:48:32.596Z"
   },
   {
    "duration": 4,
    "start_time": "2021-08-14T21:48:43.483Z"
   },
   {
    "duration": 51,
    "start_time": "2021-08-14T21:48:43.490Z"
   },
   {
    "duration": 40,
    "start_time": "2021-08-14T21:48:43.543Z"
   },
   {
    "duration": 5,
    "start_time": "2021-08-14T21:48:43.585Z"
   },
   {
    "duration": 17,
    "start_time": "2021-08-14T21:48:43.592Z"
   },
   {
    "duration": 6,
    "start_time": "2021-08-14T21:48:43.612Z"
   },
   {
    "duration": 3,
    "start_time": "2021-08-14T21:48:43.622Z"
   },
   {
    "duration": 6,
    "start_time": "2021-08-14T21:48:43.668Z"
   },
   {
    "duration": 15,
    "start_time": "2021-08-14T21:48:43.676Z"
   },
   {
    "duration": 7,
    "start_time": "2021-08-14T21:48:43.693Z"
   },
   {
    "duration": 14,
    "start_time": "2021-08-14T21:48:43.702Z"
   },
   {
    "duration": 66,
    "start_time": "2021-08-14T21:48:43.718Z"
   },
   {
    "duration": 12,
    "start_time": "2021-08-14T21:48:43.787Z"
   },
   {
    "duration": 17,
    "start_time": "2021-08-14T21:48:43.802Z"
   },
   {
    "duration": 58,
    "start_time": "2021-08-14T21:48:43.822Z"
   },
   {
    "duration": 6,
    "start_time": "2021-08-14T21:48:43.882Z"
   },
   {
    "duration": 5,
    "start_time": "2021-08-14T21:48:43.891Z"
   },
   {
    "duration": 205,
    "start_time": "2021-08-14T21:48:43.899Z"
   },
   {
    "duration": 6,
    "start_time": "2021-08-14T21:48:44.107Z"
   },
   {
    "duration": 10,
    "start_time": "2021-08-14T21:48:44.116Z"
   },
   {
    "duration": 10,
    "start_time": "2021-08-14T21:48:44.129Z"
   },
   {
    "duration": 37,
    "start_time": "2021-08-14T21:48:44.171Z"
   },
   {
    "duration": 10,
    "start_time": "2021-08-14T21:48:44.212Z"
   },
   {
    "duration": 55,
    "start_time": "2021-08-14T21:48:44.225Z"
   },
   {
    "duration": 28,
    "start_time": "2021-08-14T21:48:44.282Z"
   },
   {
    "duration": 706,
    "start_time": "2021-08-14T21:48:44.313Z"
   },
   {
    "duration": 1023,
    "start_time": "2021-08-14T21:48:45.021Z"
   },
   {
    "duration": 35,
    "start_time": "2021-08-14T21:48:46.047Z"
   },
   {
    "duration": 889,
    "start_time": "2021-08-14T21:48:46.085Z"
   },
   {
    "duration": 44,
    "start_time": "2021-08-14T21:48:46.977Z"
   },
   {
    "duration": 798,
    "start_time": "2021-08-14T21:48:47.025Z"
   },
   {
    "duration": 62,
    "start_time": "2021-08-14T21:48:47.826Z"
   },
   {
    "duration": 10,
    "start_time": "2021-08-14T21:48:47.891Z"
   },
   {
    "duration": 2073,
    "start_time": "2021-08-14T21:48:47.904Z"
   },
   {
    "duration": 100,
    "start_time": "2021-08-14T21:48:49.980Z"
   },
   {
    "duration": 1127,
    "start_time": "2021-08-14T21:48:50.082Z"
   },
   {
    "duration": 25,
    "start_time": "2021-08-14T21:48:51.212Z"
   },
   {
    "duration": 560,
    "start_time": "2021-08-14T21:48:51.239Z"
   },
   {
    "duration": 8,
    "start_time": "2021-08-14T21:48:51.801Z"
   },
   {
    "duration": 17,
    "start_time": "2021-08-14T21:48:51.811Z"
   },
   {
    "duration": 53,
    "start_time": "2021-08-14T21:48:51.830Z"
   },
   {
    "duration": 1374,
    "start_time": "2021-08-14T21:48:51.885Z"
   },
   {
    "duration": 9,
    "start_time": "2021-08-14T21:48:53.261Z"
   },
   {
    "duration": 14,
    "start_time": "2021-08-14T21:48:53.273Z"
   },
   {
    "duration": 1255,
    "start_time": "2021-08-14T21:48:53.290Z"
   },
   {
    "duration": 30,
    "start_time": "2021-08-14T21:48:54.548Z"
   },
   {
    "duration": 551,
    "start_time": "2021-08-14T21:48:54.581Z"
   },
   {
    "duration": 586,
    "start_time": "2021-08-14T21:48:55.135Z"
   },
   {
    "duration": 9,
    "start_time": "2021-08-14T21:48:55.723Z"
   },
   {
    "duration": 12,
    "start_time": "2021-08-14T21:48:55.734Z"
   },
   {
    "duration": 9,
    "start_time": "2021-08-14T21:48:55.768Z"
   },
   {
    "duration": 10,
    "start_time": "2021-08-14T21:48:55.779Z"
   },
   {
    "duration": 10,
    "start_time": "2021-08-14T21:48:55.791Z"
   },
   {
    "duration": 12,
    "start_time": "2021-08-14T21:48:55.804Z"
   },
   {
    "duration": 52,
    "start_time": "2021-08-14T21:48:55.818Z"
   },
   {
    "duration": 10,
    "start_time": "2021-08-14T21:48:55.873Z"
   },
   {
    "duration": 10,
    "start_time": "2021-08-14T21:48:55.885Z"
   },
   {
    "duration": 15,
    "start_time": "2021-08-14T21:48:55.898Z"
   },
   {
    "duration": 8,
    "start_time": "2021-08-14T21:48:55.915Z"
   },
   {
    "duration": 17,
    "start_time": "2021-08-14T21:48:55.968Z"
   },
   {
    "duration": 9,
    "start_time": "2021-08-14T21:48:55.987Z"
   },
   {
    "duration": 12,
    "start_time": "2021-08-14T21:48:55.998Z"
   },
   {
    "duration": 8,
    "start_time": "2021-08-14T21:49:19.432Z"
   },
   {
    "duration": 314,
    "start_time": "2021-08-15T10:51:47.994Z"
   },
   {
    "duration": 18266,
    "start_time": "2021-08-15T10:51:51.654Z"
   },
   {
    "duration": 4,
    "start_time": "2021-08-15T10:52:09.923Z"
   },
   {
    "duration": 51,
    "start_time": "2021-08-15T10:52:09.932Z"
   },
   {
    "duration": 43,
    "start_time": "2021-08-15T10:52:09.986Z"
   },
   {
    "duration": 5,
    "start_time": "2021-08-15T10:52:10.033Z"
   },
   {
    "duration": 23,
    "start_time": "2021-08-15T10:52:10.041Z"
   },
   {
    "duration": 10,
    "start_time": "2021-08-15T10:52:10.099Z"
   },
   {
    "duration": 11,
    "start_time": "2021-08-15T10:52:10.112Z"
   },
   {
    "duration": 8,
    "start_time": "2021-08-15T10:52:10.128Z"
   },
   {
    "duration": 12,
    "start_time": "2021-08-15T10:52:10.140Z"
   },
   {
    "duration": 8,
    "start_time": "2021-08-15T10:52:10.154Z"
   },
   {
    "duration": 14,
    "start_time": "2021-08-15T10:52:10.201Z"
   },
   {
    "duration": 32,
    "start_time": "2021-08-15T10:52:10.217Z"
   },
   {
    "duration": 11,
    "start_time": "2021-08-15T10:52:10.252Z"
   },
   {
    "duration": 18,
    "start_time": "2021-08-15T10:52:10.300Z"
   },
   {
    "duration": 17,
    "start_time": "2021-08-15T10:52:10.320Z"
   },
   {
    "duration": 6,
    "start_time": "2021-08-15T10:52:10.340Z"
   },
   {
    "duration": 5,
    "start_time": "2021-08-15T10:52:10.349Z"
   },
   {
    "duration": 228,
    "start_time": "2021-08-15T10:52:10.356Z"
   },
   {
    "duration": 6,
    "start_time": "2021-08-15T10:52:10.586Z"
   },
   {
    "duration": 13,
    "start_time": "2021-08-15T10:52:10.594Z"
   },
   {
    "duration": 10,
    "start_time": "2021-08-15T10:52:10.610Z"
   },
   {
    "duration": 36,
    "start_time": "2021-08-15T10:52:10.622Z"
   },
   {
    "duration": 47,
    "start_time": "2021-08-15T10:52:10.661Z"
   },
   {
    "duration": 28,
    "start_time": "2021-08-15T10:52:10.710Z"
   },
   {
    "duration": 59,
    "start_time": "2021-08-15T10:52:10.741Z"
   },
   {
    "duration": 800,
    "start_time": "2021-08-15T10:52:10.806Z"
   },
   {
    "duration": 1021,
    "start_time": "2021-08-15T10:52:11.610Z"
   },
   {
    "duration": 24,
    "start_time": "2021-08-15T10:52:12.633Z"
   },
   {
    "duration": 868,
    "start_time": "2021-08-15T10:52:12.660Z"
   },
   {
    "duration": 42,
    "start_time": "2021-08-15T10:52:13.530Z"
   },
   {
    "duration": 750,
    "start_time": "2021-08-15T10:52:13.574Z"
   },
   {
    "duration": 37,
    "start_time": "2021-08-15T10:52:14.327Z"
   },
   {
    "duration": 8,
    "start_time": "2021-08-15T10:52:14.366Z"
   },
   {
    "duration": 2349,
    "start_time": "2021-08-15T10:52:14.400Z"
   },
   {
    "duration": 101,
    "start_time": "2021-08-15T10:52:16.800Z"
   },
   {
    "duration": 1012,
    "start_time": "2021-08-15T10:52:16.904Z"
   },
   {
    "duration": 24,
    "start_time": "2021-08-15T10:52:17.919Z"
   },
   {
    "duration": 529,
    "start_time": "2021-08-15T10:52:17.945Z"
   },
   {
    "duration": 8,
    "start_time": "2021-08-15T10:52:18.477Z"
   },
   {
    "duration": 11,
    "start_time": "2021-08-15T10:52:18.500Z"
   },
   {
    "duration": 24,
    "start_time": "2021-08-15T10:52:18.514Z"
   },
   {
    "duration": 1420,
    "start_time": "2021-08-15T10:52:18.541Z"
   },
   {
    "duration": 13,
    "start_time": "2021-08-15T10:52:19.964Z"
   },
   {
    "duration": 31,
    "start_time": "2021-08-15T10:52:19.980Z"
   },
   {
    "duration": 1145,
    "start_time": "2021-08-15T10:52:20.014Z"
   },
   {
    "duration": 38,
    "start_time": "2021-08-15T10:52:21.162Z"
   },
   {
    "duration": 550,
    "start_time": "2021-08-15T10:52:21.203Z"
   },
   {
    "duration": 553,
    "start_time": "2021-08-15T10:52:21.756Z"
   },
   {
    "duration": 9,
    "start_time": "2021-08-15T10:52:22.311Z"
   },
   {
    "duration": 15,
    "start_time": "2021-08-15T10:52:22.322Z"
   },
   {
    "duration": 8,
    "start_time": "2021-08-15T10:52:22.340Z"
   },
   {
    "duration": 10,
    "start_time": "2021-08-15T10:52:22.350Z"
   },
   {
    "duration": 46,
    "start_time": "2021-08-15T10:52:22.362Z"
   },
   {
    "duration": 11,
    "start_time": "2021-08-15T10:52:22.411Z"
   },
   {
    "duration": 9,
    "start_time": "2021-08-15T10:52:22.424Z"
   },
   {
    "duration": 9,
    "start_time": "2021-08-15T10:52:22.435Z"
   },
   {
    "duration": 55,
    "start_time": "2021-08-15T10:52:22.446Z"
   },
   {
    "duration": 14,
    "start_time": "2021-08-15T10:52:22.503Z"
   },
   {
    "duration": 8,
    "start_time": "2021-08-15T10:52:22.519Z"
   },
   {
    "duration": 16,
    "start_time": "2021-08-15T10:52:22.530Z"
   },
   {
    "duration": 7,
    "start_time": "2021-08-15T10:52:22.548Z"
   },
   {
    "duration": 9,
    "start_time": "2021-08-15T10:52:22.601Z"
   },
   {
    "duration": 88,
    "start_time": "2021-08-15T10:52:51.599Z"
   },
   {
    "duration": 610,
    "start_time": "2021-08-15T10:52:54.483Z"
   },
   {
    "duration": 606,
    "start_time": "2021-08-15T10:53:00.385Z"
   },
   {
    "duration": 744,
    "start_time": "2021-08-15T10:53:38.434Z"
   },
   {
    "duration": 693,
    "start_time": "2021-08-15T10:53:45.144Z"
   },
   {
    "duration": 630,
    "start_time": "2021-08-15T10:53:49.318Z"
   },
   {
    "duration": 604,
    "start_time": "2021-08-15T10:55:05.096Z"
   },
   {
    "duration": 93,
    "start_time": "2021-08-15T10:56:17.388Z"
   },
   {
    "duration": 995,
    "start_time": "2021-08-15T10:56:18.944Z"
   },
   {
    "duration": 607,
    "start_time": "2021-08-15T10:56:26.776Z"
   },
   {
    "duration": 613,
    "start_time": "2021-08-15T10:56:32.004Z"
   },
   {
    "duration": 582,
    "start_time": "2021-08-15T10:56:45.673Z"
   },
   {
    "duration": 766,
    "start_time": "2021-08-15T10:57:46.814Z"
   },
   {
    "duration": 765,
    "start_time": "2021-08-15T10:57:49.539Z"
   },
   {
    "duration": 609,
    "start_time": "2021-08-15T10:57:55.091Z"
   },
   {
    "duration": 598,
    "start_time": "2021-08-15T10:58:04.159Z"
   },
   {
    "duration": 605,
    "start_time": "2021-08-15T10:58:09.089Z"
   },
   {
    "duration": 598,
    "start_time": "2021-08-15T10:59:31.298Z"
   },
   {
    "duration": 86,
    "start_time": "2021-08-15T11:00:02.086Z"
   },
   {
    "duration": 100,
    "start_time": "2021-08-15T11:06:29.347Z"
   }
  ],
  "kernelspec": {
   "display_name": "Python 3 (ipykernel)",
   "language": "python",
   "name": "python3"
  },
  "language_info": {
   "codemirror_mode": {
    "name": "ipython",
    "version": 3
   },
   "file_extension": ".py",
   "mimetype": "text/x-python",
   "name": "python",
   "nbconvert_exporter": "python",
   "pygments_lexer": "ipython3",
   "version": "3.9.7"
  },
  "latex_envs": {
   "LaTeX_envs_menu_present": true,
   "autoclose": false,
   "autocomplete": true,
   "bibliofile": "biblio.bib",
   "cite_by": "apalike",
   "current_citInitial": 1,
   "eqLabelWithNumbers": true,
   "eqNumInitial": 1,
   "hotkeys": {
    "equation": "Ctrl-E",
    "itemize": "Ctrl-I"
   },
   "labels_anchors": false,
   "latex_user_defs": false,
   "report_style_numbering": false,
   "user_envs_cfg": false
  },
  "toc": {
   "base_numbering": 1,
   "nav_menu": {},
   "number_sections": true,
   "sideBar": true,
   "skip_h1_title": true,
   "title_cell": "Table of Contents",
   "title_sidebar": "Contents",
   "toc_cell": false,
   "toc_position": {
    "height": "calc(100% - 180px)",
    "left": "10px",
    "top": "150px",
    "width": "165px"
   },
   "toc_section_display": true,
   "toc_window_display": true
  }
 },
 "nbformat": 4,
 "nbformat_minor": 2
}
