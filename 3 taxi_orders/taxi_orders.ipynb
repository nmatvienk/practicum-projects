{
 "cells": [
  {
   "cell_type": "markdown",
   "metadata": {},
   "source": [
    "# Предсказание количества заказов такси"
   ]
  },
  {
   "cell_type": "markdown",
   "metadata": {},
   "source": [
    "Компания «Чётенькое такси» собрала исторические данные о заказах такси в аэропортах. Чтобы привлекать больше водителей в период пиковой нагрузки, нужно спрогнозировать количество заказов такси на следующий час. Постройте модель для такого предсказания."
   ]
  },
  {
   "cell_type": "code",
   "execution_count": 1,
   "metadata": {},
   "outputs": [],
   "source": [
    "import pandas as pd\n",
    "import numpy as np\n",
    "import matplotlib.pyplot as plt\n",
    "import warnings\n",
    "warnings.filterwarnings(action = 'ignore')\n",
    "\n",
    "from sklearn.model_selection import GridSearchCV\n",
    "from sklearn.model_selection import train_test_split\n",
    "from sklearn.model_selection import TimeSeriesSplit\n",
    "\n",
    "from sklearn.tree import DecisionTreeRegressor \n",
    "from sklearn.ensemble import RandomForestRegressor \n",
    "from sklearn.linear_model import LinearRegression\n",
    "\n",
    "from sklearn.preprocessing import StandardScaler\n",
    "from sklearn.metrics import make_scorer\n",
    "from sklearn.metrics import mean_squared_error\n",
    "\n",
    "from statsmodels.tsa.seasonal import seasonal_decompose \n",
    "from statsmodels.tsa.stattools import adfuller\n",
    "from statsmodels.graphics.tsaplots import plot_acf, plot_pacf\n",
    "\n",
    "from catboost import CatBoostRegressor\n",
    "from lightgbm import LGBMRegressor"
   ]
  },
  {
   "cell_type": "code",
   "execution_count": 2,
   "metadata": {},
   "outputs": [],
   "source": [
    "# настроим отображение формата float\n",
    "pd.set_option('display.float_format', '{:.2f}'.format)\n",
    "\n",
    "# настроим отображение всех столбцов таблиц\n",
    "pd.set_option('display.max_columns', None)"
   ]
  },
  {
   "cell_type": "markdown",
   "metadata": {},
   "source": [
    "## Подготовка и анализ"
   ]
  },
  {
   "cell_type": "markdown",
   "metadata": {},
   "source": [
    "### Загрузка данных"
   ]
  },
  {
   "cell_type": "markdown",
   "metadata": {},
   "source": [
    "Загрузим даннные. В качестве индексов запишем столбец дат и времени - `datetime`, а также при импорте данных определим его тип как тип дат. "
   ]
  },
  {
   "cell_type": "code",
   "execution_count": 3,
   "metadata": {},
   "outputs": [
    {
     "data": {
      "text/html": [
       "<div>\n",
       "<style scoped>\n",
       "    .dataframe tbody tr th:only-of-type {\n",
       "        vertical-align: middle;\n",
       "    }\n",
       "\n",
       "    .dataframe tbody tr th {\n",
       "        vertical-align: top;\n",
       "    }\n",
       "\n",
       "    .dataframe thead th {\n",
       "        text-align: right;\n",
       "    }\n",
       "</style>\n",
       "<table border=\"1\" class=\"dataframe\">\n",
       "  <thead>\n",
       "    <tr style=\"text-align: right;\">\n",
       "      <th></th>\n",
       "      <th>num_orders</th>\n",
       "    </tr>\n",
       "    <tr>\n",
       "      <th>datetime</th>\n",
       "      <th></th>\n",
       "    </tr>\n",
       "  </thead>\n",
       "  <tbody>\n",
       "    <tr>\n",
       "      <td>2018-03-01 00:00:00</td>\n",
       "      <td>9</td>\n",
       "    </tr>\n",
       "    <tr>\n",
       "      <td>2018-03-01 00:10:00</td>\n",
       "      <td>14</td>\n",
       "    </tr>\n",
       "    <tr>\n",
       "      <td>2018-03-01 00:20:00</td>\n",
       "      <td>28</td>\n",
       "    </tr>\n",
       "    <tr>\n",
       "      <td>2018-03-01 00:30:00</td>\n",
       "      <td>20</td>\n",
       "    </tr>\n",
       "    <tr>\n",
       "      <td>2018-03-01 00:40:00</td>\n",
       "      <td>32</td>\n",
       "    </tr>\n",
       "  </tbody>\n",
       "</table>\n",
       "</div>"
      ],
      "text/plain": [
       "                     num_orders\n",
       "datetime                       \n",
       "2018-03-01 00:00:00           9\n",
       "2018-03-01 00:10:00          14\n",
       "2018-03-01 00:20:00          28\n",
       "2018-03-01 00:30:00          20\n",
       "2018-03-01 00:40:00          32"
      ]
     },
     "execution_count": 3,
     "metadata": {},
     "output_type": "execute_result"
    }
   ],
   "source": [
    "try:\n",
    "    data = pd.read_csv('/Users/anastasia/Documents/YandexPractikum/Спринт_12_Временные ряды/Проект_12/taxi.csv', \n",
    "                   parse_dates=[0], index_col=[0])\n",
    "except:\n",
    "    data = pd.read_csv('/datasets/taxi.csv', index_col=[0], parse_dates=[0])\n",
    "data.head()"
   ]
  },
  {
   "cell_type": "markdown",
   "metadata": {},
   "source": [
    "Отметим, что данные целочисленного формата `int`, а также, что в данных отсутствуют пропуски. "
   ]
  },
  {
   "cell_type": "code",
   "execution_count": 4,
   "metadata": {},
   "outputs": [
    {
     "name": "stdout",
     "output_type": "stream",
     "text": [
      "<class 'pandas.core.frame.DataFrame'>\n",
      "DatetimeIndex: 26496 entries, 2018-03-01 00:00:00 to 2018-08-31 23:50:00\n",
      "Data columns (total 1 columns):\n",
      "num_orders    26496 non-null int64\n",
      "dtypes: int64(1)\n",
      "memory usage: 414.0 KB\n"
     ]
    }
   ],
   "source": [
    "data.info()"
   ]
  },
  {
   "cell_type": "markdown",
   "metadata": {},
   "source": [
    "Также проверим, что соблюдена хронология: "
   ]
  },
  {
   "cell_type": "code",
   "execution_count": 5,
   "metadata": {},
   "outputs": [
    {
     "name": "stdout",
     "output_type": "stream",
     "text": [
      "True\n"
     ]
    }
   ],
   "source": [
    "print(data.index.is_monotonic)"
   ]
  },
  {
   "cell_type": "markdown",
   "metadata": {},
   "source": [
    "### Подготовка данных"
   ]
  },
  {
   "cell_type": "markdown",
   "metadata": {},
   "source": [
    "Ресемплируем выборку по одному часу и изучим ее:"
   ]
  },
  {
   "cell_type": "code",
   "execution_count": 6,
   "metadata": {},
   "outputs": [
    {
     "data": {
      "text/plain": [
       "[<matplotlib.lines.Line2D at 0x7f6b682df350>]"
      ]
     },
     "execution_count": 6,
     "metadata": {},
     "output_type": "execute_result"
    },
    {
     "data": {
      "image/png": "[encoded data removed]",
      "text/plain": [
       "<Figure size 1080x360 with 1 Axes>"
      ]
     },
     "metadata": {
      "needs_background": "light"
     },
     "output_type": "display_data"
    }
   ],
   "source": [
    "# ресемплируем\n",
    "data = data.resample('1H').sum()\n",
    "# визуализируем\n",
    "plt.figure(figsize=(15,5))\n",
    "plt.plot(data)"
   ]
  },
  {
   "cell_type": "code",
   "execution_count": 7,
   "metadata": {},
   "outputs": [
    {
     "data": {
      "text/html": [
       "<div>\n",
       "<style scoped>\n",
       "    .dataframe tbody tr th:only-of-type {\n",
       "        vertical-align: middle;\n",
       "    }\n",
       "\n",
       "    .dataframe tbody tr th {\n",
       "        vertical-align: top;\n",
       "    }\n",
       "\n",
       "    .dataframe thead th {\n",
       "        text-align: right;\n",
       "    }\n",
       "</style>\n",
       "<table border=\"1\" class=\"dataframe\">\n",
       "  <thead>\n",
       "    <tr style=\"text-align: right;\">\n",
       "      <th></th>\n",
       "      <th>num_orders</th>\n",
       "    </tr>\n",
       "  </thead>\n",
       "  <tbody>\n",
       "    <tr>\n",
       "      <td>count</td>\n",
       "      <td>4416.00</td>\n",
       "    </tr>\n",
       "    <tr>\n",
       "      <td>mean</td>\n",
       "      <td>84.42</td>\n",
       "    </tr>\n",
       "    <tr>\n",
       "      <td>std</td>\n",
       "      <td>45.02</td>\n",
       "    </tr>\n",
       "    <tr>\n",
       "      <td>min</td>\n",
       "      <td>0.00</td>\n",
       "    </tr>\n",
       "    <tr>\n",
       "      <td>25%</td>\n",
       "      <td>54.00</td>\n",
       "    </tr>\n",
       "    <tr>\n",
       "      <td>50%</td>\n",
       "      <td>78.00</td>\n",
       "    </tr>\n",
       "    <tr>\n",
       "      <td>75%</td>\n",
       "      <td>107.00</td>\n",
       "    </tr>\n",
       "    <tr>\n",
       "      <td>max</td>\n",
       "      <td>462.00</td>\n",
       "    </tr>\n",
       "  </tbody>\n",
       "</table>\n",
       "</div>"
      ],
      "text/plain": [
       "       num_orders\n",
       "count     4416.00\n",
       "mean        84.42\n",
       "std         45.02\n",
       "min          0.00\n",
       "25%         54.00\n",
       "50%         78.00\n",
       "75%        107.00\n",
       "max        462.00"
      ]
     },
     "execution_count": 7,
     "metadata": {},
     "output_type": "execute_result"
    }
   ],
   "source": [
    "# посмотрим описательную статистику\n",
    "data.describe()"
   ]
  },
  {
   "cell_type": "markdown",
   "metadata": {},
   "source": [
    "Можно отметить, что максимальное число заказов такси в аэропорт в час - 77, а среднее и медианное значение почти совпадают и составляют 13-14 вызовов. По характеристикам распределение напоминает нормальное. \n",
    "\n",
    "\n",
    "Проведем подготовку данных для возможности дальнейшего построения модели. Для начала посмотрим на стационарность данных и выделим такие компоненты ряда, как сезонность, тренд, шум:"
   ]
  },
  {
   "cell_type": "code",
   "execution_count": 8,
   "metadata": {},
   "outputs": [
    {
     "name": "stdout",
     "output_type": "stream",
     "text": [
      "0.02894005140261345\n"
     ]
    }
   ],
   "source": [
    "# При p < 0.05 ряд можно считать стационарным\n",
    "print(adfuller(data.loc[data['num_orders'].notnull(), 'num_orders'])[1])"
   ]
  },
  {
   "cell_type": "code",
   "execution_count": 9,
   "metadata": {},
   "outputs": [],
   "source": [
    "# разложим на тренд, сезонность и шум\n",
    "decomposed = seasonal_decompose(data['num_orders'])\n",
    "\n",
    "resid = decomposed.resid\n",
    "trend = decomposed.trend\n",
    "seasonal = decomposed.seasonal"
   ]
  },
  {
   "cell_type": "markdown",
   "metadata": {},
   "source": [
    "Чтобы оценить тренд и сезонность визуально, возьмем более короткий срез данных: "
   ]
  },
  {
   "cell_type": "code",
   "execution_count": 10,
   "metadata": {},
   "outputs": [],
   "source": [
    "# добавим скользящее среднее за 24 часа \n",
    "ma = data['num_orders'].rolling(24).mean()"
   ]
  },
  {
   "cell_type": "code",
   "execution_count": 11,
   "metadata": {},
   "outputs": [
    {
     "data": {
      "image/png": "[encoded data removed]",
      "text/plain": [
       "<Figure size 1080x360 with 1 Axes>"
      ]
     },
     "metadata": {
      "needs_background": "light"
     },
     "output_type": "display_data"
    },
    {
     "data": {
      "image/png": "[encoded data removed]",
      "text/plain": [
       "<Figure size 1080x360 with 1 Axes>"
      ]
     },
     "metadata": {
      "needs_background": "light"
     },
     "output_type": "display_data"
    },
    {
     "data": {
      "image/png": "[encoded data removed]",
      "text/plain": [
       "<Figure size 1080x360 with 1 Axes>"
      ]
     },
     "metadata": {
      "needs_background": "light"
     },
     "output_type": "display_data"
    }
   ],
   "source": [
    "# Напишим функцию для построения графиков. \n",
    "# На вход функция будет принимать ряд (в данном случае - компонент после разложения на тренд, сезонность и шум),\n",
    "# а также заголовок для каждого графика. На выходе функция возвращает три графика\n",
    "\n",
    "def plot_decomposition(var1, name):\n",
    "    plt.figure(figsize=(15,5))\n",
    "    var1.plot(ax=plt.gca())\n",
    "    ma['2018-03-01 00:00:00':'2018-03-05 00:00:00'].plot(ax=plt.gca())\n",
    "    plt.title(name, weight=\"heavy\")\n",
    "    plt.xlabel('')\n",
    "    plt.ylabel('')\n",
    "    plt.grid()\n",
    "    plt.show()\n",
    "    \n",
    "plot_decomposition(decomposed.resid['2018-03-01 00:00:00':'2018-03-05 00:00:00'], 'Остаток')\n",
    "plot_decomposition(decomposed.trend['2018-03-01 00:00:00':'2018-03-05 00:00:00'], 'Тренд')\n",
    "plot_decomposition(decomposed.seasonal['2018-03-01 00:00:00':'2018-03-05 00:00:00'], 'Сезонность')    "
   ]
  },
  {
   "cell_type": "markdown",
   "metadata": {},
   "source": [
    "Можем отметить, что наименьшее число заказов, совершается в 6 часов утра, а наибольше в 12 часов ночи. Здесь можно говорить о внутрисуточной сезонности\n",
    "\n",
    "Так как доступно данных меньше года, то сложно говорить о тренде, но предварительно можно предположить, что присутствует возрастающий тренд и проверить в дальнейшем. "
   ]
  },
  {
   "cell_type": "code",
   "execution_count": 12,
   "metadata": {},
   "outputs": [
    {
     "data": {
      "image/png": "[encoded data removed]",
      "text/plain": [
       "<Figure size 1080x360 with 1 Axes>"
      ]
     },
     "metadata": {
      "needs_background": "light"
     },
     "output_type": "display_data"
    },
    {
     "data": {
      "image/png": "[encoded data removed]",
      "text/plain": [
       "<Figure size 1080x360 with 1 Axes>"
      ]
     },
     "metadata": {
      "needs_background": "light"
     },
     "output_type": "display_data"
    },
    {
     "data": {
      "image/png": "[encoded data removed]",
      "text/plain": [
       "<Figure size 1080x360 with 1 Axes>"
      ]
     },
     "metadata": {
      "needs_background": "light"
     },
     "output_type": "display_data"
    }
   ],
   "source": [
    "def plot_decomposition(var1, name):\n",
    "    plt.figure(figsize=(15,5))\n",
    "    var1.plot(ax=plt.gca())\n",
    "    #ma['2018-03-01 00:00:00':'2018-08-05 00:00:00'].plot(ax=plt.gca())\n",
    "    plt.title(name, weight=\"heavy\")\n",
    "    plt.xlabel('')\n",
    "    plt.ylabel('')\n",
    "    plt.grid()\n",
    "    plt.show()\n",
    "    \n",
    "plot_decomposition(decomposed.resid, 'Остаток')\n",
    "plot_decomposition(decomposed.trend, 'Тренд')\n",
    "plot_decomposition(decomposed.seasonal, 'Сезонность')    "
   ]
  },
  {
   "cell_type": "markdown",
   "metadata": {},
   "source": [
    "### Новые переменные "
   ]
  },
  {
   "cell_type": "markdown",
   "metadata": {},
   "source": [
    "Далее создадим переменные, которые могут помочь в объяснении и прогнозировании будущих значений о заказах такси. Среди этих данных будут актуальны дамми переменные для дня часа и недели, а также лаговые значения. \n",
    "\n",
    "Чтобы определить число необходимых лагов, которые могут помочь в прогнозировании переменной, посмотрим на автокорреляционную и частную автокорреляционную функции. Рассмотрим 10 лагов."
   ]
  },
  {
   "cell_type": "code",
   "execution_count": 15,
   "metadata": {},
   "outputs": [
    {
     "data": {
      "image/png": "[encoded data removed]",
      "text/plain": [
       "<Figure size 432x288 with 1 Axes>"
      ]
     },
     "execution_count": 15,
     "metadata": {},
     "output_type": "execute_result"
    },
    {
     "data": {
      "image/png": "[encoded data removed]",
      "text/plain": [
       "<Figure size 432x288 with 1 Axes>"
      ]
     },
     "metadata": {
      "needs_background": "light"
     },
     "output_type": "display_data"
    },
    {
     "data": {
      "image/png": "[encoded data removed]",
      "text/plain": [
       "<Figure size 432x288 with 1 Axes>"
      ]
     },
     "metadata": {
      "needs_background": "light"
     },
     "output_type": "display_data"
    }
   ],
   "source": [
    "plot_acf(data['num_orders'], lags=10)\n",
    "plot_pacf(data['num_orders'], lags=10)"
   ]
  },
  {
   "cell_type": "code",
   "execution_count": 16,
   "metadata": {},
   "outputs": [],
   "source": [
    "def make_features(data, max_lag):\n",
    "    data['hour'] = data.index.hour\n",
    "    #data['month'] = data.index.month\n",
    "    data['dayofweek'] = data.index.dayofweek\n",
    "    \n",
    "    for lag in range(1, max_lag + 1):\n",
    "        data['lag_{}'.format(lag)] = data['num_orders'].shift(lag)"
   ]
  },
  {
   "cell_type": "code",
   "execution_count": 17,
   "metadata": {},
   "outputs": [
    {
     "data": {
      "text/html": [
       "<div>\n",
       "<style scoped>\n",
       "    .dataframe tbody tr th:only-of-type {\n",
       "        vertical-align: middle;\n",
       "    }\n",
       "\n",
       "    .dataframe tbody tr th {\n",
       "        vertical-align: top;\n",
       "    }\n",
       "\n",
       "    .dataframe thead th {\n",
       "        text-align: right;\n",
       "    }\n",
       "</style>\n",
       "<table border=\"1\" class=\"dataframe\">\n",
       "  <thead>\n",
       "    <tr style=\"text-align: right;\">\n",
       "      <th></th>\n",
       "      <th>num_orders</th>\n",
       "      <th>hour</th>\n",
       "      <th>dayofweek</th>\n",
       "      <th>lag_1</th>\n",
       "      <th>lag_2</th>\n",
       "      <th>lag_3</th>\n",
       "    </tr>\n",
       "    <tr>\n",
       "      <th>datetime</th>\n",
       "      <th></th>\n",
       "      <th></th>\n",
       "      <th></th>\n",
       "      <th></th>\n",
       "      <th></th>\n",
       "      <th></th>\n",
       "    </tr>\n",
       "  </thead>\n",
       "  <tbody>\n",
       "    <tr>\n",
       "      <td>2018-03-01 00:00:00</td>\n",
       "      <td>124</td>\n",
       "      <td>0</td>\n",
       "      <td>3</td>\n",
       "      <td>nan</td>\n",
       "      <td>nan</td>\n",
       "      <td>nan</td>\n",
       "    </tr>\n",
       "    <tr>\n",
       "      <td>2018-03-01 01:00:00</td>\n",
       "      <td>85</td>\n",
       "      <td>1</td>\n",
       "      <td>3</td>\n",
       "      <td>124.00</td>\n",
       "      <td>nan</td>\n",
       "      <td>nan</td>\n",
       "    </tr>\n",
       "    <tr>\n",
       "      <td>2018-03-01 02:00:00</td>\n",
       "      <td>71</td>\n",
       "      <td>2</td>\n",
       "      <td>3</td>\n",
       "      <td>85.00</td>\n",
       "      <td>124.00</td>\n",
       "      <td>nan</td>\n",
       "    </tr>\n",
       "    <tr>\n",
       "      <td>2018-03-01 03:00:00</td>\n",
       "      <td>66</td>\n",
       "      <td>3</td>\n",
       "      <td>3</td>\n",
       "      <td>71.00</td>\n",
       "      <td>85.00</td>\n",
       "      <td>124.00</td>\n",
       "    </tr>\n",
       "    <tr>\n",
       "      <td>2018-03-01 04:00:00</td>\n",
       "      <td>43</td>\n",
       "      <td>4</td>\n",
       "      <td>3</td>\n",
       "      <td>66.00</td>\n",
       "      <td>71.00</td>\n",
       "      <td>85.00</td>\n",
       "    </tr>\n",
       "  </tbody>\n",
       "</table>\n",
       "</div>"
      ],
      "text/plain": [
       "                     num_orders  hour  dayofweek  lag_1  lag_2  lag_3\n",
       "datetime                                                             \n",
       "2018-03-01 00:00:00         124     0          3    nan    nan    nan\n",
       "2018-03-01 01:00:00          85     1          3 124.00    nan    nan\n",
       "2018-03-01 02:00:00          71     2          3  85.00 124.00    nan\n",
       "2018-03-01 03:00:00          66     3          3  71.00  85.00 124.00\n",
       "2018-03-01 04:00:00          43     4          3  66.00  71.00  85.00"
      ]
     },
     "execution_count": 17,
     "metadata": {},
     "output_type": "execute_result"
    }
   ],
   "source": [
    "make_features(data, 3)\n",
    "data.head()"
   ]
  },
  {
   "cell_type": "code",
   "execution_count": 18,
   "metadata": {},
   "outputs": [],
   "source": [
    "hour = pd.get_dummies(data['hour'], drop_first=True, prefix='hour')\n",
    "day = pd.get_dummies(data['dayofweek'], drop_first=True, prefix='day')\n",
    "\n",
    "data = data.join(hour)\n",
    "data = data.join(day)"
   ]
  },
  {
   "cell_type": "code",
   "execution_count": 19,
   "metadata": {},
   "outputs": [
    {
     "data": {
      "text/html": [
       "<div>\n",
       "<style scoped>\n",
       "    .dataframe tbody tr th:only-of-type {\n",
       "        vertical-align: middle;\n",
       "    }\n",
       "\n",
       "    .dataframe tbody tr th {\n",
       "        vertical-align: top;\n",
       "    }\n",
       "\n",
       "    .dataframe thead th {\n",
       "        text-align: right;\n",
       "    }\n",
       "</style>\n",
       "<table border=\"1\" class=\"dataframe\">\n",
       "  <thead>\n",
       "    <tr style=\"text-align: right;\">\n",
       "      <th></th>\n",
       "      <th>num_orders</th>\n",
       "      <th>hour</th>\n",
       "      <th>dayofweek</th>\n",
       "      <th>lag_1</th>\n",
       "      <th>lag_2</th>\n",
       "      <th>lag_3</th>\n",
       "      <th>hour_1</th>\n",
       "      <th>hour_2</th>\n",
       "      <th>hour_3</th>\n",
       "      <th>hour_4</th>\n",
       "      <th>hour_5</th>\n",
       "      <th>hour_6</th>\n",
       "      <th>hour_7</th>\n",
       "      <th>hour_8</th>\n",
       "      <th>hour_9</th>\n",
       "      <th>hour_10</th>\n",
       "      <th>hour_11</th>\n",
       "      <th>hour_12</th>\n",
       "      <th>hour_13</th>\n",
       "      <th>hour_14</th>\n",
       "      <th>hour_15</th>\n",
       "      <th>hour_16</th>\n",
       "      <th>hour_17</th>\n",
       "      <th>hour_18</th>\n",
       "      <th>hour_19</th>\n",
       "      <th>hour_20</th>\n",
       "      <th>hour_21</th>\n",
       "      <th>hour_22</th>\n",
       "      <th>hour_23</th>\n",
       "      <th>day_1</th>\n",
       "      <th>day_2</th>\n",
       "      <th>day_3</th>\n",
       "      <th>day_4</th>\n",
       "      <th>day_5</th>\n",
       "      <th>day_6</th>\n",
       "    </tr>\n",
       "    <tr>\n",
       "      <th>datetime</th>\n",
       "      <th></th>\n",
       "      <th></th>\n",
       "      <th></th>\n",
       "      <th></th>\n",
       "      <th></th>\n",
       "      <th></th>\n",
       "      <th></th>\n",
       "      <th></th>\n",
       "      <th></th>\n",
       "      <th></th>\n",
       "      <th></th>\n",
       "      <th></th>\n",
       "      <th></th>\n",
       "      <th></th>\n",
       "      <th></th>\n",
       "      <th></th>\n",
       "      <th></th>\n",
       "      <th></th>\n",
       "      <th></th>\n",
       "      <th></th>\n",
       "      <th></th>\n",
       "      <th></th>\n",
       "      <th></th>\n",
       "      <th></th>\n",
       "      <th></th>\n",
       "      <th></th>\n",
       "      <th></th>\n",
       "      <th></th>\n",
       "      <th></th>\n",
       "      <th></th>\n",
       "      <th></th>\n",
       "      <th></th>\n",
       "      <th></th>\n",
       "      <th></th>\n",
       "      <th></th>\n",
       "    </tr>\n",
       "  </thead>\n",
       "  <tbody>\n",
       "    <tr>\n",
       "      <td>2018-03-01 00:00:00</td>\n",
       "      <td>124</td>\n",
       "      <td>0</td>\n",
       "      <td>3</td>\n",
       "      <td>nan</td>\n",
       "      <td>nan</td>\n",
       "      <td>nan</td>\n",
       "      <td>0</td>\n",
       "      <td>0</td>\n",
       "      <td>0</td>\n",
       "      <td>0</td>\n",
       "      <td>0</td>\n",
       "      <td>0</td>\n",
       "      <td>0</td>\n",
       "      <td>0</td>\n",
       "      <td>0</td>\n",
       "      <td>0</td>\n",
       "      <td>0</td>\n",
       "      <td>0</td>\n",
       "      <td>0</td>\n",
       "      <td>0</td>\n",
       "      <td>0</td>\n",
       "      <td>0</td>\n",
       "      <td>0</td>\n",
       "      <td>0</td>\n",
       "      <td>0</td>\n",
       "      <td>0</td>\n",
       "      <td>0</td>\n",
       "      <td>0</td>\n",
       "      <td>0</td>\n",
       "      <td>0</td>\n",
       "      <td>0</td>\n",
       "      <td>1</td>\n",
       "      <td>0</td>\n",
       "      <td>0</td>\n",
       "      <td>0</td>\n",
       "    </tr>\n",
       "    <tr>\n",
       "      <td>2018-03-01 01:00:00</td>\n",
       "      <td>85</td>\n",
       "      <td>1</td>\n",
       "      <td>3</td>\n",
       "      <td>124.00</td>\n",
       "      <td>nan</td>\n",
       "      <td>nan</td>\n",
       "      <td>1</td>\n",
       "      <td>0</td>\n",
       "      <td>0</td>\n",
       "      <td>0</td>\n",
       "      <td>0</td>\n",
       "      <td>0</td>\n",
       "      <td>0</td>\n",
       "      <td>0</td>\n",
       "      <td>0</td>\n",
       "      <td>0</td>\n",
       "      <td>0</td>\n",
       "      <td>0</td>\n",
       "      <td>0</td>\n",
       "      <td>0</td>\n",
       "      <td>0</td>\n",
       "      <td>0</td>\n",
       "      <td>0</td>\n",
       "      <td>0</td>\n",
       "      <td>0</td>\n",
       "      <td>0</td>\n",
       "      <td>0</td>\n",
       "      <td>0</td>\n",
       "      <td>0</td>\n",
       "      <td>0</td>\n",
       "      <td>0</td>\n",
       "      <td>1</td>\n",
       "      <td>0</td>\n",
       "      <td>0</td>\n",
       "      <td>0</td>\n",
       "    </tr>\n",
       "    <tr>\n",
       "      <td>2018-03-01 02:00:00</td>\n",
       "      <td>71</td>\n",
       "      <td>2</td>\n",
       "      <td>3</td>\n",
       "      <td>85.00</td>\n",
       "      <td>124.00</td>\n",
       "      <td>nan</td>\n",
       "      <td>0</td>\n",
       "      <td>1</td>\n",
       "      <td>0</td>\n",
       "      <td>0</td>\n",
       "      <td>0</td>\n",
       "      <td>0</td>\n",
       "      <td>0</td>\n",
       "      <td>0</td>\n",
       "      <td>0</td>\n",
       "      <td>0</td>\n",
       "      <td>0</td>\n",
       "      <td>0</td>\n",
       "      <td>0</td>\n",
       "      <td>0</td>\n",
       "      <td>0</td>\n",
       "      <td>0</td>\n",
       "      <td>0</td>\n",
       "      <td>0</td>\n",
       "      <td>0</td>\n",
       "      <td>0</td>\n",
       "      <td>0</td>\n",
       "      <td>0</td>\n",
       "      <td>0</td>\n",
       "      <td>0</td>\n",
       "      <td>0</td>\n",
       "      <td>1</td>\n",
       "      <td>0</td>\n",
       "      <td>0</td>\n",
       "      <td>0</td>\n",
       "    </tr>\n",
       "    <tr>\n",
       "      <td>2018-03-01 03:00:00</td>\n",
       "      <td>66</td>\n",
       "      <td>3</td>\n",
       "      <td>3</td>\n",
       "      <td>71.00</td>\n",
       "      <td>85.00</td>\n",
       "      <td>124.00</td>\n",
       "      <td>0</td>\n",
       "      <td>0</td>\n",
       "      <td>1</td>\n",
       "      <td>0</td>\n",
       "      <td>0</td>\n",
       "      <td>0</td>\n",
       "      <td>0</td>\n",
       "      <td>0</td>\n",
       "      <td>0</td>\n",
       "      <td>0</td>\n",
       "      <td>0</td>\n",
       "      <td>0</td>\n",
       "      <td>0</td>\n",
       "      <td>0</td>\n",
       "      <td>0</td>\n",
       "      <td>0</td>\n",
       "      <td>0</td>\n",
       "      <td>0</td>\n",
       "      <td>0</td>\n",
       "      <td>0</td>\n",
       "      <td>0</td>\n",
       "      <td>0</td>\n",
       "      <td>0</td>\n",
       "      <td>0</td>\n",
       "      <td>0</td>\n",
       "      <td>1</td>\n",
       "      <td>0</td>\n",
       "      <td>0</td>\n",
       "      <td>0</td>\n",
       "    </tr>\n",
       "    <tr>\n",
       "      <td>2018-03-01 04:00:00</td>\n",
       "      <td>43</td>\n",
       "      <td>4</td>\n",
       "      <td>3</td>\n",
       "      <td>66.00</td>\n",
       "      <td>71.00</td>\n",
       "      <td>85.00</td>\n",
       "      <td>0</td>\n",
       "      <td>0</td>\n",
       "      <td>0</td>\n",
       "      <td>1</td>\n",
       "      <td>0</td>\n",
       "      <td>0</td>\n",
       "      <td>0</td>\n",
       "      <td>0</td>\n",
       "      <td>0</td>\n",
       "      <td>0</td>\n",
       "      <td>0</td>\n",
       "      <td>0</td>\n",
       "      <td>0</td>\n",
       "      <td>0</td>\n",
       "      <td>0</td>\n",
       "      <td>0</td>\n",
       "      <td>0</td>\n",
       "      <td>0</td>\n",
       "      <td>0</td>\n",
       "      <td>0</td>\n",
       "      <td>0</td>\n",
       "      <td>0</td>\n",
       "      <td>0</td>\n",
       "      <td>0</td>\n",
       "      <td>0</td>\n",
       "      <td>1</td>\n",
       "      <td>0</td>\n",
       "      <td>0</td>\n",
       "      <td>0</td>\n",
       "    </tr>\n",
       "  </tbody>\n",
       "</table>\n",
       "</div>"
      ],
      "text/plain": [
       "                     num_orders  hour  dayofweek  lag_1  lag_2  lag_3  hour_1  \\\n",
       "datetime                                                                        \n",
       "2018-03-01 00:00:00         124     0          3    nan    nan    nan       0   \n",
       "2018-03-01 01:00:00          85     1          3 124.00    nan    nan       1   \n",
       "2018-03-01 02:00:00          71     2          3  85.00 124.00    nan       0   \n",
       "2018-03-01 03:00:00          66     3          3  71.00  85.00 124.00       0   \n",
       "2018-03-01 04:00:00          43     4          3  66.00  71.00  85.00       0   \n",
       "\n",
       "                     hour_2  hour_3  hour_4  hour_5  hour_6  hour_7  hour_8  \\\n",
       "datetime                                                                      \n",
       "2018-03-01 00:00:00       0       0       0       0       0       0       0   \n",
       "2018-03-01 01:00:00       0       0       0       0       0       0       0   \n",
       "2018-03-01 02:00:00       1       0       0       0       0       0       0   \n",
       "2018-03-01 03:00:00       0       1       0       0       0       0       0   \n",
       "2018-03-01 04:00:00       0       0       1       0       0       0       0   \n",
       "\n",
       "                     hour_9  hour_10  hour_11  hour_12  hour_13  hour_14  \\\n",
       "datetime                                                                   \n",
       "2018-03-01 00:00:00       0        0        0        0        0        0   \n",
       "2018-03-01 01:00:00       0        0        0        0        0        0   \n",
       "2018-03-01 02:00:00       0        0        0        0        0        0   \n",
       "2018-03-01 03:00:00       0        0        0        0        0        0   \n",
       "2018-03-01 04:00:00       0        0        0        0        0        0   \n",
       "\n",
       "                     hour_15  hour_16  hour_17  hour_18  hour_19  hour_20  \\\n",
       "datetime                                                                    \n",
       "2018-03-01 00:00:00        0        0        0        0        0        0   \n",
       "2018-03-01 01:00:00        0        0        0        0        0        0   \n",
       "2018-03-01 02:00:00        0        0        0        0        0        0   \n",
       "2018-03-01 03:00:00        0        0        0        0        0        0   \n",
       "2018-03-01 04:00:00        0        0        0        0        0        0   \n",
       "\n",
       "                     hour_21  hour_22  hour_23  day_1  day_2  day_3  day_4  \\\n",
       "datetime                                                                     \n",
       "2018-03-01 00:00:00        0        0        0      0      0      1      0   \n",
       "2018-03-01 01:00:00        0        0        0      0      0      1      0   \n",
       "2018-03-01 02:00:00        0        0        0      0      0      1      0   \n",
       "2018-03-01 03:00:00        0        0        0      0      0      1      0   \n",
       "2018-03-01 04:00:00        0        0        0      0      0      1      0   \n",
       "\n",
       "                     day_5  day_6  \n",
       "datetime                           \n",
       "2018-03-01 00:00:00      0      0  \n",
       "2018-03-01 01:00:00      0      0  \n",
       "2018-03-01 02:00:00      0      0  \n",
       "2018-03-01 03:00:00      0      0  \n",
       "2018-03-01 04:00:00      0      0  "
      ]
     },
     "execution_count": 19,
     "metadata": {},
     "output_type": "execute_result"
    }
   ],
   "source": [
    "data.head()"
   ]
  },
  {
   "cell_type": "code",
   "execution_count": 20,
   "metadata": {},
   "outputs": [],
   "source": [
    "data.drop(['hour', 'dayofweek'], axis=1, inplace=True)"
   ]
  },
  {
   "cell_type": "code",
   "execution_count": 21,
   "metadata": {},
   "outputs": [],
   "source": [
    "data = data[3:]"
   ]
  },
  {
   "cell_type": "markdown",
   "metadata": {},
   "source": [
    "## Обучение и тестирование"
   ]
  },
  {
   "cell_type": "markdown",
   "metadata": {},
   "source": [
    "Разделим выборку на тренироваочную и тестовую: "
   ]
  },
  {
   "cell_type": "code",
   "execution_count": 22,
   "metadata": {},
   "outputs": [],
   "source": [
    "target = data['num_orders']\n",
    "features = data.drop('num_orders', axis=1)\n",
    "\n",
    "target_train, target_test, features_train, features_test= train_test_split(\n",
    "    target, features, shuffle=False, test_size=0.1)"
   ]
  },
  {
   "cell_type": "code",
   "execution_count": 23,
   "metadata": {},
   "outputs": [
    {
     "name": "stdout",
     "output_type": "stream",
     "text": [
      "(3971,)\n",
      "(3971, 32)\n",
      "2018-03-01 03:00:00 2018-08-13 13:00:00\n",
      "2018-03-01 03:00:00 2018-08-13 13:00:00\n"
     ]
    }
   ],
   "source": [
    "print(target_train.shape)\n",
    "print(features_train.shape)\n",
    "print(target_train.index.min(), target_train.index.max())\n",
    "print(features_train.index.min(), features_train.index.max())"
   ]
  },
  {
   "cell_type": "code",
   "execution_count": 24,
   "metadata": {},
   "outputs": [
    {
     "name": "stdout",
     "output_type": "stream",
     "text": [
      "(442,)\n",
      "(442, 32)\n",
      "2018-08-13 14:00:00 2018-08-31 23:00:00\n",
      "2018-08-13 14:00:00 2018-08-31 23:00:00\n"
     ]
    }
   ],
   "source": [
    "print(target_test.shape)\n",
    "print(features_test.shape)\n",
    "print(target_test.index.min(), target_test.index.max())\n",
    "print(features_test.index.min(), features_test.index.max())"
   ]
  },
  {
   "cell_type": "markdown",
   "metadata": {},
   "source": [
    "Создадим функцию для расчета метрики качества, по которой будем оценивать модель: "
   ]
  },
  {
   "cell_type": "code",
   "execution_count": 25,
   "metadata": {},
   "outputs": [],
   "source": [
    "def rmse(target, prediction):\n",
    "    mse = mean_squared_error(target, prediction)\n",
    "    rmse = (mse)**0.5\n",
    "    return rmse \n",
    "\n",
    "rmse_score = make_scorer(rmse, greater_is_better=False)"
   ]
  },
  {
   "cell_type": "markdown",
   "metadata": {},
   "source": [
    "Можем приступать к построению прогнозных моделей."
   ]
  },
  {
   "cell_type": "markdown",
   "metadata": {},
   "source": [
    "### Линейная регрессия"
   ]
  },
  {
   "cell_type": "markdown",
   "metadata": {},
   "source": [
    "Для использования регресионных моделей нужно стандартизировать численные признаки:"
   ]
  },
  {
   "cell_type": "code",
   "execution_count": 26,
   "metadata": {},
   "outputs": [],
   "source": [
    "stdsc = StandardScaler()\n",
    "\n",
    "features_train_stdsc = stdsc.fit_transform(features_train)\n",
    "features_test_stdsc = stdsc.transform(features_test)"
   ]
  },
  {
   "cell_type": "code",
   "execution_count": 27,
   "metadata": {},
   "outputs": [
    {
     "data": {
      "text/plain": [
       "LinearRegression(copy_X=True, fit_intercept=True, n_jobs=None, normalize=False)"
      ]
     },
     "execution_count": 27,
     "metadata": {},
     "output_type": "execute_result"
    }
   ],
   "source": [
    "reg = LinearRegression()\n",
    "reg.fit(features_train_stdsc, target_train)"
   ]
  },
  {
   "cell_type": "code",
   "execution_count": 28,
   "metadata": {},
   "outputs": [
    {
     "name": "stdout",
     "output_type": "stream",
     "text": [
      "Правильность на тестовом наборе: 47.30\n"
     ]
    }
   ],
   "source": [
    "prediction_reg = reg.predict(features_test_stdsc)\n",
    "rmse_reg = rmse(target_test, prediction_reg)\n",
    "print(\"Правильность на тестовом наборе: {:.2f}\".format(rmse_reg))"
   ]
  },
  {
   "cell_type": "markdown",
   "metadata": {},
   "source": [
    "### Дерево решений"
   ]
  },
  {
   "cell_type": "code",
   "execution_count": 29,
   "metadata": {},
   "outputs": [
    {
     "data": {
      "text/plain": [
       "GridSearchCV(cv=TimeSeriesSplit(max_train_size=None, n_splits=8),\n",
       "             error_score='raise-deprecating',\n",
       "             estimator=DecisionTreeRegressor(criterion='mse', max_depth=None,\n",
       "                                             max_features=None,\n",
       "                                             max_leaf_nodes=None,\n",
       "                                             min_impurity_decrease=0.0,\n",
       "                                             min_impurity_split=None,\n",
       "                                             min_samples_leaf=1,\n",
       "                                             min_samples_split=2,\n",
       "                                             min_weight_fraction_leaf=0.0,\n",
       "                                             presort=False, random_state=None,\n",
       "                                             splitter='best'),\n",
       "             iid='warn', n_jobs=None,\n",
       "             param_grid={'max_depth': [1, 2, 3, 4, 5, 6, 7, 8, 9, 10, 11, 12,\n",
       "                                       13, 14, 15]},\n",
       "             pre_dispatch='2*n_jobs', refit=True, return_train_score=False,\n",
       "             scoring=make_scorer(rmse, greater_is_better=False), verbose=0)"
      ]
     },
     "execution_count": 29,
     "metadata": {},
     "output_type": "execute_result"
    }
   ],
   "source": [
    "param_grid_tree = {'max_depth': list(range(1, 16, 1))}\n",
    "\n",
    "tscv = TimeSeriesSplit(n_splits=8)\n",
    "\n",
    "grid_tree = GridSearchCV(\n",
    "    DecisionTreeRegressor(), \n",
    "    param_grid_tree, cv=tscv, scoring=rmse_score)\n",
    "\n",
    "grid_tree.fit(features_train, target_train)"
   ]
  },
  {
   "cell_type": "code",
   "execution_count": 30,
   "metadata": {},
   "outputs": [
    {
     "name": "stdout",
     "output_type": "stream",
     "text": [
      "Наилучшее значение правильности при перекрестной проверке:-31.22\n",
      "Наилучшие параметры: {'max_depth': 6}\n",
      "Правильность на тестовом наборе: 60.69\n"
     ]
    }
   ],
   "source": [
    "prediction_tree = grid_tree.predict(features_test)\n",
    "rmse_tree = rmse(target_test, prediction_tree)\n",
    "\n",
    "print(\"Наилучшее значение правильности при перекрестной проверке:{:.2f}\".format(grid_tree.best_score_))\n",
    "print(\"Наилучшие параметры: {}\".format(grid_tree.best_params_))\n",
    "print(\"Правильность на тестовом наборе: {:.2f}\".format(rmse_tree))"
   ]
  },
  {
   "cell_type": "markdown",
   "metadata": {},
   "source": [
    "### Случайный лес"
   ]
  },
  {
   "cell_type": "code",
   "execution_count": 31,
   "metadata": {},
   "outputs": [
    {
     "data": {
      "text/plain": [
       "GridSearchCV(cv=TimeSeriesSplit(max_train_size=None, n_splits=8),\n",
       "             error_score='raise-deprecating',\n",
       "             estimator=RandomForestRegressor(bootstrap=True, criterion='mse',\n",
       "                                             max_depth=None,\n",
       "                                             max_features='auto',\n",
       "                                             max_leaf_nodes=None,\n",
       "                                             min_impurity_decrease=0.0,\n",
       "                                             min_impurity_split=None,\n",
       "                                             min_samples_leaf=1,\n",
       "                                             min_samples_split=2,\n",
       "                                             min_weight_fraction_leaf=0.0,\n",
       "                                             n_estimators='warn', n_jobs=None,\n",
       "                                             oob_score=False, random_state=None,\n",
       "                                             verbose=0, warm_start=False),\n",
       "             iid='warn', n_jobs=None,\n",
       "             param_grid={'max_depth': [10, 11, 12, 13, 14, 15],\n",
       "                         'n_estimators': [30, 40, 50, 60, 70, 80, 90, 100]},\n",
       "             pre_dispatch='2*n_jobs', refit=True, return_train_score=False,\n",
       "             scoring=make_scorer(rmse, greater_is_better=False), verbose=0)"
      ]
     },
     "execution_count": 31,
     "metadata": {},
     "output_type": "execute_result"
    }
   ],
   "source": [
    "param_grid_forest = {'max_depth':list(range(10, 16, 1)),'n_estimators':list(range(30, 101, 10))}\n",
    "\n",
    "tscv = TimeSeriesSplit(n_splits=8)\n",
    "\n",
    "grid_forest = GridSearchCV(\n",
    "    RandomForestRegressor(), \n",
    "    param_grid_forest, cv=tscv, scoring=rmse_score)\n",
    "\n",
    "grid_forest.fit(features_train, target_train)"
   ]
  },
  {
   "cell_type": "code",
   "execution_count": 32,
   "metadata": {},
   "outputs": [
    {
     "name": "stdout",
     "output_type": "stream",
     "text": [
      "Наилучшее значение правильности при перекрестной проверке:-27.78\n",
      "Наилучшие параметры: {'max_depth': 14, 'n_estimators': 40}\n",
      "Правильность на тестовом наборе: 51.25\n"
     ]
    }
   ],
   "source": [
    "prediction_forest = grid_forest.predict(features_test)\n",
    "rmse_forest = rmse(target_test, prediction_forest)\n",
    "\n",
    "print(\"Наилучшее значение правильности при перекрестной проверке:{:.2f}\".format(grid_forest.best_score_))\n",
    "print(\"Наилучшие параметры: {}\".format(grid_forest.best_params_))\n",
    "print(\"Правильность на тестовом наборе: {:.2f}\".format(rmse_forest))"
   ]
  },
  {
   "cell_type": "markdown",
   "metadata": {},
   "source": [
    "### Градиентный бустинг"
   ]
  },
  {
   "cell_type": "code",
   "execution_count": 33,
   "metadata": {},
   "outputs": [
    {
     "data": {
      "text/plain": [
       "GridSearchCV(cv=TimeSeriesSplit(max_train_size=None, n_splits=8),\n",
       "             error_score='raise-deprecating',\n",
       "             estimator=LGBMRegressor(boosting_type='gbdt', class_weight=None,\n",
       "                                     colsample_bytree=1.0,\n",
       "                                     importance_type='split', learning_rate=0.1,\n",
       "                                     loss_function='RMSE', max_depth=-1,\n",
       "                                     min_child_samples=20,\n",
       "                                     min_child_weight=0.001, min_split_gain=0.0,\n",
       "                                     n_estimators=100, n_jobs=-1, num_...\n",
       "                                     reg_alpha=0.0, reg_lambda=0.0, silent=True,\n",
       "                                     subsample=1.0, subsample_for_bin=200000,\n",
       "                                     subsample_freq=0, verbose=500),\n",
       "             iid='warn', n_jobs=None,\n",
       "             param_grid={'depth': [1, 2, 3, 4, 5, 6, 7, 8, 9, 10, 11, 12, 13,\n",
       "                                   14, 15, 16, 17, 18, 19],\n",
       "                         'iterations': [500, 1000],\n",
       "                         'learning_rate': [0.01, 0.1, 0.5]},\n",
       "             pre_dispatch='2*n_jobs', refit=True, return_train_score=False,\n",
       "             scoring=make_scorer(rmse, greater_is_better=False), verbose=0)"
      ]
     },
     "execution_count": 33,
     "metadata": {},
     "output_type": "execute_result"
    }
   ],
   "source": [
    "param_grid_lgbm = {'depth':list(range(1, 20, 1)), 'learning_rate':[0.01, 0.1, 0.5],\n",
    "                 'iterations':[500, 1000]}\n",
    "\n",
    "tscv = TimeSeriesSplit(n_splits=8)\n",
    "\n",
    "grid_lgbm = GridSearchCV(\n",
    "    LGBMRegressor(loss_function='RMSE', verbose=500), param_grid_lgbm, cv=tscv, scoring=rmse_score)\n",
    "\n",
    "grid_lgbm.fit(features_train, target_train)"
   ]
  },
  {
   "cell_type": "code",
   "execution_count": 34,
   "metadata": {},
   "outputs": [
    {
     "name": "stdout",
     "output_type": "stream",
     "text": [
      "Наилучшее значение правильности при перекрестной проверке:-28.64\n",
      "Наилучшие параметры: {'depth': 1, 'iterations': 500, 'learning_rate': 0.1}\n",
      "Правильность на тестовом наборе: 46.44\n"
     ]
    }
   ],
   "source": [
    "prediction_lgbm = grid_lgbm.predict(features_test)\n",
    "\n",
    "rmse_lgbm = rmse(target_test, prediction_lgbm)\n",
    "\n",
    "print(\"Наилучшее значение правильности при перекрестной проверке:{:.2f}\".format(grid_lgbm.best_score_))\n",
    "print(\"Наилучшие параметры: {}\".format(grid_lgbm.best_params_))\n",
    "print(\"Правильность на тестовом наборе: {:.2f}\".format(rmse_lgbm))"
   ]
  },
  {
   "cell_type": "code",
   "execution_count": 37,
   "metadata": {},
   "outputs": [
    {
     "data": {
      "text/html": [
       "<div>\n",
       "<style scoped>\n",
       "    .dataframe tbody tr th:only-of-type {\n",
       "        vertical-align: middle;\n",
       "    }\n",
       "\n",
       "    .dataframe tbody tr th {\n",
       "        vertical-align: top;\n",
       "    }\n",
       "\n",
       "    .dataframe thead th {\n",
       "        text-align: right;\n",
       "    }\n",
       "</style>\n",
       "<table border=\"1\" class=\"dataframe\">\n",
       "  <thead>\n",
       "    <tr style=\"text-align: right;\">\n",
       "      <th></th>\n",
       "      <th>MODEL</th>\n",
       "      <th>RMSE</th>\n",
       "    </tr>\n",
       "  </thead>\n",
       "  <tbody>\n",
       "    <tr>\n",
       "      <td>3</td>\n",
       "      <td>LGBMR</td>\n",
       "      <td>46.44</td>\n",
       "    </tr>\n",
       "    <tr>\n",
       "      <td>0</td>\n",
       "      <td>LinearReg</td>\n",
       "      <td>47.30</td>\n",
       "    </tr>\n",
       "    <tr>\n",
       "      <td>2</td>\n",
       "      <td>RandomForest</td>\n",
       "      <td>51.25</td>\n",
       "    </tr>\n",
       "    <tr>\n",
       "      <td>1</td>\n",
       "      <td>DecisionTree</td>\n",
       "      <td>60.69</td>\n",
       "    </tr>\n",
       "  </tbody>\n",
       "</table>\n",
       "</div>"
      ],
      "text/plain": [
       "          MODEL  RMSE\n",
       "3         LGBMR 46.44\n",
       "0     LinearReg 47.30\n",
       "2  RandomForest 51.25\n",
       "1  DecisionTree 60.69"
      ]
     },
     "execution_count": 37,
     "metadata": {},
     "output_type": "execute_result"
    }
   ],
   "source": [
    "table = pd.DataFrame(data = [['LinearReg', rmse_reg], \n",
    "                             ['DecisionTree', rmse_tree], \n",
    "                             ['RandomForest', rmse_forest], \n",
    "                             ['LGBMR', rmse_lgbm]],\n",
    "                     columns = ['MODEL','RMSE'])\n",
    "\n",
    "table.sort_values(by='RMSE')"
   ]
  },
  {
   "cell_type": "markdown",
   "metadata": {},
   "source": [
    "Наименьшая ошибка получается на основании прогноза модели линейной регрессии и модели градиентного бустинга. Визуализируем полученные значения:  "
   ]
  },
  {
   "cell_type": "code",
   "execution_count": 38,
   "metadata": {},
   "outputs": [],
   "source": [
    "# приведем данные к формату series\n",
    "test = pd.Series(target_test)\n",
    "series_reg = pd.Series(prediction_reg, index=test.index)\n",
    "series_lgbm = pd.Series(prediction_lgbm, index=test.index)"
   ]
  },
  {
   "cell_type": "code",
   "execution_count": 39,
   "metadata": {},
   "outputs": [
    {
     "data": {
      "image/png": "[encoded data removed]",
      "text/plain": [
       "<Figure size 1080x360 with 1 Axes>"
      ]
     },
     "metadata": {
      "needs_background": "light"
     },
     "output_type": "display_data"
    }
   ],
   "source": [
    "# график для прогноза линейной регрессии\n",
    "plt.figure(figsize=(15,5))\n",
    "\n",
    "test['2018-08-30 00:00:00':'2018-08-31 23:00:00'].plot(ax=plt.gca(), color='blue')\n",
    "series_reg['2018-08-30 00:00:00':'2018-08-31 23:00:00'].plot(ax=plt.gca(), color='red')\n",
    "plt.title('Линейная регрессия', weight=\"heavy\")\n",
    "plt.xlabel('')\n",
    "plt.ylabel('')\n",
    "plt.grid()\n",
    "plt.show()"
   ]
  },
  {
   "cell_type": "code",
   "execution_count": 40,
   "metadata": {},
   "outputs": [
    {
     "data": {
      "image/png": "[encoded data removed]",
      "text/plain": [
       "<Figure size 1080x360 with 1 Axes>"
      ]
     },
     "metadata": {
      "needs_background": "light"
     },
     "output_type": "display_data"
    }
   ],
   "source": [
    "# график для прогноза градиентного бустинга\n",
    "plt.figure(figsize=(15,5))\n",
    "test['2018-08-30 00:00:00':'2018-08-31 23:00:00'].plot(ax=plt.gca(), color='blue')\n",
    "series_lgbm['2018-08-30 00:00:00':'2018-08-31 23:00:00'].plot(ax=plt.gca(), color='red')\n",
    "plt.title('Градинтный бустинг', weight=\"heavy\")\n",
    "plt.xlabel('')\n",
    "plt.ylabel('')\n",
    "plt.grid()\n",
    "plt.show()"
   ]
  },
  {
   "cell_type": "markdown",
   "metadata": {},
   "source": [
    "## Вывод"
   ]
  },
  {
   "cell_type": "markdown",
   "metadata": {},
   "source": [
    "В ходе работы были проанализированы данные о заказах такси в аэропортах. В данных отмечается цикличность в рамках дня (пик заказов приходится на 12 часов ночи, а наименее активный час - 6 часов утра), а также был обнаружен небольшой восходящий тренд, который был нейтрализован путем взятия первой разности ряда. \n",
    "\n",
    "С целью построения модели для прогнозирования были обучены линейная регрессия, дерево решения, случайный лес и градиентный бустинг. Наименьшая ошибка RMSE при прогнозировании была получена в результате прогноза, полученного с помощью модели линейной регрессии, а также градиентного бустинга.  "
   ]
  }
 ],
 "metadata": {
  "ExecuteTimeLog": [
   {
    "duration": 1789,
    "start_time": "2021-12-27T22:42:16.497Z"
   },
   {
    "duration": 5,
    "start_time": "2021-12-27T22:42:18.288Z"
   },
   {
    "duration": 59,
    "start_time": "2021-12-27T22:42:20.121Z"
   },
   {
    "duration": 9,
    "start_time": "2021-12-27T22:42:21.017Z"
   },
   {
    "duration": 5,
    "start_time": "2021-12-27T22:42:21.413Z"
   },
   {
    "duration": 456,
    "start_time": "2021-12-27T22:42:22.073Z"
   },
   {
    "duration": 37,
    "start_time": "2021-12-27T22:42:22.532Z"
   },
   {
    "duration": 3920,
    "start_time": "2021-12-27T22:42:22.649Z"
   },
   {
    "duration": 92,
    "start_time": "2021-12-27T22:42:26.575Z"
   },
   {
    "duration": 150,
    "start_time": "2021-12-27T22:42:26.671Z"
   },
   {
    "duration": 1943,
    "start_time": "2021-12-27T22:42:26.824Z"
   },
   {
    "duration": 1814,
    "start_time": "2021-12-27T22:42:28.770Z"
   },
   {
    "duration": 7,
    "start_time": "2021-12-27T22:42:30.587Z"
   },
   {
    "duration": 5172,
    "start_time": "2021-12-27T22:42:30.597Z"
   },
   {
    "duration": 988,
    "start_time": "2021-12-27T22:42:35.773Z"
   },
   {
    "duration": 5,
    "start_time": "2021-12-27T22:42:36.767Z"
   },
   {
    "duration": 241,
    "start_time": "2021-12-27T22:42:36.775Z"
   },
   {
    "duration": 179,
    "start_time": "2021-12-27T22:42:37.019Z"
   },
   {
    "duration": 30,
    "start_time": "2021-12-27T22:42:38.214Z"
   },
   {
    "duration": 9,
    "start_time": "2021-12-27T22:42:38.911Z"
   },
   {
    "duration": 5,
    "start_time": "2021-12-27T22:42:39.516Z"
   },
   {
    "duration": 12,
    "start_time": "2021-12-27T22:43:10.643Z"
   },
   {
    "duration": 8,
    "start_time": "2021-12-27T22:43:11.189Z"
   },
   {
    "duration": 8,
    "start_time": "2021-12-27T22:43:11.452Z"
   },
   {
    "duration": 5,
    "start_time": "2021-12-27T22:43:14.775Z"
   },
   {
    "duration": 1332,
    "start_time": "2021-12-29T07:57:05.069Z"
   },
   {
    "duration": 3,
    "start_time": "2021-12-29T07:57:06.402Z"
   },
   {
    "duration": 42,
    "start_time": "2021-12-29T07:57:08.090Z"
   },
   {
    "duration": 7,
    "start_time": "2021-12-29T07:57:18.877Z"
   },
   {
    "duration": 4,
    "start_time": "2021-12-29T07:57:19.781Z"
   },
   {
    "duration": 256,
    "start_time": "2021-12-29T07:57:21.861Z"
   },
   {
    "duration": 14,
    "start_time": "2021-12-29T07:57:36.882Z"
   },
   {
    "duration": 2601,
    "start_time": "2021-12-29T07:57:37.969Z"
   },
   {
    "duration": 7,
    "start_time": "2021-12-29T07:57:44.280Z"
   },
   {
    "duration": 4,
    "start_time": "2021-12-29T07:57:45.860Z"
   },
   {
    "duration": 663,
    "start_time": "2021-12-29T07:57:49.860Z"
   },
   {
    "duration": 1080,
    "start_time": "2021-12-29T07:58:01.365Z"
   },
   {
    "duration": 93,
    "start_time": "2021-12-29T08:02:01.221Z"
   },
   {
    "duration": 1061,
    "start_time": "2021-12-29T08:03:44.133Z"
   },
   {
    "duration": 1061,
    "start_time": "2021-12-29T08:04:06.973Z"
   },
   {
    "duration": 992,
    "start_time": "2021-12-29T08:11:48.598Z"
   },
   {
    "duration": 4,
    "start_time": "2021-12-29T08:16:52.313Z"
   },
   {
    "duration": 10,
    "start_time": "2021-12-29T08:19:32.842Z"
   },
   {
    "duration": 3,
    "start_time": "2021-12-29T08:19:40.398Z"
   },
   {
    "duration": 8,
    "start_time": "2021-12-29T08:19:44.934Z"
   },
   {
    "duration": 1526,
    "start_time": "2021-12-29T08:20:03.024Z"
   },
   {
    "duration": 10,
    "start_time": "2021-12-29T08:20:04.551Z"
   },
   {
    "duration": 52,
    "start_time": "2021-12-29T08:20:04.563Z"
   },
   {
    "duration": 7,
    "start_time": "2021-12-29T08:20:04.616Z"
   },
   {
    "duration": 14,
    "start_time": "2021-12-29T08:20:04.624Z"
   },
   {
    "duration": 309,
    "start_time": "2021-12-29T08:20:04.640Z"
   },
   {
    "duration": 21,
    "start_time": "2021-12-29T08:20:04.951Z"
   },
   {
    "duration": 2192,
    "start_time": "2021-12-29T08:20:04.976Z"
   },
   {
    "duration": 94,
    "start_time": "2021-12-29T08:20:07.171Z"
   },
   {
    "duration": 101,
    "start_time": "2021-12-29T08:20:07.268Z"
   },
   {
    "duration": 694,
    "start_time": "2021-12-29T08:20:07.371Z"
   },
   {
    "duration": 1144,
    "start_time": "2021-12-29T08:20:08.066Z"
   },
   {
    "duration": 4,
    "start_time": "2021-12-29T08:20:09.212Z"
   },
   {
    "duration": 2273,
    "start_time": "2021-12-29T08:20:09.217Z"
   },
   {
    "duration": 344,
    "start_time": "2021-12-29T08:20:11.492Z"
   },
   {
    "duration": 70,
    "start_time": "2021-12-29T08:20:11.769Z"
   },
   {
    "duration": 68,
    "start_time": "2021-12-29T08:20:11.773Z"
   },
   {
    "duration": 66,
    "start_time": "2021-12-29T08:20:11.776Z"
   },
   {
    "duration": 64,
    "start_time": "2021-12-29T08:20:11.779Z"
   },
   {
    "duration": 62,
    "start_time": "2021-12-29T08:20:11.782Z"
   },
   {
    "duration": 61,
    "start_time": "2021-12-29T08:20:11.785Z"
   },
   {
    "duration": 59,
    "start_time": "2021-12-29T08:20:11.788Z"
   },
   {
    "duration": 57,
    "start_time": "2021-12-29T08:20:11.791Z"
   },
   {
    "duration": 56,
    "start_time": "2021-12-29T08:20:11.793Z"
   },
   {
    "duration": 48,
    "start_time": "2021-12-29T08:20:11.802Z"
   },
   {
    "duration": 46,
    "start_time": "2021-12-29T08:20:11.805Z"
   },
   {
    "duration": 44,
    "start_time": "2021-12-29T08:20:11.808Z"
   },
   {
    "duration": 43,
    "start_time": "2021-12-29T08:20:11.810Z"
   },
   {
    "duration": 42,
    "start_time": "2021-12-29T08:20:11.812Z"
   },
   {
    "duration": 40,
    "start_time": "2021-12-29T08:20:11.814Z"
   },
   {
    "duration": 39,
    "start_time": "2021-12-29T08:20:11.816Z"
   },
   {
    "duration": 38,
    "start_time": "2021-12-29T08:20:11.818Z"
   },
   {
    "duration": 36,
    "start_time": "2021-12-29T08:20:11.821Z"
   },
   {
    "duration": 34,
    "start_time": "2021-12-29T08:20:11.824Z"
   },
   {
    "duration": 33,
    "start_time": "2021-12-29T08:20:11.826Z"
   },
   {
    "duration": 33,
    "start_time": "2021-12-29T08:20:11.827Z"
   },
   {
    "duration": 31,
    "start_time": "2021-12-29T08:20:11.830Z"
   },
   {
    "duration": 30,
    "start_time": "2021-12-29T08:20:11.832Z"
   },
   {
    "duration": 29,
    "start_time": "2021-12-29T08:20:11.834Z"
   },
   {
    "duration": 28,
    "start_time": "2021-12-29T08:20:11.836Z"
   },
   {
    "duration": 26,
    "start_time": "2021-12-29T08:20:11.838Z"
   },
   {
    "duration": 25,
    "start_time": "2021-12-29T08:20:11.840Z"
   },
   {
    "duration": 662,
    "start_time": "2021-12-29T08:20:15.094Z"
   },
   {
    "duration": 4,
    "start_time": "2021-12-29T08:20:15.758Z"
   },
   {
    "duration": 1544,
    "start_time": "2021-12-29T08:20:41.750Z"
   },
   {
    "duration": 2,
    "start_time": "2021-12-29T08:20:43.297Z"
   },
   {
    "duration": 50,
    "start_time": "2021-12-29T08:20:43.301Z"
   },
   {
    "duration": 6,
    "start_time": "2021-12-29T08:20:43.352Z"
   },
   {
    "duration": 13,
    "start_time": "2021-12-29T08:20:43.359Z"
   },
   {
    "duration": 357,
    "start_time": "2021-12-29T08:20:43.374Z"
   },
   {
    "duration": 12,
    "start_time": "2021-12-29T08:20:43.733Z"
   },
   {
    "duration": 2323,
    "start_time": "2021-12-29T08:20:43.747Z"
   },
   {
    "duration": 98,
    "start_time": "2021-12-29T08:20:46.163Z"
   },
   {
    "duration": 38,
    "start_time": "2021-12-29T08:20:46.263Z"
   },
   {
    "duration": 814,
    "start_time": "2021-12-29T08:20:46.303Z"
   },
   {
    "duration": 1095,
    "start_time": "2021-12-29T08:20:47.119Z"
   },
   {
    "duration": 2,
    "start_time": "2021-12-29T08:20:48.216Z"
   },
   {
    "duration": 18,
    "start_time": "2021-12-29T08:20:48.220Z"
   },
   {
    "duration": 683,
    "start_time": "2021-12-29T08:20:48.240Z"
   },
   {
    "duration": 3,
    "start_time": "2021-12-29T08:20:48.925Z"
   },
   {
    "duration": 11,
    "start_time": "2021-12-29T08:20:48.930Z"
   },
   {
    "duration": 370,
    "start_time": "2021-12-29T08:20:48.942Z"
   },
   {
    "duration": -1,
    "start_time": "2021-12-29T08:20:49.316Z"
   },
   {
    "duration": -2,
    "start_time": "2021-12-29T08:20:49.318Z"
   },
   {
    "duration": -3,
    "start_time": "2021-12-29T08:20:49.320Z"
   },
   {
    "duration": -5,
    "start_time": "2021-12-29T08:20:49.323Z"
   },
   {
    "duration": -7,
    "start_time": "2021-12-29T08:20:49.326Z"
   },
   {
    "duration": -13,
    "start_time": "2021-12-29T08:20:49.333Z"
   },
   {
    "duration": -15,
    "start_time": "2021-12-29T08:20:49.335Z"
   },
   {
    "duration": -17,
    "start_time": "2021-12-29T08:20:49.338Z"
   },
   {
    "duration": -19,
    "start_time": "2021-12-29T08:20:49.341Z"
   },
   {
    "duration": -23,
    "start_time": "2021-12-29T08:20:49.346Z"
   },
   {
    "duration": -24,
    "start_time": "2021-12-29T08:20:49.348Z"
   },
   {
    "duration": -25,
    "start_time": "2021-12-29T08:20:49.350Z"
   },
   {
    "duration": -26,
    "start_time": "2021-12-29T08:20:49.352Z"
   },
   {
    "duration": -27,
    "start_time": "2021-12-29T08:20:49.354Z"
   },
   {
    "duration": -29,
    "start_time": "2021-12-29T08:20:49.356Z"
   },
   {
    "duration": -31,
    "start_time": "2021-12-29T08:20:49.359Z"
   },
   {
    "duration": -33,
    "start_time": "2021-12-29T08:20:49.362Z"
   },
   {
    "duration": -34,
    "start_time": "2021-12-29T08:20:49.364Z"
   },
   {
    "duration": -35,
    "start_time": "2021-12-29T08:20:49.366Z"
   },
   {
    "duration": -36,
    "start_time": "2021-12-29T08:20:49.369Z"
   },
   {
    "duration": -36,
    "start_time": "2021-12-29T08:20:49.370Z"
   },
   {
    "duration": -39,
    "start_time": "2021-12-29T08:20:49.373Z"
   },
   {
    "duration": -40,
    "start_time": "2021-12-29T08:20:49.376Z"
   },
   {
    "duration": -41,
    "start_time": "2021-12-29T08:20:49.378Z"
   },
   {
    "duration": 1316,
    "start_time": "2021-12-29T08:22:22.806Z"
   },
   {
    "duration": 3,
    "start_time": "2021-12-29T08:22:24.124Z"
   },
   {
    "duration": 49,
    "start_time": "2021-12-29T08:22:24.129Z"
   },
   {
    "duration": 7,
    "start_time": "2021-12-29T08:22:24.180Z"
   },
   {
    "duration": 6,
    "start_time": "2021-12-29T08:22:24.188Z"
   },
   {
    "duration": 260,
    "start_time": "2021-12-29T08:22:24.196Z"
   },
   {
    "duration": 11,
    "start_time": "2021-12-29T08:22:24.461Z"
   },
   {
    "duration": 4687,
    "start_time": "2021-12-29T08:22:24.475Z"
   },
   {
    "duration": 96,
    "start_time": "2021-12-29T08:22:29.168Z"
   },
   {
    "duration": 5,
    "start_time": "2021-12-29T08:22:29.266Z"
   },
   {
    "duration": 1207,
    "start_time": "2021-12-29T08:22:29.272Z"
   },
   {
    "duration": 1151,
    "start_time": "2021-12-29T08:22:30.482Z"
   },
   {
    "duration": 2,
    "start_time": "2021-12-29T08:22:31.635Z"
   },
   {
    "duration": 10,
    "start_time": "2021-12-29T08:22:31.639Z"
   },
   {
    "duration": 661,
    "start_time": "2021-12-29T08:22:31.661Z"
   },
   {
    "duration": 4,
    "start_time": "2021-12-29T08:22:32.323Z"
   },
   {
    "duration": 32,
    "start_time": "2021-12-29T08:22:32.328Z"
   },
   {
    "duration": 344,
    "start_time": "2021-12-29T08:22:32.361Z"
   },
   {
    "duration": -54,
    "start_time": "2021-12-29T08:22:32.762Z"
   },
   {
    "duration": -57,
    "start_time": "2021-12-29T08:22:32.766Z"
   },
   {
    "duration": -59,
    "start_time": "2021-12-29T08:22:32.768Z"
   },
   {
    "duration": -61,
    "start_time": "2021-12-29T08:22:32.771Z"
   },
   {
    "duration": -62,
    "start_time": "2021-12-29T08:22:32.773Z"
   },
   {
    "duration": -63,
    "start_time": "2021-12-29T08:22:32.775Z"
   },
   {
    "duration": -65,
    "start_time": "2021-12-29T08:22:32.778Z"
   },
   {
    "duration": -67,
    "start_time": "2021-12-29T08:22:32.781Z"
   },
   {
    "duration": -70,
    "start_time": "2021-12-29T08:22:32.784Z"
   },
   {
    "duration": -71,
    "start_time": "2021-12-29T08:22:32.786Z"
   },
   {
    "duration": -73,
    "start_time": "2021-12-29T08:22:32.789Z"
   },
   {
    "duration": -74,
    "start_time": "2021-12-29T08:22:32.791Z"
   },
   {
    "duration": -75,
    "start_time": "2021-12-29T08:22:32.793Z"
   },
   {
    "duration": -76,
    "start_time": "2021-12-29T08:22:32.795Z"
   },
   {
    "duration": -77,
    "start_time": "2021-12-29T08:22:32.797Z"
   },
   {
    "duration": -78,
    "start_time": "2021-12-29T08:22:32.799Z"
   },
   {
    "duration": -80,
    "start_time": "2021-12-29T08:22:32.801Z"
   },
   {
    "duration": -81,
    "start_time": "2021-12-29T08:22:32.803Z"
   },
   {
    "duration": -82,
    "start_time": "2021-12-29T08:22:32.805Z"
   },
   {
    "duration": -84,
    "start_time": "2021-12-29T08:22:32.808Z"
   },
   {
    "duration": -85,
    "start_time": "2021-12-29T08:22:32.810Z"
   },
   {
    "duration": -86,
    "start_time": "2021-12-29T08:22:32.812Z"
   },
   {
    "duration": -87,
    "start_time": "2021-12-29T08:22:32.814Z"
   },
   {
    "duration": 1266,
    "start_time": "2021-12-29T08:22:54.767Z"
   },
   {
    "duration": 4,
    "start_time": "2021-12-29T08:22:56.035Z"
   },
   {
    "duration": 59,
    "start_time": "2021-12-29T08:22:56.041Z"
   },
   {
    "duration": 6,
    "start_time": "2021-12-29T08:22:56.102Z"
   },
   {
    "duration": 18,
    "start_time": "2021-12-29T08:22:56.109Z"
   },
   {
    "duration": 276,
    "start_time": "2021-12-29T08:22:56.128Z"
   },
   {
    "duration": 12,
    "start_time": "2021-12-29T08:22:56.405Z"
   },
   {
    "duration": 2547,
    "start_time": "2021-12-29T08:22:56.420Z"
   },
   {
    "duration": 91,
    "start_time": "2021-12-29T08:22:58.970Z"
   },
   {
    "duration": 102,
    "start_time": "2021-12-29T08:22:59.064Z"
   },
   {
    "duration": 1054,
    "start_time": "2021-12-29T08:22:59.169Z"
   },
   {
    "duration": 1137,
    "start_time": "2021-12-29T08:23:00.225Z"
   },
   {
    "duration": 3,
    "start_time": "2021-12-29T08:23:01.364Z"
   },
   {
    "duration": 23,
    "start_time": "2021-12-29T08:23:01.369Z"
   },
   {
    "duration": 738,
    "start_time": "2021-12-29T08:23:01.394Z"
   },
   {
    "duration": 3,
    "start_time": "2021-12-29T08:23:02.134Z"
   },
   {
    "duration": 24,
    "start_time": "2021-12-29T08:23:02.139Z"
   },
   {
    "duration": 350,
    "start_time": "2021-12-29T08:23:02.165Z"
   },
   {
    "duration": -29,
    "start_time": "2021-12-29T08:23:02.548Z"
   },
   {
    "duration": -31,
    "start_time": "2021-12-29T08:23:02.551Z"
   },
   {
    "duration": -32,
    "start_time": "2021-12-29T08:23:02.553Z"
   },
   {
    "duration": -33,
    "start_time": "2021-12-29T08:23:02.556Z"
   },
   {
    "duration": -34,
    "start_time": "2021-12-29T08:23:02.558Z"
   },
   {
    "duration": -35,
    "start_time": "2021-12-29T08:23:02.560Z"
   },
   {
    "duration": -37,
    "start_time": "2021-12-29T08:23:02.563Z"
   },
   {
    "duration": -38,
    "start_time": "2021-12-29T08:23:02.565Z"
   },
   {
    "duration": -40,
    "start_time": "2021-12-29T08:23:02.568Z"
   },
   {
    "duration": -41,
    "start_time": "2021-12-29T08:23:02.570Z"
   },
   {
    "duration": -42,
    "start_time": "2021-12-29T08:23:02.572Z"
   },
   {
    "duration": -50,
    "start_time": "2021-12-29T08:23:02.581Z"
   },
   {
    "duration": -52,
    "start_time": "2021-12-29T08:23:02.584Z"
   },
   {
    "duration": -54,
    "start_time": "2021-12-29T08:23:02.587Z"
   },
   {
    "duration": -55,
    "start_time": "2021-12-29T08:23:02.589Z"
   },
   {
    "duration": -56,
    "start_time": "2021-12-29T08:23:02.591Z"
   },
   {
    "duration": -57,
    "start_time": "2021-12-29T08:23:02.593Z"
   },
   {
    "duration": -59,
    "start_time": "2021-12-29T08:23:02.596Z"
   },
   {
    "duration": -60,
    "start_time": "2021-12-29T08:23:02.598Z"
   },
   {
    "duration": -61,
    "start_time": "2021-12-29T08:23:02.600Z"
   },
   {
    "duration": -62,
    "start_time": "2021-12-29T08:23:02.603Z"
   },
   {
    "duration": -64,
    "start_time": "2021-12-29T08:23:02.605Z"
   },
   {
    "duration": -65,
    "start_time": "2021-12-29T08:23:02.607Z"
   },
   {
    "duration": 102,
    "start_time": "2021-12-29T08:24:59.196Z"
   },
   {
    "duration": 1417,
    "start_time": "2021-12-29T08:25:21.379Z"
   },
   {
    "duration": 2,
    "start_time": "2021-12-29T08:25:22.799Z"
   },
   {
    "duration": 86,
    "start_time": "2021-12-29T08:25:22.803Z"
   },
   {
    "duration": 6,
    "start_time": "2021-12-29T08:25:22.891Z"
   },
   {
    "duration": 62,
    "start_time": "2021-12-29T08:25:22.899Z"
   },
   {
    "duration": 280,
    "start_time": "2021-12-29T08:25:22.963Z"
   },
   {
    "duration": 20,
    "start_time": "2021-12-29T08:25:23.245Z"
   },
   {
    "duration": 1702,
    "start_time": "2021-12-29T08:25:23.268Z"
   },
   {
    "duration": 9,
    "start_time": "2021-12-29T08:25:25.159Z"
   },
   {
    "duration": 6,
    "start_time": "2021-12-29T08:25:25.169Z"
   },
   {
    "duration": 750,
    "start_time": "2021-12-29T08:25:25.176Z"
   },
   {
    "duration": 1195,
    "start_time": "2021-12-29T08:25:25.928Z"
   },
   {
    "duration": 3,
    "start_time": "2021-12-29T08:25:27.125Z"
   },
   {
    "duration": 7,
    "start_time": "2021-12-29T08:25:27.130Z"
   },
   {
    "duration": 647,
    "start_time": "2021-12-29T08:25:27.138Z"
   },
   {
    "duration": 3,
    "start_time": "2021-12-29T08:25:27.787Z"
   },
   {
    "duration": 20,
    "start_time": "2021-12-29T08:25:27.792Z"
   },
   {
    "duration": 7,
    "start_time": "2021-12-29T08:25:27.814Z"
   },
   {
    "duration": 39,
    "start_time": "2021-12-29T08:25:27.822Z"
   },
   {
    "duration": 6,
    "start_time": "2021-12-29T08:25:27.863Z"
   },
   {
    "duration": 4,
    "start_time": "2021-12-29T08:25:27.871Z"
   },
   {
    "duration": 413,
    "start_time": "2021-12-29T08:25:27.877Z"
   },
   {
    "duration": 24,
    "start_time": "2021-12-29T08:25:28.268Z"
   },
   {
    "duration": 22,
    "start_time": "2021-12-29T08:25:28.271Z"
   },
   {
    "duration": 21,
    "start_time": "2021-12-29T08:25:28.273Z"
   },
   {
    "duration": 20,
    "start_time": "2021-12-29T08:25:28.275Z"
   },
   {
    "duration": 19,
    "start_time": "2021-12-29T08:25:28.277Z"
   },
   {
    "duration": 18,
    "start_time": "2021-12-29T08:25:28.279Z"
   },
   {
    "duration": 16,
    "start_time": "2021-12-29T08:25:28.281Z"
   },
   {
    "duration": 15,
    "start_time": "2021-12-29T08:25:28.283Z"
   },
   {
    "duration": 14,
    "start_time": "2021-12-29T08:25:28.285Z"
   },
   {
    "duration": 12,
    "start_time": "2021-12-29T08:25:28.288Z"
   },
   {
    "duration": 11,
    "start_time": "2021-12-29T08:25:28.290Z"
   },
   {
    "duration": 11,
    "start_time": "2021-12-29T08:25:28.291Z"
   },
   {
    "duration": 10,
    "start_time": "2021-12-29T08:25:28.293Z"
   },
   {
    "duration": 6,
    "start_time": "2021-12-29T08:25:28.298Z"
   },
   {
    "duration": 5,
    "start_time": "2021-12-29T08:25:28.300Z"
   },
   {
    "duration": 4,
    "start_time": "2021-12-29T08:25:28.302Z"
   },
   {
    "duration": 3,
    "start_time": "2021-12-29T08:25:28.304Z"
   },
   {
    "duration": 3,
    "start_time": "2021-12-29T08:25:28.305Z"
   },
   {
    "duration": 2,
    "start_time": "2021-12-29T08:25:28.307Z"
   },
   {
    "duration": 244,
    "start_time": "2021-12-29T08:28:29.259Z"
   },
   {
    "duration": 4,
    "start_time": "2021-12-29T08:28:33.706Z"
   },
   {
    "duration": 7,
    "start_time": "2021-12-29T08:28:37.206Z"
   },
   {
    "duration": 5,
    "start_time": "2021-12-29T08:28:37.454Z"
   },
   {
    "duration": 4,
    "start_time": "2021-12-29T08:28:37.663Z"
   },
   {
    "duration": 3,
    "start_time": "2021-12-29T08:28:38.895Z"
   },
   {
    "duration": 8,
    "start_time": "2021-12-29T08:28:40.870Z"
   },
   {
    "duration": 90,
    "start_time": "2021-12-29T08:28:41.082Z"
   },
   {
    "duration": 9,
    "start_time": "2021-12-29T08:28:41.367Z"
   },
   {
    "duration": 985,
    "start_time": "2021-12-29T08:29:00.710Z"
   },
   {
    "duration": 6,
    "start_time": "2021-12-29T08:29:06.191Z"
   },
   {
    "duration": 52423,
    "start_time": "2021-12-29T08:29:11.343Z"
   },
   {
    "duration": 16,
    "start_time": "2021-12-29T08:30:03.768Z"
   },
   {
    "duration": 121980,
    "start_time": "2021-12-29T08:30:09.159Z"
   },
   {
    "duration": -52,
    "start_time": "2021-12-29T08:32:11.193Z"
   },
   {
    "duration": 1376,
    "start_time": "2021-12-29T08:32:19.822Z"
   },
   {
    "duration": 2,
    "start_time": "2021-12-29T08:32:21.200Z"
   },
   {
    "duration": 48,
    "start_time": "2021-12-29T08:32:21.204Z"
   },
   {
    "duration": 7,
    "start_time": "2021-12-29T08:32:21.253Z"
   },
   {
    "duration": 4,
    "start_time": "2021-12-29T08:32:21.262Z"
   },
   {
    "duration": 260,
    "start_time": "2021-12-29T08:32:21.268Z"
   },
   {
    "duration": 11,
    "start_time": "2021-12-29T08:32:21.530Z"
   },
   {
    "duration": 4921,
    "start_time": "2021-12-29T08:32:21.543Z"
   },
   {
    "duration": 92,
    "start_time": "2021-12-29T08:32:26.470Z"
   },
   {
    "duration": 34,
    "start_time": "2021-12-29T08:32:26.564Z"
   },
   {
    "duration": 779,
    "start_time": "2021-12-29T08:32:26.600Z"
   },
   {
    "duration": 1094,
    "start_time": "2021-12-29T08:32:27.381Z"
   },
   {
    "duration": 3,
    "start_time": "2021-12-29T08:32:28.477Z"
   },
   {
    "duration": 21,
    "start_time": "2021-12-29T08:32:28.482Z"
   },
   {
    "duration": 646,
    "start_time": "2021-12-29T08:32:28.504Z"
   },
   {
    "duration": 9,
    "start_time": "2021-12-29T08:32:29.152Z"
   },
   {
    "duration": 37,
    "start_time": "2021-12-29T08:32:29.162Z"
   },
   {
    "duration": 8,
    "start_time": "2021-12-29T08:32:29.201Z"
   },
   {
    "duration": 38,
    "start_time": "2021-12-29T08:32:29.211Z"
   },
   {
    "duration": 6,
    "start_time": "2021-12-29T08:32:29.251Z"
   },
   {
    "duration": 31,
    "start_time": "2021-12-29T08:32:29.258Z"
   },
   {
    "duration": 38,
    "start_time": "2021-12-29T08:32:29.291Z"
   },
   {
    "duration": 23,
    "start_time": "2021-12-29T08:32:29.331Z"
   },
   {
    "duration": 22,
    "start_time": "2021-12-29T08:32:29.355Z"
   },
   {
    "duration": 20,
    "start_time": "2021-12-29T08:32:29.378Z"
   },
   {
    "duration": 27,
    "start_time": "2021-12-29T08:32:29.400Z"
   },
   {
    "duration": 23,
    "start_time": "2021-12-29T08:32:29.430Z"
   },
   {
    "duration": 201,
    "start_time": "2021-12-29T08:32:29.462Z"
   },
   {
    "duration": 1081,
    "start_time": "2021-12-29T08:32:29.665Z"
   },
   {
    "duration": 14,
    "start_time": "2021-12-29T08:32:30.748Z"
   },
   {
    "duration": 135938,
    "start_time": "2021-12-29T08:32:30.764Z"
   },
   {
    "duration": 11,
    "start_time": "2021-12-29T08:34:46.703Z"
   },
   {
    "duration": 1143846,
    "start_time": "2021-12-29T08:34:46.716Z"
   },
   {
    "duration": 14,
    "start_time": "2021-12-29T08:53:50.565Z"
   },
   {
    "duration": 28,
    "start_time": "2021-12-29T08:53:50.581Z"
   },
   {
    "duration": 24,
    "start_time": "2021-12-29T08:53:50.610Z"
   },
   {
    "duration": 21,
    "start_time": "2021-12-29T08:53:50.661Z"
   },
   {
    "duration": 21,
    "start_time": "2021-12-29T08:53:50.683Z"
   },
   {
    "duration": 268,
    "start_time": "2021-12-29T08:53:50.705Z"
   },
   {
    "duration": 248,
    "start_time": "2021-12-29T08:53:50.974Z"
   },
   {
    "duration": 89,
    "start_time": "2021-12-29T08:53:51.224Z"
   }
  ],
  "kernelspec": {
   "display_name": "Python 3 (ipykernel)",
   "language": "python",
   "name": "python3"
  },
  "language_info": {
   "codemirror_mode": {
    "name": "ipython",
    "version": 3
   },
   "file_extension": ".py",
   "mimetype": "text/x-python",
   "name": "python",
   "nbconvert_exporter": "python",
   "pygments_lexer": "ipython3",
   "version": "3.9.7"
  },
  "latex_envs": {
   "LaTeX_envs_menu_present": true,
   "autoclose": false,
   "autocomplete": true,
   "bibliofile": "biblio.bib",
   "cite_by": "apalike",
   "current_citInitial": 1,
   "eqLabelWithNumbers": true,
   "eqNumInitial": 1,
   "hotkeys": {
    "equation": "Ctrl-E",
    "itemize": "Ctrl-I"
   },
   "labels_anchors": false,
   "latex_user_defs": false,
   "report_style_numbering": false,
   "user_envs_cfg": false
  },
  "toc": {
   "base_numbering": "1",
   "nav_menu": {},
   "number_sections": true,
   "sideBar": true,
   "skip_h1_title": true,
   "title_cell": "Table of Contents",
   "title_sidebar": "Contents",
   "toc_cell": false,
   "toc_position": {
    "height": "calc(100% - 180px)",
    "left": "10px",
    "top": "150px",
    "width": "207.003px"
   },
   "toc_section_display": true,
   "toc_window_display": true
  }
 },
 "nbformat": 4,
 "nbformat_minor": 4
}
